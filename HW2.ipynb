{
 "cells": [
  {
   "cell_type": "markdown",
   "id": "9194b51e",
   "metadata": {},
   "source": [
    "# Financial Econometrics I: Homework 2"
   ]
  },
  {
   "cell_type": "markdown",
   "id": "20a232b2",
   "metadata": {},
   "source": [
    "Team Member:\n",
    "\n",
    "Lin Zhang : 15845542@fsv.cuni.cz\n",
    "\n",
    "Weiwei Qu : 51014941@fsv.cuni.cz"
   ]
  },
  {
   "cell_type": "markdown",
   "id": "6b0a2575",
   "metadata": {},
   "source": [
    "# Problem 1"
   ]
  },
  {
   "cell_type": "markdown",
   "id": "771c79d1",
   "metadata": {},
   "source": [
    "### Select 100 random symbols from the symbols.csv file, i.e. using a function in R generate 100 random integers from interval f1,..., 377g, use set.seed('your SIS number') to generate these numbers(e.g. set.seed(26830192)). Then select the Tickers from rows with indices equal to the numbers you generated, and download the prices of stocks denoted by these Tickers for the period 01/2019 - 12/2021. Please restrict the period immediately when downloading the data, it should get downloaded more quickly then."
   ]
  },
  {
   "cell_type": "markdown",
   "id": "69aa4d38",
   "metadata": {},
   "source": [
    "##### "
   ]
  },
  {
   "cell_type": "markdown",
   "id": "ccc66a81",
   "metadata": {},
   "source": [
    "* Create data set and verify data validity"
   ]
  },
  {
   "cell_type": "code",
   "execution_count": 33,
   "id": "3d2d3a08",
   "metadata": {},
   "outputs": [
    {
     "data": {
      "text/html": [
       "'English_United States.1252'"
      ],
      "text/latex": [
       "'English\\_United States.1252'"
      ],
      "text/markdown": [
       "'English_United States.1252'"
      ],
      "text/plain": [
       "[1] \"English_United States.1252\""
      ]
     },
     "metadata": {},
     "output_type": "display_data"
    }
   ],
   "source": [
    "# Setup environment\n",
    "Sys.setenv(LANG = \"en\")\n",
    "Sys.setlocale(\"LC_TIME\", \"English\")\n",
    "#options(warn = -1)  # suppressing warnings\n",
    "\n",
    "if (!require(quantmod)) install.packages('quantmod')\n",
    "if (!require(fGarch)) install.packages('fGarch')\n",
    "if (!require(repr)) install.packages('repr')\n",
    "if (!require(rugarch)) install.packages('rugarch')\n",
    "if (!require(aTSA)) install.packages('aTSA')\n",
    "if (!require(tseries)) install.packages('tseries')\n",
    "if (!require(fDMA)) install.packages('fDMA')\n",
    "\n",
    "\n",
    "\n",
    "library(quantmod)\n",
    "library(fGarch)\n",
    "library(repr)\n",
    "library(forecast)\n",
    "library(aTSA)\n",
    "library(rugarch)\n",
    "library(tseries)\n",
    "library(fDMA)\n",
    "\n",
    "\n",
    "options(repr.plot.width = 8, repr.plot.height = 6)"
   ]
  },
  {
   "cell_type": "markdown",
   "id": "450ec356",
   "metadata": {},
   "source": [
    "* Select 100 random symbols"
   ]
  },
  {
   "cell_type": "code",
   "execution_count": 5,
   "id": "c4b5df97",
   "metadata": {},
   "outputs": [
    {
     "data": {
      "text/html": [
       "377"
      ],
      "text/latex": [
       "377"
      ],
      "text/markdown": [
       "377"
      ],
      "text/plain": [
       "[1] 377"
      ]
     },
     "metadata": {},
     "output_type": "display_data"
    },
    {
     "data": {
      "text/html": [
       "<style>\n",
       ".list-inline {list-style: none; margin:0; padding: 0}\n",
       ".list-inline>li {display: inline-block}\n",
       ".list-inline>li:not(:last-child)::after {content: \"\\00b7\"; padding: 0 .5ex}\n",
       "</style>\n",
       "<ol class=list-inline><li>'MMM'</li><li>'ACE'</li><li>'ABT'</li><li>'ANF'</li><li>'ACN'</li><li>'ADBE'</li></ol>\n"
      ],
      "text/latex": [
       "\\begin{enumerate*}\n",
       "\\item 'MMM'\n",
       "\\item 'ACE'\n",
       "\\item 'ABT'\n",
       "\\item 'ANF'\n",
       "\\item 'ACN'\n",
       "\\item 'ADBE'\n",
       "\\end{enumerate*}\n"
      ],
      "text/markdown": [
       "1. 'MMM'\n",
       "2. 'ACE'\n",
       "3. 'ABT'\n",
       "4. 'ANF'\n",
       "5. 'ACN'\n",
       "6. 'ADBE'\n",
       "\n",
       "\n"
      ],
      "text/plain": [
       "[1] \"MMM\"  \"ACE\"  \"ABT\"  \"ANF\"  \"ACN\"  \"ADBE\""
      ]
     },
     "metadata": {},
     "output_type": "display_data"
    },
    {
     "data": {
      "text/html": [
       "<style>\n",
       ".list-inline {list-style: none; margin:0; padding: 0}\n",
       ".list-inline>li {display: inline-block}\n",
       ".list-inline>li:not(:last-child)::after {content: \"\\00b7\"; padding: 0 .5ex}\n",
       "</style>\n",
       "<ol class=list-inline><li>'XEL'</li><li>'XRX'</li><li>'XLNX'</li><li>'XYL'</li><li>'YUM'</li><li>'ZION'</li></ol>\n"
      ],
      "text/latex": [
       "\\begin{enumerate*}\n",
       "\\item 'XEL'\n",
       "\\item 'XRX'\n",
       "\\item 'XLNX'\n",
       "\\item 'XYL'\n",
       "\\item 'YUM'\n",
       "\\item 'ZION'\n",
       "\\end{enumerate*}\n"
      ],
      "text/markdown": [
       "1. 'XEL'\n",
       "2. 'XRX'\n",
       "3. 'XLNX'\n",
       "4. 'XYL'\n",
       "5. 'YUM'\n",
       "6. 'ZION'\n",
       "\n",
       "\n"
      ],
      "text/plain": [
       "[1] \"XEL\"  \"XRX\"  \"XLNX\" \"XYL\"  \"YUM\"  \"ZION\""
      ]
     },
     "metadata": {},
     "output_type": "display_data"
    }
   ],
   "source": [
    "# read 377 stock symbols from file\n",
    "smbs<- as.character(read.csv(\"symbols2.csv\")[,2])\n",
    "\n",
    "length(smbs)\n",
    "head(smbs)\n",
    "tail(smbs)\n"
   ]
  },
  {
   "cell_type": "code",
   "execution_count": 6,
   "id": "66ea3a18",
   "metadata": {},
   "outputs": [
    {
     "data": {
      "text/html": [
       "100"
      ],
      "text/latex": [
       "100"
      ],
      "text/markdown": [
       "100"
      ],
      "text/plain": [
       "[1] 100"
      ]
     },
     "metadata": {},
     "output_type": "display_data"
    },
    {
     "data": {
      "text/html": [
       "<style>\n",
       ".list-inline {list-style: none; margin:0; padding: 0}\n",
       ".list-inline>li {display: inline-block}\n",
       ".list-inline>li:not(:last-child)::after {content: \"\\00b7\"; padding: 0 .5ex}\n",
       "</style>\n",
       "<ol class=list-inline><li>'CNP'</li><li>'TEL'</li><li>'PG'</li><li>'LLY'</li><li>'SO'</li><li>'ORLY'</li><li>'M'</li><li>'NRG'</li><li>'FSLR'</li><li>'PFG'</li><li>'CRM'</li><li>'JPM'</li><li>'KO'</li><li>'OMC'</li><li>'AMT'</li><li>'GME'</li><li>'OKE'</li><li>'WHR'</li><li>'ITW'</li><li>'PRGO'</li><li>'DTE'</li><li>'STT'</li><li>'CMS'</li><li>'AMP'</li><li>'SYK'</li><li>'TRV'</li><li>'LEN'</li><li>'NEE'</li><li>'AMD'</li><li>'NOC'</li><li>'MSI'</li><li>'VFC'</li><li>'DVA'</li><li>'GPC'</li><li>'TAP'</li><li>'VMC'</li><li>'ALTR'</li><li>'WEC'</li><li>'EBAY'</li><li>'BBBY'</li><li>'VZ'</li><li>'MCHP'</li><li>'NFX'</li><li>'ADM'</li><li>'EFX'</li><li>'CAT'</li><li>'BWA'</li><li>'BEN'</li><li>'GOOG'</li><li>'COF'</li><li>'AFL'</li><li>'LOW'</li><li>'HRL'</li><li>'VLO'</li><li>'CCI'</li><li>'USB'</li><li>'PKI'</li><li>'PSX'</li><li>'CNX'</li><li>'ICE'</li><li>'T'</li><li>'VNO'</li><li>'KIM'</li><li>'HBAN'</li><li>'ADP'</li><li>'CHRW'</li><li>'XOM'</li><li>'FLS'</li><li>'PNW'</li><li>'SCHW'</li><li>'NTAP'</li><li>'MS'</li><li>'PCG'</li><li>'RHI'</li><li>'GNW'</li><li>'JNJ'</li><li>'MDT'</li><li>'ECL'</li><li>'WU'</li><li>'IP'</li><li>'SPG'</li><li>'MSFT'</li><li>'CERN'</li><li>'ALL'</li><li>'PFE'</li><li>'PBCT'</li><li>'IRM'</li><li>'KMX'</li><li>'TROW'</li><li>'VTR'</li><li>'MNST'</li><li>'MA'</li><li>'COST'</li><li>'PM'</li><li>'GT'</li><li>'FITB'</li><li>'EW'</li><li>'GE'</li><li>'BTU'</li><li>'MKC'</li></ol>\n"
      ],
      "text/latex": [
       "\\begin{enumerate*}\n",
       "\\item 'CNP'\n",
       "\\item 'TEL'\n",
       "\\item 'PG'\n",
       "\\item 'LLY'\n",
       "\\item 'SO'\n",
       "\\item 'ORLY'\n",
       "\\item 'M'\n",
       "\\item 'NRG'\n",
       "\\item 'FSLR'\n",
       "\\item 'PFG'\n",
       "\\item 'CRM'\n",
       "\\item 'JPM'\n",
       "\\item 'KO'\n",
       "\\item 'OMC'\n",
       "\\item 'AMT'\n",
       "\\item 'GME'\n",
       "\\item 'OKE'\n",
       "\\item 'WHR'\n",
       "\\item 'ITW'\n",
       "\\item 'PRGO'\n",
       "\\item 'DTE'\n",
       "\\item 'STT'\n",
       "\\item 'CMS'\n",
       "\\item 'AMP'\n",
       "\\item 'SYK'\n",
       "\\item 'TRV'\n",
       "\\item 'LEN'\n",
       "\\item 'NEE'\n",
       "\\item 'AMD'\n",
       "\\item 'NOC'\n",
       "\\item 'MSI'\n",
       "\\item 'VFC'\n",
       "\\item 'DVA'\n",
       "\\item 'GPC'\n",
       "\\item 'TAP'\n",
       "\\item 'VMC'\n",
       "\\item 'ALTR'\n",
       "\\item 'WEC'\n",
       "\\item 'EBAY'\n",
       "\\item 'BBBY'\n",
       "\\item 'VZ'\n",
       "\\item 'MCHP'\n",
       "\\item 'NFX'\n",
       "\\item 'ADM'\n",
       "\\item 'EFX'\n",
       "\\item 'CAT'\n",
       "\\item 'BWA'\n",
       "\\item 'BEN'\n",
       "\\item 'GOOG'\n",
       "\\item 'COF'\n",
       "\\item 'AFL'\n",
       "\\item 'LOW'\n",
       "\\item 'HRL'\n",
       "\\item 'VLO'\n",
       "\\item 'CCI'\n",
       "\\item 'USB'\n",
       "\\item 'PKI'\n",
       "\\item 'PSX'\n",
       "\\item 'CNX'\n",
       "\\item 'ICE'\n",
       "\\item 'T'\n",
       "\\item 'VNO'\n",
       "\\item 'KIM'\n",
       "\\item 'HBAN'\n",
       "\\item 'ADP'\n",
       "\\item 'CHRW'\n",
       "\\item 'XOM'\n",
       "\\item 'FLS'\n",
       "\\item 'PNW'\n",
       "\\item 'SCHW'\n",
       "\\item 'NTAP'\n",
       "\\item 'MS'\n",
       "\\item 'PCG'\n",
       "\\item 'RHI'\n",
       "\\item 'GNW'\n",
       "\\item 'JNJ'\n",
       "\\item 'MDT'\n",
       "\\item 'ECL'\n",
       "\\item 'WU'\n",
       "\\item 'IP'\n",
       "\\item 'SPG'\n",
       "\\item 'MSFT'\n",
       "\\item 'CERN'\n",
       "\\item 'ALL'\n",
       "\\item 'PFE'\n",
       "\\item 'PBCT'\n",
       "\\item 'IRM'\n",
       "\\item 'KMX'\n",
       "\\item 'TROW'\n",
       "\\item 'VTR'\n",
       "\\item 'MNST'\n",
       "\\item 'MA'\n",
       "\\item 'COST'\n",
       "\\item 'PM'\n",
       "\\item 'GT'\n",
       "\\item 'FITB'\n",
       "\\item 'EW'\n",
       "\\item 'GE'\n",
       "\\item 'BTU'\n",
       "\\item 'MKC'\n",
       "\\end{enumerate*}\n"
      ],
      "text/markdown": [
       "1. 'CNP'\n",
       "2. 'TEL'\n",
       "3. 'PG'\n",
       "4. 'LLY'\n",
       "5. 'SO'\n",
       "6. 'ORLY'\n",
       "7. 'M'\n",
       "8. 'NRG'\n",
       "9. 'FSLR'\n",
       "10. 'PFG'\n",
       "11. 'CRM'\n",
       "12. 'JPM'\n",
       "13. 'KO'\n",
       "14. 'OMC'\n",
       "15. 'AMT'\n",
       "16. 'GME'\n",
       "17. 'OKE'\n",
       "18. 'WHR'\n",
       "19. 'ITW'\n",
       "20. 'PRGO'\n",
       "21. 'DTE'\n",
       "22. 'STT'\n",
       "23. 'CMS'\n",
       "24. 'AMP'\n",
       "25. 'SYK'\n",
       "26. 'TRV'\n",
       "27. 'LEN'\n",
       "28. 'NEE'\n",
       "29. 'AMD'\n",
       "30. 'NOC'\n",
       "31. 'MSI'\n",
       "32. 'VFC'\n",
       "33. 'DVA'\n",
       "34. 'GPC'\n",
       "35. 'TAP'\n",
       "36. 'VMC'\n",
       "37. 'ALTR'\n",
       "38. 'WEC'\n",
       "39. 'EBAY'\n",
       "40. 'BBBY'\n",
       "41. 'VZ'\n",
       "42. 'MCHP'\n",
       "43. 'NFX'\n",
       "44. 'ADM'\n",
       "45. 'EFX'\n",
       "46. 'CAT'\n",
       "47. 'BWA'\n",
       "48. 'BEN'\n",
       "49. 'GOOG'\n",
       "50. 'COF'\n",
       "51. 'AFL'\n",
       "52. 'LOW'\n",
       "53. 'HRL'\n",
       "54. 'VLO'\n",
       "55. 'CCI'\n",
       "56. 'USB'\n",
       "57. 'PKI'\n",
       "58. 'PSX'\n",
       "59. 'CNX'\n",
       "60. 'ICE'\n",
       "61. 'T'\n",
       "62. 'VNO'\n",
       "63. 'KIM'\n",
       "64. 'HBAN'\n",
       "65. 'ADP'\n",
       "66. 'CHRW'\n",
       "67. 'XOM'\n",
       "68. 'FLS'\n",
       "69. 'PNW'\n",
       "70. 'SCHW'\n",
       "71. 'NTAP'\n",
       "72. 'MS'\n",
       "73. 'PCG'\n",
       "74. 'RHI'\n",
       "75. 'GNW'\n",
       "76. 'JNJ'\n",
       "77. 'MDT'\n",
       "78. 'ECL'\n",
       "79. 'WU'\n",
       "80. 'IP'\n",
       "81. 'SPG'\n",
       "82. 'MSFT'\n",
       "83. 'CERN'\n",
       "84. 'ALL'\n",
       "85. 'PFE'\n",
       "86. 'PBCT'\n",
       "87. 'IRM'\n",
       "88. 'KMX'\n",
       "89. 'TROW'\n",
       "90. 'VTR'\n",
       "91. 'MNST'\n",
       "92. 'MA'\n",
       "93. 'COST'\n",
       "94. 'PM'\n",
       "95. 'GT'\n",
       "96. 'FITB'\n",
       "97. 'EW'\n",
       "98. 'GE'\n",
       "99. 'BTU'\n",
       "100. 'MKC'\n",
       "\n",
       "\n"
      ],
      "text/plain": [
       "  [1] \"CNP\"  \"TEL\"  \"PG\"   \"LLY\"  \"SO\"   \"ORLY\" \"M\"    \"NRG\"  \"FSLR\" \"PFG\" \n",
       " [11] \"CRM\"  \"JPM\"  \"KO\"   \"OMC\"  \"AMT\"  \"GME\"  \"OKE\"  \"WHR\"  \"ITW\"  \"PRGO\"\n",
       " [21] \"DTE\"  \"STT\"  \"CMS\"  \"AMP\"  \"SYK\"  \"TRV\"  \"LEN\"  \"NEE\"  \"AMD\"  \"NOC\" \n",
       " [31] \"MSI\"  \"VFC\"  \"DVA\"  \"GPC\"  \"TAP\"  \"VMC\"  \"ALTR\" \"WEC\"  \"EBAY\" \"BBBY\"\n",
       " [41] \"VZ\"   \"MCHP\" \"NFX\"  \"ADM\"  \"EFX\"  \"CAT\"  \"BWA\"  \"BEN\"  \"GOOG\" \"COF\" \n",
       " [51] \"AFL\"  \"LOW\"  \"HRL\"  \"VLO\"  \"CCI\"  \"USB\"  \"PKI\"  \"PSX\"  \"CNX\"  \"ICE\" \n",
       " [61] \"T\"    \"VNO\"  \"KIM\"  \"HBAN\" \"ADP\"  \"CHRW\" \"XOM\"  \"FLS\"  \"PNW\"  \"SCHW\"\n",
       " [71] \"NTAP\" \"MS\"   \"PCG\"  \"RHI\"  \"GNW\"  \"JNJ\"  \"MDT\"  \"ECL\"  \"WU\"   \"IP\"  \n",
       " [81] \"SPG\"  \"MSFT\" \"CERN\" \"ALL\"  \"PFE\"  \"PBCT\" \"IRM\"  \"KMX\"  \"TROW\" \"VTR\" \n",
       " [91] \"MNST\" \"MA\"   \"COST\" \"PM\"   \"GT\"   \"FITB\" \"EW\"   \"GE\"   \"BTU\"  \"MKC\" "
      ]
     },
     "metadata": {},
     "output_type": "display_data"
    }
   ],
   "source": [
    "set.seed(15845542) # seed for random number generation\n",
    "s_symbols<-sample(smbs,100) # generate 100 random firms\n",
    "length(s_symbols)\n",
    "s_symbols"
   ]
  },
  {
   "cell_type": "markdown",
   "id": "8d006d64",
   "metadata": {},
   "source": [
    "* Download closing price data"
   ]
  },
  {
   "cell_type": "code",
   "execution_count": 262,
   "id": "63188459",
   "metadata": {},
   "outputs": [
    {
     "name": "stderr",
     "output_type": "stream",
     "text": [
      "Warning message:\n",
      "\"NFX contains missing values. Some functions will not work if objects contain missing values in the middle of the series. Consider using na.omit(), na.approx(), na.fill(), etc to remove or replace them.\"\n"
     ]
    }
   ],
   "source": [
    "#download data\n",
    "stock_price <- lapply(s_symbols, function(y)\n",
    "{\n",
    "    getSymbols(y, auto.assign = FALSE,from = as.Date('2019-01-01'), to = '2021-12-31')\n",
    "})\n",
    "names(stock_price) <- s_symbols\n",
    "\n",
    "\n",
    "# save data for further usage\n",
    "  save(stock_price, file = \"1-Price.RData\")\n",
    "# load(\"1-Price.RData\")"
   ]
  },
  {
   "cell_type": "code",
   "execution_count": 35,
   "id": "86e3818a",
   "metadata": {},
   "outputs": [],
   "source": [
    "load(\"1-Price.RData\")"
   ]
  },
  {
   "cell_type": "markdown",
   "id": "a33b0e3c",
   "metadata": {},
   "source": [
    "* Check the data validity"
   ]
  },
  {
   "cell_type": "code",
   "execution_count": 36,
   "id": "2197f606",
   "metadata": {},
   "outputs": [
    {
     "data": {
      "image/png": "[encoded data removed]",
      "text/plain": [
       "plot without title"
      ]
     },
     "metadata": {
      "image/png": {
       "height": 360,
       "width": 480
      }
     },
     "output_type": "display_data"
    }
   ],
   "source": [
    "options(repr.plot.width = 8, repr.plot.height = 6)\n",
    "par(bg = \"#f7f7f7\")\n",
    "stock_price1 <- sapply(stock_price,na.omit)\n",
    "nrows <- unlist(sapply(stock_price1, nrow))\n",
    "plot(nrows)"
   ]
  },
  {
   "cell_type": "code",
   "execution_count": 9,
   "id": "f357f97c",
   "metadata": {},
   "outputs": [
    {
     "data": {
      "text/html": [
       "4536"
      ],
      "text/latex": [
       "4536"
      ],
      "text/markdown": [
       "4536"
      ],
      "text/plain": [
       "[1] 4536"
      ]
     },
     "metadata": {},
     "output_type": "display_data"
    },
    {
     "data": {
      "text/html": [
       "180"
      ],
      "text/latex": [
       "180"
      ],
      "text/markdown": [
       "180"
      ],
      "text/plain": [
       "[1] 180"
      ]
     },
     "metadata": {},
     "output_type": "display_data"
    },
    {
     "data": {
      "text/plain": [
       "           NFX.Open NFX.High NFX.Low NFX.Close NFX.Volume NFX.Adjusted\n",
       "2019-02-06    17.98    18.32  17.830     17.98    4861913        17.98\n",
       "2019-02-07    17.75    17.86  16.695     16.78    6117067        16.78\n",
       "2019-02-08    16.64    16.86  16.010     16.30    9083783        16.30\n",
       "2019-02-11    16.12    16.62  15.890     16.20   13158120        16.20\n",
       "2019-02-12    16.66    17.20  16.195     16.35   52449682        16.35\n",
       "2019-02-13    16.58    17.13  16.400     17.07    6651548        17.07"
      ]
     },
     "metadata": {},
     "output_type": "display_data"
    }
   ],
   "source": [
    "length(stock_price1[[1]])\n",
    "length(stock_price1[[43]])\n",
    "tail(stock_price1[[43]])"
   ]
  },
  {
   "cell_type": "markdown",
   "id": "78243ea5",
   "metadata": {},
   "source": [
    "**<span style='background:yellow'>We notied that NFX does not have enough data, need to be removed from our portfolio.</span>**"
   ]
  },
  {
   "cell_type": "code",
   "execution_count": 10,
   "id": "7e8bd33e",
   "metadata": {},
   "outputs": [
    {
     "data": {
      "text/html": [
       "99"
      ],
      "text/latex": [
       "99"
      ],
      "text/markdown": [
       "99"
      ],
      "text/plain": [
       "[1] 99"
      ]
     },
     "metadata": {},
     "output_type": "display_data"
    }
   ],
   "source": [
    "stock_price$NFX <- NULL\n",
    "length(stock_price)\n",
    "\n",
    "s_symbols <- names(stock_price)"
   ]
  },
  {
   "cell_type": "markdown",
   "id": "0e6c40b1",
   "metadata": {},
   "source": [
    "* Clean the data set for only Adjusted closing price"
   ]
  },
  {
   "cell_type": "code",
   "execution_count": 11,
   "id": "254d41bd",
   "metadata": {},
   "outputs": [
    {
     "data": {
      "text/html": [
       "99"
      ],
      "text/latex": [
       "99"
      ],
      "text/markdown": [
       "99"
      ],
      "text/plain": [
       "[1] 99"
      ]
     },
     "metadata": {},
     "output_type": "display_data"
    },
    {
     "data": {
      "text/plain": [
       "           CNP.Adjusted\n",
       "2019-01-02     25.17500\n",
       "2019-01-03     25.31885\n",
       "2019-01-04     25.78639\n",
       "2019-01-07     25.88529\n",
       "2019-01-08     26.37980\n",
       "2019-01-09     26.05613"
      ]
     },
     "metadata": {},
     "output_type": "display_data"
    },
    {
     "data": {
      "text/plain": [
       "           CNP.Adjusted\n",
       "2021-12-22     27.30627\n",
       "2021-12-23     27.34602\n",
       "2021-12-27     27.40564\n",
       "2021-12-28     27.67393\n",
       "2021-12-29     27.77330\n",
       "2021-12-30     27.65406"
      ]
     },
     "metadata": {},
     "output_type": "display_data"
    }
   ],
   "source": [
    "# filter for Adjusted price\n",
    "stock_close <- lapply(s_symbols, function(y){\n",
    "    stock_price[[y]] <- stock_price[[y]][, paste0(y, '.Adjusted')]\n",
    "})\n",
    "\n",
    "# check all symbols used for downloading process are used, no data is missing\n",
    "length(stock_price)\n",
    "head(stock_close[[1]])\n",
    "tail(stock_close[[1]])"
   ]
  },
  {
   "cell_type": "markdown",
   "id": "b1f60f84",
   "metadata": {},
   "source": [
    "###  1. Compute the logarithmic returns for the time-series of each stock in your dataset.\n"
   ]
  },
  {
   "cell_type": "code",
   "execution_count": 12,
   "id": "5e3b95fd",
   "metadata": {},
   "outputs": [
    {
     "data": {
      "text/plain": [
       "           CNP.Adjusted\n",
       "2019-01-03    0.5697818\n",
       "2019-01-04    1.8297694\n",
       "2019-01-07    0.3828020\n",
       "2019-01-08    1.8923749\n",
       "2019-01-09   -1.2345776\n",
       "2019-01-10    1.8123222"
      ]
     },
     "metadata": {},
     "output_type": "display_data"
    },
    {
     "data": {
      "text/plain": [
       "           CNP.Adjusted\n",
       "2021-12-22    0.6571838\n",
       "2021-12-23    0.1454541\n",
       "2021-12-27    0.2177835\n",
       "2021-12-28    0.9742092\n",
       "2021-12-29    0.3584277\n",
       "2021-12-30   -0.4302647"
      ]
     },
     "metadata": {},
     "output_type": "display_data"
    }
   ],
   "source": [
    "# compute log-returns for returns\n",
    "# multiple 100 to make easier observation\n",
    "\n",
    "lrets <- lapply(stock_close, function(y){\n",
    "  y <- na.omit(diff(log(y))) * 100\n",
    "})\n",
    "names(lrets) <- s_symbols\n",
    "\n",
    "head(lrets[[1]])\n",
    "tail(lrets[[1]])\n",
    "\n",
    "# Save data for later usage\n",
    "  save(lrets, file = \"2-Returns.RData\")\n",
    "# load(\"2-PB.RData\")"
   ]
  },
  {
   "cell_type": "markdown",
   "id": "bbe6c37e",
   "metadata": {},
   "source": [
    "**Note: We use <span style='background:yellow'>return as percentage number</span>, which already multipled by 100.**"
   ]
  },
  {
   "cell_type": "markdown",
   "id": "241cf364",
   "metadata": {},
   "source": [
    "###  2. For each stocks, estimate the parameters of a GARCH(1, 1) model."
   ]
  },
  {
   "cell_type": "code",
   "execution_count": 38,
   "id": "b3153fcb",
   "metadata": {},
   "outputs": [
    {
     "data": {
      "text/html": [
       "<table class=\"dataframe\">\n",
       "<caption>A matrix: 6 × 4 of type dbl</caption>\n",
       "<thead>\n",
       "\t<tr><th></th><th scope=col>alpha1</th><th scope=col>beta1</th><th scope=col>alpha1+beta1</th><th scope=col>omega</th></tr>\n",
       "</thead>\n",
       "<tbody>\n",
       "\t<tr><th scope=row>CNP</th><td>0.176482</td><td>0.788046</td><td>0.964528</td><td>0.149632</td></tr>\n",
       "\t<tr><th scope=row>TEL</th><td>0.105499</td><td>0.845579</td><td>0.951078</td><td>0.157020</td></tr>\n",
       "\t<tr><th scope=row>PG</th><td>0.141440</td><td>0.781023</td><td>0.922463</td><td>0.101469</td></tr>\n",
       "\t<tr><th scope=row>LLY</th><td>0.110537</td><td>0.740800</td><td>0.851337</td><td>0.611332</td></tr>\n",
       "\t<tr><th scope=row>SO</th><td>0.141382</td><td>0.815249</td><td>0.956631</td><td>0.070684</td></tr>\n",
       "\t<tr><th scope=row>ORLY</th><td>0.122371</td><td>0.777987</td><td>0.900358</td><td>0.237718</td></tr>\n",
       "</tbody>\n",
       "</table>\n"
      ],
      "text/latex": [
       "A matrix: 6 × 4 of type dbl\n",
       "\\begin{tabular}{r|llll}\n",
       "  & alpha1 & beta1 & alpha1+beta1 & omega\\\\\n",
       "\\hline\n",
       "\tCNP & 0.176482 & 0.788046 & 0.964528 & 0.149632\\\\\n",
       "\tTEL & 0.105499 & 0.845579 & 0.951078 & 0.157020\\\\\n",
       "\tPG & 0.141440 & 0.781023 & 0.922463 & 0.101469\\\\\n",
       "\tLLY & 0.110537 & 0.740800 & 0.851337 & 0.611332\\\\\n",
       "\tSO & 0.141382 & 0.815249 & 0.956631 & 0.070684\\\\\n",
       "\tORLY & 0.122371 & 0.777987 & 0.900358 & 0.237718\\\\\n",
       "\\end{tabular}\n"
      ],
      "text/markdown": [
       "\n",
       "A matrix: 6 × 4 of type dbl\n",
       "\n",
       "| <!--/--> | alpha1 | beta1 | alpha1+beta1 | omega |\n",
       "|---|---|---|---|---|\n",
       "| CNP | 0.176482 | 0.788046 | 0.964528 | 0.149632 |\n",
       "| TEL | 0.105499 | 0.845579 | 0.951078 | 0.157020 |\n",
       "| PG | 0.141440 | 0.781023 | 0.922463 | 0.101469 |\n",
       "| LLY | 0.110537 | 0.740800 | 0.851337 | 0.611332 |\n",
       "| SO | 0.141382 | 0.815249 | 0.956631 | 0.070684 |\n",
       "| ORLY | 0.122371 | 0.777987 | 0.900358 | 0.237718 |\n",
       "\n"
      ],
      "text/plain": [
       "     alpha1   beta1    alpha1+beta1 omega   \n",
       "CNP  0.176482 0.788046 0.964528     0.149632\n",
       "TEL  0.105499 0.845579 0.951078     0.157020\n",
       "PG   0.141440 0.781023 0.922463     0.101469\n",
       "LLY  0.110537 0.740800 0.851337     0.611332\n",
       "SO   0.141382 0.815249 0.956631     0.070684\n",
       "ORLY 0.122371 0.777987 0.900358     0.237718"
      ]
     },
     "metadata": {},
     "output_type": "display_data"
    },
    {
     "data": {
      "text/html": [
       "<table class=\"dataframe\">\n",
       "<caption>A matrix: 6 × 4 of type dbl</caption>\n",
       "<thead>\n",
       "\t<tr><th></th><th scope=col>alpha1</th><th scope=col>beta1</th><th scope=col>alpha1+beta1</th><th scope=col>omega</th></tr>\n",
       "</thead>\n",
       "<tbody>\n",
       "\t<tr><th scope=row>GT</th><td>0.099793</td><td>0.874007</td><td>0.973800</td><td>0.354006</td></tr>\n",
       "\t<tr><th scope=row>FITB</th><td>0.206393</td><td>0.751314</td><td>0.957707</td><td>0.309251</td></tr>\n",
       "\t<tr><th scope=row>EW</th><td>0.078912</td><td>0.843422</td><td>0.922334</td><td>0.279916</td></tr>\n",
       "\t<tr><th scope=row>GE</th><td>0.104640</td><td>0.836234</td><td>0.940874</td><td>0.460306</td></tr>\n",
       "\t<tr><th scope=row>BTU</th><td>0.091105</td><td>0.904971</td><td>0.996076</td><td>0.528844</td></tr>\n",
       "\t<tr><th scope=row>MKC</th><td>0.155852</td><td>0.655324</td><td>0.811176</td><td>0.392252</td></tr>\n",
       "</tbody>\n",
       "</table>\n"
      ],
      "text/latex": [
       "A matrix: 6 × 4 of type dbl\n",
       "\\begin{tabular}{r|llll}\n",
       "  & alpha1 & beta1 & alpha1+beta1 & omega\\\\\n",
       "\\hline\n",
       "\tGT & 0.099793 & 0.874007 & 0.973800 & 0.354006\\\\\n",
       "\tFITB & 0.206393 & 0.751314 & 0.957707 & 0.309251\\\\\n",
       "\tEW & 0.078912 & 0.843422 & 0.922334 & 0.279916\\\\\n",
       "\tGE & 0.104640 & 0.836234 & 0.940874 & 0.460306\\\\\n",
       "\tBTU & 0.091105 & 0.904971 & 0.996076 & 0.528844\\\\\n",
       "\tMKC & 0.155852 & 0.655324 & 0.811176 & 0.392252\\\\\n",
       "\\end{tabular}\n"
      ],
      "text/markdown": [
       "\n",
       "A matrix: 6 × 4 of type dbl\n",
       "\n",
       "| <!--/--> | alpha1 | beta1 | alpha1+beta1 | omega |\n",
       "|---|---|---|---|---|\n",
       "| GT | 0.099793 | 0.874007 | 0.973800 | 0.354006 |\n",
       "| FITB | 0.206393 | 0.751314 | 0.957707 | 0.309251 |\n",
       "| EW | 0.078912 | 0.843422 | 0.922334 | 0.279916 |\n",
       "| GE | 0.104640 | 0.836234 | 0.940874 | 0.460306 |\n",
       "| BTU | 0.091105 | 0.904971 | 0.996076 | 0.528844 |\n",
       "| MKC | 0.155852 | 0.655324 | 0.811176 | 0.392252 |\n",
       "\n"
      ],
      "text/plain": [
       "     alpha1   beta1    alpha1+beta1 omega   \n",
       "GT   0.099793 0.874007 0.973800     0.354006\n",
       "FITB 0.206393 0.751314 0.957707     0.309251\n",
       "EW   0.078912 0.843422 0.922334     0.279916\n",
       "GE   0.104640 0.836234 0.940874     0.460306\n",
       "BTU  0.091105 0.904971 0.996076     0.528844\n",
       "MKC  0.155852 0.655324 0.811176     0.392252"
      ]
     },
     "metadata": {},
     "output_type": "display_data"
    }
   ],
   "source": [
    "# Set parameters for GARCH(1,1) by ugarchspec()\n",
    "GarchSet1 <- ugarchspec(mean.model = list(armaOrder = c(0, 0)),\n",
    "                variance.model = list(garchOrder = c(1, 1)))\n",
    "\n",
    "# Create matrix stock_coef to store estimate parameters of stocks\n",
    "N <- length(lrets)  \n",
    "x <- c(1:N * 4)\n",
    "rown <- s_symbols\n",
    "coln <- c(\"alpha1\", \"beta1\", \"alpha1+beta1\", \"omega\")\n",
    "stock_coef <- matrix(x, nrow = N, ncol = 4, byrow = TRUE, \n",
    "            dimnames = list(rown, coln))\n",
    "l_alpha <- list()\n",
    "l_beta <- list()\n",
    "l_omega <- list()\n",
    "\n",
    "# Run ugarchfit() model to all stocks\n",
    "for (i in 1 : N){\n",
    "    GarchFit1 <- ugarchfit(GarchSet1, lrets[[i]])\n",
    "    l_alpha <- c(l_alpha, GarchFit1@fit$coef['alpha1'])\n",
    "    l_beta <- c(l_beta, GarchFit1@fit$coef['beta1'])  \n",
    "    l_omega <- c(l_omega, GarchFit1@fit$coef['omega'])  \n",
    "}\n",
    "\n",
    "for (i in 1 : N){\n",
    "    stock_coef[i,1] <- round(l_alpha[[i]],6)\n",
    "    stock_coef[i,2] <- round(l_beta[[i]],6)    \n",
    "    stock_coef[i,4] <- round(l_omega[[i]],6) \n",
    "}\n",
    "stock_coef[,3] <- stock_coef[,1] + stock_coef[,2]\n",
    "\n",
    "head(stock_coef)\n",
    "tail(stock_coef)"
   ]
  },
  {
   "cell_type": "markdown",
   "id": "2a0e2eb4",
   "metadata": {},
   "source": [
    "### 3. You will end up with 100 sets of estimated coefficients. Plot the histogram of the 100 $\\alpha_1$ coeffcients, and repeat with $\\beta_1$ , and $\\alpha_1+\\beta_1$. "
   ]
  },
  {
   "cell_type": "markdown",
   "id": "f6f30b36",
   "metadata": {},
   "source": [
    "* Plot the histogram of the 100 $\\alpha_1$ coeffcients, and repeat with $\\beta_1$ , and $\\alpha_1+\\beta_1$. "
   ]
  },
  {
   "cell_type": "code",
   "execution_count": 40,
   "id": "66319686",
   "metadata": {},
   "outputs": [
    {
     "data": {
      "image/png": "[encoded data removed]",
      "text/plain": [
       "Plot with title \"Alpha1+Beta1\""
      ]
     },
     "metadata": {
      "image/png": {
       "height": 600,
       "width": 600
      }
     },
     "output_type": "display_data"
    }
   ],
   "source": [
    "options(repr.plot.width = 10, repr.plot.height = 10)\n",
    "par(bg = \"#f7f7f7\")\n",
    "par(mfrow = c(3, 1))\n",
    "\n",
    "hist(stock_coef[,\"alpha1\"], n = 100, probability = TRUE, border = \"white\",\n",
    "     col = \"steelblue\",xlab = NA, main = \"Alpha1\" )\n",
    "\n",
    "hist(stock_coef[,\"beta1\"], n = 100, probability = TRUE, border = \"white\",\n",
    "     col = \"steelblue\", xlab = NA, main = \"Beta1\" )\n",
    "\n",
    "hist(stock_coef[,\"alpha1+beta1\"], n = 100, probability = TRUE, border = \"white\",\n",
    "     col = \"steelblue\", xlab = NA, main = \"Alpha1+Beta1\" )"
   ]
  },
  {
   "cell_type": "markdown",
   "id": "8492f979",
   "metadata": {},
   "source": [
    "### Comment on the cross-sectional variation of the $\\alpha_1,\\beta_1$,  and $\\alpha_1+\\beta_1$ and on the consequences that the values of these coeffcients have on the behaviour of the estimated volatility."
   ]
  },
  {
   "cell_type": "markdown",
   "id": "0ca10e40",
   "metadata": {},
   "source": [
    "**Comments:  \n",
    "In a GARCH(1,1) process, we have formula as**  \n",
    "$$ y_t = \\mu_t + a_t  $$\n",
    "**$a_t$ is for volatility, $\\mu_t$ is mean.**\n",
    "\n",
    "$$ a_t = \\sigma_t \\epsilon_t \\\\\n",
    "\\sigma_t^2 = \\omega + \\alpha_1 a_{t - 1}^2 + \\beta_1 \\sigma_{t - 1}^2.$$\n",
    "\n"
   ]
  },
  {
   "cell_type": "markdown",
   "id": "4fad7590",
   "metadata": {},
   "source": [
    "**We notice that in GRACH(1,1) model, our 100 stocks' $\\alpha_1+\\beta_1$ are close to 1. When $\\beta_1$ is small, the volatility cluster is not obvious. While when $\\beta_1$ is greater, because the autocorrelation of $\\sigma$ is higher, the volatility spike persistence will longer, there will be a slow decay of volatility, and will show volatility clustering. So from the formula, the volatility equation combines connection with past returns as well as autoregressive dependence.**"
   ]
  },
  {
   "cell_type": "markdown",
   "id": "9561df26",
   "metadata": {},
   "source": [
    "###  4. Find the minimum and maximum values of $\\alpha_1,\\beta_1$,  and $\\alpha_1+\\beta_1$.  Comment briefly."
   ]
  },
  {
   "cell_type": "code",
   "execution_count": 304,
   "id": "8c5344e9",
   "metadata": {},
   "outputs": [
    {
     "data": {
      "text/html": [
       "<table class=\"dataframe\">\n",
       "<caption>A matrix: 2 × 4 of type dbl</caption>\n",
       "<thead>\n",
       "\t<tr><th scope=col>alpha1</th><th scope=col>beta1</th><th scope=col>alpha1+beta1</th><th scope=col>omega</th></tr>\n",
       "</thead>\n",
       "<tbody>\n",
       "\t<tr><td>0.004379</td><td>0.421428</td><td>0.737793</td><td>0.034321</td></tr>\n",
       "\t<tr><td>0.568214</td><td>0.981935</td><td>0.999000</td><td>7.050201</td></tr>\n",
       "</tbody>\n",
       "</table>\n"
      ],
      "text/latex": [
       "A matrix: 2 × 4 of type dbl\n",
       "\\begin{tabular}{llll}\n",
       " alpha1 & beta1 & alpha1+beta1 & omega\\\\\n",
       "\\hline\n",
       "\t 0.004379 & 0.421428 & 0.737793 & 0.034321\\\\\n",
       "\t 0.568214 & 0.981935 & 0.999000 & 7.050201\\\\\n",
       "\\end{tabular}\n"
      ],
      "text/markdown": [
       "\n",
       "A matrix: 2 × 4 of type dbl\n",
       "\n",
       "| alpha1 | beta1 | alpha1+beta1 | omega |\n",
       "|---|---|---|---|\n",
       "| 0.004379 | 0.421428 | 0.737793 | 0.034321 |\n",
       "| 0.568214 | 0.981935 | 0.999000 | 7.050201 |\n",
       "\n"
      ],
      "text/plain": [
       "     alpha1   beta1    alpha1+beta1 omega   \n",
       "[1,] 0.004379 0.421428 0.737793     0.034321\n",
       "[2,] 0.568214 0.981935 0.999000     7.050201"
      ]
     },
     "metadata": {},
     "output_type": "display_data"
    }
   ],
   "source": [
    "apply(stock_coef, 2, range)"
   ]
  },
  {
   "cell_type": "markdown",
   "id": "b46e2fe2",
   "metadata": {},
   "source": [
    "**First, we find the maximum and minimum parameters in our portfolio.**"
   ]
  },
  {
   "cell_type": "code",
   "execution_count": 294,
   "id": "d011c96d",
   "metadata": {},
   "outputs": [
    {
     "data": {
      "text/html": [
       "0.568214"
      ],
      "text/latex": [
       "0.568214"
      ],
      "text/markdown": [
       "0.568214"
      ],
      "text/plain": [
       "[1] 0.568214"
      ]
     },
     "metadata": {},
     "output_type": "display_data"
    },
    {
     "data": {
      "text/html": [
       "<strong>GNW:</strong> 74"
      ],
      "text/latex": [
       "\\textbf{GNW:} 74"
      ],
      "text/markdown": [
       "**GNW:** 74"
      ],
      "text/plain": [
       "GNW \n",
       " 74 "
      ]
     },
     "metadata": {},
     "output_type": "display_data"
    },
    {
     "data": {
      "text/html": [
       "0.421428"
      ],
      "text/latex": [
       "0.421428"
      ],
      "text/markdown": [
       "0.421428"
      ],
      "text/plain": [
       "[1] 0.421428"
      ]
     },
     "metadata": {},
     "output_type": "display_data"
    },
    {
     "data": {
      "text/html": [
       "<strong>GNW:</strong> 74"
      ],
      "text/latex": [
       "\\textbf{GNW:} 74"
      ],
      "text/markdown": [
       "**GNW:** 74"
      ],
      "text/plain": [
       "GNW \n",
       " 74 "
      ]
     },
     "metadata": {},
     "output_type": "display_data"
    }
   ],
   "source": [
    "max(stock_coef[,\"alpha1\"])\n",
    "which.max(stock_coef[,\"alpha1\"])\n",
    "min(stock_coef[,\"beta1\"])\n",
    "which.min(stock_coef[,\"beta1\"])"
   ]
  },
  {
   "cell_type": "markdown",
   "id": "5554dba3",
   "metadata": {},
   "source": [
    "**Then we locate those individual stocks:  \n",
    "<span style='background:yellow'>Stock1 GNW</span> has <span style='background:yellow'>Maximum $\\alpha_1$</span> at 0.56, as well as minimum $\\beta_1$ at 0.42.**"
   ]
  },
  {
   "cell_type": "code",
   "execution_count": 295,
   "id": "c9289597",
   "metadata": {},
   "outputs": [
    {
     "data": {
      "text/html": [
       "0.981935"
      ],
      "text/latex": [
       "0.981935"
      ],
      "text/markdown": [
       "0.981935"
      ],
      "text/plain": [
       "[1] 0.981935"
      ]
     },
     "metadata": {},
     "output_type": "display_data"
    },
    {
     "data": {
      "text/html": [
       "<strong>CHRW:</strong> 65"
      ],
      "text/latex": [
       "\\textbf{CHRW:} 65"
      ],
      "text/markdown": [
       "**CHRW:** 65"
      ],
      "text/plain": [
       "CHRW \n",
       "  65 "
      ]
     },
     "metadata": {},
     "output_type": "display_data"
    },
    {
     "data": {
      "text/html": [
       "0.004379"
      ],
      "text/latex": [
       "0.004379"
      ],
      "text/markdown": [
       "0.004379"
      ],
      "text/plain": [
       "[1] 0.004379"
      ]
     },
     "metadata": {},
     "output_type": "display_data"
    },
    {
     "data": {
      "text/html": [
       "<strong>CHRW:</strong> 65"
      ],
      "text/latex": [
       "\\textbf{CHRW:} 65"
      ],
      "text/markdown": [
       "**CHRW:** 65"
      ],
      "text/plain": [
       "CHRW \n",
       "  65 "
      ]
     },
     "metadata": {},
     "output_type": "display_data"
    }
   ],
   "source": [
    "max(stock_coef[,\"beta1\"])\n",
    "which.max(stock_coef[,\"beta1\"])\n",
    "min(stock_coef[,\"alpha1\"])\n",
    "which.min(stock_coef[,\"alpha1\"])"
   ]
  },
  {
   "cell_type": "markdown",
   "id": "cb95a604",
   "metadata": {},
   "source": [
    "**<span style='background:yellow'>Stock2 CHRW</span> has Minimum $\\alpha_1$ at 0.004, as well as <span style='background:yellow'>Maximum $\\beta_1$</span> at 0.98.**"
   ]
  },
  {
   "cell_type": "code",
   "execution_count": 299,
   "id": "4924dc58",
   "metadata": {},
   "outputs": [
    {
     "data": {
      "text/html": [
       "0.737793"
      ],
      "text/latex": [
       "0.737793"
      ],
      "text/markdown": [
       "0.737793"
      ],
      "text/plain": [
       "[1] 0.737793"
      ]
     },
     "metadata": {},
     "output_type": "display_data"
    },
    {
     "data": {
      "text/html": [
       "<strong>PRGO:</strong> 20"
      ],
      "text/latex": [
       "\\textbf{PRGO:} 20"
      ],
      "text/markdown": [
       "**PRGO:** 20"
      ],
      "text/plain": [
       "PRGO \n",
       "  20 "
      ]
     },
     "metadata": {},
     "output_type": "display_data"
    },
    {
     "data": {
      "text/html": [
       "0.999"
      ],
      "text/latex": [
       "0.999"
      ],
      "text/markdown": [
       "0.999"
      ],
      "text/plain": [
       "[1] 0.999"
      ]
     },
     "metadata": {},
     "output_type": "display_data"
    },
    {
     "data": {
      "text/html": [
       "<strong>PSX:</strong> 57"
      ],
      "text/latex": [
       "\\textbf{PSX:} 57"
      ],
      "text/markdown": [
       "**PSX:** 57"
      ],
      "text/plain": [
       "PSX \n",
       " 57 "
      ]
     },
     "metadata": {},
     "output_type": "display_data"
    }
   ],
   "source": [
    "min(stock_coef[,\"alpha1+beta1\"])\n",
    "which.min(stock_coef[,\"alpha1+beta1\"])\n",
    "max(stock_coef[,\"alpha1+beta1\"])\n",
    "which.max(stock_coef[,\"alpha1+beta1\"])\n"
   ]
  },
  {
   "cell_type": "markdown",
   "id": "4cb6a82f",
   "metadata": {},
   "source": [
    "**<span style='background:yellow'>Stock3 PRGO</span>  has <span style='background:yellow'>Minimum $\\alpha_1+\\beta_1$</span> at 0.73, while <span style='background:yellow'>Stock4 PSX</span>  has <span style='background:yellow'>Maximum $\\alpha_1+\\beta_1$</span> at 0.99.**"
   ]
  },
  {
   "cell_type": "code",
   "execution_count": 307,
   "id": "73365036",
   "metadata": {},
   "outputs": [
    {
     "data": {
      "text/html": [
       "7.050201"
      ],
      "text/latex": [
       "7.050201"
      ],
      "text/markdown": [
       "7.050201"
      ],
      "text/plain": [
       "[1] 7.050201"
      ]
     },
     "metadata": {},
     "output_type": "display_data"
    },
    {
     "data": {
      "text/html": [
       "<strong>BBBY:</strong> 40"
      ],
      "text/latex": [
       "\\textbf{BBBY:} 40"
      ],
      "text/markdown": [
       "**BBBY:** 40"
      ],
      "text/plain": [
       "BBBY \n",
       "  40 "
      ]
     },
     "metadata": {},
     "output_type": "display_data"
    }
   ],
   "source": [
    "# Also check the highest Volatility stock\n",
    "max(stock_coef[,\"omega\"])\n",
    "which.max(stock_coef[,\"omega\"])"
   ]
  },
  {
   "cell_type": "markdown",
   "id": "3177c133",
   "metadata": {},
   "source": [
    "**<span style='background:yellow'>Stock5 BBBY</span>  has <span style='background:yellow'>Highest Volatility $\\omega$</span> at 7.05.**"
   ]
  },
  {
   "cell_type": "code",
   "execution_count": 325,
   "id": "c1042110",
   "metadata": {},
   "outputs": [
    {
     "data": {
      "image/png": "[encoded data removed]",
      "text/plain": [
       "plot without title"
      ]
     },
     "metadata": {
      "image/png": {
       "height": 480,
       "width": 600
      }
     },
     "output_type": "display_data"
    }
   ],
   "source": [
    "options(repr.plot.width = 10, repr.plot.height = 8)\n",
    "par(mfrow = c(3, 2))\n",
    "\n",
    "plot(lrets$GNW,  main = \"GNW.Max Alpha1\")\n",
    "plot(lrets$CHRW,  main = \"CHRW.Max Beta1\")\n",
    "plot(lrets$PRGO,  main = \"PRGO.Min Alpha1+Beta1\")\n",
    "plot(lrets$PSX,  main = \"PSX.Max Alpha1+Beta1\")\n",
    "plot(lrets$BBBY,  main = \"BBBY.Max omega\")"
   ]
  },
  {
   "cell_type": "markdown",
   "id": "b6192213",
   "metadata": {},
   "source": [
    "**Comments:  \n",
    "From the chart, Stock4 PSX which has <span style='background:yellow'>Maximum $\\alpha_1+\\beta_1$</span> shows volatility spike persistence much longer, as well as slow decay, and also shows volatility clustering.** "
   ]
  },
  {
   "cell_type": "markdown",
   "id": "4a62ad7d",
   "metadata": {},
   "source": [
    "### 5. Use the GARCH volatility of the cross-section of 100 stocks for every day to obtain median \"market\" volatility and its quantiles (95% and 5%). "
   ]
  },
  {
   "cell_type": "markdown",
   "id": "7bd47e5a",
   "metadata": {},
   "source": [
    "* Observe stock volatility by chart"
   ]
  },
  {
   "cell_type": "code",
   "execution_count": 333,
   "id": "672176d9",
   "metadata": {},
   "outputs": [
    {
     "data": {
      "image/png": "[encoded data removed]",
      "text/plain": [
       "plot without title"
      ]
     },
     "metadata": {
      "image/png": {
       "height": 360,
       "width": 480
      }
     },
     "output_type": "display_data"
    }
   ],
   "source": [
    "par(bg = \"#f7f7f7\")\n",
    "options(repr.plot.width = 8, repr.plot.height = 6)\n",
    "plot(stock_coef[,\"omega\"])"
   ]
  },
  {
   "cell_type": "markdown",
   "id": "9be1d83b",
   "metadata": {},
   "source": [
    "* Use GARCH result to calculate cross-section \"market\" volatility "
   ]
  },
  {
   "cell_type": "code",
   "execution_count": 319,
   "id": "98f60e3e",
   "metadata": {},
   "outputs": [
    {
     "data": {
      "text/html": [
       "0.207364"
      ],
      "text/latex": [
       "0.207364"
      ],
      "text/markdown": [
       "0.207364"
      ],
      "text/plain": [
       "[1] 0.207364"
      ]
     },
     "metadata": {},
     "output_type": "display_data"
    },
    {
     "data": {
      "text/html": [
       "<style>\n",
       ".dl-inline {width: auto; margin:0; padding: 0}\n",
       ".dl-inline>dt, .dl-inline>dd {float: none; width: auto; display: inline-block}\n",
       ".dl-inline>dt::after {content: \":\\0020\"; padding-right: .5ex}\n",
       ".dl-inline>dt:not(:first-of-type) {padding-left: .5ex}\n",
       "</style><dl class=dl-inline><dt>5%</dt><dd>0.05834</dd><dt>95%</dt><dd>1.4567234</dd></dl>\n"
      ],
      "text/latex": [
       "\\begin{description*}\n",
       "\\item[5\\textbackslash{}\\%] 0.05834\n",
       "\\item[95\\textbackslash{}\\%] 1.4567234\n",
       "\\end{description*}\n"
      ],
      "text/markdown": [
       "5%\n",
       ":   0.0583495%\n",
       ":   1.4567234\n",
       "\n"
      ],
      "text/plain": [
       "      5%      95% \n",
       "0.058340 1.456723 "
      ]
     },
     "metadata": {},
     "output_type": "display_data"
    }
   ],
   "source": [
    "median_vol <- median(stock_coef[,\"omega\"])\n",
    "median_vol\n",
    "quantile(stock_coef[,\"omega\"],c(0.05, 0.95))"
   ]
  },
  {
   "cell_type": "markdown",
   "id": "5808705a",
   "metadata": {},
   "source": [
    "**Coments:  \n",
    "Our median \"market\" volatility is 0.207, 5% quantiles at 0.058, 95% quantiles at 1.456.**"
   ]
  },
  {
   "cell_type": "markdown",
   "id": "f31ceea9",
   "metadata": {},
   "source": [
    "### Create a figure plotting the cross-section of median, the 95% quantile, and the 5% quantile \"market\" volatility that you have obtained. Please, comment."
   ]
  },
  {
   "cell_type": "code",
   "execution_count": 42,
   "id": "a517ce5c",
   "metadata": {},
   "outputs": [
    {
     "data": {
      "image/png": "[encoded data removed]",
      "text/plain": [
       "Plot with title \"Cross-section Market Volatility\""
      ]
     },
     "metadata": {
      "image/png": {
       "height": 360,
       "width": 600
      }
     },
     "output_type": "display_data"
    }
   ],
   "source": [
    "par(bg = \"#f7f7f7\")\n",
    "options(repr.plot.width = 10, repr.plot.height = 6)\n",
    "par(mfrow = c(1, 2))\n",
    "plot((1:N - 1)/(N - 1), sort(stock_coef[,\"omega\"]), type=\"l\",\n",
    "     main = \"Cross-section Volatility Quantiles\", xlab = \"Fraction\", ylab = \"Quantile\")\n",
    "\n",
    "hist(stock_coef[,\"omega\"], n = 100, probability = TRUE, border = \"white\",\n",
    "     col = \"steelblue\", xlab = NA, main = \"Cross-section Market Volatility\")"
   ]
  },
  {
   "cell_type": "markdown",
   "id": "252eded7",
   "metadata": {},
   "source": [
    "**Comments:  \n",
    "By formula defination $$\\sigma_t^2 = \\omega + \\alpha_1 a_{t - 1}^2 + \\beta_1 \\sigma_{t - 1}^2$$ \n",
    "we could see $\\omega$ is the long-term volatility. From our observation of Cross-section volatility from GARCH model results, 95% of stocks has $\\omega$ lower than 1.5.**"
   ]
  },
  {
   "cell_type": "markdown",
   "id": "0d986886",
   "metadata": {},
   "source": [
    "# Problem 2"
   ]
  },
  {
   "cell_type": "markdown",
   "id": "ec8328ce",
   "metadata": {},
   "source": [
    "### Use the dataset of logarithmic returns from the first problem. Compute the mean logarithmic return for each date. Estimate a suitable ARMA family model for this series. Consider at least three different ARMA orders that you can pinpoint as candidate models by observing the ACF and PACF. Remember to include all the necessary steps including model diagnostics. Discuss the results in detail."
   ]
  },
  {
   "cell_type": "markdown",
   "id": "90d3cb56",
   "metadata": {},
   "source": [
    "### 1.  Compute the mean logarithmic return"
   ]
  },
  {
   "cell_type": "code",
   "execution_count": 15,
   "id": "15a0b41d",
   "metadata": {},
   "outputs": [
    {
     "data": {
      "text/html": [
       "99"
      ],
      "text/latex": [
       "99"
      ],
      "text/markdown": [
       "99"
      ],
      "text/plain": [
       "[1] 99"
      ]
     },
     "metadata": {},
     "output_type": "display_data"
    },
    {
     "data": {
      "text/html": [
       "<style>\n",
       ".list-inline {list-style: none; margin:0; padding: 0}\n",
       ".list-inline>li {display: inline-block}\n",
       ".list-inline>li:not(:last-child)::after {content: \"\\00b7\"; padding: 0 .5ex}\n",
       "</style>\n",
       "<ol class=list-inline><li>'CNP'</li><li>'TEL'</li><li>'PG'</li><li>'LLY'</li><li>'SO'</li><li>'ORLY'</li><li>'M'</li><li>'NRG'</li><li>'FSLR'</li><li>'PFG'</li><li>'CRM'</li><li>'JPM'</li><li>'KO'</li><li>'OMC'</li><li>'AMT'</li><li>'GME'</li><li>'OKE'</li><li>'WHR'</li><li>'ITW'</li><li>'PRGO'</li><li>'DTE'</li><li>'STT'</li><li>'CMS'</li><li>'AMP'</li><li>'SYK'</li><li>'TRV'</li><li>'LEN'</li><li>'NEE'</li><li>'AMD'</li><li>'NOC'</li><li>'MSI'</li><li>'VFC'</li><li>'DVA'</li><li>'GPC'</li><li>'TAP'</li><li>'VMC'</li><li>'ALTR'</li><li>'WEC'</li><li>'EBAY'</li><li>'BBBY'</li><li>'VZ'</li><li>'MCHP'</li><li>'ADM'</li><li>'EFX'</li><li>'CAT'</li><li>'BWA'</li><li>'BEN'</li><li>'GOOG'</li><li>'COF'</li><li>'AFL'</li><li>'LOW'</li><li>'HRL'</li><li>'VLO'</li><li>'CCI'</li><li>'USB'</li><li>'PKI'</li><li>'PSX'</li><li>'CNX'</li><li>'ICE'</li><li>'T'</li><li>'VNO'</li><li>'KIM'</li><li>'HBAN'</li><li>'ADP'</li><li>'CHRW'</li><li>'XOM'</li><li>'FLS'</li><li>'PNW'</li><li>'SCHW'</li><li>'NTAP'</li><li>'MS'</li><li>'PCG'</li><li>'RHI'</li><li>'GNW'</li><li>'JNJ'</li><li>'MDT'</li><li>'ECL'</li><li>'WU'</li><li>'IP'</li><li>'SPG'</li><li>'MSFT'</li><li>'CERN'</li><li>'ALL'</li><li>'PFE'</li><li>'PBCT'</li><li>'IRM'</li><li>'KMX'</li><li>'TROW'</li><li>'VTR'</li><li>'MNST'</li><li>'MA'</li><li>'COST'</li><li>'PM'</li><li>'GT'</li><li>'FITB'</li><li>'EW'</li><li>'GE'</li><li>'BTU'</li><li>'MKC'</li></ol>\n"
      ],
      "text/latex": [
       "\\begin{enumerate*}\n",
       "\\item 'CNP'\n",
       "\\item 'TEL'\n",
       "\\item 'PG'\n",
       "\\item 'LLY'\n",
       "\\item 'SO'\n",
       "\\item 'ORLY'\n",
       "\\item 'M'\n",
       "\\item 'NRG'\n",
       "\\item 'FSLR'\n",
       "\\item 'PFG'\n",
       "\\item 'CRM'\n",
       "\\item 'JPM'\n",
       "\\item 'KO'\n",
       "\\item 'OMC'\n",
       "\\item 'AMT'\n",
       "\\item 'GME'\n",
       "\\item 'OKE'\n",
       "\\item 'WHR'\n",
       "\\item 'ITW'\n",
       "\\item 'PRGO'\n",
       "\\item 'DTE'\n",
       "\\item 'STT'\n",
       "\\item 'CMS'\n",
       "\\item 'AMP'\n",
       "\\item 'SYK'\n",
       "\\item 'TRV'\n",
       "\\item 'LEN'\n",
       "\\item 'NEE'\n",
       "\\item 'AMD'\n",
       "\\item 'NOC'\n",
       "\\item 'MSI'\n",
       "\\item 'VFC'\n",
       "\\item 'DVA'\n",
       "\\item 'GPC'\n",
       "\\item 'TAP'\n",
       "\\item 'VMC'\n",
       "\\item 'ALTR'\n",
       "\\item 'WEC'\n",
       "\\item 'EBAY'\n",
       "\\item 'BBBY'\n",
       "\\item 'VZ'\n",
       "\\item 'MCHP'\n",
       "\\item 'ADM'\n",
       "\\item 'EFX'\n",
       "\\item 'CAT'\n",
       "\\item 'BWA'\n",
       "\\item 'BEN'\n",
       "\\item 'GOOG'\n",
       "\\item 'COF'\n",
       "\\item 'AFL'\n",
       "\\item 'LOW'\n",
       "\\item 'HRL'\n",
       "\\item 'VLO'\n",
       "\\item 'CCI'\n",
       "\\item 'USB'\n",
       "\\item 'PKI'\n",
       "\\item 'PSX'\n",
       "\\item 'CNX'\n",
       "\\item 'ICE'\n",
       "\\item 'T'\n",
       "\\item 'VNO'\n",
       "\\item 'KIM'\n",
       "\\item 'HBAN'\n",
       "\\item 'ADP'\n",
       "\\item 'CHRW'\n",
       "\\item 'XOM'\n",
       "\\item 'FLS'\n",
       "\\item 'PNW'\n",
       "\\item 'SCHW'\n",
       "\\item 'NTAP'\n",
       "\\item 'MS'\n",
       "\\item 'PCG'\n",
       "\\item 'RHI'\n",
       "\\item 'GNW'\n",
       "\\item 'JNJ'\n",
       "\\item 'MDT'\n",
       "\\item 'ECL'\n",
       "\\item 'WU'\n",
       "\\item 'IP'\n",
       "\\item 'SPG'\n",
       "\\item 'MSFT'\n",
       "\\item 'CERN'\n",
       "\\item 'ALL'\n",
       "\\item 'PFE'\n",
       "\\item 'PBCT'\n",
       "\\item 'IRM'\n",
       "\\item 'KMX'\n",
       "\\item 'TROW'\n",
       "\\item 'VTR'\n",
       "\\item 'MNST'\n",
       "\\item 'MA'\n",
       "\\item 'COST'\n",
       "\\item 'PM'\n",
       "\\item 'GT'\n",
       "\\item 'FITB'\n",
       "\\item 'EW'\n",
       "\\item 'GE'\n",
       "\\item 'BTU'\n",
       "\\item 'MKC'\n",
       "\\end{enumerate*}\n"
      ],
      "text/markdown": [
       "1. 'CNP'\n",
       "2. 'TEL'\n",
       "3. 'PG'\n",
       "4. 'LLY'\n",
       "5. 'SO'\n",
       "6. 'ORLY'\n",
       "7. 'M'\n",
       "8. 'NRG'\n",
       "9. 'FSLR'\n",
       "10. 'PFG'\n",
       "11. 'CRM'\n",
       "12. 'JPM'\n",
       "13. 'KO'\n",
       "14. 'OMC'\n",
       "15. 'AMT'\n",
       "16. 'GME'\n",
       "17. 'OKE'\n",
       "18. 'WHR'\n",
       "19. 'ITW'\n",
       "20. 'PRGO'\n",
       "21. 'DTE'\n",
       "22. 'STT'\n",
       "23. 'CMS'\n",
       "24. 'AMP'\n",
       "25. 'SYK'\n",
       "26. 'TRV'\n",
       "27. 'LEN'\n",
       "28. 'NEE'\n",
       "29. 'AMD'\n",
       "30. 'NOC'\n",
       "31. 'MSI'\n",
       "32. 'VFC'\n",
       "33. 'DVA'\n",
       "34. 'GPC'\n",
       "35. 'TAP'\n",
       "36. 'VMC'\n",
       "37. 'ALTR'\n",
       "38. 'WEC'\n",
       "39. 'EBAY'\n",
       "40. 'BBBY'\n",
       "41. 'VZ'\n",
       "42. 'MCHP'\n",
       "43. 'ADM'\n",
       "44. 'EFX'\n",
       "45. 'CAT'\n",
       "46. 'BWA'\n",
       "47. 'BEN'\n",
       "48. 'GOOG'\n",
       "49. 'COF'\n",
       "50. 'AFL'\n",
       "51. 'LOW'\n",
       "52. 'HRL'\n",
       "53. 'VLO'\n",
       "54. 'CCI'\n",
       "55. 'USB'\n",
       "56. 'PKI'\n",
       "57. 'PSX'\n",
       "58. 'CNX'\n",
       "59. 'ICE'\n",
       "60. 'T'\n",
       "61. 'VNO'\n",
       "62. 'KIM'\n",
       "63. 'HBAN'\n",
       "64. 'ADP'\n",
       "65. 'CHRW'\n",
       "66. 'XOM'\n",
       "67. 'FLS'\n",
       "68. 'PNW'\n",
       "69. 'SCHW'\n",
       "70. 'NTAP'\n",
       "71. 'MS'\n",
       "72. 'PCG'\n",
       "73. 'RHI'\n",
       "74. 'GNW'\n",
       "75. 'JNJ'\n",
       "76. 'MDT'\n",
       "77. 'ECL'\n",
       "78. 'WU'\n",
       "79. 'IP'\n",
       "80. 'SPG'\n",
       "81. 'MSFT'\n",
       "82. 'CERN'\n",
       "83. 'ALL'\n",
       "84. 'PFE'\n",
       "85. 'PBCT'\n",
       "86. 'IRM'\n",
       "87. 'KMX'\n",
       "88. 'TROW'\n",
       "89. 'VTR'\n",
       "90. 'MNST'\n",
       "91. 'MA'\n",
       "92. 'COST'\n",
       "93. 'PM'\n",
       "94. 'GT'\n",
       "95. 'FITB'\n",
       "96. 'EW'\n",
       "97. 'GE'\n",
       "98. 'BTU'\n",
       "99. 'MKC'\n",
       "\n",
       "\n"
      ],
      "text/plain": [
       " [1] \"CNP\"  \"TEL\"  \"PG\"   \"LLY\"  \"SO\"   \"ORLY\" \"M\"    \"NRG\"  \"FSLR\" \"PFG\" \n",
       "[11] \"CRM\"  \"JPM\"  \"KO\"   \"OMC\"  \"AMT\"  \"GME\"  \"OKE\"  \"WHR\"  \"ITW\"  \"PRGO\"\n",
       "[21] \"DTE\"  \"STT\"  \"CMS\"  \"AMP\"  \"SYK\"  \"TRV\"  \"LEN\"  \"NEE\"  \"AMD\"  \"NOC\" \n",
       "[31] \"MSI\"  \"VFC\"  \"DVA\"  \"GPC\"  \"TAP\"  \"VMC\"  \"ALTR\" \"WEC\"  \"EBAY\" \"BBBY\"\n",
       "[41] \"VZ\"   \"MCHP\" \"ADM\"  \"EFX\"  \"CAT\"  \"BWA\"  \"BEN\"  \"GOOG\" \"COF\"  \"AFL\" \n",
       "[51] \"LOW\"  \"HRL\"  \"VLO\"  \"CCI\"  \"USB\"  \"PKI\"  \"PSX\"  \"CNX\"  \"ICE\"  \"T\"   \n",
       "[61] \"VNO\"  \"KIM\"  \"HBAN\" \"ADP\"  \"CHRW\" \"XOM\"  \"FLS\"  \"PNW\"  \"SCHW\" \"NTAP\"\n",
       "[71] \"MS\"   \"PCG\"  \"RHI\"  \"GNW\"  \"JNJ\"  \"MDT\"  \"ECL\"  \"WU\"   \"IP\"   \"SPG\" \n",
       "[81] \"MSFT\" \"CERN\" \"ALL\"  \"PFE\"  \"PBCT\" \"IRM\"  \"KMX\"  \"TROW\" \"VTR\"  \"MNST\"\n",
       "[91] \"MA\"   \"COST\" \"PM\"   \"GT\"   \"FITB\" \"EW\"   \"GE\"   \"BTU\"  \"MKC\" "
      ]
     },
     "metadata": {},
     "output_type": "display_data"
    },
    {
     "data": {
      "text/plain": [
       "           CNP.Adjusted\n",
       "2019-01-03    0.5697818\n",
       "2019-01-04    1.8297694\n",
       "2019-01-07    0.3828020\n",
       "2019-01-08    1.8923749\n",
       "2019-01-09   -1.2345776\n",
       "2019-01-10    1.8123222"
      ]
     },
     "metadata": {},
     "output_type": "display_data"
    },
    {
     "data": {
      "text/plain": [
       "           CNP.Adjusted\n",
       "2021-12-22    0.6571838\n",
       "2021-12-23    0.1454541\n",
       "2021-12-27    0.2177835\n",
       "2021-12-28    0.9742092\n",
       "2021-12-29    0.3584277\n",
       "2021-12-30   -0.4302647"
      ]
     },
     "metadata": {},
     "output_type": "display_data"
    }
   ],
   "source": [
    "load(\"2-Returns.RData\")\n",
    "\n",
    "length(lrets)\n",
    "names(lrets)\n",
    "head(lrets[[1]])\n",
    "tail(lrets[[1]])"
   ]
  },
  {
   "cell_type": "markdown",
   "id": "31be2c4a",
   "metadata": {},
   "source": [
    "**Comments:  \n",
    "Next we need to manipulate the list in the way that all symbols have matching timestamps, so it is necessary to check if all time-serie observations are matching each other.**"
   ]
  },
  {
   "cell_type": "code",
   "execution_count": null,
   "id": "d5445061",
   "metadata": {},
   "outputs": [],
   "source": []
  },
  {
   "cell_type": "code",
   "execution_count": 16,
   "id": "458daaf3",
   "metadata": {},
   "outputs": [
    {
     "data": {
      "text/html": [
       "755"
      ],
      "text/latex": [
       "755"
      ],
      "text/markdown": [
       "755"
      ],
      "text/plain": [
       "[1] 755"
      ]
     },
     "metadata": {},
     "output_type": "display_data"
    },
    {
     "data": {
      "text/html": [
       "755"
      ],
      "text/latex": [
       "755"
      ],
      "text/markdown": [
       "755"
      ],
      "text/plain": [
       "[1] 755"
      ]
     },
     "metadata": {},
     "output_type": "display_data"
    }
   ],
   "source": [
    "# Check time stamps\n",
    "p_dates <- index(lrets[[1]])\n",
    "length(p_dates)\n",
    "for (i in 2:length(lrets)){\n",
    "    p_dates <- index(lrets[[i]])[index(lrets[[i]]) %in% p_dates]\n",
    "}\n",
    "length(p_dates)"
   ]
  },
  {
   "cell_type": "markdown",
   "id": "14ec7629",
   "metadata": {},
   "source": [
    "* Calculate mean logarithmic return for each date"
   ]
  },
  {
   "cell_type": "code",
   "execution_count": 18,
   "id": "314b8355",
   "metadata": {},
   "outputs": [
    {
     "data": {
      "text/html": [
       "755"
      ],
      "text/latex": [
       "755"
      ],
      "text/markdown": [
       "755"
      ],
      "text/plain": [
       "[1] 755"
      ]
     },
     "metadata": {},
     "output_type": "display_data"
    },
    {
     "data": {
      "text/html": [
       "<style>\n",
       ".list-inline {list-style: none; margin:0; padding: 0}\n",
       ".list-inline>li {display: inline-block}\n",
       ".list-inline>li:not(:last-child)::after {content: \"\\00b7\"; padding: 0 .5ex}\n",
       "</style>\n",
       "<ol class=list-inline><li>-1.70304153147851</li><li>3.21719324088336</li><li>0.389972556206651</li><li>0.984825669092473</li><li>0.523145969818571</li><li>0.561599597505528</li></ol>\n"
      ],
      "text/latex": [
       "\\begin{enumerate*}\n",
       "\\item -1.70304153147851\n",
       "\\item 3.21719324088336\n",
       "\\item 0.389972556206651\n",
       "\\item 0.984825669092473\n",
       "\\item 0.523145969818571\n",
       "\\item 0.561599597505528\n",
       "\\end{enumerate*}\n"
      ],
      "text/markdown": [
       "1. -1.70304153147851\n",
       "2. 3.21719324088336\n",
       "3. 0.389972556206651\n",
       "4. 0.984825669092473\n",
       "5. 0.523145969818571\n",
       "6. 0.561599597505528\n",
       "\n",
       "\n"
      ],
      "text/plain": [
       "[1] -1.7030415  3.2171932  0.3899726  0.9848257  0.5231460  0.5615996"
      ]
     },
     "metadata": {},
     "output_type": "display_data"
    }
   ],
   "source": [
    "# Calculate the time serises of cross sector means\n",
    "N <- nrow(lrets[[1]])  \n",
    "lrets_mean <- sapply(1:N, function(y){\n",
    "   mean(sapply(lrets, '[[', y)) \n",
    "})\n",
    "\n",
    "length(lrets_mean)\n",
    "head(lrets_mean)\n"
   ]
  },
  {
   "cell_type": "code",
   "execution_count": 19,
   "id": "53db52fa",
   "metadata": {},
   "outputs": [
    {
     "data": {
      "text/html": [
       "<style>\n",
       ".list-inline {list-style: none; margin:0; padding: 0}\n",
       ".list-inline>li {display: inline-block}\n",
       ".list-inline>li:not(:last-child)::after {content: \"\\00b7\"; padding: 0 .5ex}\n",
       "</style>\n",
       "<ol class=list-inline><li><time datetime=\"2019-01-03\">2019-01-03</time></li><li><time datetime=\"2019-01-04\">2019-01-04</time></li><li><time datetime=\"2019-01-07\">2019-01-07</time></li><li><time datetime=\"2019-01-08\">2019-01-08</time></li><li><time datetime=\"2019-01-09\">2019-01-09</time></li><li><time datetime=\"2019-01-10\">2019-01-10</time></li></ol>\n"
      ],
      "text/latex": [
       "\\begin{enumerate*}\n",
       "\\item 2019-01-03\n",
       "\\item 2019-01-04\n",
       "\\item 2019-01-07\n",
       "\\item 2019-01-08\n",
       "\\item 2019-01-09\n",
       "\\item 2019-01-10\n",
       "\\end{enumerate*}\n"
      ],
      "text/markdown": [
       "1. 2019-01-03\n",
       "2. 2019-01-04\n",
       "3. 2019-01-07\n",
       "4. 2019-01-08\n",
       "5. 2019-01-09\n",
       "6. 2019-01-10\n",
       "\n",
       "\n"
      ],
      "text/plain": [
       "[1] \"2019-01-03\" \"2019-01-04\" \"2019-01-07\" \"2019-01-08\" \"2019-01-09\"\n",
       "[6] \"2019-01-10\""
      ]
     },
     "metadata": {},
     "output_type": "display_data"
    }
   ],
   "source": [
    "head(index(lrets[[1]]))"
   ]
  },
  {
   "cell_type": "code",
   "execution_count": 20,
   "id": "011e6f33",
   "metadata": {},
   "outputs": [
    {
     "data": {
      "text/plain": [
       "                 [,1]\n",
       "2019-01-03 -1.7030415\n",
       "2019-01-04  3.2171932\n",
       "2019-01-07  0.3899726\n",
       "2019-01-08  0.9848257\n",
       "2019-01-09  0.5231460\n",
       "2019-01-10  0.5615996"
      ]
     },
     "metadata": {},
     "output_type": "display_data"
    }
   ],
   "source": [
    "# Create an xts object\n",
    "lrets_xts <- xts(lrets_mean, index(lrets[[1]]))\n",
    "head(lrets_xts)"
   ]
  },
  {
   "cell_type": "markdown",
   "id": "23a9ecd9",
   "metadata": {},
   "source": [
    "### 2. Estimate a suitable ARMA family model for this series. "
   ]
  },
  {
   "cell_type": "markdown",
   "id": "54546777",
   "metadata": {},
   "source": [
    "* We start with plotting the data, and exploring ACF and PACF."
   ]
  },
  {
   "cell_type": "code",
   "execution_count": 43,
   "id": "ceb49a7a",
   "metadata": {},
   "outputs": [
    {
     "data": {
      "image/png": "[encoded data removed]",
      "text/plain": [
       "plot without title"
      ]
     },
     "metadata": {
      "image/png": {
       "height": 360,
       "width": 480
      }
     },
     "output_type": "display_data"
    }
   ],
   "source": [
    "options(repr.plot.width = 8, repr.plot.height = 6)\n",
    "plot(lrets_xts,  xlab = 'Year', ylab = 'Percent', main = 'Mean Logarithmic Return', \n",
    "     axes = F, cex.main = 0.8)"
   ]
  },
  {
   "cell_type": "markdown",
   "id": "68d5a4ad",
   "metadata": {},
   "source": [
    "**Comments:  \n",
    "Clearly we could observe when Covid started at 2020 spring, there is a spike of volatility and the chart shows volatility clustering after. Also at Winter of 2020 when Delta Covid appeared, there was high volatility and persisit cluster.** "
   ]
  },
  {
   "cell_type": "markdown",
   "id": "a80690e8",
   "metadata": {},
   "source": [
    "* Apply lag depenency test"
   ]
  },
  {
   "cell_type": "code",
   "execution_count": 44,
   "id": "61bfa568",
   "metadata": {},
   "outputs": [
    {
     "data": {
      "image/png": "[encoded data removed]",
      "text/plain": [
       "Plot with title \"NA\""
      ]
     },
     "metadata": {
      "image/png": {
       "height": 360,
       "width": 480
      }
     },
     "output_type": "display_data"
    }
   ],
   "source": [
    "par(bg = \"#f7f7f7\")\n",
    "options(repr.plot.width = 8, repr.plot.height = 6)\n",
    "par(mfrow = c(1, 2))\n",
    "acf(lrets_xts, main = NA, lag = 50)\n",
    "pacf(lrets_xts, main = NA, lag = 50)"
   ]
  },
  {
   "cell_type": "markdown",
   "id": "5794c332",
   "metadata": {},
   "source": [
    "**Comments:  \n",
    "From ACF and PACF test, there seems a lot of dependence visible in first 8 lags, and also in lag 18 and 27.**"
   ]
  },
  {
   "cell_type": "markdown",
   "id": "17bbd89c",
   "metadata": {},
   "source": [
    "* Then we test for stationarity."
   ]
  },
  {
   "cell_type": "code",
   "execution_count": 45,
   "id": "1ea874c5",
   "metadata": {},
   "outputs": [
    {
     "name": "stderr",
     "output_type": "stream",
     "text": [
      "Warning message in adf.test(lrets_xts, k = 1):\n",
      "\"p-value smaller than printed p-value\"\n"
     ]
    },
    {
     "data": {
      "text/plain": [
       "\n",
       "\tAugmented Dickey-Fuller Test\n",
       "\n",
       "data:  lrets_xts\n",
       "Dickey-Fuller = -17.805, Lag order = 1, p-value = 0.01\n",
       "alternative hypothesis: stationary\n"
      ]
     },
     "metadata": {},
     "output_type": "display_data"
    },
    {
     "name": "stderr",
     "output_type": "stream",
     "text": [
      "Warning message in adf.test(lrets_xts, k = 5):\n",
      "\"p-value smaller than printed p-value\"\n"
     ]
    },
    {
     "data": {
      "text/plain": [
       "\n",
       "\tAugmented Dickey-Fuller Test\n",
       "\n",
       "data:  lrets_xts\n",
       "Dickey-Fuller = -13.038, Lag order = 5, p-value = 0.01\n",
       "alternative hypothesis: stationary\n"
      ]
     },
     "metadata": {},
     "output_type": "display_data"
    },
    {
     "name": "stderr",
     "output_type": "stream",
     "text": [
      "Warning message in adf.test(lrets_xts, k = 10):\n",
      "\"p-value smaller than printed p-value\"\n"
     ]
    },
    {
     "data": {
      "text/plain": [
       "\n",
       "\tAugmented Dickey-Fuller Test\n",
       "\n",
       "data:  lrets_xts\n",
       "Dickey-Fuller = -6.9727, Lag order = 10, p-value = 0.01\n",
       "alternative hypothesis: stationary\n"
      ]
     },
     "metadata": {},
     "output_type": "display_data"
    }
   ],
   "source": [
    "adf.test(lrets_xts, k = 1)\n",
    "adf.test(lrets_xts, k = 5)\n",
    "adf.test(lrets_xts, k = 10)"
   ]
  },
  {
   "cell_type": "markdown",
   "id": "196b2507",
   "metadata": {},
   "source": [
    "**Comments:  \n",
    "From Augmented Dickey-Fuller Test, We could reject non-stationarity.**"
   ]
  },
  {
   "cell_type": "markdown",
   "id": "9b7cefc1",
   "metadata": {},
   "source": [
    "* Apply Auto Arima Test"
   ]
  },
  {
   "cell_type": "code",
   "execution_count": 48,
   "id": "10a7a959",
   "metadata": {},
   "outputs": [
    {
     "data": {
      "text/plain": [
       "Series: lrets_xts \n",
       "ARIMA(4,0,4) with zero mean \n",
       "\n",
       "Coefficients:\n",
       "          ar1     ar2      ar3      ar4     ma1      ma2     ma3     ma4\n",
       "      -0.5856  0.1936  -0.4922  -0.7469  0.4917  -0.0853  0.5951  0.5654\n",
       "s.e.   0.0762  0.1039   0.0975   0.0638  0.0829   0.0989  0.1037  0.0768\n",
       "\n",
       "sigma^2 = 2.193:  log likelihood = -1364.12\n",
       "AIC=2746.24   AICc=2746.48   BIC=2787.88"
      ]
     },
     "metadata": {},
     "output_type": "display_data"
    },
    {
     "data": {
      "image/png": "[encoded data removed]",
      "text/plain": [
       "Plot with title \"NA\""
      ]
     },
     "metadata": {
      "image/png": {
       "height": 360,
       "width": 480
      }
     },
     "output_type": "display_data"
    }
   ],
   "source": [
    "lrets_auto <- auto.arima(lrets_xts, max.d = 0)\n",
    "lrets_auto\n",
    "\n",
    "par(bg = \"#f7f7f7\")\n",
    "options(repr.plot.width = 8, repr.plot.height = 6)\n",
    "par(mfrow = c(1, 2))\n",
    "\n",
    "acf(lrets_auto$residuals, main = NA)\n",
    "pacf(lrets_auto$residuals, main = NA)"
   ]
  },
  {
   "cell_type": "markdown",
   "id": "e16f6613",
   "metadata": {},
   "source": [
    "**Comments:  \n",
    "From ACF and PACF Test of residuals, We could see depenency at lag 1, 7, and 17.**"
   ]
  },
  {
   "cell_type": "markdown",
   "id": "89882a8d",
   "metadata": {},
   "source": [
    "### 3. Consider at least three different ARMA orders that you can pinpoint as candidate models by observing the ACF and PACF. "
   ]
  },
  {
   "cell_type": "code",
   "execution_count": null,
   "id": "e86acd16",
   "metadata": {},
   "outputs": [],
   "source": []
  }
 ],
 "metadata": {
  "kernelspec": {
   "display_name": "R",
   "language": "R",
   "name": "ir"
  },
  "language_info": {
   "codemirror_mode": "r",
   "file_extension": ".r",
   "mimetype": "text/x-r-source",
   "name": "R",
   "pygments_lexer": "r",
   "version": "4.1.2"
  }
 },
 "nbformat": 4,
 "nbformat_minor": 5
}
