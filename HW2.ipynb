{
 "cells": [
  {
   "cell_type": "markdown",
   "id": "9194b51e",
   "metadata": {},
   "source": [
    "# Financial Econometrics I: Homework 2"
   ]
  },
  {
   "cell_type": "markdown",
   "id": "20a232b2",
   "metadata": {},
   "source": [
    "Team Member:\n",
    "\n",
    "Lin Zhang : 15845542@fsv.cuni.cz\n",
    "\n",
    "Weiwei Qu : 51014941@fsv.cuni.cz"
   ]
  },
  {
   "cell_type": "markdown",
   "id": "6b0a2575",
   "metadata": {},
   "source": [
    "# Problem 1"
   ]
  },
  {
   "cell_type": "markdown",
   "id": "771c79d1",
   "metadata": {},
   "source": [
    "##### From the the symbols.csv choose 1 of the 10 Sectors (Industrials, Financials, Health Care, etc.). Download the prices for all the stocks belonging to the corresponding Sector for the period 01/2015 - 12/2021. Exclude the stocks that are not available in the quantmod package. Check that your data contains all the desired symbols (include this check in your output)."
   ]
  },
  {
   "cell_type": "markdown",
   "id": "69aa4d38",
   "metadata": {},
   "source": [
    "##### "
   ]
  },
  {
   "cell_type": "code",
   "execution_count": null,
   "id": "0d4620fd",
   "metadata": {},
   "outputs": [],
   "source": [
    "# Setup environment\n",
    "Sys.setenv(LANG = \"en\")\n",
    "#options(warn = -1)  # suppressing warnings\n",
    "\n",
    "if (!require(quantmod)) install.packages('quantmod')\n",
    "\n",
    "library(quantmod)"
   ]
  },
  {
   "cell_type": "code",
   "execution_count": null,
   "id": "5ab0b22d",
   "metadata": {},
   "outputs": [],
   "source": [
    "# read 377 stock symbols from file\n",
    "smbs<- as.character(read.csv(\"symbols2.csv\")[,2])\n",
    "head(smbs)\n",
    "tail(smbs)\n"
   ]
  },
  {
   "cell_type": "code",
   "execution_count": null,
   "id": "aaa1e878",
   "metadata": {},
   "outputs": [],
   "source": [
    "set.seed(15845542) # seed for random number generation\n",
    "symbols<-sample(smbs,100) # generate 100 random firms\n",
    "length(symbols)\n",
    "symbols"
   ]
  },
  {
   "cell_type": "code",
   "execution_count": null,
   "id": "68e9f237",
   "metadata": {},
   "outputs": [],
   "source": [
    "#download data\n",
    "data <- lapply(symbols, function(y)\n",
    "{\n",
    "    try(getSymbols(y, auto.assign = FALSE,from = as.Date('2019-01-01'), to = '2021-12-31'),silent=TRUE)\n",
    "})"
   ]
  },
  {
   "cell_type": "code",
   "execution_count": null,
   "id": "75eb45a2",
   "metadata": {},
   "outputs": [],
   "source": [
    "names(data) <- symbols\n",
    "# check all symbols used for downloading process are used, no data is missing\n",
    "\n",
    "length(data)\n",
    "# check the date range\n",
    "head(data[[1]])\n",
    "tail(data[[1]])"
   ]
  },
  {
   "cell_type": "code",
   "execution_count": null,
   "id": "b16b2da2",
   "metadata": {},
   "outputs": [],
   "source": [
    "# filter for Adjusted price\n",
    "data <- lapply(names(data), function(y){\n",
    "    data[[y]] <- data[[y]][, paste0(y, '.Adjusted')]\n",
    "})\n",
    "\n",
    "# Check data output\n",
    "lapply(data, head)"
   ]
  },
  {
   "cell_type": "markdown",
   "id": "2640d885",
   "metadata": {},
   "source": [
    "##### 1. Compute the logarithmic returns for the time-series of each stock in your dataset."
   ]
  },
  {
   "cell_type": "code",
   "execution_count": null,
   "id": "29c41f5a",
   "metadata": {},
   "outputs": [],
   "source": [
    "# compute log-returns for returns\n",
    "lrets <- lapply(data, function(y){\n",
    "  y <- na.omit(diff(log(y)))  \n",
    "})\n",
    "head(lrets[[1]])\n",
    "tail(lrets[[1]])"
   ]
  },
  {
   "cell_type": "code",
   "execution_count": null,
   "id": "f45af5ca",
   "metadata": {},
   "outputs": [],
   "source": []
  },
  {
   "cell_type": "markdown",
   "id": "66f7c4d8",
   "metadata": {},
   "source": [
    "# Problem 2"
   ]
  }
 ],
 "metadata": {
  "kernelspec": {
   "display_name": "R",
   "language": "R",
   "name": "ir"
  },
  "language_info": {
   "codemirror_mode": "r",
   "file_extension": ".r",
   "mimetype": "text/x-r-source",
   "name": "R",
   "pygments_lexer": "r",
   "version": "4.1.2"
  }
 },
 "nbformat": 4,
 "nbformat_minor": 5
}
