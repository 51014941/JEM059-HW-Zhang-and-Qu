{
 "cells": [
  {
   "cell_type": "markdown",
   "id": "9194b51e",
   "metadata": {},
   "source": [
    "# Financial Econometrics I: Homework 1"
   ]
  },
  {
   "cell_type": "markdown",
   "id": "20a232b2",
   "metadata": {},
   "source": [
    "Team Member:\n",
    "\n",
    "Lin Zhang : 15845542@fsv.cuni.cz\n",
    "\n",
    "Weiwei Qu : @fsv.cuni.cz"
   ]
  },
  {
   "cell_type": "markdown",
   "id": "6b0a2575",
   "metadata": {},
   "source": [
    "# Problem 1"
   ]
  },
  {
   "cell_type": "markdown",
   "id": "771c79d1",
   "metadata": {},
   "source": [
    "From the the symbols.csv choose 1 of the 10 Sectors (Industrials, Financials, Health Care, etc.).\n",
    "Download the prices for all the stocks belonging to the corresponding Sector for the period 01/2015 - 12/2021. Exclude the stocks that are not available in the quantmod package. Check that your data contains all the desired symbols (include this check in your output)."
   ]
  },
  {
   "cell_type": "code",
   "execution_count": 1,
   "id": "0d4620fd",
   "metadata": {},
   "outputs": [],
   "source": [
    "# Setup environment\n",
    "Sys.setenv(LANG = \"en\")\n",
    "library(repr)\n",
    "options(repr.plot.width = 10, repr.plot.height = 8)"
   ]
  },
  {
   "cell_type": "code",
   "execution_count": 3,
   "id": "418d19aa",
   "metadata": {},
   "outputs": [
    {
     "data": {
      "text/html": [
       "<table>\n",
       "<thead><tr><th scope=col>锘縎ymbol</th><th scope=col>Name</th><th scope=col>Sector</th></tr></thead>\n",
       "<tbody>\n",
       "\t<tr><td>MMM                          </td><td>3M Co.                       </td><td>Industrials                  </td></tr>\n",
       "\t<tr><td>ACE                          </td><td>ACE Limited                  </td><td>Financials                   </td></tr>\n",
       "\t<tr><td>ABT                          </td><td>Abbott Laboratories          </td><td>Health Care                  </td></tr>\n",
       "\t<tr><td>ANF                              </td><td>Abercrombie &amp; Fitch Company A</td><td>Consumer Discretionary           </td></tr>\n",
       "\t<tr><td>ACN                          </td><td>Accenture                    </td><td>Information Technology       </td></tr>\n",
       "\t<tr><td>ADBE                         </td><td>Adobe Systems Inc            </td><td>Information Technology       </td></tr>\n",
       "</tbody>\n",
       "</table>\n"
      ],
      "text/latex": [
       "\\begin{tabular}{r|lll}\n",
       " 锘縎ymbol & Name & Sector\\\\\n",
       "\\hline\n",
       "\t MMM                           & 3M Co.                        & Industrials                  \\\\\n",
       "\t ACE                           & ACE Limited                   & Financials                   \\\\\n",
       "\t ABT                           & Abbott Laboratories           & Health Care                  \\\\\n",
       "\t ANF                             & Abercrombie \\& Fitch Company A & Consumer Discretionary         \\\\\n",
       "\t ACN                           & Accenture                     & Information Technology       \\\\\n",
       "\t ADBE                          & Adobe Systems Inc             & Information Technology       \\\\\n",
       "\\end{tabular}\n"
      ],
      "text/markdown": [
       "\n",
       "| 锘縎ymbol | Name | Sector |\n",
       "|---|---|---|\n",
       "| MMM                           | 3M Co.                        | Industrials                   |\n",
       "| ACE                           | ACE Limited                   | Financials                    |\n",
       "| ABT                           | Abbott Laboratories           | Health Care                   |\n",
       "| ANF                           | Abercrombie & Fitch Company A | Consumer Discretionary        |\n",
       "| ACN                           | Accenture                     | Information Technology        |\n",
       "| ADBE                          | Adobe Systems Inc             | Information Technology        |\n",
       "\n"
      ],
      "text/plain": [
       "  锘縎ymbol Name                          Sector                \n",
       "1 MMM       3M Co.                        Industrials           \n",
       "2 ACE       ACE Limited                   Financials            \n",
       "3 ABT       Abbott Laboratories           Health Care           \n",
       "4 ANF       Abercrombie & Fitch Company A Consumer Discretionary\n",
       "5 ACN       Accenture                     Information Technology\n",
       "6 ADBE      Adobe Systems Inc             Information Technology"
      ]
     },
     "metadata": {},
     "output_type": "display_data"
    }
   ],
   "source": [
    "# read data from file\n",
    "smbs <- read.csv('symbols.csv',sep = ';',colClasses = \"character\")\n",
    "head(smbs)"
   ]
  },
  {
   "cell_type": "code",
   "execution_count": 4,
   "id": "0c952062",
   "metadata": {},
   "outputs": [
    {
     "data": {
      "text/html": [
       "<ol class=list-inline>\n",
       "\t<li>'ANF'</li>\n",
       "\t<li>'AMZN'</li>\n",
       "\t<li>'APOL'</li>\n",
       "\t<li>'AN'</li>\n",
       "\t<li>'AZO'</li>\n",
       "\t<li>'BEAM'</li>\n",
       "\t<li>'BBBY'</li>\n",
       "\t<li>'BBY'</li>\n",
       "\t<li>'BIG'</li>\n",
       "\t<li>'HRB'</li>\n",
       "\t<li>'BWA'</li>\n",
       "\t<li>'CVC'</li>\n",
       "\t<li>'KMX'</li>\n",
       "\t<li>'CCL'</li>\n",
       "\t<li>'CBS'</li>\n",
       "\t<li>'CMG'</li>\n",
       "\t<li>'COH'</li>\n",
       "\t<li>'CMCSA'</li>\n",
       "\t<li>'DHI'</li>\n",
       "\t<li>'DRI'</li>\n",
       "\t<li>'DV'</li>\n",
       "\t<li>'DTV'</li>\n",
       "\t<li>'DISCA'</li>\n",
       "\t<li>'DLTR'</li>\n",
       "\t<li>'EXPE'</li>\n",
       "\t<li>'FDO'</li>\n",
       "\t<li>'F'</li>\n",
       "\t<li>'FOSL'</li>\n",
       "\t<li>'GME'</li>\n",
       "\t<li>'GCI'</li>\n",
       "\t<li>'GPS'</li>\n",
       "\t<li>'GPC'</li>\n",
       "\t<li>'GT'</li>\n",
       "\t<li>'HOG'</li>\n",
       "\t<li>'HAR'</li>\n",
       "\t<li>'HAS'</li>\n",
       "\t<li>'HD'</li>\n",
       "\t<li>'IGT'</li>\n",
       "\t<li>'IPG'</li>\n",
       "\t<li>'JCI'</li>\n",
       "\t<li>'KSS'</li>\n",
       "\t<li>'LEG'</li>\n",
       "\t<li>'LEN'</li>\n",
       "\t<li>'LTD'</li>\n",
       "\t<li>'LOW'</li>\n",
       "\t<li>'M'</li>\n",
       "\t<li>'MAR'</li>\n",
       "\t<li>'MAT'</li>\n",
       "\t<li>'MCD'</li>\n",
       "\t<li>'MHP'</li>\n",
       "\t<li>'NWL'</li>\n",
       "\t<li>'NWSA'</li>\n",
       "\t<li>'NKE'</li>\n",
       "\t<li>'JWN'</li>\n",
       "\t<li>'ORLY'</li>\n",
       "\t<li>'OMC'</li>\n",
       "\t<li>'JCP'</li>\n",
       "\t<li>'RL'</li>\n",
       "\t<li>'PHM'</li>\n",
       "\t<li>'ROST'</li>\n",
       "\t<li>'SNI'</li>\n",
       "\t<li>'SHLD'</li>\n",
       "\t<li>'SHW'</li>\n",
       "\t<li>'SNA'</li>\n",
       "\t<li>'SWK'</li>\n",
       "\t<li>'SPLS'</li>\n",
       "\t<li>'SBUX'</li>\n",
       "\t<li>'HOT'</li>\n",
       "\t<li>'TGT'</li>\n",
       "\t<li>'TIF'</li>\n",
       "\t<li>'TWX'</li>\n",
       "\t<li>'TWC'</li>\n",
       "\t<li>'TJX'</li>\n",
       "\t<li>'TRIP'</li>\n",
       "\t<li>'URBN'</li>\n",
       "\t<li>'VFC'</li>\n",
       "\t<li>'VIAB'</li>\n",
       "\t<li>'DIS'</li>\n",
       "\t<li>'WPO'</li>\n",
       "\t<li>'WHR'</li>\n",
       "\t<li>'WYN'</li>\n",
       "\t<li>'WYNN'</li>\n",
       "\t<li>'YUM'</li>\n",
       "</ol>\n"
      ],
      "text/latex": [
       "\\begin{enumerate*}\n",
       "\\item 'ANF'\n",
       "\\item 'AMZN'\n",
       "\\item 'APOL'\n",
       "\\item 'AN'\n",
       "\\item 'AZO'\n",
       "\\item 'BEAM'\n",
       "\\item 'BBBY'\n",
       "\\item 'BBY'\n",
       "\\item 'BIG'\n",
       "\\item 'HRB'\n",
       "\\item 'BWA'\n",
       "\\item 'CVC'\n",
       "\\item 'KMX'\n",
       "\\item 'CCL'\n",
       "\\item 'CBS'\n",
       "\\item 'CMG'\n",
       "\\item 'COH'\n",
       "\\item 'CMCSA'\n",
       "\\item 'DHI'\n",
       "\\item 'DRI'\n",
       "\\item 'DV'\n",
       "\\item 'DTV'\n",
       "\\item 'DISCA'\n",
       "\\item 'DLTR'\n",
       "\\item 'EXPE'\n",
       "\\item 'FDO'\n",
       "\\item 'F'\n",
       "\\item 'FOSL'\n",
       "\\item 'GME'\n",
       "\\item 'GCI'\n",
       "\\item 'GPS'\n",
       "\\item 'GPC'\n",
       "\\item 'GT'\n",
       "\\item 'HOG'\n",
       "\\item 'HAR'\n",
       "\\item 'HAS'\n",
       "\\item 'HD'\n",
       "\\item 'IGT'\n",
       "\\item 'IPG'\n",
       "\\item 'JCI'\n",
       "\\item 'KSS'\n",
       "\\item 'LEG'\n",
       "\\item 'LEN'\n",
       "\\item 'LTD'\n",
       "\\item 'LOW'\n",
       "\\item 'M'\n",
       "\\item 'MAR'\n",
       "\\item 'MAT'\n",
       "\\item 'MCD'\n",
       "\\item 'MHP'\n",
       "\\item 'NWL'\n",
       "\\item 'NWSA'\n",
       "\\item 'NKE'\n",
       "\\item 'JWN'\n",
       "\\item 'ORLY'\n",
       "\\item 'OMC'\n",
       "\\item 'JCP'\n",
       "\\item 'RL'\n",
       "\\item 'PHM'\n",
       "\\item 'ROST'\n",
       "\\item 'SNI'\n",
       "\\item 'SHLD'\n",
       "\\item 'SHW'\n",
       "\\item 'SNA'\n",
       "\\item 'SWK'\n",
       "\\item 'SPLS'\n",
       "\\item 'SBUX'\n",
       "\\item 'HOT'\n",
       "\\item 'TGT'\n",
       "\\item 'TIF'\n",
       "\\item 'TWX'\n",
       "\\item 'TWC'\n",
       "\\item 'TJX'\n",
       "\\item 'TRIP'\n",
       "\\item 'URBN'\n",
       "\\item 'VFC'\n",
       "\\item 'VIAB'\n",
       "\\item 'DIS'\n",
       "\\item 'WPO'\n",
       "\\item 'WHR'\n",
       "\\item 'WYN'\n",
       "\\item 'WYNN'\n",
       "\\item 'YUM'\n",
       "\\end{enumerate*}\n"
      ],
      "text/markdown": [
       "1. 'ANF'\n",
       "2. 'AMZN'\n",
       "3. 'APOL'\n",
       "4. 'AN'\n",
       "5. 'AZO'\n",
       "6. 'BEAM'\n",
       "7. 'BBBY'\n",
       "8. 'BBY'\n",
       "9. 'BIG'\n",
       "10. 'HRB'\n",
       "11. 'BWA'\n",
       "12. 'CVC'\n",
       "13. 'KMX'\n",
       "14. 'CCL'\n",
       "15. 'CBS'\n",
       "16. 'CMG'\n",
       "17. 'COH'\n",
       "18. 'CMCSA'\n",
       "19. 'DHI'\n",
       "20. 'DRI'\n",
       "21. 'DV'\n",
       "22. 'DTV'\n",
       "23. 'DISCA'\n",
       "24. 'DLTR'\n",
       "25. 'EXPE'\n",
       "26. 'FDO'\n",
       "27. 'F'\n",
       "28. 'FOSL'\n",
       "29. 'GME'\n",
       "30. 'GCI'\n",
       "31. 'GPS'\n",
       "32. 'GPC'\n",
       "33. 'GT'\n",
       "34. 'HOG'\n",
       "35. 'HAR'\n",
       "36. 'HAS'\n",
       "37. 'HD'\n",
       "38. 'IGT'\n",
       "39. 'IPG'\n",
       "40. 'JCI'\n",
       "41. 'KSS'\n",
       "42. 'LEG'\n",
       "43. 'LEN'\n",
       "44. 'LTD'\n",
       "45. 'LOW'\n",
       "46. 'M'\n",
       "47. 'MAR'\n",
       "48. 'MAT'\n",
       "49. 'MCD'\n",
       "50. 'MHP'\n",
       "51. 'NWL'\n",
       "52. 'NWSA'\n",
       "53. 'NKE'\n",
       "54. 'JWN'\n",
       "55. 'ORLY'\n",
       "56. 'OMC'\n",
       "57. 'JCP'\n",
       "58. 'RL'\n",
       "59. 'PHM'\n",
       "60. 'ROST'\n",
       "61. 'SNI'\n",
       "62. 'SHLD'\n",
       "63. 'SHW'\n",
       "64. 'SNA'\n",
       "65. 'SWK'\n",
       "66. 'SPLS'\n",
       "67. 'SBUX'\n",
       "68. 'HOT'\n",
       "69. 'TGT'\n",
       "70. 'TIF'\n",
       "71. 'TWX'\n",
       "72. 'TWC'\n",
       "73. 'TJX'\n",
       "74. 'TRIP'\n",
       "75. 'URBN'\n",
       "76. 'VFC'\n",
       "77. 'VIAB'\n",
       "78. 'DIS'\n",
       "79. 'WPO'\n",
       "80. 'WHR'\n",
       "81. 'WYN'\n",
       "82. 'WYNN'\n",
       "83. 'YUM'\n",
       "\n",
       "\n"
      ],
      "text/plain": [
       " [1] \"ANF\"   \"AMZN\"  \"APOL\"  \"AN\"    \"AZO\"   \"BEAM\"  \"BBBY\"  \"BBY\"   \"BIG\"  \n",
       "[10] \"HRB\"   \"BWA\"   \"CVC\"   \"KMX\"   \"CCL\"   \"CBS\"   \"CMG\"   \"COH\"   \"CMCSA\"\n",
       "[19] \"DHI\"   \"DRI\"   \"DV\"    \"DTV\"   \"DISCA\" \"DLTR\"  \"EXPE\"  \"FDO\"   \"F\"    \n",
       "[28] \"FOSL\"  \"GME\"   \"GCI\"   \"GPS\"   \"GPC\"   \"GT\"    \"HOG\"   \"HAR\"   \"HAS\"  \n",
       "[37] \"HD\"    \"IGT\"   \"IPG\"   \"JCI\"   \"KSS\"   \"LEG\"   \"LEN\"   \"LTD\"   \"LOW\"  \n",
       "[46] \"M\"     \"MAR\"   \"MAT\"   \"MCD\"   \"MHP\"   \"NWL\"   \"NWSA\"  \"NKE\"   \"JWN\"  \n",
       "[55] \"ORLY\"  \"OMC\"   \"JCP\"   \"RL\"    \"PHM\"   \"ROST\"  \"SNI\"   \"SHLD\"  \"SHW\"  \n",
       "[64] \"SNA\"   \"SWK\"   \"SPLS\"  \"SBUX\"  \"HOT\"   \"TGT\"   \"TIF\"   \"TWX\"   \"TWC\"  \n",
       "[73] \"TJX\"   \"TRIP\"  \"URBN\"  \"VFC\"   \"VIAB\"  \"DIS\"   \"WPO\"   \"WHR\"   \"WYN\"  \n",
       "[82] \"WYNN\"  \"YUM\"  "
      ]
     },
     "metadata": {},
     "output_type": "display_data"
    }
   ],
   "source": [
    "symbols <- smbs[smbs['Sector'] == 'Consumer Discretionary',1]\n",
    "symbols"
   ]
  },
  {
   "cell_type": "code",
   "execution_count": 5,
   "id": "41c98fc7",
   "metadata": {},
   "outputs": [
    {
     "data": {
      "text/html": [
       "'character'"
      ],
      "text/latex": [
       "'character'"
      ],
      "text/markdown": [
       "'character'"
      ],
      "text/plain": [
       "[1] \"character\""
      ]
     },
     "metadata": {},
     "output_type": "display_data"
    }
   ],
   "source": [
    "class(symbols)"
   ]
  },
  {
   "cell_type": "code",
   "execution_count": 6,
   "id": "1014e0c9",
   "metadata": {},
   "outputs": [
    {
     "name": "stderr",
     "output_type": "stream",
     "text": [
      "Warning message:\n",
      "\"package 'quantmod' was built under R version 3.6.3\"Loading required package: xts\n",
      "Warning message:\n",
      "\"package 'xts' was built under R version 3.6.3\"Loading required package: zoo\n",
      "Warning message:\n",
      "\"package 'zoo' was built under R version 3.6.3\"\n",
      "Attaching package: 'zoo'\n",
      "\n",
      "The following objects are masked from 'package:base':\n",
      "\n",
      "    as.Date, as.Date.numeric\n",
      "\n",
      "Loading required package: TTR\n",
      "Warning message:\n",
      "\"package 'TTR' was built under R version 3.6.3\"Registered S3 method overwritten by 'quantmod':\n",
      "  method            from\n",
      "  as.zoo.data.frame zoo \n"
     ]
    },
    {
     "data": {
      "text/plain": [
       "[1] '0.4.18'"
      ]
     },
     "metadata": {},
     "output_type": "display_data"
    }
   ],
   "source": [
    "library(\"quantmod\")\n",
    "packageVersion(\"quantmod\")"
   ]
  },
  {
   "cell_type": "code",
   "execution_count": 7,
   "id": "c4f59ae9",
   "metadata": {},
   "outputs": [],
   "source": [
    "?getSymbols\n"
   ]
  },
  {
   "cell_type": "code",
   "execution_count": 12,
   "id": "97f9df69",
   "metadata": {},
   "outputs": [
    {
     "data": {
      "text/html": [
       "'ANF'"
      ],
      "text/latex": [
       "'ANF'"
      ],
      "text/markdown": [
       "'ANF'"
      ],
      "text/plain": [
       "[1] \"ANF\""
      ]
     },
     "metadata": {},
     "output_type": "display_data"
    }
   ],
   "source": [
    "symbols[1]"
   ]
  },
  {
   "cell_type": "code",
   "execution_count": 13,
   "id": "e4440113",
   "metadata": {},
   "outputs": [
    {
     "data": {
      "text/html": [
       "'ANF'"
      ],
      "text/latex": [
       "'ANF'"
      ],
      "text/markdown": [
       "'ANF'"
      ],
      "text/plain": [
       "[1] \"ANF\""
      ]
     },
     "metadata": {},
     "output_type": "display_data"
    }
   ],
   "source": [
    "getSymbols(symbols[1])"
   ]
  },
  {
   "cell_type": "code",
   "execution_count": 14,
   "id": "bd68a623",
   "metadata": {},
   "outputs": [
    {
     "data": {
      "text/plain": [
       "           ANF.Open ANF.High ANF.Low ANF.Close ANF.Volume ANF.Adjusted\n",
       "2007-01-03    69.72    71.54   69.72     71.06    2879300     48.94671\n",
       "2007-01-04    71.32    73.86   71.25     73.13    3568800     50.37254\n",
       "2007-01-05    73.50    75.38   73.40     74.01    3590500     50.97870\n",
       "2007-01-08    73.76    74.63   73.26     73.96    1444100     50.94427\n",
       "2007-01-09    73.96    75.53   73.96     75.15    1492000     51.76395\n",
       "2007-01-10    74.70    76.37   74.67     76.19    1246600     52.48031"
      ]
     },
     "metadata": {},
     "output_type": "display_data"
    }
   ],
   "source": [
    "head(ANF)"
   ]
  },
  {
   "cell_type": "code",
   "execution_count": 8,
   "id": "485ca7b2",
   "metadata": {},
   "outputs": [
    {
     "name": "stderr",
     "output_type": "stream",
     "text": [
      "'getSymbols' currently uses auto.assign=TRUE by default, but will\n",
      "use auto.assign=FALSE in 0.5-0. You will still be able to use\n",
      "'loadSymbols' to automatically load data. getOption(\"getSymbols.env\")\n",
      "and getOption(\"getSymbols.auto.assign\") will still be checked for\n",
      "alternate defaults.\n",
      "\n",
      "This message is shown once per session and may be disabled by setting \n",
      "options(\"getSymbols.warning4.0\"=FALSE). See ?getSymbols for details.\n",
      "\n",
      "Warning message:\n",
      "\"APOL download failed; trying again.\""
     ]
    },
    {
     "ename": "ERROR",
     "evalue": "Error in getSymbols.yahoo(Symbols = \"APOL\", env = <environment>, verbose = FALSE, : Unable to import \"APOL\".\nargument \"conn\" is missing, with no default\n",
     "output_type": "error",
     "traceback": [
      "Error in getSymbols.yahoo(Symbols = \"APOL\", env = <environment>, verbose = FALSE, : Unable to import \"APOL\".\nargument \"conn\" is missing, with no default\nTraceback:\n",
      "1. lapply(symbols, function(y) {\n .     getSymbols(y, auto.assign = FALSE)\n . })",
      "2. FUN(X[[i]], ...)",
      "3. getSymbols(y, auto.assign = FALSE)   # at line 3 of file <text>",
      "4. do.call(paste(\"getSymbols.\", symbol.source, sep = \"\"), list(Symbols = current.symbols, \n .     env = env, verbose = verbose, warnings = warnings, auto.assign = auto.assign, \n .     ..., .has1sym. = .has1sym.))",
      "5. getSymbols.yahoo(Symbols = \"APOL\", env = <environment>, verbose = FALSE, \n .     warnings = TRUE, auto.assign = FALSE, .has1sym. = TRUE)",
      "6. stop(msg)"
     ]
    }
   ],
   "source": [
    "data <- lapply(symbols, function(y)\n",
    "{\n",
    "    getSymbols(y, auto.assign = FALSE)\n",
    "})"
   ]
  },
  {
   "cell_type": "code",
   "execution_count": 10,
   "id": "7bbf20bf",
   "metadata": {},
   "outputs": [
    {
     "data": {
      "text/plain": [
       "                                                                            \n",
       "1 function (..., list = character(), package = NULL, lib.loc = NULL,        \n",
       "2     verbose = getOption(\"verbose\"), envir = .GlobalEnv, overwrite = TRUE) \n",
       "3 {                                                                         \n",
       "4     fileExt <- function(x) {                                              \n",
       "5         db <- grepl(\"\\\\\\\\.[^.]+\\\\\\\\.(gz|bz2|xz)$\", x)                     \n",
       "6         ans <- sub(\".*\\\\\\\\.\", \"\", x)                                      "
      ]
     },
     "metadata": {},
     "output_type": "display_data"
    }
   ],
   "source": [
    "head(data)"
   ]
  },
  {
   "cell_type": "code",
   "execution_count": null,
   "id": "9690bf34",
   "metadata": {},
   "outputs": [],
   "source": []
  },
  {
   "cell_type": "code",
   "execution_count": null,
   "id": "0e5d011f",
   "metadata": {},
   "outputs": [],
   "source": []
  },
  {
   "cell_type": "markdown",
   "id": "bede5079",
   "metadata": {},
   "source": [
    "1. Compute the log-returns and simple returns for all the stocks. Save these to lrets and rets objects respectively. From now on, you will work with the logarithmic returns."
   ]
  }
 ],
 "metadata": {
  "kernelspec": {
   "display_name": "R",
   "language": "R",
   "name": "ir"
  },
  "language_info": {
   "codemirror_mode": "r",
   "file_extension": ".r",
   "mimetype": "text/x-r-source",
   "name": "R",
   "pygments_lexer": "r",
   "version": "3.6.1"
  }
 },
 "nbformat": 4,
 "nbformat_minor": 5
}
