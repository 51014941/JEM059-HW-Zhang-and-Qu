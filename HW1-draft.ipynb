{
 "cells": [
  {
   "cell_type": "markdown",
   "id": "9194b51e",
   "metadata": {},
   "source": [
    "# Financial Econometrics I: Homework 1"
   ]
  },
  {
   "cell_type": "markdown",
   "id": "20a232b2",
   "metadata": {},
   "source": [
    "Team Member:\n",
    "\n",
    "Lin Zhang : 15845542@fsv.cuni.cz\n",
    "\n",
    "Weiwei Qu : 51014941@fsv.cuni.cz"
   ]
  },
  {
   "cell_type": "markdown",
   "id": "6b0a2575",
   "metadata": {},
   "source": [
    "# Problem 1"
   ]
  },
  {
   "cell_type": "markdown",
   "id": "771c79d1",
   "metadata": {},
   "source": [
    "##### From the the symbols.csv choose 1 of the 10 Sectors (Industrials, Financials, Health Care, etc.). Download the prices for all the stocks belonging to the corresponding Sector for the period 01/2015 - 12/2021. Exclude the stocks that are not available in the quantmod package. Check that your data contains all the desired symbols (include this check in your output)."
   ]
  },
  {
   "cell_type": "markdown",
   "id": "69aa4d38",
   "metadata": {},
   "source": [
    "##### "
   ]
  },
  {
   "cell_type": "code",
   "execution_count": 1,
   "id": "0d4620fd",
   "metadata": {},
   "outputs": [
    {
     "name": "stderr",
     "output_type": "stream",
     "text": [
      "Loading required package: xts\n",
      "Loading required package: zoo\n",
      "\n",
      "Attaching package: 'zoo'\n",
      "\n",
      "The following objects are masked from 'package:base':\n",
      "\n",
      "    as.Date, as.Date.numeric\n",
      "\n",
      "Registered S3 method overwritten by 'xts':\n",
      "  method     from\n",
      "  as.zoo.xts zoo \n",
      "Loading required package: TTR\n",
      "Registered S3 method overwritten by 'quantmod':\n",
      "  method            from\n",
      "  as.zoo.data.frame zoo \n",
      "Version 0.4-0 included new data defaults. See ?getSymbols.\n",
      "Warning message:\n",
      "\"package 'stabledist' was built under R version 3.6.3\"Warning message:\n",
      "\"package 'StableEstim' was built under R version 3.6.3\"Loading required package: Matrix\n",
      "Loading required package: testthat\n",
      "Warning message:\n",
      "\"package 'testthat' was built under R version 3.6.3\""
     ]
    }
   ],
   "source": [
    "# Setup environment\n",
    "Sys.setenv(LANG = \"en\")\n",
    "library(repr)\n",
    "library(\"quantmod\")\n",
    "library(moments)\n",
    "library(\"stabledist\")\n",
    "library(\"StableEstim\")\n",
    "options(repr.plot.width = 10, repr.plot.height = 8)"
   ]
  },
  {
   "cell_type": "code",
   "execution_count": 2,
   "id": "c4b5df97",
   "metadata": {},
   "outputs": [
    {
     "data": {
      "text/html": [
       "<table>\n",
       "<thead><tr><th scope=col>锘縎ymbol</th><th scope=col>Name</th><th scope=col>Sector</th></tr></thead>\n",
       "<tbody>\n",
       "\t<tr><td>MMM                          </td><td>3M Co.                       </td><td>Industrials                  </td></tr>\n",
       "\t<tr><td>ACE                          </td><td>ACE Limited                  </td><td>Financials                   </td></tr>\n",
       "\t<tr><td>ABT                          </td><td>Abbott Laboratories          </td><td>Health Care                  </td></tr>\n",
       "\t<tr><td>ANF                              </td><td>Abercrombie &amp; Fitch Company A</td><td>Consumer Discretionary           </td></tr>\n",
       "\t<tr><td>ACN                          </td><td>Accenture                    </td><td>Information Technology       </td></tr>\n",
       "\t<tr><td>ADBE                         </td><td>Adobe Systems Inc            </td><td>Information Technology       </td></tr>\n",
       "</tbody>\n",
       "</table>\n"
      ],
      "text/latex": [
       "\\begin{tabular}{r|lll}\n",
       " 锘縎ymbol & Name & Sector\\\\\n",
       "\\hline\n",
       "\t MMM                           & 3M Co.                        & Industrials                  \\\\\n",
       "\t ACE                           & ACE Limited                   & Financials                   \\\\\n",
       "\t ABT                           & Abbott Laboratories           & Health Care                  \\\\\n",
       "\t ANF                             & Abercrombie \\& Fitch Company A & Consumer Discretionary         \\\\\n",
       "\t ACN                           & Accenture                     & Information Technology       \\\\\n",
       "\t ADBE                          & Adobe Systems Inc             & Information Technology       \\\\\n",
       "\\end{tabular}\n"
      ],
      "text/markdown": [
       "\n",
       "| 锘縎ymbol | Name | Sector |\n",
       "|---|---|---|\n",
       "| MMM                           | 3M Co.                        | Industrials                   |\n",
       "| ACE                           | ACE Limited                   | Financials                    |\n",
       "| ABT                           | Abbott Laboratories           | Health Care                   |\n",
       "| ANF                           | Abercrombie & Fitch Company A | Consumer Discretionary        |\n",
       "| ACN                           | Accenture                     | Information Technology        |\n",
       "| ADBE                          | Adobe Systems Inc             | Information Technology        |\n",
       "\n"
      ],
      "text/plain": [
       "  锘縎ymbol Name                          Sector                \n",
       "1 MMM       3M Co.                        Industrials           \n",
       "2 ACE       ACE Limited                   Financials            \n",
       "3 ABT       Abbott Laboratories           Health Care           \n",
       "4 ANF       Abercrombie & Fitch Company A Consumer Discretionary\n",
       "5 ACN       Accenture                     Information Technology\n",
       "6 ADBE      Adobe Systems Inc             Information Technology"
      ]
     },
     "metadata": {},
     "output_type": "display_data"
    }
   ],
   "source": [
    "# read data from file\n",
    "smbs <- read.csv('symbols.csv',sep = ';',colClasses = \"character\")\n",
    "head(smbs)"
   ]
  },
  {
   "cell_type": "markdown",
   "id": "50c202af",
   "metadata": {},
   "source": [
    " Our group chose 'Consumer Discretionary' sector as our Homework data set. "
   ]
  },
  {
   "cell_type": "code",
   "execution_count": 3,
   "id": "0c952062",
   "metadata": {},
   "outputs": [
    {
     "data": {
      "text/html": [
       "<ol class=list-inline>\n",
       "\t<li>'ANF'</li>\n",
       "\t<li>'AMZN'</li>\n",
       "\t<li>'APOL'</li>\n",
       "\t<li>'AN'</li>\n",
       "\t<li>'AZO'</li>\n",
       "\t<li>'BEAM'</li>\n",
       "\t<li>'BBBY'</li>\n",
       "\t<li>'BBY'</li>\n",
       "\t<li>'BIG'</li>\n",
       "\t<li>'HRB'</li>\n",
       "\t<li>'BWA'</li>\n",
       "\t<li>'CVC'</li>\n",
       "\t<li>'KMX'</li>\n",
       "\t<li>'CCL'</li>\n",
       "\t<li>'CBS'</li>\n",
       "\t<li>'CMG'</li>\n",
       "\t<li>'COH'</li>\n",
       "\t<li>'CMCSA'</li>\n",
       "\t<li>'DHI'</li>\n",
       "\t<li>'DRI'</li>\n",
       "\t<li>'DV'</li>\n",
       "\t<li>'DTV'</li>\n",
       "\t<li>'DISCA'</li>\n",
       "\t<li>'DLTR'</li>\n",
       "\t<li>'EXPE'</li>\n",
       "\t<li>'FDO'</li>\n",
       "\t<li>'F'</li>\n",
       "\t<li>'FOSL'</li>\n",
       "\t<li>'GME'</li>\n",
       "\t<li>'GCI'</li>\n",
       "\t<li>'GPS'</li>\n",
       "\t<li>'GPC'</li>\n",
       "\t<li>'GT'</li>\n",
       "\t<li>'HOG'</li>\n",
       "\t<li>'HAR'</li>\n",
       "\t<li>'HAS'</li>\n",
       "\t<li>'HD'</li>\n",
       "\t<li>'IGT'</li>\n",
       "\t<li>'IPG'</li>\n",
       "\t<li>'JCI'</li>\n",
       "\t<li>'KSS'</li>\n",
       "\t<li>'LEG'</li>\n",
       "\t<li>'LEN'</li>\n",
       "\t<li>'LTD'</li>\n",
       "\t<li>'LOW'</li>\n",
       "\t<li>'M'</li>\n",
       "\t<li>'MAR'</li>\n",
       "\t<li>'MAT'</li>\n",
       "\t<li>'MCD'</li>\n",
       "\t<li>'MHP'</li>\n",
       "\t<li>'NWL'</li>\n",
       "\t<li>'NWSA'</li>\n",
       "\t<li>'NKE'</li>\n",
       "\t<li>'JWN'</li>\n",
       "\t<li>'ORLY'</li>\n",
       "\t<li>'OMC'</li>\n",
       "\t<li>'JCP'</li>\n",
       "\t<li>'RL'</li>\n",
       "\t<li>'PHM'</li>\n",
       "\t<li>'ROST'</li>\n",
       "\t<li>'SNI'</li>\n",
       "\t<li>'SHLD'</li>\n",
       "\t<li>'SHW'</li>\n",
       "\t<li>'SNA'</li>\n",
       "\t<li>'SWK'</li>\n",
       "\t<li>'SPLS'</li>\n",
       "\t<li>'SBUX'</li>\n",
       "\t<li>'HOT'</li>\n",
       "\t<li>'TGT'</li>\n",
       "\t<li>'TIF'</li>\n",
       "\t<li>'TWX'</li>\n",
       "\t<li>'TWC'</li>\n",
       "\t<li>'TJX'</li>\n",
       "\t<li>'TRIP'</li>\n",
       "\t<li>'URBN'</li>\n",
       "\t<li>'VFC'</li>\n",
       "\t<li>'VIAB'</li>\n",
       "\t<li>'DIS'</li>\n",
       "\t<li>'WPO'</li>\n",
       "\t<li>'WHR'</li>\n",
       "\t<li>'WYN'</li>\n",
       "\t<li>'WYNN'</li>\n",
       "\t<li>'YUM'</li>\n",
       "</ol>\n"
      ],
      "text/latex": [
       "\\begin{enumerate*}\n",
       "\\item 'ANF'\n",
       "\\item 'AMZN'\n",
       "\\item 'APOL'\n",
       "\\item 'AN'\n",
       "\\item 'AZO'\n",
       "\\item 'BEAM'\n",
       "\\item 'BBBY'\n",
       "\\item 'BBY'\n",
       "\\item 'BIG'\n",
       "\\item 'HRB'\n",
       "\\item 'BWA'\n",
       "\\item 'CVC'\n",
       "\\item 'KMX'\n",
       "\\item 'CCL'\n",
       "\\item 'CBS'\n",
       "\\item 'CMG'\n",
       "\\item 'COH'\n",
       "\\item 'CMCSA'\n",
       "\\item 'DHI'\n",
       "\\item 'DRI'\n",
       "\\item 'DV'\n",
       "\\item 'DTV'\n",
       "\\item 'DISCA'\n",
       "\\item 'DLTR'\n",
       "\\item 'EXPE'\n",
       "\\item 'FDO'\n",
       "\\item 'F'\n",
       "\\item 'FOSL'\n",
       "\\item 'GME'\n",
       "\\item 'GCI'\n",
       "\\item 'GPS'\n",
       "\\item 'GPC'\n",
       "\\item 'GT'\n",
       "\\item 'HOG'\n",
       "\\item 'HAR'\n",
       "\\item 'HAS'\n",
       "\\item 'HD'\n",
       "\\item 'IGT'\n",
       "\\item 'IPG'\n",
       "\\item 'JCI'\n",
       "\\item 'KSS'\n",
       "\\item 'LEG'\n",
       "\\item 'LEN'\n",
       "\\item 'LTD'\n",
       "\\item 'LOW'\n",
       "\\item 'M'\n",
       "\\item 'MAR'\n",
       "\\item 'MAT'\n",
       "\\item 'MCD'\n",
       "\\item 'MHP'\n",
       "\\item 'NWL'\n",
       "\\item 'NWSA'\n",
       "\\item 'NKE'\n",
       "\\item 'JWN'\n",
       "\\item 'ORLY'\n",
       "\\item 'OMC'\n",
       "\\item 'JCP'\n",
       "\\item 'RL'\n",
       "\\item 'PHM'\n",
       "\\item 'ROST'\n",
       "\\item 'SNI'\n",
       "\\item 'SHLD'\n",
       "\\item 'SHW'\n",
       "\\item 'SNA'\n",
       "\\item 'SWK'\n",
       "\\item 'SPLS'\n",
       "\\item 'SBUX'\n",
       "\\item 'HOT'\n",
       "\\item 'TGT'\n",
       "\\item 'TIF'\n",
       "\\item 'TWX'\n",
       "\\item 'TWC'\n",
       "\\item 'TJX'\n",
       "\\item 'TRIP'\n",
       "\\item 'URBN'\n",
       "\\item 'VFC'\n",
       "\\item 'VIAB'\n",
       "\\item 'DIS'\n",
       "\\item 'WPO'\n",
       "\\item 'WHR'\n",
       "\\item 'WYN'\n",
       "\\item 'WYNN'\n",
       "\\item 'YUM'\n",
       "\\end{enumerate*}\n"
      ],
      "text/markdown": [
       "1. 'ANF'\n",
       "2. 'AMZN'\n",
       "3. 'APOL'\n",
       "4. 'AN'\n",
       "5. 'AZO'\n",
       "6. 'BEAM'\n",
       "7. 'BBBY'\n",
       "8. 'BBY'\n",
       "9. 'BIG'\n",
       "10. 'HRB'\n",
       "11. 'BWA'\n",
       "12. 'CVC'\n",
       "13. 'KMX'\n",
       "14. 'CCL'\n",
       "15. 'CBS'\n",
       "16. 'CMG'\n",
       "17. 'COH'\n",
       "18. 'CMCSA'\n",
       "19. 'DHI'\n",
       "20. 'DRI'\n",
       "21. 'DV'\n",
       "22. 'DTV'\n",
       "23. 'DISCA'\n",
       "24. 'DLTR'\n",
       "25. 'EXPE'\n",
       "26. 'FDO'\n",
       "27. 'F'\n",
       "28. 'FOSL'\n",
       "29. 'GME'\n",
       "30. 'GCI'\n",
       "31. 'GPS'\n",
       "32. 'GPC'\n",
       "33. 'GT'\n",
       "34. 'HOG'\n",
       "35. 'HAR'\n",
       "36. 'HAS'\n",
       "37. 'HD'\n",
       "38. 'IGT'\n",
       "39. 'IPG'\n",
       "40. 'JCI'\n",
       "41. 'KSS'\n",
       "42. 'LEG'\n",
       "43. 'LEN'\n",
       "44. 'LTD'\n",
       "45. 'LOW'\n",
       "46. 'M'\n",
       "47. 'MAR'\n",
       "48. 'MAT'\n",
       "49. 'MCD'\n",
       "50. 'MHP'\n",
       "51. 'NWL'\n",
       "52. 'NWSA'\n",
       "53. 'NKE'\n",
       "54. 'JWN'\n",
       "55. 'ORLY'\n",
       "56. 'OMC'\n",
       "57. 'JCP'\n",
       "58. 'RL'\n",
       "59. 'PHM'\n",
       "60. 'ROST'\n",
       "61. 'SNI'\n",
       "62. 'SHLD'\n",
       "63. 'SHW'\n",
       "64. 'SNA'\n",
       "65. 'SWK'\n",
       "66. 'SPLS'\n",
       "67. 'SBUX'\n",
       "68. 'HOT'\n",
       "69. 'TGT'\n",
       "70. 'TIF'\n",
       "71. 'TWX'\n",
       "72. 'TWC'\n",
       "73. 'TJX'\n",
       "74. 'TRIP'\n",
       "75. 'URBN'\n",
       "76. 'VFC'\n",
       "77. 'VIAB'\n",
       "78. 'DIS'\n",
       "79. 'WPO'\n",
       "80. 'WHR'\n",
       "81. 'WYN'\n",
       "82. 'WYNN'\n",
       "83. 'YUM'\n",
       "\n",
       "\n"
      ],
      "text/plain": [
       " [1] \"ANF\"   \"AMZN\"  \"APOL\"  \"AN\"    \"AZO\"   \"BEAM\"  \"BBBY\"  \"BBY\"   \"BIG\"  \n",
       "[10] \"HRB\"   \"BWA\"   \"CVC\"   \"KMX\"   \"CCL\"   \"CBS\"   \"CMG\"   \"COH\"   \"CMCSA\"\n",
       "[19] \"DHI\"   \"DRI\"   \"DV\"    \"DTV\"   \"DISCA\" \"DLTR\"  \"EXPE\"  \"FDO\"   \"F\"    \n",
       "[28] \"FOSL\"  \"GME\"   \"GCI\"   \"GPS\"   \"GPC\"   \"GT\"    \"HOG\"   \"HAR\"   \"HAS\"  \n",
       "[37] \"HD\"    \"IGT\"   \"IPG\"   \"JCI\"   \"KSS\"   \"LEG\"   \"LEN\"   \"LTD\"   \"LOW\"  \n",
       "[46] \"M\"     \"MAR\"   \"MAT\"   \"MCD\"   \"MHP\"   \"NWL\"   \"NWSA\"  \"NKE\"   \"JWN\"  \n",
       "[55] \"ORLY\"  \"OMC\"   \"JCP\"   \"RL\"    \"PHM\"   \"ROST\"  \"SNI\"   \"SHLD\"  \"SHW\"  \n",
       "[64] \"SNA\"   \"SWK\"   \"SPLS\"  \"SBUX\"  \"HOT\"   \"TGT\"   \"TIF\"   \"TWX\"   \"TWC\"  \n",
       "[73] \"TJX\"   \"TRIP\"  \"URBN\"  \"VFC\"   \"VIAB\"  \"DIS\"   \"WPO\"   \"WHR\"   \"WYN\"  \n",
       "[82] \"WYNN\"  \"YUM\"  "
      ]
     },
     "metadata": {},
     "output_type": "display_data"
    }
   ],
   "source": [
    "symbols <- smbs[smbs['Sector'] == 'Consumer Discretionary',1]\n",
    "symbols"
   ]
  },
  {
   "cell_type": "code",
   "execution_count": 4,
   "id": "485ca7b2",
   "metadata": {},
   "outputs": [
    {
     "name": "stderr",
     "output_type": "stream",
     "text": [
      "'getSymbols' currently uses auto.assign=TRUE by default, but will\n",
      "use auto.assign=FALSE in 0.5-0. You will still be able to use\n",
      "'loadSymbols' to automatically load data. getOption(\"getSymbols.env\")\n",
      "and getOption(\"getSymbols.auto.assign\") will still be checked for\n",
      "alternate defaults.\n",
      "\n",
      "This message is shown once per session and may be disabled by setting \n",
      "options(\"getSymbols.warning4.0\"=FALSE). See ?getSymbols for details.\n",
      "\n",
      "Warning message:\n",
      "\"APOL download failed; trying again.\"Warning message:\n",
      "\"CVC download failed; trying again.\"Warning message:\n",
      "\"CBS download failed; trying again.\"Warning message:\n",
      "\"COH download failed; trying again.\"Warning message:\n",
      "\"DTV download failed; trying again.\"Warning message:\n",
      "\"FDO download failed; trying again.\"Warning message:\n",
      "\"HAR contains missing values. Some functions will not work if objects contain missing values in the middle of the series. Consider using na.omit(), na.approx(), na.fill(), etc to remove or replace them.\"Warning message:\n",
      "\"LTD download failed; trying again.\"Warning message:\n",
      "\"MHP contains missing values. Some functions will not work if objects contain missing values in the middle of the series. Consider using na.omit(), na.approx(), na.fill(), etc to remove or replace them.\"Warning message:\n",
      "\"JCP download failed; trying again.\"Warning message:\n",
      "\"SNI contains missing values. Some functions will not work if objects contain missing values in the middle of the series. Consider using na.omit(), na.approx(), na.fill(), etc to remove or replace them.\"Warning message:\n",
      "\"SHLD contains missing values. Some functions will not work if objects contain missing values in the middle of the series. Consider using na.omit(), na.approx(), na.fill(), etc to remove or replace them.\"Warning message:\n",
      "\"SPLS download failed; trying again.\"Warning message:\n",
      "\"HOT contains missing values. Some functions will not work if objects contain missing values in the middle of the series. Consider using na.omit(), na.approx(), na.fill(), etc to remove or replace them.\"Warning message:\n",
      "\"TIF download failed; trying again.\"Warning message:\n",
      "\"TWX contains missing values. Some functions will not work if objects contain missing values in the middle of the series. Consider using na.omit(), na.approx(), na.fill(), etc to remove or replace them.\"Warning message:\n",
      "\"TWC download failed; trying again.\"Warning message:\n",
      "\"VIAB download failed; trying again.\"Warning message:\n",
      "\"WPO download failed; trying again.\"Warning message:\n",
      "\"WYN download failed; trying again.\""
     ]
    }
   ],
   "source": [
    "#download data\n",
    "data <- lapply(symbols, function(y)\n",
    "{\n",
    "    try(getSymbols(y, auto.assign = FALSE,from = as.Date('2015-01-01'), to = '2021-12-31'),silent=TRUE)\n",
    "})\n"
   ]
  },
  {
   "cell_type": "code",
   "execution_count": 5,
   "id": "7bbf20bf",
   "metadata": {},
   "outputs": [
    {
     "data": {
      "text/html": [
       "83"
      ],
      "text/latex": [
       "83"
      ],
      "text/markdown": [
       "83"
      ],
      "text/plain": [
       "[1] 83"
      ]
     },
     "metadata": {},
     "output_type": "display_data"
    },
    {
     "data": {
      "text/html": [
       "83"
      ],
      "text/latex": [
       "83"
      ],
      "text/markdown": [
       "83"
      ],
      "text/plain": [
       "[1] 83"
      ]
     },
     "metadata": {},
     "output_type": "display_data"
    }
   ],
   "source": [
    "names(data) <- symbols\n",
    "# check all symbols used for downloading process are used, no data is missing\n",
    "length(symbols)\n",
    "length(data)\n",
    "# save original data before filter for invalid symbols\n",
    "data0 <- data"
   ]
  },
  {
   "cell_type": "code",
   "execution_count": 6,
   "id": "a09ebbff",
   "metadata": {},
   "outputs": [
    {
     "name": "stderr",
     "output_type": "stream",
     "text": [
      "Warning message in if (grepl(\"Error\", data[[i]][1], fixed = TRUE)) {:\n",
      "\"the condition has length > 1 and only the first element will be used\"Warning message in if (grepl(\"Error\", data[[i]][1], fixed = TRUE)) {:\n",
      "\"the condition has length > 1 and only the first element will be used\""
     ]
    },
    {
     "name": "stdout",
     "output_type": "stream",
     "text": [
      "[1] \"Error in getSymbols.yahoo(Symbols = \\\"APOL\\\", env = <environment>, verbose = FALSE,  : \\n  Unable to import \\\"APOL\\\".\\nAPOL download failed after two attempts. Error message:\\nHTTP error 404.\\n\"\n"
     ]
    },
    {
     "name": "stderr",
     "output_type": "stream",
     "text": [
      "Warning message in if (grepl(\"Error\", data[[i]][1], fixed = TRUE)) {:\n",
      "\"the condition has length > 1 and only the first element will be used\"Warning message in if (grepl(\"Error\", data[[i]][1], fixed = TRUE)) {:\n",
      "\"the condition has length > 1 and only the first element will be used\"Warning message in if (grepl(\"Error\", data[[i]][1], fixed = TRUE)) {:\n",
      "\"the condition has length > 1 and only the first element will be used\"Warning message in if (grepl(\"Error\", data[[i]][1], fixed = TRUE)) {:\n",
      "\"the condition has length > 1 and only the first element will be used\"Warning message in if (grepl(\"Error\", data[[i]][1], fixed = TRUE)) {:\n",
      "\"the condition has length > 1 and only the first element will be used\"Warning message in if (grepl(\"Error\", data[[i]][1], fixed = TRUE)) {:\n",
      "\"the condition has length > 1 and only the first element will be used\"Warning message in if (grepl(\"Error\", data[[i]][1], fixed = TRUE)) {:\n",
      "\"the condition has length > 1 and only the first element will be used\""
     ]
    },
    {
     "name": "stdout",
     "output_type": "stream",
     "text": [
      "[1] \"Error in getSymbols.yahoo(Symbols = \\\"CVC\\\", env = <environment>, verbose = FALSE,  : \\n  Unable to import \\\"CVC\\\".\\nCVC download failed after two attempts. Error message:\\nHTTP error 404.\\n\"\n"
     ]
    },
    {
     "name": "stderr",
     "output_type": "stream",
     "text": [
      "Warning message in if (grepl(\"Error\", data[[i]][1], fixed = TRUE)) {:\n",
      "\"the condition has length > 1 and only the first element will be used\""
     ]
    },
    {
     "name": "stdout",
     "output_type": "stream",
     "text": [
      "[1] \"Error in getSymbols.yahoo(Symbols = \\\"CBS\\\", env = <environment>, verbose = FALSE,  : \\n  Unable to import \\\"CBS\\\".\\nCBS download failed after two attempts. Error message:\\nHTTP error 404.\\n\"\n",
      "[1] \"Error in getSymbols.yahoo(Symbols = \\\"COH\\\", env = <environment>, verbose = FALSE,  : \\n  Unable to import \\\"COH\\\".\\nCOH download failed after two attempts. Error message:\\nHTTP error 404.\\n\"\n"
     ]
    },
    {
     "name": "stderr",
     "output_type": "stream",
     "text": [
      "Warning message in if (grepl(\"Error\", data[[i]][1], fixed = TRUE)) {:\n",
      "\"the condition has length > 1 and only the first element will be used\"Warning message in if (grepl(\"Error\", data[[i]][1], fixed = TRUE)) {:\n",
      "\"the condition has length > 1 and only the first element will be used\"Warning message in if (grepl(\"Error\", data[[i]][1], fixed = TRUE)) {:\n",
      "\"the condition has length > 1 and only the first element will be used\""
     ]
    },
    {
     "name": "stdout",
     "output_type": "stream",
     "text": [
      "[1] \"Error in getSymbols.yahoo(Symbols = \\\"DTV\\\", env = <environment>, verbose = FALSE,  : \\n  Unable to import \\\"DTV\\\".\\nDTV download failed after two attempts. Error message:\\nHTTP error 404.\\n\"\n"
     ]
    },
    {
     "name": "stderr",
     "output_type": "stream",
     "text": [
      "Warning message in if (grepl(\"Error\", data[[i]][1], fixed = TRUE)) {:\n",
      "\"the condition has length > 1 and only the first element will be used\"Warning message in if (grepl(\"Error\", data[[i]][1], fixed = TRUE)) {:\n",
      "\"the condition has length > 1 and only the first element will be used\""
     ]
    },
    {
     "name": "stdout",
     "output_type": "stream",
     "text": [
      "[1] \"Error in getSymbols.yahoo(Symbols = \\\"FDO\\\", env = <environment>, verbose = FALSE,  : \\n  Unable to import \\\"FDO\\\".\\nFDO download failed after two attempts. Error message:\\nHTTP error 404.\\n\"\n"
     ]
    },
    {
     "name": "stderr",
     "output_type": "stream",
     "text": [
      "Warning message in if (grepl(\"Error\", data[[i]][1], fixed = TRUE)) {:\n",
      "\"the condition has length > 1 and only the first element will be used\"Warning message in if (grepl(\"Error\", data[[i]][1], fixed = TRUE)) {:\n",
      "\"the condition has length > 1 and only the first element will be used\"Warning message in if (grepl(\"Error\", data[[i]][1], fixed = TRUE)) {:\n",
      "\"the condition has length > 1 and only the first element will be used\"Warning message in if (grepl(\"Error\", data[[i]][1], fixed = TRUE)) {:\n",
      "\"the condition has length > 1 and only the first element will be used\"Warning message in if (grepl(\"Error\", data[[i]][1], fixed = TRUE)) {:\n",
      "\"the condition has length > 1 and only the first element will be used\"Warning message in if (grepl(\"Error\", data[[i]][1], fixed = TRUE)) {:\n",
      "\"the condition has length > 1 and only the first element will be used\"Warning message in if (grepl(\"Error\", data[[i]][1], fixed = TRUE)) {:\n",
      "\"the condition has length > 1 and only the first element will be used\"Warning message in if (grepl(\"Error\", data[[i]][1], fixed = TRUE)) {:\n",
      "\"the condition has length > 1 and only the first element will be used\"Warning message in if (grepl(\"Error\", data[[i]][1], fixed = TRUE)) {:\n",
      "\"the condition has length > 1 and only the first element will be used\"Warning message in if (grepl(\"Error\", data[[i]][1], fixed = TRUE)) {:\n",
      "\"the condition has length > 1 and only the first element will be used\"Warning message in if (grepl(\"Error\", data[[i]][1], fixed = TRUE)) {:\n",
      "\"the condition has length > 1 and only the first element will be used\"Warning message in if (grepl(\"Error\", data[[i]][1], fixed = TRUE)) {:\n",
      "\"the condition has length > 1 and only the first element will be used\"Warning message in if (grepl(\"Error\", data[[i]][1], fixed = TRUE)) {:\n",
      "\"the condition has length > 1 and only the first element will be used\"Warning message in if (grepl(\"Error\", data[[i]][1], fixed = TRUE)) {:\n",
      "\"the condition has length > 1 and only the first element will be used\"Warning message in if (grepl(\"Error\", data[[i]][1], fixed = TRUE)) {:\n",
      "\"the condition has length > 1 and only the first element will be used\"Warning message in if (grepl(\"Error\", data[[i]][1], fixed = TRUE)) {:\n",
      "\"the condition has length > 1 and only the first element will be used\""
     ]
    },
    {
     "name": "stdout",
     "output_type": "stream",
     "text": [
      "[1] \"Error in getSymbols.yahoo(Symbols = \\\"LTD\\\", env = <environment>, verbose = FALSE,  : \\n  Unable to import \\\"LTD\\\".\\nLTD download failed after two attempts. Error message:\\nHTTP error 404.\\n\"\n"
     ]
    },
    {
     "name": "stderr",
     "output_type": "stream",
     "text": [
      "Warning message in if (grepl(\"Error\", data[[i]][1], fixed = TRUE)) {:\n",
      "\"the condition has length > 1 and only the first element will be used\"Warning message in if (grepl(\"Error\", data[[i]][1], fixed = TRUE)) {:\n",
      "\"the condition has length > 1 and only the first element will be used\"Warning message in if (grepl(\"Error\", data[[i]][1], fixed = TRUE)) {:\n",
      "\"the condition has length > 1 and only the first element will be used\"Warning message in if (grepl(\"Error\", data[[i]][1], fixed = TRUE)) {:\n",
      "\"the condition has length > 1 and only the first element will be used\"Warning message in if (grepl(\"Error\", data[[i]][1], fixed = TRUE)) {:\n",
      "\"the condition has length > 1 and only the first element will be used\"Warning message in if (grepl(\"Error\", data[[i]][1], fixed = TRUE)) {:\n",
      "\"the condition has length > 1 and only the first element will be used\"Warning message in if (grepl(\"Error\", data[[i]][1], fixed = TRUE)) {:\n",
      "\"the condition has length > 1 and only the first element will be used\"Warning message in if (grepl(\"Error\", data[[i]][1], fixed = TRUE)) {:\n",
      "\"the condition has length > 1 and only the first element will be used\"Warning message in if (grepl(\"Error\", data[[i]][1], fixed = TRUE)) {:\n",
      "\"the condition has length > 1 and only the first element will be used\"Warning message in if (grepl(\"Error\", data[[i]][1], fixed = TRUE)) {:\n",
      "\"the condition has length > 1 and only the first element will be used\"Warning message in if (grepl(\"Error\", data[[i]][1], fixed = TRUE)) {:\n",
      "\"the condition has length > 1 and only the first element will be used\""
     ]
    },
    {
     "name": "stdout",
     "output_type": "stream",
     "text": [
      "[1] \"Error in getSymbols.yahoo(Symbols = \\\"JCP\\\", env = <environment>, verbose = FALSE,  : \\n  Unable to import \\\"JCP\\\".\\nJCP download failed after two attempts. Error message:\\nHTTP error 404.\\n\"\n"
     ]
    },
    {
     "name": "stderr",
     "output_type": "stream",
     "text": [
      "Warning message in if (grepl(\"Error\", data[[i]][1], fixed = TRUE)) {:\n",
      "\"the condition has length > 1 and only the first element will be used\"Warning message in if (grepl(\"Error\", data[[i]][1], fixed = TRUE)) {:\n",
      "\"the condition has length > 1 and only the first element will be used\"Warning message in if (grepl(\"Error\", data[[i]][1], fixed = TRUE)) {:\n",
      "\"the condition has length > 1 and only the first element will be used\"Warning message in if (grepl(\"Error\", data[[i]][1], fixed = TRUE)) {:\n",
      "\"the condition has length > 1 and only the first element will be used\"Warning message in if (grepl(\"Error\", data[[i]][1], fixed = TRUE)) {:\n",
      "\"the condition has length > 1 and only the first element will be used\"Warning message in if (grepl(\"Error\", data[[i]][1], fixed = TRUE)) {:\n",
      "\"the condition has length > 1 and only the first element will be used\"Warning message in if (grepl(\"Error\", data[[i]][1], fixed = TRUE)) {:\n",
      "\"the condition has length > 1 and only the first element will be used\""
     ]
    },
    {
     "name": "stdout",
     "output_type": "stream",
     "text": [
      "[1] \"Error in getSymbols.yahoo(Symbols = \\\"SPLS\\\", env = <environment>, verbose = FALSE,  : \\n  Unable to import \\\"SPLS\\\".\\nSPLS download failed after two attempts. Error message:\\nHTTP error 404.\\n\"\n"
     ]
    },
    {
     "name": "stderr",
     "output_type": "stream",
     "text": [
      "Warning message in if (grepl(\"Error\", data[[i]][1], fixed = TRUE)) {:\n",
      "\"the condition has length > 1 and only the first element will be used\"Warning message in if (grepl(\"Error\", data[[i]][1], fixed = TRUE)) {:\n",
      "\"the condition has length > 1 and only the first element will be used\""
     ]
    },
    {
     "name": "stdout",
     "output_type": "stream",
     "text": [
      "[1] \"Error in getSymbols.yahoo(Symbols = \\\"TIF\\\", env = <environment>, verbose = FALSE,  : \\n  Unable to import \\\"TIF\\\".\\nTIF download failed after two attempts. Error message:\\nHTTP error 404.\\n\"\n",
      "[1] \"Error in getSymbols.yahoo(Symbols = \\\"TWC\\\", env = <environment>, verbose = FALSE,  : \\n  Unable to import \\\"TWC\\\".\\nTWC download failed after two attempts. Error message:\\nHTTP error 404.\\n\"\n"
     ]
    },
    {
     "name": "stderr",
     "output_type": "stream",
     "text": [
      "Warning message in if (grepl(\"Error\", data[[i]][1], fixed = TRUE)) {:\n",
      "\"the condition has length > 1 and only the first element will be used\"Warning message in if (grepl(\"Error\", data[[i]][1], fixed = TRUE)) {:\n",
      "\"the condition has length > 1 and only the first element will be used\"Warning message in if (grepl(\"Error\", data[[i]][1], fixed = TRUE)) {:\n",
      "\"the condition has length > 1 and only the first element will be used\""
     ]
    },
    {
     "name": "stdout",
     "output_type": "stream",
     "text": [
      "[1] \"Error in getSymbols.yahoo(Symbols = \\\"VIAB\\\", env = <environment>, verbose = FALSE,  : \\n  Unable to import \\\"VIAB\\\".\\nVIAB download failed after two attempts. Error message:\\nHTTP error 404.\\n\"\n",
      "[1] \"Error in getSymbols.yahoo(Symbols = \\\"WPO\\\", env = <environment>, verbose = FALSE,  : \\n  Unable to import \\\"WPO\\\".\\nWPO download failed after two attempts. Error message:\\nHTTP error 404.\\n\"\n",
      "[1] \"Error in getSymbols.yahoo(Symbols = \\\"WYN\\\", env = <environment>, verbose = FALSE,  : \\n  Unable to import \\\"WYN\\\".\\nWYN download failed after two attempts. Error message:\\nHTTP error 404.\\n\"\n"
     ]
    },
    {
     "name": "stderr",
     "output_type": "stream",
     "text": [
      "Warning message in if (grepl(\"Error\", data[[i]][1], fixed = TRUE)) {:\n",
      "\"the condition has length > 1 and only the first element will be used\""
     ]
    },
    {
     "ename": "ERROR",
     "evalue": "Error in data[[i]]: subscript out of bounds\n",
     "output_type": "error",
     "traceback": [
      "Error in data[[i]]: subscript out of bounds\nTraceback:\n",
      "1. grepl(\"Error\", data[[i]][1], fixed = TRUE)"
     ]
    }
   ],
   "source": [
    "# remove stocks that are not available from Default Yahoo data source\n",
    "for (i in seq_along(data)) {    \n",
    "   if(grepl('Error', data[[i]][1], fixed=TRUE)){\n",
    "       print(data[[i]][1])\n",
    "       data[[i]]<-NULL\n",
    "    }\n",
    "}"
   ]
  },
  {
   "cell_type": "code",
   "execution_count": 7,
   "id": "88d48e4b",
   "metadata": {},
   "outputs": [
    {
     "data": {
      "text/html": [
       "69"
      ],
      "text/latex": [
       "69"
      ],
      "text/markdown": [
       "69"
      ],
      "text/plain": [
       "[1] 69"
      ]
     },
     "metadata": {},
     "output_type": "display_data"
    }
   ],
   "source": [
    "# check available symbols data\n",
    "length(data)"
   ]
  },
  {
   "cell_type": "code",
   "execution_count": 8,
   "id": "254d41bd",
   "metadata": {},
   "outputs": [
    {
     "data": {
      "text/plain": [
       "           ANF.Close\n",
       "2015-01-02     28.58\n",
       "2015-01-05     28.27\n",
       "2015-01-06     28.88\n",
       "2015-01-07     29.33\n",
       "2015-01-08     29.11\n",
       "2015-01-09     28.19"
      ]
     },
     "metadata": {},
     "output_type": "display_data"
    },
    {
     "data": {
      "text/plain": [
       "           ANF.Close\n",
       "2021-12-22     34.20\n",
       "2021-12-23     34.36\n",
       "2021-12-27     34.71\n",
       "2021-12-28     34.33\n",
       "2021-12-29     35.34\n",
       "2021-12-30     35.46"
      ]
     },
     "metadata": {},
     "output_type": "display_data"
    }
   ],
   "source": [
    "# save data before filter for closing price\n",
    "data2<-data\n",
    "\n",
    "# only need the closing price\n",
    "data <- lapply(names(data), function(y){\n",
    "    data[[y]] <- data[[y]][, paste0(y, '.Close')]\n",
    "})\n",
    "\n",
    "# check the date range\n",
    "head(data[[1]])\n",
    "tail(data[[1]])"
   ]
  },
  {
   "cell_type": "code",
   "execution_count": 9,
   "id": "f307559b",
   "metadata": {},
   "outputs": [
    {
     "data": {
      "text/plain": [
       "[[1]]\n",
       "           ANF.Close\n",
       "2015-01-02     28.58\n",
       "2015-01-05     28.27\n",
       "2015-01-06     28.88\n",
       "2015-01-07     29.33\n",
       "2015-01-08     29.11\n",
       "2015-01-09     28.19\n",
       "\n",
       "[[2]]\n",
       "           AMZN.Close\n",
       "2015-01-02     308.52\n",
       "2015-01-05     302.19\n",
       "2015-01-06     295.29\n",
       "2015-01-07     298.42\n",
       "2015-01-08     300.46\n",
       "2015-01-09     296.93\n",
       "\n",
       "[[3]]\n",
       "           AN.Close\n",
       "2015-01-02    60.04\n",
       "2015-01-05    59.21\n",
       "2015-01-06    59.12\n",
       "2015-01-07    59.51\n",
       "2015-01-08    59.86\n",
       "2015-01-09    58.95\n",
       "\n",
       "[[4]]\n",
       "           AZO.Close\n",
       "2015-01-02    616.79\n",
       "2015-01-05    608.49\n",
       "2015-01-06    607.82\n",
       "2015-01-07    607.24\n",
       "2015-01-08    606.00\n",
       "2015-01-09    606.02\n",
       "\n",
       "[[5]]\n",
       "           BEAM.Close\n",
       "2020-02-06      18.75\n",
       "2020-02-07      20.62\n",
       "2020-02-10      22.10\n",
       "2020-02-11      24.10\n",
       "2020-02-12      27.60\n",
       "2020-02-13      29.20\n",
       "\n",
       "[[6]]\n",
       "           BBBY.Close\n",
       "2015-01-02      76.73\n",
       "2015-01-05      75.85\n",
       "2015-01-06      75.43\n",
       "2015-01-07      78.21\n",
       "2015-01-08      79.45\n",
       "2015-01-09      74.09\n",
       "\n",
       "[[7]]\n",
       "           BBY.Close\n",
       "2015-01-02     38.79\n",
       "2015-01-05     37.79\n",
       "2015-01-06     37.45\n",
       "2015-01-07     38.53\n",
       "2015-01-08     39.11\n",
       "2015-01-09     38.06\n",
       "\n",
       "[[8]]\n",
       "           BIG.Close\n",
       "2015-01-02     39.29\n",
       "2015-01-05     39.74\n",
       "2015-01-06     39.31\n",
       "2015-01-07     41.63\n",
       "2015-01-08     43.76\n",
       "2015-01-09     43.69\n",
       "\n",
       "[[9]]\n",
       "           HRB.Close\n",
       "2015-01-02     33.08\n",
       "2015-01-05     32.48\n",
       "2015-01-06     32.28\n",
       "2015-01-07     32.56\n",
       "2015-01-08     33.13\n",
       "2015-01-09     33.32\n",
       "\n",
       "[[10]]\n",
       "           BWA.Close\n",
       "2015-01-02     54.74\n",
       "2015-01-05     53.16\n",
       "2015-01-06     52.79\n",
       "2015-01-07     54.03\n",
       "2015-01-08     54.95\n",
       "2015-01-09     53.52\n",
       "\n",
       "[[11]]\n",
       "           KMX.Close\n",
       "2015-01-02     66.47\n",
       "2015-01-05     64.58\n",
       "2015-01-06     63.77\n",
       "2015-01-07     64.78\n",
       "2015-01-08     66.09\n",
       "2015-01-09     65.04\n",
       "\n",
       "[[12]]\n",
       "           CCL.Close\n",
       "2015-01-02     45.61\n",
       "2015-01-05     45.39\n",
       "2015-01-06     45.83\n",
       "2015-01-07     46.00\n",
       "2015-01-08     46.68\n",
       "2015-01-09     46.30\n",
       "\n",
       "[[13]]\n",
       "           CMG.Close\n",
       "2015-01-02    678.40\n",
       "2015-01-05    667.69\n",
       "2015-01-06    664.38\n",
       "2015-01-07    694.26\n",
       "2015-01-08    719.99\n",
       "2015-01-09    714.27\n",
       "\n",
       "[[14]]\n",
       "           CMCSA.Close\n",
       "2015-01-02      28.675\n",
       "2015-01-05      27.980\n",
       "2015-01-06      27.615\n",
       "2015-01-07      27.590\n",
       "2015-01-08      28.190\n",
       "2015-01-09      28.145\n",
       "\n",
       "[[15]]\n",
       "           DHI.Close\n",
       "2015-01-02     24.96\n",
       "2015-01-05     24.44\n",
       "2015-01-06     24.11\n",
       "2015-01-07     25.35\n",
       "2015-01-08     25.93\n",
       "2015-01-09     26.06\n",
       "\n",
       "[[16]]\n",
       "           DRI.Close\n",
       "2015-01-02  52.22164\n",
       "2015-01-05  51.83726\n",
       "2015-01-06  52.01604\n",
       "2015-01-07  53.80384\n",
       "2015-01-08  54.65305\n",
       "2015-01-09  53.53567\n",
       "\n",
       "[[17]]\n",
       "           DV.Close\n",
       "2021-04-21    36.00\n",
       "2021-04-22    35.77\n",
       "2021-04-23    34.24\n",
       "2021-04-26    34.86\n",
       "2021-04-27    34.59\n",
       "2021-04-28    34.24\n",
       "\n",
       "[[18]]\n",
       "           DISCA.Close\n",
       "2015-01-02       34.48\n",
       "2015-01-05       33.06\n",
       "2015-01-06       31.98\n",
       "2015-01-07       32.21\n",
       "2015-01-08       32.47\n",
       "2015-01-09       32.03\n",
       "\n",
       "[[19]]\n",
       "           DLTR.Close\n",
       "2015-01-02      70.35\n",
       "2015-01-05      69.62\n",
       "2015-01-06      68.67\n",
       "2015-01-07      70.83\n",
       "2015-01-08      71.11\n",
       "2015-01-09      69.46\n",
       "\n",
       "[[20]]\n",
       "           EXPE.Close\n",
       "2015-01-02      85.76\n",
       "2015-01-05      84.20\n",
       "2015-01-06      84.17\n",
       "2015-01-07      84.17\n",
       "2015-01-08      87.89\n",
       "2015-01-09      87.55\n",
       "\n",
       "[[21]]\n",
       "           F.Close\n",
       "2015-01-02   15.36\n",
       "2015-01-05   14.76\n",
       "2015-01-06   14.62\n",
       "2015-01-07   15.04\n",
       "2015-01-08   15.42\n",
       "2015-01-09   15.21\n",
       "\n",
       "[[22]]\n",
       "           FOSL.Close\n",
       "2015-01-02     110.33\n",
       "2015-01-05     108.67\n",
       "2015-01-06     107.26\n",
       "2015-01-07     104.93\n",
       "2015-01-08     104.01\n",
       "2015-01-09     103.36\n",
       "\n",
       "[[23]]\n",
       "           GME.Close\n",
       "2015-01-02     33.80\n",
       "2015-01-05     34.72\n",
       "2015-01-06     33.69\n",
       "2015-01-07     33.30\n",
       "2015-01-08     33.69\n",
       "2015-01-09     32.27\n",
       "\n",
       "[[24]]\n",
       "           GCI.Close\n",
       "2015-01-02     23.29\n",
       "2015-01-05     23.35\n",
       "2015-01-06     22.10\n",
       "2015-01-07     21.52\n",
       "2015-01-08     22.00\n",
       "2015-01-09     21.96\n",
       "\n",
       "[[25]]\n",
       "           GPS.Close\n",
       "2015-01-02     42.10\n",
       "2015-01-05     42.15\n",
       "2015-01-06     41.59\n",
       "2015-01-07     43.60\n",
       "2015-01-08     43.10\n",
       "2015-01-09     42.02\n",
       "\n",
       "[[26]]\n",
       "           GPC.Close\n",
       "2015-01-02    106.52\n",
       "2015-01-05    105.84\n",
       "2015-01-06    101.50\n",
       "2015-01-07    103.05\n",
       "2015-01-08    103.27\n",
       "2015-01-09    101.37\n",
       "\n",
       "[[27]]\n",
       "           GT.Close\n",
       "2015-01-02    28.34\n",
       "2015-01-05    27.71\n",
       "2015-01-06    27.78\n",
       "2015-01-07    28.13\n",
       "2015-01-08    28.58\n",
       "2015-01-09    28.26\n",
       "\n",
       "[[28]]\n",
       "           HOG.Close\n",
       "2015-01-02     65.79\n",
       "2015-01-05     64.50\n",
       "2015-01-06     63.73\n",
       "2015-01-07     64.78\n",
       "2015-01-08     66.13\n",
       "2015-01-09     64.80\n",
       "\n",
       "[[29]]\n",
       "           HAR.Close\n",
       "2015-01-02   8886.52\n",
       "2015-01-05   8980.06\n",
       "2015-01-06   9354.23\n",
       "2015-01-07   9073.60\n",
       "2015-01-08   8886.52\n",
       "2015-01-09   8980.06\n",
       "\n",
       "[[30]]\n",
       "           HAS.Close\n",
       "2015-01-02     54.97\n",
       "2015-01-05     55.13\n",
       "2015-01-06     54.41\n",
       "2015-01-07     54.67\n",
       "2015-01-08     55.00\n",
       "2015-01-09     53.22\n",
       "\n",
       "[[31]]\n",
       "           HD.Close\n",
       "2015-01-02   103.43\n",
       "2015-01-05   101.26\n",
       "2015-01-06   100.95\n",
       "2015-01-07   104.41\n",
       "2015-01-08   106.72\n",
       "2015-01-09   104.89\n",
       "\n",
       "[[32]]\n",
       "           IGT.Close\n",
       "2015-01-02     17.29\n",
       "2015-01-05     17.16\n",
       "2015-01-06     17.00\n",
       "2015-01-07     17.18\n",
       "2015-01-08     17.02\n",
       "2015-01-09     16.94\n",
       "\n",
       "[[33]]\n",
       "           IPG.Close\n",
       "2015-01-02     20.25\n",
       "2015-01-05     19.67\n",
       "2015-01-06     19.14\n",
       "2015-01-07     19.64\n",
       "2015-01-08     20.55\n",
       "2015-01-09     20.29\n",
       "\n",
       "[[34]]\n",
       "           JCI.Close\n",
       "2015-01-02  45.66492\n",
       "2015-01-05  44.97382\n",
       "2015-01-06  44.48167\n",
       "2015-01-07  45.19372\n",
       "2015-01-08  46.06283\n",
       "2015-01-09  45.78011\n",
       "\n",
       "[[35]]\n",
       "           KSS.Close\n",
       "2015-01-02     59.59\n",
       "2015-01-05     59.23\n",
       "2015-01-06     59.15\n",
       "2015-01-07     61.31\n",
       "2015-01-08     61.52\n",
       "2015-01-09     60.21\n",
       "\n",
       "[[36]]\n",
       "           LEG.Close\n",
       "2015-01-02     42.16\n",
       "2015-01-05     41.68\n",
       "2015-01-06     41.81\n",
       "2015-01-07     42.72\n",
       "2015-01-08     43.92\n",
       "2015-01-09     43.92\n",
       "\n",
       "[[37]]\n",
       "           LEN.Close\n",
       "2015-01-02  43.54966\n",
       "2015-01-05  43.21534\n",
       "2015-01-06  42.85152\n",
       "2015-01-07  44.96558\n",
       "2015-01-08  46.07669\n",
       "2015-01-09  46.00787\n",
       "\n",
       "[[38]]\n",
       "           LOW.Close\n",
       "2015-01-02     67.70\n",
       "2015-01-05     66.08\n",
       "2015-01-06     66.23\n",
       "2015-01-07     68.20\n",
       "2015-01-08     69.64\n",
       "2015-01-09     68.33\n",
       "\n",
       "[[39]]\n",
       "           M.Close\n",
       "2015-01-02   65.69\n",
       "2015-01-05   65.13\n",
       "2015-01-06   64.89\n",
       "2015-01-07   67.55\n",
       "2015-01-08   67.81\n",
       "2015-01-09   65.92\n",
       "\n",
       "[[40]]\n",
       "           MAR.Close\n",
       "2015-01-02     77.75\n",
       "2015-01-05     75.62\n",
       "2015-01-06     74.67\n",
       "2015-01-07     76.38\n",
       "2015-01-08     78.91\n",
       "2015-01-09     78.73\n",
       "\n",
       "[[41]]\n",
       "           MAT.Close\n",
       "2015-01-02     30.47\n",
       "2015-01-05     30.46\n",
       "2015-01-06     29.81\n",
       "2015-01-07     29.91\n",
       "2015-01-08     29.98\n",
       "2015-01-09     29.10\n",
       "\n",
       "[[42]]\n",
       "           MCD.Close\n",
       "2015-01-02     93.26\n",
       "2015-01-05     92.23\n",
       "2015-01-06     92.40\n",
       "2015-01-07     94.01\n",
       "2015-01-08     94.36\n",
       "2015-01-09     93.21\n",
       "\n",
       "[[43]]\n",
       "           MHP.Close\n",
       "2015-01-05   1.22314\n",
       "2015-01-06   1.22314\n",
       "2015-01-07   1.22314\n",
       "2015-01-08   1.22314\n",
       "2015-01-09   1.22314\n",
       "2015-01-12   1.22314\n",
       "\n",
       "[[44]]\n",
       "           NWL.Close\n",
       "2015-01-02     37.86\n",
       "2015-01-05     37.42\n",
       "2015-01-06     36.77\n",
       "2015-01-07     36.99\n",
       "2015-01-08     37.85\n",
       "2015-01-09     37.45\n",
       "\n",
       "[[45]]\n",
       "           NWSA.Close\n",
       "2015-01-02      15.59\n",
       "2015-01-05      15.12\n",
       "2015-01-06      14.91\n",
       "2015-01-07      14.87\n",
       "2015-01-08      15.34\n",
       "2015-01-09      15.41\n",
       "\n",
       "[[46]]\n",
       "           NKE.Close\n",
       "2015-01-02    47.515\n",
       "2015-01-05    46.750\n",
       "2015-01-06    46.475\n",
       "2015-01-07    47.435\n",
       "2015-01-08    48.530\n",
       "2015-01-09    47.995\n",
       "\n",
       "[[47]]\n",
       "           JWN.Close\n",
       "2015-01-02     78.37\n",
       "2015-01-05     77.28\n",
       "2015-01-06     76.79\n",
       "2015-01-07     79.42\n",
       "2015-01-08     79.78\n",
       "2015-01-09     78.50\n",
       "\n",
       "[[48]]\n",
       "           ORLY.Close\n",
       "2015-01-02     192.11\n",
       "2015-01-05     188.72\n",
       "2015-01-06     188.08\n",
       "2015-01-07     189.79\n",
       "2015-01-08     193.24\n",
       "2015-01-09     187.81\n",
       "\n",
       "[[49]]\n",
       "           OMC.Close\n",
       "2015-01-02     75.93\n",
       "2015-01-05     74.57\n",
       "2015-01-06     74.08\n",
       "2015-01-07     74.33\n",
       "2015-01-08     75.50\n",
       "2015-01-09     74.84\n",
       "\n",
       "[[50]]\n",
       "           RL.Close\n",
       "2015-01-02   183.10\n",
       "2015-01-05   177.88\n",
       "2015-01-06   174.41\n",
       "2015-01-07   178.78\n",
       "2015-01-08   178.57\n",
       "2015-01-09   175.99\n",
       "\n",
       "[[51]]\n",
       "           PHM.Close\n",
       "2015-01-02     21.26\n",
       "2015-01-05     20.95\n",
       "2015-01-06     20.70\n",
       "2015-01-07     21.72\n",
       "2015-01-08     22.39\n",
       "2015-01-09     22.64\n",
       "\n",
       "[[52]]\n",
       "           ROST.Close\n",
       "2015-01-02     46.865\n",
       "2015-01-05     46.830\n",
       "2015-01-06     46.920\n",
       "2015-01-07     47.835\n",
       "2015-01-08     48.470\n",
       "2015-01-09     47.600\n",
       "\n",
       "[[53]]\n",
       "           SNI.Close\n",
       "2015-01-02     75.94\n",
       "2015-01-05     74.23\n",
       "2015-01-06     72.75\n",
       "2015-01-07     72.48\n",
       "2015-01-08     75.20\n",
       "2015-01-09     74.93\n",
       "\n",
       "[[54]]\n",
       "           SHLD.Close\n",
       "2020-11-04     25.870\n",
       "2020-11-05     26.010\n",
       "2020-11-06     25.757\n",
       "2020-11-09     25.757\n",
       "2020-11-10     25.757\n",
       "2020-11-11     25.757\n",
       "\n",
       "[[55]]\n",
       "           SHW.Close\n",
       "2015-01-02  87.48000\n",
       "2015-01-05  87.22000\n",
       "2015-01-06  86.95667\n",
       "2015-01-07  88.44000\n",
       "2015-01-08  90.86000\n",
       "2015-01-09  91.47334\n",
       "\n",
       "[[56]]\n",
       "           SNA.Close\n",
       "2015-01-02    136.29\n",
       "2015-01-05    133.84\n",
       "2015-01-06    133.43\n",
       "2015-01-07    134.27\n",
       "2015-01-08    137.33\n",
       "2015-01-09    135.73\n",
       "\n",
       "[[57]]\n",
       "           SWK.Close\n",
       "2015-01-02     96.02\n",
       "2015-01-05     93.97\n",
       "2015-01-06     93.03\n",
       "2015-01-07     94.63\n",
       "2015-01-08     96.43\n",
       "2015-01-09     94.61\n",
       "\n",
       "[[58]]\n",
       "           SBUX.Close\n",
       "2015-01-02     40.720\n",
       "2015-01-05     39.940\n",
       "2015-01-06     39.615\n",
       "2015-01-07     40.590\n",
       "2015-01-08     41.245\n",
       "2015-01-09     39.895\n",
       "\n",
       "[[59]]\n",
       "           HOT.Close\n",
       "2015-01-02     80.68\n",
       "2015-01-05     76.60\n",
       "2015-01-06     76.03\n",
       "2015-01-07     76.80\n",
       "2015-01-08     77.82\n",
       "2015-01-09     74.75\n",
       "\n",
       "[[60]]\n",
       "           TGT.Close\n",
       "2015-01-02     75.33\n",
       "2015-01-05     73.98\n",
       "2015-01-06     73.97\n",
       "2015-01-07     76.77\n",
       "2015-01-08     77.13\n",
       "2015-01-09     76.43\n",
       "\n",
       "[[61]]\n",
       "           TWX.Close\n",
       "2015-01-02     84.93\n",
       "2015-01-05     83.24\n",
       "2015-01-06     82.30\n",
       "2015-01-07     83.17\n",
       "2015-01-08     85.49\n",
       "2015-01-09     84.21\n",
       "\n",
       "[[62]]\n",
       "           TJX.Close\n",
       "2015-01-02    33.980\n",
       "2015-01-05    33.600\n",
       "2015-01-06    33.435\n",
       "2015-01-07    34.120\n",
       "2015-01-08    34.300\n",
       "2015-01-09    33.875\n",
       "\n",
       "[[63]]\n",
       "           TRIP.Close\n",
       "2015-01-02      74.59\n",
       "2015-01-05      72.73\n",
       "2015-01-06      70.01\n",
       "2015-01-07      70.84\n",
       "2015-01-08      73.26\n",
       "2015-01-09      74.53\n",
       "\n",
       "[[64]]\n",
       "           URBN.Close\n",
       "2015-01-02      35.10\n",
       "2015-01-05      35.10\n",
       "2015-01-06      34.48\n",
       "2015-01-07      35.38\n",
       "2015-01-08      36.69\n",
       "2015-01-09      36.44\n",
       "\n",
       "[[65]]\n",
       "           VFC.Close\n",
       "2015-01-02  69.45386\n",
       "2015-01-05  68.87006\n",
       "2015-01-06  68.46516\n",
       "2015-01-07  69.34087\n",
       "2015-01-08  70.90395\n",
       "2015-01-09  70.84746\n",
       "\n",
       "[[66]]\n",
       "           DIS.Close\n",
       "2015-01-02     93.75\n",
       "2015-01-05     92.38\n",
       "2015-01-06     91.89\n",
       "2015-01-07     92.83\n",
       "2015-01-08     93.79\n",
       "2015-01-09     94.25\n",
       "\n",
       "[[67]]\n",
       "           WHR.Close\n",
       "2015-01-02    193.01\n",
       "2015-01-05    189.03\n",
       "2015-01-06    187.47\n",
       "2015-01-07    191.88\n",
       "2015-01-08    196.83\n",
       "2015-01-09    197.23\n",
       "\n",
       "[[68]]\n",
       "           WYNN.Close\n",
       "2015-01-02     146.89\n",
       "2015-01-05     144.39\n",
       "2015-01-06     141.31\n",
       "2015-01-07     145.46\n",
       "2015-01-08     147.21\n",
       "2015-01-09     149.05\n",
       "\n",
       "[[69]]\n",
       "           YUM.Close\n",
       "2015-01-02  52.01294\n",
       "2015-01-05  50.95615\n",
       "2015-01-06  50.33070\n",
       "2015-01-07  51.99856\n",
       "2015-01-08  52.90438\n",
       "2015-01-09  52.81093\n"
      ]
     },
     "metadata": {},
     "output_type": "display_data"
    }
   ],
   "source": [
    "# Check data output\n",
    "lapply(data, head)"
   ]
  },
  {
   "cell_type": "markdown",
   "id": "b1f60f84",
   "metadata": {},
   "source": [
    "##### 1. Compute the log-returns and simple returns for all the stocks. Save these to lrets and rets objectsm respectively. From now on, you will work with the logarithmic returns."
   ]
  },
  {
   "cell_type": "code",
   "execution_count": 10,
   "id": "080eea71",
   "metadata": {},
   "outputs": [
    {
     "data": {
      "text/plain": [
       "              ANF.Close\n",
       "2015-01-05 -0.010906001\n",
       "2015-01-06  0.021348108\n",
       "2015-01-07  0.015461604\n",
       "2015-01-08 -0.007529091\n",
       "2015-01-09 -0.032114452\n",
       "2015-01-12  0.003541080"
      ]
     },
     "metadata": {},
     "output_type": "display_data"
    },
    {
     "data": {
      "text/plain": [
       "              ANF.Close\n",
       "2015-01-05 -0.010846746\n",
       "2015-01-06  0.021577609\n",
       "2015-01-07  0.015581753\n",
       "2015-01-08 -0.007500818\n",
       "2015-01-09 -0.031604259\n",
       "2015-01-12  0.003547357"
      ]
     },
     "metadata": {},
     "output_type": "display_data"
    }
   ],
   "source": [
    "# compute log-returns for returns\n",
    "lrets <- lapply(data, function(y){\n",
    "  y <- na.omit(diff(log(y)))  \n",
    "})\n",
    "head(lrets[[1]])\n",
    "\n",
    "# compute simple returns\n",
    "rets <- lapply(data, function(y){\n",
    "  y <- na.omit(diff(y)/lag(y))\n",
    "})\n",
    "\n",
    "head(rets[[1]])"
   ]
  },
  {
   "cell_type": "markdown",
   "id": "241cf364",
   "metadata": {},
   "source": [
    "##### 2. Compute the sample mean, variance, skewness, excess kurtosis, minimum and maximum of the series of logarithmic returns for each of the stocks in your sample. Display these in a nicely readable manner."
   ]
  },
  {
   "cell_type": "code",
   "execution_count": 11,
   "id": "e8c5c56a",
   "metadata": {},
   "outputs": [
    {
     "data": {
      "text/html": [
       "<table>\n",
       "<thead><tr><th></th><th scope=col>ANF</th><th scope=col>AMZN</th><th scope=col>AN</th><th scope=col>AZO</th><th scope=col>BEAM</th><th scope=col>BBBY</th><th scope=col>BBY</th><th scope=col>BIG</th><th scope=col>HRB</th><th scope=col>BWA</th><th scope=col>...</th><th scope=col>TGT</th><th scope=col>TWX</th><th scope=col>TJX</th><th scope=col>TRIP</th><th scope=col>URBN</th><th scope=col>VFC</th><th scope=col>DIS</th><th scope=col>WHR</th><th scope=col>WYNN</th><th scope=col>YUM</th></tr></thead>\n",
       "<tbody>\n",
       "\t<tr><th scope=row>Mean</th><td> 0.0001</td><td> 0.0014</td><td> 0.0004</td><td> 0.0007</td><td> 0.0031</td><td>-0.0009</td><td> 0.0005</td><td> 0.0001</td><td>-0.0002</td><td>-0.0001</td><td>...    </td><td> 0.0006</td><td> 0.0002</td><td> 0.0005</td><td>-0.0006</td><td>-0.0001</td><td> 0.0000</td><td> 0.0003</td><td> 0.0001</td><td>-0.0003</td><td> 0.0006</td></tr>\n",
       "\t<tr><th scope=row>Var</th><td> 0.0013</td><td> 0.0004</td><td> 0.0005</td><td> 0.0003</td><td> 0.0031</td><td> 0.0019</td><td> 0.0006</td><td> 0.0011</td><td> 0.0005</td><td> 0.0005</td><td>...    </td><td> 0.0003</td><td> 0.0002</td><td> 0.0003</td><td> 0.0010</td><td> 0.0009</td><td> 0.0004</td><td> 0.0003</td><td> 0.0005</td><td> 0.0011</td><td> 0.0003</td></tr>\n",
       "\t<tr><th scope=row>Skew</th><td>-0.4324</td><td> 0.4656</td><td>-0.5106</td><td>-1.6245</td><td> 0.1478</td><td> 0.0196</td><td> 0.0736</td><td>-0.2540</td><td>-1.0270</td><td>-0.4388</td><td>...    </td><td> 0.2351</td><td>-0.8875</td><td>-0.9955</td><td> 0.0381</td><td> 0.2087</td><td>-0.6835</td><td> 0.3207</td><td>-0.3877</td><td>-0.1473</td><td>-0.3431</td></tr>\n",
       "\t<tr><th scope=row>Kurt</th><td>12.2129</td><td> 9.2567</td><td>14.5470</td><td>21.3267</td><td> 4.8774</td><td>28.7084</td><td>14.4836</td><td>29.6386</td><td>17.3622</td><td> 6.7326</td><td>...    </td><td>18.9366</td><td>11.8583</td><td>25.9547</td><td>15.5682</td><td> 8.4893</td><td>12.4338</td><td>16.8644</td><td>23.3022</td><td>12.5820</td><td>40.1845</td></tr>\n",
       "\t<tr><th scope=row>Min</th><td>-0.3075</td><td>-0.0825</td><td>-0.2121</td><td>-0.1736</td><td>-0.2668</td><td>-0.4525</td><td>-0.1655</td><td>-0.3502</td><td>-0.1977</td><td>-0.1220</td><td>...    </td><td>-0.1310</td><td>-0.0938</td><td>-0.2281</td><td>-0.2643</td><td>-0.1650</td><td>-0.1384</td><td>-0.1391</td><td>-0.2183</td><td>-0.2802</td><td>-0.2087</td></tr>\n",
       "\t<tr><th scope=row>Max</th><td> 0.2235</td><td> 0.1322</td><td> 0.1462</td><td> 0.1114</td><td> 0.2087</td><td> 0.4831</td><td> 0.1946</td><td> 0.2831</td><td> 0.1404</td><td> 0.1498</td><td>...    </td><td> 0.1859</td><td> 0.0753</td><td> 0.1214</td><td> 0.2274</td><td> 0.1939</td><td> 0.1311</td><td> 0.1346</td><td> 0.2591</td><td> 0.2444</td><td> 0.2090</td></tr>\n",
       "</tbody>\n",
       "</table>\n"
      ],
      "text/latex": [
       "\\begin{tabular}{r|lllllllllllllllllllllllllllllllllllllllllllllllllllllllllllllllllllll}\n",
       "  & ANF & AMZN & AN & AZO & BEAM & BBBY & BBY & BIG & HRB & BWA & ... & TGT & TWX & TJX & TRIP & URBN & VFC & DIS & WHR & WYNN & YUM\\\\\n",
       "\\hline\n",
       "\tMean &  0.0001 &  0.0014 &  0.0004 &  0.0007 &  0.0031 & -0.0009 &  0.0005 &  0.0001 & -0.0002 & -0.0001 & ...     &  0.0006 &  0.0002 &  0.0005 & -0.0006 & -0.0001 &  0.0000 &  0.0003 &  0.0001 & -0.0003 &  0.0006\\\\\n",
       "\tVar &  0.0013 &  0.0004 &  0.0005 &  0.0003 &  0.0031 &  0.0019 &  0.0006 &  0.0011 &  0.0005 &  0.0005 & ...     &  0.0003 &  0.0002 &  0.0003 &  0.0010 &  0.0009 &  0.0004 &  0.0003 &  0.0005 &  0.0011 &  0.0003\\\\\n",
       "\tSkew & -0.4324 &  0.4656 & -0.5106 & -1.6245 &  0.1478 &  0.0196 &  0.0736 & -0.2540 & -1.0270 & -0.4388 & ...     &  0.2351 & -0.8875 & -0.9955 &  0.0381 &  0.2087 & -0.6835 &  0.3207 & -0.3877 & -0.1473 & -0.3431\\\\\n",
       "\tKurt & 12.2129 &  9.2567 & 14.5470 & 21.3267 &  4.8774 & 28.7084 & 14.4836 & 29.6386 & 17.3622 &  6.7326 & ...     & 18.9366 & 11.8583 & 25.9547 & 15.5682 &  8.4893 & 12.4338 & 16.8644 & 23.3022 & 12.5820 & 40.1845\\\\\n",
       "\tMin & -0.3075 & -0.0825 & -0.2121 & -0.1736 & -0.2668 & -0.4525 & -0.1655 & -0.3502 & -0.1977 & -0.1220 & ...     & -0.1310 & -0.0938 & -0.2281 & -0.2643 & -0.1650 & -0.1384 & -0.1391 & -0.2183 & -0.2802 & -0.2087\\\\\n",
       "\tMax &  0.2235 &  0.1322 &  0.1462 &  0.1114 &  0.2087 &  0.4831 &  0.1946 &  0.2831 &  0.1404 &  0.1498 & ...     &  0.1859 &  0.0753 &  0.1214 &  0.2274 &  0.1939 &  0.1311 &  0.1346 &  0.2591 &  0.2444 &  0.2090\\\\\n",
       "\\end{tabular}\n"
      ],
      "text/markdown": [
       "\n",
       "| <!--/--> | ANF | AMZN | AN | AZO | BEAM | BBBY | BBY | BIG | HRB | BWA | ... | TGT | TWX | TJX | TRIP | URBN | VFC | DIS | WHR | WYNN | YUM |\n",
       "|---|---|---|---|---|---|---|---|---|---|---|---|---|---|---|---|---|---|---|---|---|---|\n",
       "| Mean |  0.0001 |  0.0014 |  0.0004 |  0.0007 |  0.0031 | -0.0009 |  0.0005 |  0.0001 | -0.0002 | -0.0001 | ...     |  0.0006 |  0.0002 |  0.0005 | -0.0006 | -0.0001 |  0.0000 |  0.0003 |  0.0001 | -0.0003 |  0.0006 |\n",
       "| Var |  0.0013 |  0.0004 |  0.0005 |  0.0003 |  0.0031 |  0.0019 |  0.0006 |  0.0011 |  0.0005 |  0.0005 | ...     |  0.0003 |  0.0002 |  0.0003 |  0.0010 |  0.0009 |  0.0004 |  0.0003 |  0.0005 |  0.0011 |  0.0003 |\n",
       "| Skew | -0.4324 |  0.4656 | -0.5106 | -1.6245 |  0.1478 |  0.0196 |  0.0736 | -0.2540 | -1.0270 | -0.4388 | ...     |  0.2351 | -0.8875 | -0.9955 |  0.0381 |  0.2087 | -0.6835 |  0.3207 | -0.3877 | -0.1473 | -0.3431 |\n",
       "| Kurt | 12.2129 |  9.2567 | 14.5470 | 21.3267 |  4.8774 | 28.7084 | 14.4836 | 29.6386 | 17.3622 |  6.7326 | ...     | 18.9366 | 11.8583 | 25.9547 | 15.5682 |  8.4893 | 12.4338 | 16.8644 | 23.3022 | 12.5820 | 40.1845 |\n",
       "| Min | -0.3075 | -0.0825 | -0.2121 | -0.1736 | -0.2668 | -0.4525 | -0.1655 | -0.3502 | -0.1977 | -0.1220 | ...     | -0.1310 | -0.0938 | -0.2281 | -0.2643 | -0.1650 | -0.1384 | -0.1391 | -0.2183 | -0.2802 | -0.2087 |\n",
       "| Max |  0.2235 |  0.1322 |  0.1462 |  0.1114 |  0.2087 |  0.4831 |  0.1946 |  0.2831 |  0.1404 |  0.1498 | ...     |  0.1859 |  0.0753 |  0.1214 |  0.2274 |  0.1939 |  0.1311 |  0.1346 |  0.2591 |  0.2444 |  0.2090 |\n",
       "\n"
      ],
      "text/plain": [
       "     ANF     AMZN    AN      AZO     BEAM    BBBY    BBY     BIG     HRB    \n",
       "Mean  0.0001  0.0014  0.0004  0.0007  0.0031 -0.0009  0.0005  0.0001 -0.0002\n",
       "Var   0.0013  0.0004  0.0005  0.0003  0.0031  0.0019  0.0006  0.0011  0.0005\n",
       "Skew -0.4324  0.4656 -0.5106 -1.6245  0.1478  0.0196  0.0736 -0.2540 -1.0270\n",
       "Kurt 12.2129  9.2567 14.5470 21.3267  4.8774 28.7084 14.4836 29.6386 17.3622\n",
       "Min  -0.3075 -0.0825 -0.2121 -0.1736 -0.2668 -0.4525 -0.1655 -0.3502 -0.1977\n",
       "Max   0.2235  0.1322  0.1462  0.1114  0.2087  0.4831  0.1946  0.2831  0.1404\n",
       "     BWA     ... TGT     TWX     TJX     TRIP    URBN    VFC     DIS    \n",
       "Mean -0.0001 ...  0.0006  0.0002  0.0005 -0.0006 -0.0001  0.0000  0.0003\n",
       "Var   0.0005 ...  0.0003  0.0002  0.0003  0.0010  0.0009  0.0004  0.0003\n",
       "Skew -0.4388 ...  0.2351 -0.8875 -0.9955  0.0381  0.2087 -0.6835  0.3207\n",
       "Kurt  6.7326 ... 18.9366 11.8583 25.9547 15.5682  8.4893 12.4338 16.8644\n",
       "Min  -0.1220 ... -0.1310 -0.0938 -0.2281 -0.2643 -0.1650 -0.1384 -0.1391\n",
       "Max   0.1498 ...  0.1859  0.0753  0.1214  0.2274  0.1939  0.1311  0.1346\n",
       "     WHR     WYNN    YUM    \n",
       "Mean  0.0001 -0.0003  0.0006\n",
       "Var   0.0005  0.0011  0.0003\n",
       "Skew -0.3877 -0.1473 -0.3431\n",
       "Kurt 23.3022 12.5820 40.1845\n",
       "Min  -0.2183 -0.2802 -0.2087\n",
       "Max   0.2591  0.2444  0.2090"
      ]
     },
     "metadata": {},
     "output_type": "display_data"
    }
   ],
   "source": [
    "#Compute the sample mean, variance, skewness, excess kurtosis, minimum and maximum\n",
    "stats <- lapply(lrets, function(y){\n",
    "    c(mean(y), var(y), skewness(y),kurtosis(y),min(y), max(y))\n",
    "})\n",
    "\n",
    "#round the numbers\n",
    "stats <- sapply(stats, function(y){\n",
    "    round(y, 4)\n",
    "})\n",
    "\n",
    "#name the row: mean, variance, skewness, excess kurtosis, minimum and maximum\n",
    "rownames(stats) <- c('Mean', 'Var', 'Skew', 'Kurt', 'Min', 'Max')\n",
    "colnames(stats) <- names(data2)\n",
    "stats"
   ]
  },
  {
   "cell_type": "code",
   "execution_count": 12,
   "id": "7af9b254",
   "metadata": {},
   "outputs": [
    {
     "data": {
      "text/html": [
       "<table>\n",
       "<thead><tr><th></th><th scope=col>Mean</th><th scope=col>Var</th><th scope=col>Skew</th><th scope=col>Kurt</th><th scope=col>Min</th><th scope=col>Max</th></tr></thead>\n",
       "<tbody>\n",
       "\t<tr><th scope=row>ANF</th><td> 0.0001</td><td>0.0013 </td><td>-0.4324</td><td>12.2129</td><td>-0.3075</td><td>0.2235 </td></tr>\n",
       "\t<tr><th scope=row>AMZN</th><td> 0.0014</td><td>0.0004 </td><td> 0.4656</td><td> 9.2567</td><td>-0.0825</td><td>0.1322 </td></tr>\n",
       "\t<tr><th scope=row>AN</th><td> 0.0004</td><td>0.0005 </td><td>-0.5106</td><td>14.5470</td><td>-0.2121</td><td>0.1462 </td></tr>\n",
       "\t<tr><th scope=row>AZO</th><td> 0.0007</td><td>0.0003 </td><td>-1.6245</td><td>21.3267</td><td>-0.1736</td><td>0.1114 </td></tr>\n",
       "\t<tr><th scope=row>BEAM</th><td> 0.0031</td><td>0.0031 </td><td> 0.1478</td><td> 4.8774</td><td>-0.2668</td><td>0.2087 </td></tr>\n",
       "\t<tr><th scope=row>BBBY</th><td>-0.0009</td><td>0.0019 </td><td> 0.0196</td><td>28.7084</td><td>-0.4525</td><td>0.4831 </td></tr>\n",
       "</tbody>\n",
       "</table>\n"
      ],
      "text/latex": [
       "\\begin{tabular}{r|llllll}\n",
       "  & Mean & Var & Skew & Kurt & Min & Max\\\\\n",
       "\\hline\n",
       "\tANF &  0.0001 & 0.0013  & -0.4324 & 12.2129 & -0.3075 & 0.2235 \\\\\n",
       "\tAMZN &  0.0014 & 0.0004  &  0.4656 &  9.2567 & -0.0825 & 0.1322 \\\\\n",
       "\tAN &  0.0004 & 0.0005  & -0.5106 & 14.5470 & -0.2121 & 0.1462 \\\\\n",
       "\tAZO &  0.0007 & 0.0003  & -1.6245 & 21.3267 & -0.1736 & 0.1114 \\\\\n",
       "\tBEAM &  0.0031 & 0.0031  &  0.1478 &  4.8774 & -0.2668 & 0.2087 \\\\\n",
       "\tBBBY & -0.0009 & 0.0019  &  0.0196 & 28.7084 & -0.4525 & 0.4831 \\\\\n",
       "\\end{tabular}\n"
      ],
      "text/markdown": [
       "\n",
       "| <!--/--> | Mean | Var | Skew | Kurt | Min | Max |\n",
       "|---|---|---|---|---|---|---|\n",
       "| ANF |  0.0001 | 0.0013  | -0.4324 | 12.2129 | -0.3075 | 0.2235  |\n",
       "| AMZN |  0.0014 | 0.0004  |  0.4656 |  9.2567 | -0.0825 | 0.1322  |\n",
       "| AN |  0.0004 | 0.0005  | -0.5106 | 14.5470 | -0.2121 | 0.1462  |\n",
       "| AZO |  0.0007 | 0.0003  | -1.6245 | 21.3267 | -0.1736 | 0.1114  |\n",
       "| BEAM |  0.0031 | 0.0031  |  0.1478 |  4.8774 | -0.2668 | 0.2087  |\n",
       "| BBBY | -0.0009 | 0.0019  |  0.0196 | 28.7084 | -0.4525 | 0.4831  |\n",
       "\n"
      ],
      "text/plain": [
       "     Mean    Var    Skew    Kurt    Min     Max   \n",
       "ANF   0.0001 0.0013 -0.4324 12.2129 -0.3075 0.2235\n",
       "AMZN  0.0014 0.0004  0.4656  9.2567 -0.0825 0.1322\n",
       "AN    0.0004 0.0005 -0.5106 14.5470 -0.2121 0.1462\n",
       "AZO   0.0007 0.0003 -1.6245 21.3267 -0.1736 0.1114\n",
       "BEAM  0.0031 0.0031  0.1478  4.8774 -0.2668 0.2087\n",
       "BBBY -0.0009 0.0019  0.0196 28.7084 -0.4525 0.4831"
      ]
     },
     "metadata": {},
     "output_type": "display_data"
    },
    {
     "data": {
      "text/html": [
       "<table>\n",
       "<thead><tr><th></th><th scope=col>Mean</th><th scope=col>Var</th><th scope=col>Skew</th><th scope=col>Kurt</th><th scope=col>Min</th><th scope=col>Max</th></tr></thead>\n",
       "<tbody>\n",
       "\t<tr><th scope=row>URBN</th><td>-1e-04 </td><td>0.0009 </td><td> 0.2087</td><td> 8.4893</td><td>-0.1650</td><td>0.1939 </td></tr>\n",
       "\t<tr><th scope=row>VFC</th><td> 0e+00 </td><td>0.0004 </td><td>-0.6835</td><td>12.4338</td><td>-0.1384</td><td>0.1311 </td></tr>\n",
       "\t<tr><th scope=row>DIS</th><td> 3e-04 </td><td>0.0003 </td><td> 0.3207</td><td>16.8644</td><td>-0.1391</td><td>0.1346 </td></tr>\n",
       "\t<tr><th scope=row>WHR</th><td> 1e-04 </td><td>0.0005 </td><td>-0.3877</td><td>23.3022</td><td>-0.2183</td><td>0.2591 </td></tr>\n",
       "\t<tr><th scope=row>WYNN</th><td>-3e-04 </td><td>0.0011 </td><td>-0.1473</td><td>12.5820</td><td>-0.2802</td><td>0.2444 </td></tr>\n",
       "\t<tr><th scope=row>YUM</th><td> 6e-04 </td><td>0.0003 </td><td>-0.3431</td><td>40.1845</td><td>-0.2087</td><td>0.2090 </td></tr>\n",
       "</tbody>\n",
       "</table>\n"
      ],
      "text/latex": [
       "\\begin{tabular}{r|llllll}\n",
       "  & Mean & Var & Skew & Kurt & Min & Max\\\\\n",
       "\\hline\n",
       "\tURBN & -1e-04  & 0.0009  &  0.2087 &  8.4893 & -0.1650 & 0.1939 \\\\\n",
       "\tVFC &  0e+00  & 0.0004  & -0.6835 & 12.4338 & -0.1384 & 0.1311 \\\\\n",
       "\tDIS &  3e-04  & 0.0003  &  0.3207 & 16.8644 & -0.1391 & 0.1346 \\\\\n",
       "\tWHR &  1e-04  & 0.0005  & -0.3877 & 23.3022 & -0.2183 & 0.2591 \\\\\n",
       "\tWYNN & -3e-04  & 0.0011  & -0.1473 & 12.5820 & -0.2802 & 0.2444 \\\\\n",
       "\tYUM &  6e-04  & 0.0003  & -0.3431 & 40.1845 & -0.2087 & 0.2090 \\\\\n",
       "\\end{tabular}\n"
      ],
      "text/markdown": [
       "\n",
       "| <!--/--> | Mean | Var | Skew | Kurt | Min | Max |\n",
       "|---|---|---|---|---|---|---|\n",
       "| URBN | -1e-04  | 0.0009  |  0.2087 |  8.4893 | -0.1650 | 0.1939  |\n",
       "| VFC |  0e+00  | 0.0004  | -0.6835 | 12.4338 | -0.1384 | 0.1311  |\n",
       "| DIS |  3e-04  | 0.0003  |  0.3207 | 16.8644 | -0.1391 | 0.1346  |\n",
       "| WHR |  1e-04  | 0.0005  | -0.3877 | 23.3022 | -0.2183 | 0.2591  |\n",
       "| WYNN | -3e-04  | 0.0011  | -0.1473 | 12.5820 | -0.2802 | 0.2444  |\n",
       "| YUM |  6e-04  | 0.0003  | -0.3431 | 40.1845 | -0.2087 | 0.2090  |\n",
       "\n"
      ],
      "text/plain": [
       "     Mean   Var    Skew    Kurt    Min     Max   \n",
       "URBN -1e-04 0.0009  0.2087  8.4893 -0.1650 0.1939\n",
       "VFC   0e+00 0.0004 -0.6835 12.4338 -0.1384 0.1311\n",
       "DIS   3e-04 0.0003  0.3207 16.8644 -0.1391 0.1346\n",
       "WHR   1e-04 0.0005 -0.3877 23.3022 -0.2183 0.2591\n",
       "WYNN -3e-04 0.0011 -0.1473 12.5820 -0.2802 0.2444\n",
       "YUM   6e-04 0.0003 -0.3431 40.1845 -0.2087 0.2090"
      ]
     },
     "metadata": {},
     "output_type": "display_data"
    },
    {
     "data": {
      "text/html": [
       "69"
      ],
      "text/latex": [
       "69"
      ],
      "text/markdown": [
       "69"
      ],
      "text/plain": [
       "[1] 69"
      ]
     },
     "metadata": {},
     "output_type": "display_data"
    }
   ],
   "source": [
    "#transform the table for nicely readable manner\n",
    "stats_t <- t(stats)\n",
    "head(stats_t) # check head\n",
    "tail(stats_t) # check tail\n",
    "nrow(stats_t) # check total number of symbols"
   ]
  },
  {
   "cell_type": "markdown",
   "id": "0cb1f046",
   "metadata": {},
   "source": [
    "##### "
   ]
  },
  {
   "cell_type": "markdown",
   "id": "2db10aee",
   "metadata": {},
   "source": [
    "##### 3. Try to devise one Figure that plots all time series of returns in your sample."
   ]
  },
  {
   "cell_type": "markdown",
   "id": "1799eba9",
   "metadata": {},
   "source": [
    "##### "
   ]
  },
  {
   "cell_type": "code",
   "execution_count": 13,
   "id": "001e7242",
   "metadata": {},
   "outputs": [
    {
     "data": {
      "image/png": "[encoded data removed]",
      "text/plain": [
       "Plot with title \"BBBY.Close\""
      ]
     },
     "metadata": {},
     "output_type": "display_data"
    },
    {
     "data": {
      "image/png": "[encoded data removed]",
      "text/plain": [
       "Plot with title \"CCL.Close\""
      ]
     },
     "metadata": {},
     "output_type": "display_data"
    },
    {
     "data": {
      "image/png": "[encoded data removed]",
      "text/plain": [
       "Plot with title \"DISCA.Close\""
      ]
     },
     "metadata": {},
     "output_type": "display_data"
    },
    {
     "data": {
      "image/png": "[encoded data removed]",
      "text/plain": [
       "Plot with title \"GCI.Close\""
      ]
     },
     "metadata": {},
     "output_type": "display_data"
    },
    {
     "data": {
      "image/png": "[encoded data removed]",
      "text/plain": [
       "Plot with title \"HAS.Close\""
      ]
     },
     "metadata": {},
     "output_type": "display_data"
    },
    {
     "data": {
      "image/png": "[encoded data removed]",
      "text/plain": [
       "Plot with title \"LEG.Close\""
      ]
     },
     "metadata": {},
     "output_type": "display_data"
    },
    {
     "data": {
      "image/png": "[encoded data removed]",
      "text/plain": [
       "Plot with title \"MCD.Close\""
      ]
     },
     "metadata": {},
     "output_type": "display_data"
    },
    {
     "data": {
      "image/png": "[encoded data removed]",
      "text/plain": [
       "Plot with title \"ORLY.Close\""
      ]
     },
     "metadata": {},
     "output_type": "display_data"
    },
    {
     "data": {
      "image/png": "[encoded data removed]",
      "text/plain": [
       "Plot with title \"SHLD.Close\""
      ]
     },
     "metadata": {},
     "output_type": "display_data"
    },
    {
     "data": {
      "image/png": "[encoded data removed]",
      "text/plain": [
       "Plot with title \"TGT.Close\""
      ]
     },
     "metadata": {},
     "output_type": "display_data"
    },
    {
     "data": {
      "text/html": [
       "<ol>\n",
       "\t<li>NULL</li>\n",
       "\t<li>NULL</li>\n",
       "\t<li>NULL</li>\n",
       "\t<li>NULL</li>\n",
       "\t<li>NULL</li>\n",
       "\t<li>NULL</li>\n",
       "\t<li>NULL</li>\n",
       "\t<li>NULL</li>\n",
       "\t<li>NULL</li>\n",
       "\t<li>NULL</li>\n",
       "\t<li>NULL</li>\n",
       "\t<li>NULL</li>\n",
       "\t<li>NULL</li>\n",
       "\t<li>NULL</li>\n",
       "\t<li>NULL</li>\n",
       "\t<li>NULL</li>\n",
       "\t<li>NULL</li>\n",
       "\t<li>NULL</li>\n",
       "\t<li>NULL</li>\n",
       "\t<li>NULL</li>\n",
       "\t<li>NULL</li>\n",
       "\t<li>NULL</li>\n",
       "\t<li>NULL</li>\n",
       "\t<li>NULL</li>\n",
       "\t<li>NULL</li>\n",
       "\t<li>NULL</li>\n",
       "\t<li>NULL</li>\n",
       "\t<li>NULL</li>\n",
       "\t<li>NULL</li>\n",
       "\t<li>NULL</li>\n",
       "\t<li>NULL</li>\n",
       "\t<li>NULL</li>\n",
       "\t<li>NULL</li>\n",
       "\t<li>NULL</li>\n",
       "\t<li>NULL</li>\n",
       "\t<li>NULL</li>\n",
       "\t<li>NULL</li>\n",
       "\t<li>NULL</li>\n",
       "\t<li>NULL</li>\n",
       "\t<li>NULL</li>\n",
       "\t<li>NULL</li>\n",
       "\t<li>NULL</li>\n",
       "\t<li>NULL</li>\n",
       "\t<li>NULL</li>\n",
       "\t<li>NULL</li>\n",
       "\t<li>NULL</li>\n",
       "\t<li>NULL</li>\n",
       "\t<li>NULL</li>\n",
       "\t<li>NULL</li>\n",
       "\t<li>NULL</li>\n",
       "\t<li>NULL</li>\n",
       "\t<li>NULL</li>\n",
       "\t<li>NULL</li>\n",
       "\t<li>NULL</li>\n",
       "\t<li>NULL</li>\n",
       "\t<li>NULL</li>\n",
       "\t<li>NULL</li>\n",
       "\t<li>NULL</li>\n",
       "\t<li>NULL</li>\n",
       "\t<li>NULL</li>\n",
       "\t<li>NULL</li>\n",
       "\t<li>NULL</li>\n",
       "\t<li>NULL</li>\n",
       "\t<li>NULL</li>\n",
       "\t<li>NULL</li>\n",
       "\t<li>NULL</li>\n",
       "\t<li>NULL</li>\n",
       "\t<li>NULL</li>\n",
       "\t<li>NULL</li>\n",
       "</ol>\n"
      ],
      "text/latex": [
       "\\begin{enumerate}\n",
       "\\item NULL\n",
       "\\item NULL\n",
       "\\item NULL\n",
       "\\item NULL\n",
       "\\item NULL\n",
       "\\item NULL\n",
       "\\item NULL\n",
       "\\item NULL\n",
       "\\item NULL\n",
       "\\item NULL\n",
       "\\item NULL\n",
       "\\item NULL\n",
       "\\item NULL\n",
       "\\item NULL\n",
       "\\item NULL\n",
       "\\item NULL\n",
       "\\item NULL\n",
       "\\item NULL\n",
       "\\item NULL\n",
       "\\item NULL\n",
       "\\item NULL\n",
       "\\item NULL\n",
       "\\item NULL\n",
       "\\item NULL\n",
       "\\item NULL\n",
       "\\item NULL\n",
       "\\item NULL\n",
       "\\item NULL\n",
       "\\item NULL\n",
       "\\item NULL\n",
       "\\item NULL\n",
       "\\item NULL\n",
       "\\item NULL\n",
       "\\item NULL\n",
       "\\item NULL\n",
       "\\item NULL\n",
       "\\item NULL\n",
       "\\item NULL\n",
       "\\item NULL\n",
       "\\item NULL\n",
       "\\item NULL\n",
       "\\item NULL\n",
       "\\item NULL\n",
       "\\item NULL\n",
       "\\item NULL\n",
       "\\item NULL\n",
       "\\item NULL\n",
       "\\item NULL\n",
       "\\item NULL\n",
       "\\item NULL\n",
       "\\item NULL\n",
       "\\item NULL\n",
       "\\item NULL\n",
       "\\item NULL\n",
       "\\item NULL\n",
       "\\item NULL\n",
       "\\item NULL\n",
       "\\item NULL\n",
       "\\item NULL\n",
       "\\item NULL\n",
       "\\item NULL\n",
       "\\item NULL\n",
       "\\item NULL\n",
       "\\item NULL\n",
       "\\item NULL\n",
       "\\item NULL\n",
       "\\item NULL\n",
       "\\item NULL\n",
       "\\item NULL\n",
       "\\end{enumerate}\n"
      ],
      "text/markdown": [
       "1. NULL\n",
       "2. NULL\n",
       "3. NULL\n",
       "4. NULL\n",
       "5. NULL\n",
       "6. NULL\n",
       "7. NULL\n",
       "8. NULL\n",
       "9. NULL\n",
       "10. NULL\n",
       "11. NULL\n",
       "12. NULL\n",
       "13. NULL\n",
       "14. NULL\n",
       "15. NULL\n",
       "16. NULL\n",
       "17. NULL\n",
       "18. NULL\n",
       "19. NULL\n",
       "20. NULL\n",
       "21. NULL\n",
       "22. NULL\n",
       "23. NULL\n",
       "24. NULL\n",
       "25. NULL\n",
       "26. NULL\n",
       "27. NULL\n",
       "28. NULL\n",
       "29. NULL\n",
       "30. NULL\n",
       "31. NULL\n",
       "32. NULL\n",
       "33. NULL\n",
       "34. NULL\n",
       "35. NULL\n",
       "36. NULL\n",
       "37. NULL\n",
       "38. NULL\n",
       "39. NULL\n",
       "40. NULL\n",
       "41. NULL\n",
       "42. NULL\n",
       "43. NULL\n",
       "44. NULL\n",
       "45. NULL\n",
       "46. NULL\n",
       "47. NULL\n",
       "48. NULL\n",
       "49. NULL\n",
       "50. NULL\n",
       "51. NULL\n",
       "52. NULL\n",
       "53. NULL\n",
       "54. NULL\n",
       "55. NULL\n",
       "56. NULL\n",
       "57. NULL\n",
       "58. NULL\n",
       "59. NULL\n",
       "60. NULL\n",
       "61. NULL\n",
       "62. NULL\n",
       "63. NULL\n",
       "64. NULL\n",
       "65. NULL\n",
       "66. NULL\n",
       "67. NULL\n",
       "68. NULL\n",
       "69. NULL\n",
       "\n",
       "\n"
      ],
      "text/plain": [
       "[[1]]\n",
       "NULL\n",
       "\n",
       "[[2]]\n",
       "NULL\n",
       "\n",
       "[[3]]\n",
       "NULL\n",
       "\n",
       "[[4]]\n",
       "NULL\n",
       "\n",
       "[[5]]\n",
       "NULL\n",
       "\n",
       "[[6]]\n",
       "NULL\n",
       "\n",
       "[[7]]\n",
       "NULL\n",
       "\n",
       "[[8]]\n",
       "NULL\n",
       "\n",
       "[[9]]\n",
       "NULL\n",
       "\n",
       "[[10]]\n",
       "NULL\n",
       "\n",
       "[[11]]\n",
       "NULL\n",
       "\n",
       "[[12]]\n",
       "NULL\n",
       "\n",
       "[[13]]\n",
       "NULL\n",
       "\n",
       "[[14]]\n",
       "NULL\n",
       "\n",
       "[[15]]\n",
       "NULL\n",
       "\n",
       "[[16]]\n",
       "NULL\n",
       "\n",
       "[[17]]\n",
       "NULL\n",
       "\n",
       "[[18]]\n",
       "NULL\n",
       "\n",
       "[[19]]\n",
       "NULL\n",
       "\n",
       "[[20]]\n",
       "NULL\n",
       "\n",
       "[[21]]\n",
       "NULL\n",
       "\n",
       "[[22]]\n",
       "NULL\n",
       "\n",
       "[[23]]\n",
       "NULL\n",
       "\n",
       "[[24]]\n",
       "NULL\n",
       "\n",
       "[[25]]\n",
       "NULL\n",
       "\n",
       "[[26]]\n",
       "NULL\n",
       "\n",
       "[[27]]\n",
       "NULL\n",
       "\n",
       "[[28]]\n",
       "NULL\n",
       "\n",
       "[[29]]\n",
       "NULL\n",
       "\n",
       "[[30]]\n",
       "NULL\n",
       "\n",
       "[[31]]\n",
       "NULL\n",
       "\n",
       "[[32]]\n",
       "NULL\n",
       "\n",
       "[[33]]\n",
       "NULL\n",
       "\n",
       "[[34]]\n",
       "NULL\n",
       "\n",
       "[[35]]\n",
       "NULL\n",
       "\n",
       "[[36]]\n",
       "NULL\n",
       "\n",
       "[[37]]\n",
       "NULL\n",
       "\n",
       "[[38]]\n",
       "NULL\n",
       "\n",
       "[[39]]\n",
       "NULL\n",
       "\n",
       "[[40]]\n",
       "NULL\n",
       "\n",
       "[[41]]\n",
       "NULL\n",
       "\n",
       "[[42]]\n",
       "NULL\n",
       "\n",
       "[[43]]\n",
       "NULL\n",
       "\n",
       "[[44]]\n",
       "NULL\n",
       "\n",
       "[[45]]\n",
       "NULL\n",
       "\n",
       "[[46]]\n",
       "NULL\n",
       "\n",
       "[[47]]\n",
       "NULL\n",
       "\n",
       "[[48]]\n",
       "NULL\n",
       "\n",
       "[[49]]\n",
       "NULL\n",
       "\n",
       "[[50]]\n",
       "NULL\n",
       "\n",
       "[[51]]\n",
       "NULL\n",
       "\n",
       "[[52]]\n",
       "NULL\n",
       "\n",
       "[[53]]\n",
       "NULL\n",
       "\n",
       "[[54]]\n",
       "NULL\n",
       "\n",
       "[[55]]\n",
       "NULL\n",
       "\n",
       "[[56]]\n",
       "NULL\n",
       "\n",
       "[[57]]\n",
       "NULL\n",
       "\n",
       "[[58]]\n",
       "NULL\n",
       "\n",
       "[[59]]\n",
       "NULL\n",
       "\n",
       "[[60]]\n",
       "NULL\n",
       "\n",
       "[[61]]\n",
       "NULL\n",
       "\n",
       "[[62]]\n",
       "NULL\n",
       "\n",
       "[[63]]\n",
       "NULL\n",
       "\n",
       "[[64]]\n",
       "NULL\n",
       "\n",
       "[[65]]\n",
       "NULL\n",
       "\n",
       "[[66]]\n",
       "NULL\n",
       "\n",
       "[[67]]\n",
       "NULL\n",
       "\n",
       "[[68]]\n",
       "NULL\n",
       "\n",
       "[[69]]\n",
       "NULL\n"
      ]
     },
     "metadata": {},
     "output_type": "display_data"
    },
    {
     "data": {
      "image/png": "[encoded data removed]",
      "text/plain": [
       "Plot with title \"DIS.Close\""
      ]
     },
     "metadata": {},
     "output_type": "display_data"
    },
    {
     "data": {
      "image/png": "[encoded data removed]",
      "text/plain": [
       "Plot with title \"YUM.Close\""
      ]
     },
     "metadata": {},
     "output_type": "display_data"
    }
   ],
   "source": [
    "# Plot time series of returns of the choosen sector\n",
    "par(mfrow = c(2, 3))\n",
    "sapply(lrets, function(y){\n",
    "    plot(as.Date(index(y)), y, type = 'l', main= colnames(y), xlab = 'Year',\n",
    "     ylab = 'returns')\n",
    "})"
   ]
  },
  {
   "cell_type": "markdown",
   "id": "3022b174",
   "metadata": {},
   "source": [
    "##### "
   ]
  },
  {
   "cell_type": "markdown",
   "id": "82bd7328",
   "metadata": {},
   "source": [
    "##### 4. Discard the symbols, where you don't have valid data (non-missing, non-NA) for at least 80% of the dates in the sample period (use the stocks with the most observations as the benchmark for the sample period). For each symbol in your dataset, keep only the dates where you have valid data for all of the remaining symbols, i.e. you will have N time-series with matching timestamps.  Now compute the mean logarithmic return for each date. The result should be a time-series with one (mean) log-return for each date."
   ]
  },
  {
   "cell_type": "code",
   "execution_count": 14,
   "id": "8bceaaf5",
   "metadata": {},
   "outputs": [
    {
     "data": {
      "text/html": [
       "1761"
      ],
      "text/latex": [
       "1761"
      ],
      "text/markdown": [
       "1761"
      ],
      "text/plain": [
       "[1] 1761"
      ]
     },
     "metadata": {},
     "output_type": "display_data"
    },
    {
     "data": {
      "text/html": [
       "1408.8"
      ],
      "text/latex": [
       "1408.8"
      ],
      "text/markdown": [
       "1408.8"
      ],
      "text/plain": [
       "[1] 1408.8"
      ]
     },
     "metadata": {},
     "output_type": "display_data"
    }
   ],
   "source": [
    "# Check the date length of the sample period\n",
    "dates <- index(lrets[[1]])\n",
    "date_len <- length(dates)\n",
    "date_len\n",
    "\n",
    "# Choose benchmark at least 80% of the dates in the sample period\n",
    "date_length <- date_len * 0.8\n",
    "date_length"
   ]
  },
  {
   "cell_type": "code",
   "execution_count": 15,
   "id": "a8a399d0",
   "metadata": {},
   "outputs": [
    {
     "data": {
      "text/html": [
       "69"
      ],
      "text/latex": [
       "69"
      ],
      "text/markdown": [
       "69"
      ],
      "text/plain": [
       "[1] 69"
      ]
     },
     "metadata": {},
     "output_type": "display_data"
    }
   ],
   "source": [
    "length(lrets)\n",
    "# save lrets data before filter symbols which do not have enough date samples\n",
    "lrets0 <- lrets"
   ]
  },
  {
   "cell_type": "code",
   "execution_count": 17,
   "id": "019ce86f",
   "metadata": {},
   "outputs": [
    {
     "name": "stdout",
     "output_type": "stream",
     "text": [
      "[1] 50\n",
      "            SHLD.Close\n",
      "2020-11-05 0.005397045\n"
     ]
    },
    {
     "ename": "ERROR",
     "evalue": "Error in lrets[[i]]: subscript out of bounds\n",
     "output_type": "error",
     "traceback": [
      "Error in lrets[[i]]: subscript out of bounds\nTraceback:\n",
      "1. nrow(lrets[[i]])"
     ]
    }
   ],
   "source": [
    "# remove symbols have invalid  dates \n",
    "for (i in 2:length(lrets)){\n",
    "    if (nrow(lrets[[i]]) < date_length){\n",
    "        print(i)\n",
    "        print((lrets[[i]][1]))      \n",
    "        lrets[[i]] <- NULL\n",
    "    }\n",
    "}"
   ]
  },
  {
   "cell_type": "code",
   "execution_count": 18,
   "id": "86df3557",
   "metadata": {},
   "outputs": [
    {
     "data": {
      "text/html": [
       "62"
      ],
      "text/latex": [
       "62"
      ],
      "text/markdown": [
       "62"
      ],
      "text/plain": [
       "[1] 62"
      ]
     },
     "metadata": {},
     "output_type": "display_data"
    },
    {
     "data": {
      "text/html": [
       "1761"
      ],
      "text/latex": [
       "1761"
      ],
      "text/markdown": [
       "1761"
      ],
      "text/plain": [
       "[1] 1761"
      ]
     },
     "metadata": {},
     "output_type": "display_data"
    },
    {
     "data": {
      "text/html": [
       "1752"
      ],
      "text/latex": [
       "1752"
      ],
      "text/markdown": [
       "1752"
      ],
      "text/plain": [
       "[1] 1752"
      ]
     },
     "metadata": {},
     "output_type": "display_data"
    }
   ],
   "source": [
    "# check the number of remaining symbols\n",
    "length(lrets)\n",
    "\n",
    "# save the date before filter for common \n",
    "dates0 <-dates\n",
    "length(dates)\n",
    "# find the dates that are common for all the symbols\n",
    "for (i in 2:length(lrets)){\n",
    "    dates <- index(lrets[[i]])[index(lrets[[i]]) %in% dates]\n",
    "}\n",
    "length(dates)"
   ]
  },
  {
   "cell_type": "code",
   "execution_count": 19,
   "id": "adeff149",
   "metadata": {},
   "outputs": [
    {
     "data": {
      "text/html": [
       "<ol>\n",
       "\t<li>1752</li>\n",
       "\t<li>1752</li>\n",
       "\t<li>1752</li>\n",
       "\t<li>1752</li>\n",
       "\t<li>1752</li>\n",
       "\t<li>1752</li>\n",
       "</ol>\n"
      ],
      "text/latex": [
       "\\begin{enumerate}\n",
       "\\item 1752\n",
       "\\item 1752\n",
       "\\item 1752\n",
       "\\item 1752\n",
       "\\item 1752\n",
       "\\item 1752\n",
       "\\end{enumerate}\n"
      ],
      "text/markdown": [
       "1. 1752\n",
       "2. 1752\n",
       "3. 1752\n",
       "4. 1752\n",
       "5. 1752\n",
       "6. 1752\n",
       "\n",
       "\n"
      ],
      "text/plain": [
       "[[1]]\n",
       "[1] 1752\n",
       "\n",
       "[[2]]\n",
       "[1] 1752\n",
       "\n",
       "[[3]]\n",
       "[1] 1752\n",
       "\n",
       "[[4]]\n",
       "[1] 1752\n",
       "\n",
       "[[5]]\n",
       "[1] 1752\n",
       "\n",
       "[[6]]\n",
       "[1] 1752\n"
      ]
     },
     "metadata": {},
     "output_type": "display_data"
    },
    {
     "data": {
      "text/html": [
       "<ol>\n",
       "\t<li>1752</li>\n",
       "\t<li>1752</li>\n",
       "\t<li>1752</li>\n",
       "\t<li>1752</li>\n",
       "\t<li>1752</li>\n",
       "\t<li>1752</li>\n",
       "</ol>\n"
      ],
      "text/latex": [
       "\\begin{enumerate}\n",
       "\\item 1752\n",
       "\\item 1752\n",
       "\\item 1752\n",
       "\\item 1752\n",
       "\\item 1752\n",
       "\\item 1752\n",
       "\\end{enumerate}\n"
      ],
      "text/markdown": [
       "1. 1752\n",
       "2. 1752\n",
       "3. 1752\n",
       "4. 1752\n",
       "5. 1752\n",
       "6. 1752\n",
       "\n",
       "\n"
      ],
      "text/plain": [
       "[[1]]\n",
       "[1] 1752\n",
       "\n",
       "[[2]]\n",
       "[1] 1752\n",
       "\n",
       "[[3]]\n",
       "[1] 1752\n",
       "\n",
       "[[4]]\n",
       "[1] 1752\n",
       "\n",
       "[[5]]\n",
       "[1] 1752\n",
       "\n",
       "[[6]]\n",
       "[1] 1752\n"
      ]
     },
     "metadata": {},
     "output_type": "display_data"
    }
   ],
   "source": [
    "# save the lrets data before filter for the common dates\n",
    "lrets1 <- lrets\n",
    "\n",
    "#filter the lrets\n",
    "lrets <- lapply(lrets, function(y){\n",
    "    y[index(y) %in% dates]\n",
    "})\n",
    "\n",
    "# Check if the observations are matching.\n",
    "head(lapply(lrets, nrow))\n",
    "tail(lapply(lrets, nrow))"
   ]
  },
  {
   "cell_type": "code",
   "execution_count": 20,
   "id": "6103269a",
   "metadata": {},
   "outputs": [
    {
     "data": {
      "text/html": [
       "<ol class=list-inline>\n",
       "\t<li>-0.0143134999508877</li>\n",
       "\t<li>-0.00935207295738885</li>\n",
       "\t<li>0.0183401623206254</li>\n",
       "\t<li>0.0156605061623981</li>\n",
       "\t<li>-0.0117940249048993</li>\n",
       "\t<li>-0.00391795078403698</li>\n",
       "</ol>\n"
      ],
      "text/latex": [
       "\\begin{enumerate*}\n",
       "\\item -0.0143134999508877\n",
       "\\item -0.00935207295738885\n",
       "\\item 0.0183401623206254\n",
       "\\item 0.0156605061623981\n",
       "\\item -0.0117940249048993\n",
       "\\item -0.00391795078403698\n",
       "\\end{enumerate*}\n"
      ],
      "text/markdown": [
       "1. -0.0143134999508877\n",
       "2. -0.00935207295738885\n",
       "3. 0.0183401623206254\n",
       "4. 0.0156605061623981\n",
       "5. -0.0117940249048993\n",
       "6. -0.00391795078403698\n",
       "\n",
       "\n"
      ],
      "text/plain": [
       "[1] -0.014313500 -0.009352073  0.018340162  0.015660506 -0.011794025\n",
       "[6] -0.003917951"
      ]
     },
     "metadata": {},
     "output_type": "display_data"
    }
   ],
   "source": [
    "# Calculate the time serises of cross sector means\n",
    "N <- nrow(lrets[[1]])  \n",
    "lrets_mean <- sapply(1:N, function(y){\n",
    "   mean(sapply(lrets, '[[', y)) \n",
    "})\n",
    "head(lrets_mean)"
   ]
  },
  {
   "cell_type": "markdown",
   "id": "f3fd85cd",
   "metadata": {},
   "source": [
    "##### 5. Estimate the parameters of the stable distribution for the mean returns computed in 4."
   ]
  },
  {
   "cell_type": "code",
   "execution_count": 21,
   "id": "8b80ba51",
   "metadata": {},
   "outputs": [
    {
     "name": "stdout",
     "output_type": "stream",
     "text": [
      "[1] 0.0001714658 0.0148098435\n"
     ]
    }
   ],
   "source": [
    "# Calculate mean and standard deviation of the mean returns\n",
    "m <- mean(na.omit(lrets_mean))\n",
    "std <- sd(na.omit(lrets_mean))\n",
    "print(c(m, std))"
   ]
  },
  {
   "cell_type": "code",
   "execution_count": 22,
   "id": "dabe478a",
   "metadata": {},
   "outputs": [
    {
     "data": {
      "text/plain": [
       "*** Class Estim, method Show *** \n",
       "** Method ** \n",
       "[1] \"Koutrouvelis_spacing=Kout\"\n",
       "** Parameters Estimation ** \n",
       "        alpha          beta         gamma         delta \n",
       " 1.5968746372 -0.1865040729  0.0068131558  0.0006640189 \n",
       "** Covariance Matrix Estimation ** \n",
       "     [,1] [,2] [,3] [,4]\n",
       "[1,]   NA   NA   NA   NA\n",
       "[2,]   NA   NA   NA   NA\n",
       "[3,]   NA   NA   NA   NA\n",
       "[4,]   NA   NA   NA   NA\n",
       "** Confidence interval Estimation ** \n",
       "[1] \"Confidence level= 0\"\n",
       "[1] \"data length= 1752\"\n",
       "     [,1] [,2]\n",
       "[1,]   NA   NA\n",
       "[2,]   NA   NA\n",
       "[3,]   NA   NA\n",
       "[4,]   NA   NA\n",
       "attr(,\"level\")\n",
       "[1] 0\n",
       "** Estimation time ** \n",
       "[1] \" :duration= 0  h, 0  min, 3  sec. \"\n",
       "** Estimation status ** \n",
       "success\n",
       " ******* End Show (Estim) ******* "
      ]
     },
     "metadata": {},
     "output_type": "display_data"
    }
   ],
   "source": [
    "# Estimate the parameters\n",
    "ret = as.numeric(na.omit(lrets_mean)) \n",
    "objKout <- Estim(EstimMethod = \"Kout\", data = ret, pm = 0,\n",
    "                         ComputeCov = FALSE, HandleError = FALSE,\n",
    "                         spacing = \"Kout\")\n",
    "objKout"
   ]
  },
  {
   "cell_type": "markdown",
   "id": "3ae08262",
   "metadata": {},
   "source": [
    "By using Stable distribution, we estimate the mean returns of our 'Consumer Discretionary' sector as Alpha 1.59 and Beta -0.186, which is quite different from Normal Distribution"
   ]
  },
  {
   "cell_type": "markdown",
   "id": "df422a9b",
   "metadata": {},
   "source": [
    "##### 6. Plot the histogram of the mean returns and compare to the densities of normal distribution, and stable distribution with the fitted parameters from the previous step."
   ]
  },
  {
   "cell_type": "code",
   "execution_count": 23,
   "id": "beac4253",
   "metadata": {},
   "outputs": [
    {
     "data": {
      "image/png": "[encoded data removed]",
      "text/plain": [
       "Plot with title \"Histogram of ret\""
      ]
     },
     "metadata": {},
     "output_type": "display_data"
    }
   ],
   "source": [
    "# Use Histogram to draw mean returns of 'Consumer Discretionary' sector\n",
    "hist(ret, n = 100, probability = TRUE, border = \"white\",\n",
    "     col = \"steelblue\")\n",
    "\n",
    "# Compare with stable distribution with the fitted parameters from the previous step as the blue curve \n",
    "x <- seq(-0.1, 0.1, 0.001)\n",
    "lines(x, dstable(x, alpha = objKout@par[1], beta = objKout@par[2], \n",
    "    gamma=objKout@par[3], delta=objKout@par[4],tol= 1e-3), lwd = 2)\n",
    "\n",
    "# Compare to normal distribution as the red curve\n",
    "lines(x, dnorm(x, mean = m, sd = std), lwd = 2, col = 'red')# normal distribution"
   ]
  },
  {
   "cell_type": "markdown",
   "id": "c482deba",
   "metadata": {},
   "source": [
    "By comparation, we could see, the normal distribution(red curve) does not match our sector data very good. While by using stable distribution with the fitted parameters from the previous step(blue curve), it matches better to our mean return data of of 'Consumer Discretionary' sector. \n"
   ]
  },
  {
   "cell_type": "markdown",
   "id": "66f7c4d8",
   "metadata": {},
   "source": [
    "# Problem 2"
   ]
  },
  {
   "cell_type": "markdown",
   "id": "a151bc59",
   "metadata": {},
   "source": [
    "##### 1. Compute theoretical mean, and variance for both processes pt and rt. Is any of the processes stationary in terms of mean and variance? Which process has a constant variance?"
   ]
  },
  {
   "cell_type": "code",
   "execution_count": null,
   "id": "1de71a26",
   "metadata": {},
   "outputs": [],
   "source": []
  },
  {
   "cell_type": "code",
   "execution_count": null,
   "id": "c178a911",
   "metadata": {},
   "outputs": [],
   "source": []
  }
 ],
 "metadata": {
  "kernelspec": {
   "display_name": "R",
   "language": "R",
   "name": "ir"
  },
  "language_info": {
   "codemirror_mode": "r",
   "file_extension": ".r",
   "mimetype": "text/x-r-source",
   "name": "R",
   "pygments_lexer": "r",
   "version": "3.6.1"
  }
 },
 "nbformat": 4,
 "nbformat_minor": 5
}
