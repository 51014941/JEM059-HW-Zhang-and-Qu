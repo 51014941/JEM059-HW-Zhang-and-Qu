{
 "cells": [
  {
   "cell_type": "markdown",
   "id": "9194b51e",
   "metadata": {},
   "source": [
    "# Financial Econometrics I: Homework 1"
   ]
  },
  {
   "cell_type": "markdown",
   "id": "20a232b2",
   "metadata": {},
   "source": [
    "Team Member:\n",
    "\n",
    "Lin Zhang : 15845542@fsv.cuni.cz\n",
    "\n",
    "Weiwei Qu : 51014941@fsv.cuni.cz"
   ]
  },
  {
   "cell_type": "markdown",
   "id": "6b0a2575",
   "metadata": {},
   "source": [
    "# Problem 1"
   ]
  },
  {
   "cell_type": "markdown",
   "id": "771c79d1",
   "metadata": {},
   "source": [
    "From the the symbols.csv choose 1 of the 10 Sectors (Industrials, Financials, Health Care, etc.).\n",
    "Download the prices for all the stocks belonging to the corresponding Sector for the period 01/2015 - 12/2021. Exclude the stocks that are not available in the quantmod package. Check that your data contains all the desired symbols (include this check in your output)."
   ]
  },
  {
   "cell_type": "code",
   "execution_count": 1,
   "id": "0d4620fd",
   "metadata": {},
   "outputs": [
    {
     "name": "stderr",
     "output_type": "stream",
     "text": [
      "Warning message:\n",
      "\"package 'quantmod' was built under R version 3.6.3\"Loading required package: xts\n",
      "Warning message:\n",
      "\"package 'xts' was built under R version 3.6.3\"Loading required package: zoo\n",
      "Warning message:\n",
      "\"package 'zoo' was built under R version 3.6.3\"\n",
      "Attaching package: 'zoo'\n",
      "\n",
      "The following objects are masked from 'package:base':\n",
      "\n",
      "    as.Date, as.Date.numeric\n",
      "\n",
      "Loading required package: TTR\n",
      "Warning message:\n",
      "\"package 'TTR' was built under R version 3.6.3\"Registered S3 method overwritten by 'quantmod':\n",
      "  method            from\n",
      "  as.zoo.data.frame zoo \n"
     ]
    }
   ],
   "source": [
    "# Setup environment\n",
    "Sys.setenv(LANG = \"en\")\n",
    "library(repr)\n",
    "library(\"quantmod\")\n",
    "options(repr.plot.width = 10, repr.plot.height = 8)"
   ]
  },
  {
   "cell_type": "code",
   "execution_count": 2,
   "id": "c4b5df97",
   "metadata": {},
   "outputs": [
    {
     "data": {
      "text/html": [
       "<table>\n",
       "<thead><tr><th scope=col>锘縎ymbol</th><th scope=col>Name</th><th scope=col>Sector</th></tr></thead>\n",
       "<tbody>\n",
       "\t<tr><td>MMM                          </td><td>3M Co.                       </td><td>Industrials                  </td></tr>\n",
       "\t<tr><td>ACE                          </td><td>ACE Limited                  </td><td>Financials                   </td></tr>\n",
       "\t<tr><td>ABT                          </td><td>Abbott Laboratories          </td><td>Health Care                  </td></tr>\n",
       "\t<tr><td>ANF                              </td><td>Abercrombie &amp; Fitch Company A</td><td>Consumer Discretionary           </td></tr>\n",
       "\t<tr><td>ACN                          </td><td>Accenture                    </td><td>Information Technology       </td></tr>\n",
       "\t<tr><td>ADBE                         </td><td>Adobe Systems Inc            </td><td>Information Technology       </td></tr>\n",
       "</tbody>\n",
       "</table>\n"
      ],
      "text/latex": [
       "\\begin{tabular}{r|lll}\n",
       " 锘縎ymbol & Name & Sector\\\\\n",
       "\\hline\n",
       "\t MMM                           & 3M Co.                        & Industrials                  \\\\\n",
       "\t ACE                           & ACE Limited                   & Financials                   \\\\\n",
       "\t ABT                           & Abbott Laboratories           & Health Care                  \\\\\n",
       "\t ANF                             & Abercrombie \\& Fitch Company A & Consumer Discretionary         \\\\\n",
       "\t ACN                           & Accenture                     & Information Technology       \\\\\n",
       "\t ADBE                          & Adobe Systems Inc             & Information Technology       \\\\\n",
       "\\end{tabular}\n"
      ],
      "text/markdown": [
       "\n",
       "| 锘縎ymbol | Name | Sector |\n",
       "|---|---|---|\n",
       "| MMM                           | 3M Co.                        | Industrials                   |\n",
       "| ACE                           | ACE Limited                   | Financials                    |\n",
       "| ABT                           | Abbott Laboratories           | Health Care                   |\n",
       "| ANF                           | Abercrombie & Fitch Company A | Consumer Discretionary        |\n",
       "| ACN                           | Accenture                     | Information Technology        |\n",
       "| ADBE                          | Adobe Systems Inc             | Information Technology        |\n",
       "\n"
      ],
      "text/plain": [
       "  锘縎ymbol Name                          Sector                \n",
       "1 MMM       3M Co.                        Industrials           \n",
       "2 ACE       ACE Limited                   Financials            \n",
       "3 ABT       Abbott Laboratories           Health Care           \n",
       "4 ANF       Abercrombie & Fitch Company A Consumer Discretionary\n",
       "5 ACN       Accenture                     Information Technology\n",
       "6 ADBE      Adobe Systems Inc             Information Technology"
      ]
     },
     "metadata": {},
     "output_type": "display_data"
    }
   ],
   "source": [
    "# read data from file\n",
    "smbs <- read.csv('symbols.csv',sep = ';',colClasses = \"character\")\n",
    "head(smbs)"
   ]
  },
  {
   "cell_type": "code",
   "execution_count": 5,
   "id": "0c952062",
   "metadata": {},
   "outputs": [
    {
     "data": {
      "text/html": [
       "<ol class=list-inline>\n",
       "\t<li>'ANF'</li>\n",
       "\t<li>'AMZN'</li>\n",
       "\t<li>'APOL'</li>\n",
       "\t<li>'AN'</li>\n",
       "\t<li>'AZO'</li>\n",
       "\t<li>'BEAM'</li>\n",
       "\t<li>'BBBY'</li>\n",
       "\t<li>'BBY'</li>\n",
       "\t<li>'BIG'</li>\n",
       "\t<li>'HRB'</li>\n",
       "\t<li>'BWA'</li>\n",
       "\t<li>'CVC'</li>\n",
       "\t<li>'KMX'</li>\n",
       "\t<li>'CCL'</li>\n",
       "\t<li>'CBS'</li>\n",
       "\t<li>'CMG'</li>\n",
       "\t<li>'COH'</li>\n",
       "\t<li>'CMCSA'</li>\n",
       "\t<li>'DHI'</li>\n",
       "\t<li>'DRI'</li>\n",
       "\t<li>'DV'</li>\n",
       "\t<li>'DTV'</li>\n",
       "\t<li>'DISCA'</li>\n",
       "\t<li>'DLTR'</li>\n",
       "\t<li>'EXPE'</li>\n",
       "\t<li>'FDO'</li>\n",
       "\t<li>'F'</li>\n",
       "\t<li>'FOSL'</li>\n",
       "\t<li>'GME'</li>\n",
       "\t<li>'GCI'</li>\n",
       "\t<li>'GPS'</li>\n",
       "\t<li>'GPC'</li>\n",
       "\t<li>'GT'</li>\n",
       "\t<li>'HOG'</li>\n",
       "\t<li>'HAR'</li>\n",
       "\t<li>'HAS'</li>\n",
       "\t<li>'HD'</li>\n",
       "\t<li>'IGT'</li>\n",
       "\t<li>'IPG'</li>\n",
       "\t<li>'JCI'</li>\n",
       "\t<li>'KSS'</li>\n",
       "\t<li>'LEG'</li>\n",
       "\t<li>'LEN'</li>\n",
       "\t<li>'LTD'</li>\n",
       "\t<li>'LOW'</li>\n",
       "\t<li>'M'</li>\n",
       "\t<li>'MAR'</li>\n",
       "\t<li>'MAT'</li>\n",
       "\t<li>'MCD'</li>\n",
       "\t<li>'MHP'</li>\n",
       "\t<li>'NWL'</li>\n",
       "\t<li>'NWSA'</li>\n",
       "\t<li>'NKE'</li>\n",
       "\t<li>'JWN'</li>\n",
       "\t<li>'ORLY'</li>\n",
       "\t<li>'OMC'</li>\n",
       "\t<li>'JCP'</li>\n",
       "\t<li>'RL'</li>\n",
       "\t<li>'PHM'</li>\n",
       "\t<li>'ROST'</li>\n",
       "\t<li>'SNI'</li>\n",
       "\t<li>'SHLD'</li>\n",
       "\t<li>'SHW'</li>\n",
       "\t<li>'SNA'</li>\n",
       "\t<li>'SWK'</li>\n",
       "\t<li>'SPLS'</li>\n",
       "\t<li>'SBUX'</li>\n",
       "\t<li>'HOT'</li>\n",
       "\t<li>'TGT'</li>\n",
       "\t<li>'TIF'</li>\n",
       "\t<li>'TWX'</li>\n",
       "\t<li>'TWC'</li>\n",
       "\t<li>'TJX'</li>\n",
       "\t<li>'TRIP'</li>\n",
       "\t<li>'URBN'</li>\n",
       "\t<li>'VFC'</li>\n",
       "\t<li>'VIAB'</li>\n",
       "\t<li>'DIS'</li>\n",
       "\t<li>'WPO'</li>\n",
       "\t<li>'WHR'</li>\n",
       "\t<li>'WYN'</li>\n",
       "\t<li>'WYNN'</li>\n",
       "\t<li>'YUM'</li>\n",
       "</ol>\n"
      ],
      "text/latex": [
       "\\begin{enumerate*}\n",
       "\\item 'ANF'\n",
       "\\item 'AMZN'\n",
       "\\item 'APOL'\n",
       "\\item 'AN'\n",
       "\\item 'AZO'\n",
       "\\item 'BEAM'\n",
       "\\item 'BBBY'\n",
       "\\item 'BBY'\n",
       "\\item 'BIG'\n",
       "\\item 'HRB'\n",
       "\\item 'BWA'\n",
       "\\item 'CVC'\n",
       "\\item 'KMX'\n",
       "\\item 'CCL'\n",
       "\\item 'CBS'\n",
       "\\item 'CMG'\n",
       "\\item 'COH'\n",
       "\\item 'CMCSA'\n",
       "\\item 'DHI'\n",
       "\\item 'DRI'\n",
       "\\item 'DV'\n",
       "\\item 'DTV'\n",
       "\\item 'DISCA'\n",
       "\\item 'DLTR'\n",
       "\\item 'EXPE'\n",
       "\\item 'FDO'\n",
       "\\item 'F'\n",
       "\\item 'FOSL'\n",
       "\\item 'GME'\n",
       "\\item 'GCI'\n",
       "\\item 'GPS'\n",
       "\\item 'GPC'\n",
       "\\item 'GT'\n",
       "\\item 'HOG'\n",
       "\\item 'HAR'\n",
       "\\item 'HAS'\n",
       "\\item 'HD'\n",
       "\\item 'IGT'\n",
       "\\item 'IPG'\n",
       "\\item 'JCI'\n",
       "\\item 'KSS'\n",
       "\\item 'LEG'\n",
       "\\item 'LEN'\n",
       "\\item 'LTD'\n",
       "\\item 'LOW'\n",
       "\\item 'M'\n",
       "\\item 'MAR'\n",
       "\\item 'MAT'\n",
       "\\item 'MCD'\n",
       "\\item 'MHP'\n",
       "\\item 'NWL'\n",
       "\\item 'NWSA'\n",
       "\\item 'NKE'\n",
       "\\item 'JWN'\n",
       "\\item 'ORLY'\n",
       "\\item 'OMC'\n",
       "\\item 'JCP'\n",
       "\\item 'RL'\n",
       "\\item 'PHM'\n",
       "\\item 'ROST'\n",
       "\\item 'SNI'\n",
       "\\item 'SHLD'\n",
       "\\item 'SHW'\n",
       "\\item 'SNA'\n",
       "\\item 'SWK'\n",
       "\\item 'SPLS'\n",
       "\\item 'SBUX'\n",
       "\\item 'HOT'\n",
       "\\item 'TGT'\n",
       "\\item 'TIF'\n",
       "\\item 'TWX'\n",
       "\\item 'TWC'\n",
       "\\item 'TJX'\n",
       "\\item 'TRIP'\n",
       "\\item 'URBN'\n",
       "\\item 'VFC'\n",
       "\\item 'VIAB'\n",
       "\\item 'DIS'\n",
       "\\item 'WPO'\n",
       "\\item 'WHR'\n",
       "\\item 'WYN'\n",
       "\\item 'WYNN'\n",
       "\\item 'YUM'\n",
       "\\end{enumerate*}\n"
      ],
      "text/markdown": [
       "1. 'ANF'\n",
       "2. 'AMZN'\n",
       "3. 'APOL'\n",
       "4. 'AN'\n",
       "5. 'AZO'\n",
       "6. 'BEAM'\n",
       "7. 'BBBY'\n",
       "8. 'BBY'\n",
       "9. 'BIG'\n",
       "10. 'HRB'\n",
       "11. 'BWA'\n",
       "12. 'CVC'\n",
       "13. 'KMX'\n",
       "14. 'CCL'\n",
       "15. 'CBS'\n",
       "16. 'CMG'\n",
       "17. 'COH'\n",
       "18. 'CMCSA'\n",
       "19. 'DHI'\n",
       "20. 'DRI'\n",
       "21. 'DV'\n",
       "22. 'DTV'\n",
       "23. 'DISCA'\n",
       "24. 'DLTR'\n",
       "25. 'EXPE'\n",
       "26. 'FDO'\n",
       "27. 'F'\n",
       "28. 'FOSL'\n",
       "29. 'GME'\n",
       "30. 'GCI'\n",
       "31. 'GPS'\n",
       "32. 'GPC'\n",
       "33. 'GT'\n",
       "34. 'HOG'\n",
       "35. 'HAR'\n",
       "36. 'HAS'\n",
       "37. 'HD'\n",
       "38. 'IGT'\n",
       "39. 'IPG'\n",
       "40. 'JCI'\n",
       "41. 'KSS'\n",
       "42. 'LEG'\n",
       "43. 'LEN'\n",
       "44. 'LTD'\n",
       "45. 'LOW'\n",
       "46. 'M'\n",
       "47. 'MAR'\n",
       "48. 'MAT'\n",
       "49. 'MCD'\n",
       "50. 'MHP'\n",
       "51. 'NWL'\n",
       "52. 'NWSA'\n",
       "53. 'NKE'\n",
       "54. 'JWN'\n",
       "55. 'ORLY'\n",
       "56. 'OMC'\n",
       "57. 'JCP'\n",
       "58. 'RL'\n",
       "59. 'PHM'\n",
       "60. 'ROST'\n",
       "61. 'SNI'\n",
       "62. 'SHLD'\n",
       "63. 'SHW'\n",
       "64. 'SNA'\n",
       "65. 'SWK'\n",
       "66. 'SPLS'\n",
       "67. 'SBUX'\n",
       "68. 'HOT'\n",
       "69. 'TGT'\n",
       "70. 'TIF'\n",
       "71. 'TWX'\n",
       "72. 'TWC'\n",
       "73. 'TJX'\n",
       "74. 'TRIP'\n",
       "75. 'URBN'\n",
       "76. 'VFC'\n",
       "77. 'VIAB'\n",
       "78. 'DIS'\n",
       "79. 'WPO'\n",
       "80. 'WHR'\n",
       "81. 'WYN'\n",
       "82. 'WYNN'\n",
       "83. 'YUM'\n",
       "\n",
       "\n"
      ],
      "text/plain": [
       " [1] \"ANF\"   \"AMZN\"  \"APOL\"  \"AN\"    \"AZO\"   \"BEAM\"  \"BBBY\"  \"BBY\"   \"BIG\"  \n",
       "[10] \"HRB\"   \"BWA\"   \"CVC\"   \"KMX\"   \"CCL\"   \"CBS\"   \"CMG\"   \"COH\"   \"CMCSA\"\n",
       "[19] \"DHI\"   \"DRI\"   \"DV\"    \"DTV\"   \"DISCA\" \"DLTR\"  \"EXPE\"  \"FDO\"   \"F\"    \n",
       "[28] \"FOSL\"  \"GME\"   \"GCI\"   \"GPS\"   \"GPC\"   \"GT\"    \"HOG\"   \"HAR\"   \"HAS\"  \n",
       "[37] \"HD\"    \"IGT\"   \"IPG\"   \"JCI\"   \"KSS\"   \"LEG\"   \"LEN\"   \"LTD\"   \"LOW\"  \n",
       "[46] \"M\"     \"MAR\"   \"MAT\"   \"MCD\"   \"MHP\"   \"NWL\"   \"NWSA\"  \"NKE\"   \"JWN\"  \n",
       "[55] \"ORLY\"  \"OMC\"   \"JCP\"   \"RL\"    \"PHM\"   \"ROST\"  \"SNI\"   \"SHLD\"  \"SHW\"  \n",
       "[64] \"SNA\"   \"SWK\"   \"SPLS\"  \"SBUX\"  \"HOT\"   \"TGT\"   \"TIF\"   \"TWX\"   \"TWC\"  \n",
       "[73] \"TJX\"   \"TRIP\"  \"URBN\"  \"VFC\"   \"VIAB\"  \"DIS\"   \"WPO\"   \"WHR\"   \"WYN\"  \n",
       "[82] \"WYNN\"  \"YUM\"  "
      ]
     },
     "metadata": {},
     "output_type": "display_data"
    }
   ],
   "source": [
    "symbols <- smbs[smbs['Sector'] == 'Consumer Discretionary',1]\n",
    "symbols"
   ]
  },
  {
   "cell_type": "code",
   "execution_count": 6,
   "id": "2156ad3d",
   "metadata": {},
   "outputs": [
    {
     "data": {
      "text/html": [
       "83"
      ],
      "text/latex": [
       "83"
      ],
      "text/markdown": [
       "83"
      ],
      "text/plain": [
       "[1] 83"
      ]
     },
     "metadata": {},
     "output_type": "display_data"
    }
   ],
   "source": [
    "# symbols read in from the file\n",
    "length(symbols)"
   ]
  },
  {
   "cell_type": "code",
   "execution_count": 7,
   "id": "485ca7b2",
   "metadata": {},
   "outputs": [
    {
     "name": "stderr",
     "output_type": "stream",
     "text": [
      "Warning message:\n",
      "\"APOL download failed; trying again.\"Warning message:\n",
      "\"CVC download failed; trying again.\"Warning message:\n",
      "\"CBS download failed; trying again.\"Warning message:\n",
      "\"COH download failed; trying again.\"Warning message:\n",
      "\"DTV download failed; trying again.\"Warning message:\n",
      "\"FDO download failed; trying again.\"Warning message:\n",
      "\"HAR contains missing values. Some functions will not work if objects contain missing values in the middle of the series. Consider using na.omit(), na.approx(), na.fill(), etc to remove or replace them.\"Warning message:\n",
      "\"LTD download failed; trying again.\"Warning message:\n",
      "\"MHP contains missing values. Some functions will not work if objects contain missing values in the middle of the series. Consider using na.omit(), na.approx(), na.fill(), etc to remove or replace them.\"Warning message:\n",
      "\"JCP download failed; trying again.\"Warning message:\n",
      "\"SNI contains missing values. Some functions will not work if objects contain missing values in the middle of the series. Consider using na.omit(), na.approx(), na.fill(), etc to remove or replace them.\"Warning message:\n",
      "\"SHLD contains missing values. Some functions will not work if objects contain missing values in the middle of the series. Consider using na.omit(), na.approx(), na.fill(), etc to remove or replace them.\"Warning message:\n",
      "\"SPLS download failed; trying again.\"Warning message:\n",
      "\"HOT contains missing values. Some functions will not work if objects contain missing values in the middle of the series. Consider using na.omit(), na.approx(), na.fill(), etc to remove or replace them.\"Warning message:\n",
      "\"TIF download failed; trying again.\"Warning message:\n",
      "\"TWX contains missing values. Some functions will not work if objects contain missing values in the middle of the series. Consider using na.omit(), na.approx(), na.fill(), etc to remove or replace them.\"Warning message:\n",
      "\"TWC download failed; trying again.\"Warning message:\n",
      "\"VIAB download failed; trying again.\"Warning message:\n",
      "\"WPO download failed; trying again.\"Warning message:\n",
      "\"WYN download failed; trying again.\""
     ]
    }
   ],
   "source": [
    "#download data\n",
    "data <- lapply(symbols, function(y)\n",
    "{\n",
    "    try(getSymbols(y, auto.assign = FALSE,from = as.Date('2015-01-01'), to = '2021-12-31'),silent=TRUE)\n",
    "})\n"
   ]
  },
  {
   "cell_type": "code",
   "execution_count": 8,
   "id": "7bbf20bf",
   "metadata": {},
   "outputs": [],
   "source": [
    "names(data) <- symbols"
   ]
  },
  {
   "cell_type": "code",
   "execution_count": 9,
   "id": "0782d36b",
   "metadata": {},
   "outputs": [
    {
     "data": {
      "text/html": [
       "83"
      ],
      "text/latex": [
       "83"
      ],
      "text/markdown": [
       "83"
      ],
      "text/plain": [
       "[1] 83"
      ]
     },
     "metadata": {},
     "output_type": "display_data"
    }
   ],
   "source": [
    "# check the symbols used for downloading process\n",
    "length(data)"
   ]
  },
  {
   "cell_type": "code",
   "execution_count": 10,
   "id": "a09ebbff",
   "metadata": {},
   "outputs": [
    {
     "name": "stderr",
     "output_type": "stream",
     "text": [
      "Warning message in if (grepl(\"Error\", data[[i]][1], fixed = TRUE)) {:\n",
      "\"the condition has length > 1 and only the first element will be used\"Warning message in if (grepl(\"Error\", data[[i]][1], fixed = TRUE)) {:\n",
      "\"the condition has length > 1 and only the first element will be used\""
     ]
    },
    {
     "name": "stdout",
     "output_type": "stream",
     "text": [
      "[1] \"Error in getSymbols.yahoo(Symbols = \\\"APOL\\\", env = <environment>, verbose = FALSE,  : \\n  Unable to import \\\"APOL\\\".\\nargument \\\"conn\\\" is missing, with no default\\n\"\n"
     ]
    },
    {
     "name": "stderr",
     "output_type": "stream",
     "text": [
      "Warning message in if (grepl(\"Error\", data[[i]][1], fixed = TRUE)) {:\n",
      "\"the condition has length > 1 and only the first element will be used\"Warning message in if (grepl(\"Error\", data[[i]][1], fixed = TRUE)) {:\n",
      "\"the condition has length > 1 and only the first element will be used\"Warning message in if (grepl(\"Error\", data[[i]][1], fixed = TRUE)) {:\n",
      "\"the condition has length > 1 and only the first element will be used\"Warning message in if (grepl(\"Error\", data[[i]][1], fixed = TRUE)) {:\n",
      "\"the condition has length > 1 and only the first element will be used\"Warning message in if (grepl(\"Error\", data[[i]][1], fixed = TRUE)) {:\n",
      "\"the condition has length > 1 and only the first element will be used\"Warning message in if (grepl(\"Error\", data[[i]][1], fixed = TRUE)) {:\n",
      "\"the condition has length > 1 and only the first element will be used\"Warning message in if (grepl(\"Error\", data[[i]][1], fixed = TRUE)) {:\n",
      "\"the condition has length > 1 and only the first element will be used\""
     ]
    },
    {
     "name": "stdout",
     "output_type": "stream",
     "text": [
      "[1] \"Error in getSymbols.yahoo(Symbols = \\\"CVC\\\", env = <environment>, verbose = FALSE,  : \\n  Unable to import \\\"CVC\\\".\\nargument \\\"conn\\\" is missing, with no default\\n\"\n"
     ]
    },
    {
     "name": "stderr",
     "output_type": "stream",
     "text": [
      "Warning message in if (grepl(\"Error\", data[[i]][1], fixed = TRUE)) {:\n",
      "\"the condition has length > 1 and only the first element will be used\""
     ]
    },
    {
     "name": "stdout",
     "output_type": "stream",
     "text": [
      "[1] \"Error in getSymbols.yahoo(Symbols = \\\"CBS\\\", env = <environment>, verbose = FALSE,  : \\n  Unable to import \\\"CBS\\\".\\nargument \\\"conn\\\" is missing, with no default\\n\"\n",
      "[1] \"Error in getSymbols.yahoo(Symbols = \\\"COH\\\", env = <environment>, verbose = FALSE,  : \\n  Unable to import \\\"COH\\\".\\nargument \\\"conn\\\" is missing, with no default\\n\"\n"
     ]
    },
    {
     "name": "stderr",
     "output_type": "stream",
     "text": [
      "Warning message in if (grepl(\"Error\", data[[i]][1], fixed = TRUE)) {:\n",
      "\"the condition has length > 1 and only the first element will be used\"Warning message in if (grepl(\"Error\", data[[i]][1], fixed = TRUE)) {:\n",
      "\"the condition has length > 1 and only the first element will be used\"Warning message in if (grepl(\"Error\", data[[i]][1], fixed = TRUE)) {:\n",
      "\"the condition has length > 1 and only the first element will be used\""
     ]
    },
    {
     "name": "stdout",
     "output_type": "stream",
     "text": [
      "[1] \"Error in getSymbols.yahoo(Symbols = \\\"DTV\\\", env = <environment>, verbose = FALSE,  : \\n  Unable to import \\\"DTV\\\".\\nargument \\\"conn\\\" is missing, with no default\\n\"\n"
     ]
    },
    {
     "name": "stderr",
     "output_type": "stream",
     "text": [
      "Warning message in if (grepl(\"Error\", data[[i]][1], fixed = TRUE)) {:\n",
      "\"the condition has length > 1 and only the first element will be used\"Warning message in if (grepl(\"Error\", data[[i]][1], fixed = TRUE)) {:\n",
      "\"the condition has length > 1 and only the first element will be used\""
     ]
    },
    {
     "name": "stdout",
     "output_type": "stream",
     "text": [
      "[1] \"Error in getSymbols.yahoo(Symbols = \\\"FDO\\\", env = <environment>, verbose = FALSE,  : \\n  Unable to import \\\"FDO\\\".\\nargument \\\"conn\\\" is missing, with no default\\n\"\n"
     ]
    },
    {
     "name": "stderr",
     "output_type": "stream",
     "text": [
      "Warning message in if (grepl(\"Error\", data[[i]][1], fixed = TRUE)) {:\n",
      "\"the condition has length > 1 and only the first element will be used\"Warning message in if (grepl(\"Error\", data[[i]][1], fixed = TRUE)) {:\n",
      "\"the condition has length > 1 and only the first element will be used\"Warning message in if (grepl(\"Error\", data[[i]][1], fixed = TRUE)) {:\n",
      "\"the condition has length > 1 and only the first element will be used\"Warning message in if (grepl(\"Error\", data[[i]][1], fixed = TRUE)) {:\n",
      "\"the condition has length > 1 and only the first element will be used\"Warning message in if (grepl(\"Error\", data[[i]][1], fixed = TRUE)) {:\n",
      "\"the condition has length > 1 and only the first element will be used\"Warning message in if (grepl(\"Error\", data[[i]][1], fixed = TRUE)) {:\n",
      "\"the condition has length > 1 and only the first element will be used\"Warning message in if (grepl(\"Error\", data[[i]][1], fixed = TRUE)) {:\n",
      "\"the condition has length > 1 and only the first element will be used\"Warning message in if (grepl(\"Error\", data[[i]][1], fixed = TRUE)) {:\n",
      "\"the condition has length > 1 and only the first element will be used\"Warning message in if (grepl(\"Error\", data[[i]][1], fixed = TRUE)) {:\n",
      "\"the condition has length > 1 and only the first element will be used\"Warning message in if (grepl(\"Error\", data[[i]][1], fixed = TRUE)) {:\n",
      "\"the condition has length > 1 and only the first element will be used\"Warning message in if (grepl(\"Error\", data[[i]][1], fixed = TRUE)) {:\n",
      "\"the condition has length > 1 and only the first element will be used\"Warning message in if (grepl(\"Error\", data[[i]][1], fixed = TRUE)) {:\n",
      "\"the condition has length > 1 and only the first element will be used\"Warning message in if (grepl(\"Error\", data[[i]][1], fixed = TRUE)) {:\n",
      "\"the condition has length > 1 and only the first element will be used\"Warning message in if (grepl(\"Error\", data[[i]][1], fixed = TRUE)) {:\n",
      "\"the condition has length > 1 and only the first element will be used\"Warning message in if (grepl(\"Error\", data[[i]][1], fixed = TRUE)) {:\n",
      "\"the condition has length > 1 and only the first element will be used\"Warning message in if (grepl(\"Error\", data[[i]][1], fixed = TRUE)) {:\n",
      "\"the condition has length > 1 and only the first element will be used\""
     ]
    },
    {
     "name": "stdout",
     "output_type": "stream",
     "text": [
      "[1] \"Error in getSymbols.yahoo(Symbols = \\\"LTD\\\", env = <environment>, verbose = FALSE,  : \\n  Unable to import \\\"LTD\\\".\\nargument \\\"conn\\\" is missing, with no default\\n\"\n"
     ]
    },
    {
     "name": "stderr",
     "output_type": "stream",
     "text": [
      "Warning message in if (grepl(\"Error\", data[[i]][1], fixed = TRUE)) {:\n",
      "\"the condition has length > 1 and only the first element will be used\"Warning message in if (grepl(\"Error\", data[[i]][1], fixed = TRUE)) {:\n",
      "\"the condition has length > 1 and only the first element will be used\"Warning message in if (grepl(\"Error\", data[[i]][1], fixed = TRUE)) {:\n",
      "\"the condition has length > 1 and only the first element will be used\"Warning message in if (grepl(\"Error\", data[[i]][1], fixed = TRUE)) {:\n",
      "\"the condition has length > 1 and only the first element will be used\"Warning message in if (grepl(\"Error\", data[[i]][1], fixed = TRUE)) {:\n",
      "\"the condition has length > 1 and only the first element will be used\"Warning message in if (grepl(\"Error\", data[[i]][1], fixed = TRUE)) {:\n",
      "\"the condition has length > 1 and only the first element will be used\"Warning message in if (grepl(\"Error\", data[[i]][1], fixed = TRUE)) {:\n",
      "\"the condition has length > 1 and only the first element will be used\"Warning message in if (grepl(\"Error\", data[[i]][1], fixed = TRUE)) {:\n",
      "\"the condition has length > 1 and only the first element will be used\"Warning message in if (grepl(\"Error\", data[[i]][1], fixed = TRUE)) {:\n",
      "\"the condition has length > 1 and only the first element will be used\"Warning message in if (grepl(\"Error\", data[[i]][1], fixed = TRUE)) {:\n",
      "\"the condition has length > 1 and only the first element will be used\"Warning message in if (grepl(\"Error\", data[[i]][1], fixed = TRUE)) {:\n",
      "\"the condition has length > 1 and only the first element will be used\""
     ]
    },
    {
     "name": "stdout",
     "output_type": "stream",
     "text": [
      "[1] \"Error in getSymbols.yahoo(Symbols = \\\"JCP\\\", env = <environment>, verbose = FALSE,  : \\n  Unable to import \\\"JCP\\\".\\nargument \\\"conn\\\" is missing, with no default\\n\"\n"
     ]
    },
    {
     "name": "stderr",
     "output_type": "stream",
     "text": [
      "Warning message in if (grepl(\"Error\", data[[i]][1], fixed = TRUE)) {:\n",
      "\"the condition has length > 1 and only the first element will be used\"Warning message in if (grepl(\"Error\", data[[i]][1], fixed = TRUE)) {:\n",
      "\"the condition has length > 1 and only the first element will be used\"Warning message in if (grepl(\"Error\", data[[i]][1], fixed = TRUE)) {:\n",
      "\"the condition has length > 1 and only the first element will be used\"Warning message in if (grepl(\"Error\", data[[i]][1], fixed = TRUE)) {:\n",
      "\"the condition has length > 1 and only the first element will be used\"Warning message in if (grepl(\"Error\", data[[i]][1], fixed = TRUE)) {:\n",
      "\"the condition has length > 1 and only the first element will be used\"Warning message in if (grepl(\"Error\", data[[i]][1], fixed = TRUE)) {:\n",
      "\"the condition has length > 1 and only the first element will be used\"Warning message in if (grepl(\"Error\", data[[i]][1], fixed = TRUE)) {:\n",
      "\"the condition has length > 1 and only the first element will be used\""
     ]
    },
    {
     "name": "stdout",
     "output_type": "stream",
     "text": [
      "[1] \"Error in getSymbols.yahoo(Symbols = \\\"SPLS\\\", env = <environment>, verbose = FALSE,  : \\n  Unable to import \\\"SPLS\\\".\\nargument \\\"conn\\\" is missing, with no default\\n\"\n"
     ]
    },
    {
     "name": "stderr",
     "output_type": "stream",
     "text": [
      "Warning message in if (grepl(\"Error\", data[[i]][1], fixed = TRUE)) {:\n",
      "\"the condition has length > 1 and only the first element will be used\"Warning message in if (grepl(\"Error\", data[[i]][1], fixed = TRUE)) {:\n",
      "\"the condition has length > 1 and only the first element will be used\""
     ]
    },
    {
     "name": "stdout",
     "output_type": "stream",
     "text": [
      "[1] \"Error in getSymbols.yahoo(Symbols = \\\"TIF\\\", env = <environment>, verbose = FALSE,  : \\n  Unable to import \\\"TIF\\\".\\nargument \\\"conn\\\" is missing, with no default\\n\"\n",
      "[1] \"Error in getSymbols.yahoo(Symbols = \\\"TWC\\\", env = <environment>, verbose = FALSE,  : \\n  Unable to import \\\"TWC\\\".\\nargument \\\"conn\\\" is missing, with no default\\n\"\n"
     ]
    },
    {
     "name": "stderr",
     "output_type": "stream",
     "text": [
      "Warning message in if (grepl(\"Error\", data[[i]][1], fixed = TRUE)) {:\n",
      "\"the condition has length > 1 and only the first element will be used\"Warning message in if (grepl(\"Error\", data[[i]][1], fixed = TRUE)) {:\n",
      "\"the condition has length > 1 and only the first element will be used\"Warning message in if (grepl(\"Error\", data[[i]][1], fixed = TRUE)) {:\n",
      "\"the condition has length > 1 and only the first element will be used\""
     ]
    },
    {
     "name": "stdout",
     "output_type": "stream",
     "text": [
      "[1] \"Error in getSymbols.yahoo(Symbols = \\\"VIAB\\\", env = <environment>, verbose = FALSE,  : \\n  Unable to import \\\"VIAB\\\".\\nargument \\\"conn\\\" is missing, with no default\\n\"\n",
      "[1] \"Error in getSymbols.yahoo(Symbols = \\\"WPO\\\", env = <environment>, verbose = FALSE,  : \\n  Unable to import \\\"WPO\\\".\\nargument \\\"conn\\\" is missing, with no default\\n\"\n",
      "[1] \"Error in getSymbols.yahoo(Symbols = \\\"WYN\\\", env = <environment>, verbose = FALSE,  : \\n  Unable to import \\\"WYN\\\".\\nargument \\\"conn\\\" is missing, with no default\\n\"\n"
     ]
    },
    {
     "name": "stderr",
     "output_type": "stream",
     "text": [
      "Warning message in if (grepl(\"Error\", data[[i]][1], fixed = TRUE)) {:\n",
      "\"the condition has length > 1 and only the first element will be used\""
     ]
    },
    {
     "ename": "ERROR",
     "evalue": "Error in data[[i]]: subscript out of bounds\n",
     "output_type": "error",
     "traceback": [
      "Error in data[[i]]: subscript out of bounds\nTraceback:\n",
      "1. grepl(\"Error\", data[[i]][1], fixed = TRUE)"
     ]
    }
   ],
   "source": [
    "# remove stocks that are not available from Default Yahoo data source\n",
    "for (i in seq_along(data)) {    \n",
    "   if(grepl('Error', data[[i]][1], fixed=TRUE)){\n",
    "       print(data[[i]][1])\n",
    "       data[[i]]<-NULL\n",
    "    }\n",
    "}"
   ]
  },
  {
   "cell_type": "code",
   "execution_count": 16,
   "id": "88d48e4b",
   "metadata": {},
   "outputs": [
    {
     "data": {
      "text/html": [
       "69"
      ],
      "text/latex": [
       "69"
      ],
      "text/markdown": [
       "69"
      ],
      "text/plain": [
       "[1] 69"
      ]
     },
     "metadata": {},
     "output_type": "display_data"
    }
   ],
   "source": [
    "length(data) # available stock data"
   ]
  },
  {
   "cell_type": "code",
   "execution_count": 13,
   "id": "a05968ab",
   "metadata": {},
   "outputs": [],
   "source": [
    "# only need the closing price\n",
    "data <- lapply(names(data), function(y){\n",
    "    data[[y]] <- data[[y]][, paste0(y, '.Close')]\n",
    "})"
   ]
  },
  {
   "cell_type": "code",
   "execution_count": 19,
   "id": "9690bf34",
   "metadata": {},
   "outputs": [
    {
     "data": {
      "text/plain": [
       "           ANF.Close\n",
       "2015-01-02     28.58\n",
       "2015-01-05     28.27\n",
       "2015-01-06     28.88\n",
       "2015-01-07     29.33\n",
       "2015-01-08     29.11\n",
       "2015-01-09     28.19"
      ]
     },
     "metadata": {},
     "output_type": "display_data"
    },
    {
     "data": {
      "text/plain": [
       "           ANF.Close\n",
       "2021-12-22     34.20\n",
       "2021-12-23     34.36\n",
       "2021-12-27     34.71\n",
       "2021-12-28     34.33\n",
       "2021-12-29     35.34\n",
       "2021-12-30     35.46"
      ]
     },
     "metadata": {},
     "output_type": "display_data"
    }
   ],
   "source": [
    "# check the date range\n",
    "head(data[[1]])\n",
    "tail(data[[1]])"
   ]
  },
  {
   "cell_type": "code",
   "execution_count": 18,
   "id": "0e5d011f",
   "metadata": {},
   "outputs": [
    {
     "data": {
      "text/html": [
       "'list'"
      ],
      "text/latex": [
       "'list'"
      ],
      "text/markdown": [
       "'list'"
      ],
      "text/plain": [
       "[1] \"list\""
      ]
     },
     "metadata": {},
     "output_type": "display_data"
    }
   ],
   "source": [
    "class(data)"
   ]
  },
  {
   "cell_type": "markdown",
   "id": "b1f60f84",
   "metadata": {},
   "source": [
    "1. Compute the log-returns and simple returns for all the stocks. Save these to lrets and rets objectsm respectively. From now on, you will work with the logarithmic returns."
   ]
  },
  {
   "cell_type": "code",
   "execution_count": 20,
   "id": "080eea71",
   "metadata": {},
   "outputs": [
    {
     "data": {
      "text/plain": [
       "              ANF.Close\n",
       "2015-01-05 -0.010906001\n",
       "2015-01-06  0.021348108\n",
       "2015-01-07  0.015461604\n",
       "2015-01-08 -0.007529091\n",
       "2015-01-09 -0.032114452\n",
       "2015-01-12  0.003541080"
      ]
     },
     "metadata": {},
     "output_type": "display_data"
    },
    {
     "data": {
      "text/plain": [
       "              ANF.Close\n",
       "2015-01-05 -0.010846746\n",
       "2015-01-06  0.021577609\n",
       "2015-01-07  0.015581753\n",
       "2015-01-08 -0.007500818\n",
       "2015-01-09 -0.031604259\n",
       "2015-01-12  0.003547357"
      ]
     },
     "metadata": {},
     "output_type": "display_data"
    }
   ],
   "source": [
    "# compute log-returns for returns\n",
    "lrets <- lapply(data, function(y){\n",
    "  y <- na.omit(diff(log(y)))  \n",
    "})\n",
    "head(lrets[[1]])\n",
    "\n",
    "# compute simple returns\n",
    "rets <- lapply(data, function(y){\n",
    "  y <- na.omit(diff(y)/lag(y))\n",
    "})\n",
    "\n",
    "head(rets[[1]])"
   ]
  },
  {
   "cell_type": "markdown",
   "id": "241cf364",
   "metadata": {},
   "source": [
    "2. Compute the sample mean, variance, skewness, excess kurtosis, minimum and maximum of\n",
    "the series of logarithmic returns for each of the stocks in your sample. Display these in a\n",
    "nicely readable manner."
   ]
  },
  {
   "cell_type": "code",
   "execution_count": 22,
   "id": "e8c5c56a",
   "metadata": {},
   "outputs": [
    {
     "data": {
      "text/html": [
       "1761"
      ],
      "text/latex": [
       "1761"
      ],
      "text/markdown": [
       "1761"
      ],
      "text/plain": [
       "[1] 1761"
      ]
     },
     "metadata": {},
     "output_type": "display_data"
    }
   ],
   "source": [
    "#data need to match timmestamps.So check the dates that are common for all the symbols.\n",
    "dates <- index(lrets[[1]])\n",
    "date_len <- length(dates)\n",
    "date_len"
   ]
  },
  {
   "cell_type": "code",
   "execution_count": 23,
   "id": "7af9b254",
   "metadata": {},
   "outputs": [
    {
     "data": {
      "text/html": [
       "69"
      ],
      "text/latex": [
       "69"
      ],
      "text/markdown": [
       "69"
      ],
      "text/plain": [
       "[1] 69"
      ]
     },
     "metadata": {},
     "output_type": "display_data"
    }
   ],
   "source": [
    "length(lrets)"
   ]
  },
  {
   "cell_type": "code",
   "execution_count": 25,
   "id": "001e7242",
   "metadata": {},
   "outputs": [
    {
     "ename": "ERROR",
     "evalue": "Error in lrets[[i]]: subscript out of bounds\n",
     "output_type": "error",
     "traceback": [
      "Error in lrets[[i]]: subscript out of bounds\nTraceback:\n"
     ]
    }
   ],
   "source": [
    "# remove the stocks do not have enough data\n",
    "for (i in 2:length(lrets)){\n",
    "    if (length(lrets[[i]]) < date_len){\n",
    "        lrets[[i]] <- NULL\n",
    "    }\n",
    "}\n"
   ]
  },
  {
   "cell_type": "code",
   "execution_count": 26,
   "id": "8bceaaf5",
   "metadata": {},
   "outputs": [
    {
     "data": {
      "text/html": [
       "61"
      ],
      "text/latex": [
       "61"
      ],
      "text/markdown": [
       "61"
      ],
      "text/plain": [
       "[1] 61"
      ]
     },
     "metadata": {},
     "output_type": "display_data"
    }
   ],
   "source": [
    "length(lrets)"
   ]
  },
  {
   "cell_type": "code",
   "execution_count": 28,
   "id": "d9d3c867",
   "metadata": {},
   "outputs": [
    {
     "data": {
      "text/html": [
       "<ol>\n",
       "\t<li>1761</li>\n",
       "\t<li>1761</li>\n",
       "\t<li>1761</li>\n",
       "\t<li>1761</li>\n",
       "\t<li>1761</li>\n",
       "\t<li>1761</li>\n",
       "\t<li>1761</li>\n",
       "\t<li>1761</li>\n",
       "\t<li>1761</li>\n",
       "\t<li>1761</li>\n",
       "\t<li>1761</li>\n",
       "\t<li>1761</li>\n",
       "\t<li>1761</li>\n",
       "\t<li>1761</li>\n",
       "\t<li>1761</li>\n",
       "\t<li>1761</li>\n",
       "\t<li>1761</li>\n",
       "\t<li>1761</li>\n",
       "\t<li>1761</li>\n",
       "\t<li>1761</li>\n",
       "\t<li>1761</li>\n",
       "\t<li>1761</li>\n",
       "\t<li>1761</li>\n",
       "\t<li>1761</li>\n",
       "\t<li>1761</li>\n",
       "\t<li>1761</li>\n",
       "\t<li>1761</li>\n",
       "\t<li>1761</li>\n",
       "\t<li>1761</li>\n",
       "\t<li>1761</li>\n",
       "\t<li>1761</li>\n",
       "\t<li>1761</li>\n",
       "\t<li>1761</li>\n",
       "\t<li>1761</li>\n",
       "\t<li>1761</li>\n",
       "\t<li>1761</li>\n",
       "\t<li>1761</li>\n",
       "\t<li>1761</li>\n",
       "\t<li>1761</li>\n",
       "\t<li>1761</li>\n",
       "\t<li>1761</li>\n",
       "\t<li>1761</li>\n",
       "\t<li>1761</li>\n",
       "\t<li>1761</li>\n",
       "\t<li>1761</li>\n",
       "\t<li>1761</li>\n",
       "\t<li>1761</li>\n",
       "\t<li>1761</li>\n",
       "\t<li>1761</li>\n",
       "\t<li>1761</li>\n",
       "\t<li>1761</li>\n",
       "\t<li>1761</li>\n",
       "\t<li>1761</li>\n",
       "\t<li>1761</li>\n",
       "\t<li>1761</li>\n",
       "\t<li>1761</li>\n",
       "\t<li>1761</li>\n",
       "\t<li>1761</li>\n",
       "\t<li>1761</li>\n",
       "\t<li>1761</li>\n",
       "\t<li>1761</li>\n",
       "</ol>\n"
      ],
      "text/latex": [
       "\\begin{enumerate}\n",
       "\\item 1761\n",
       "\\item 1761\n",
       "\\item 1761\n",
       "\\item 1761\n",
       "\\item 1761\n",
       "\\item 1761\n",
       "\\item 1761\n",
       "\\item 1761\n",
       "\\item 1761\n",
       "\\item 1761\n",
       "\\item 1761\n",
       "\\item 1761\n",
       "\\item 1761\n",
       "\\item 1761\n",
       "\\item 1761\n",
       "\\item 1761\n",
       "\\item 1761\n",
       "\\item 1761\n",
       "\\item 1761\n",
       "\\item 1761\n",
       "\\item 1761\n",
       "\\item 1761\n",
       "\\item 1761\n",
       "\\item 1761\n",
       "\\item 1761\n",
       "\\item 1761\n",
       "\\item 1761\n",
       "\\item 1761\n",
       "\\item 1761\n",
       "\\item 1761\n",
       "\\item 1761\n",
       "\\item 1761\n",
       "\\item 1761\n",
       "\\item 1761\n",
       "\\item 1761\n",
       "\\item 1761\n",
       "\\item 1761\n",
       "\\item 1761\n",
       "\\item 1761\n",
       "\\item 1761\n",
       "\\item 1761\n",
       "\\item 1761\n",
       "\\item 1761\n",
       "\\item 1761\n",
       "\\item 1761\n",
       "\\item 1761\n",
       "\\item 1761\n",
       "\\item 1761\n",
       "\\item 1761\n",
       "\\item 1761\n",
       "\\item 1761\n",
       "\\item 1761\n",
       "\\item 1761\n",
       "\\item 1761\n",
       "\\item 1761\n",
       "\\item 1761\n",
       "\\item 1761\n",
       "\\item 1761\n",
       "\\item 1761\n",
       "\\item 1761\n",
       "\\item 1761\n",
       "\\end{enumerate}\n"
      ],
      "text/markdown": [
       "1. 1761\n",
       "2. 1761\n",
       "3. 1761\n",
       "4. 1761\n",
       "5. 1761\n",
       "6. 1761\n",
       "7. 1761\n",
       "8. 1761\n",
       "9. 1761\n",
       "10. 1761\n",
       "11. 1761\n",
       "12. 1761\n",
       "13. 1761\n",
       "14. 1761\n",
       "15. 1761\n",
       "16. 1761\n",
       "17. 1761\n",
       "18. 1761\n",
       "19. 1761\n",
       "20. 1761\n",
       "21. 1761\n",
       "22. 1761\n",
       "23. 1761\n",
       "24. 1761\n",
       "25. 1761\n",
       "26. 1761\n",
       "27. 1761\n",
       "28. 1761\n",
       "29. 1761\n",
       "30. 1761\n",
       "31. 1761\n",
       "32. 1761\n",
       "33. 1761\n",
       "34. 1761\n",
       "35. 1761\n",
       "36. 1761\n",
       "37. 1761\n",
       "38. 1761\n",
       "39. 1761\n",
       "40. 1761\n",
       "41. 1761\n",
       "42. 1761\n",
       "43. 1761\n",
       "44. 1761\n",
       "45. 1761\n",
       "46. 1761\n",
       "47. 1761\n",
       "48. 1761\n",
       "49. 1761\n",
       "50. 1761\n",
       "51. 1761\n",
       "52. 1761\n",
       "53. 1761\n",
       "54. 1761\n",
       "55. 1761\n",
       "56. 1761\n",
       "57. 1761\n",
       "58. 1761\n",
       "59. 1761\n",
       "60. 1761\n",
       "61. 1761\n",
       "\n",
       "\n"
      ],
      "text/plain": [
       "[[1]]\n",
       "[1] 1761\n",
       "\n",
       "[[2]]\n",
       "[1] 1761\n",
       "\n",
       "[[3]]\n",
       "[1] 1761\n",
       "\n",
       "[[4]]\n",
       "[1] 1761\n",
       "\n",
       "[[5]]\n",
       "[1] 1761\n",
       "\n",
       "[[6]]\n",
       "[1] 1761\n",
       "\n",
       "[[7]]\n",
       "[1] 1761\n",
       "\n",
       "[[8]]\n",
       "[1] 1761\n",
       "\n",
       "[[9]]\n",
       "[1] 1761\n",
       "\n",
       "[[10]]\n",
       "[1] 1761\n",
       "\n",
       "[[11]]\n",
       "[1] 1761\n",
       "\n",
       "[[12]]\n",
       "[1] 1761\n",
       "\n",
       "[[13]]\n",
       "[1] 1761\n",
       "\n",
       "[[14]]\n",
       "[1] 1761\n",
       "\n",
       "[[15]]\n",
       "[1] 1761\n",
       "\n",
       "[[16]]\n",
       "[1] 1761\n",
       "\n",
       "[[17]]\n",
       "[1] 1761\n",
       "\n",
       "[[18]]\n",
       "[1] 1761\n",
       "\n",
       "[[19]]\n",
       "[1] 1761\n",
       "\n",
       "[[20]]\n",
       "[1] 1761\n",
       "\n",
       "[[21]]\n",
       "[1] 1761\n",
       "\n",
       "[[22]]\n",
       "[1] 1761\n",
       "\n",
       "[[23]]\n",
       "[1] 1761\n",
       "\n",
       "[[24]]\n",
       "[1] 1761\n",
       "\n",
       "[[25]]\n",
       "[1] 1761\n",
       "\n",
       "[[26]]\n",
       "[1] 1761\n",
       "\n",
       "[[27]]\n",
       "[1] 1761\n",
       "\n",
       "[[28]]\n",
       "[1] 1761\n",
       "\n",
       "[[29]]\n",
       "[1] 1761\n",
       "\n",
       "[[30]]\n",
       "[1] 1761\n",
       "\n",
       "[[31]]\n",
       "[1] 1761\n",
       "\n",
       "[[32]]\n",
       "[1] 1761\n",
       "\n",
       "[[33]]\n",
       "[1] 1761\n",
       "\n",
       "[[34]]\n",
       "[1] 1761\n",
       "\n",
       "[[35]]\n",
       "[1] 1761\n",
       "\n",
       "[[36]]\n",
       "[1] 1761\n",
       "\n",
       "[[37]]\n",
       "[1] 1761\n",
       "\n",
       "[[38]]\n",
       "[1] 1761\n",
       "\n",
       "[[39]]\n",
       "[1] 1761\n",
       "\n",
       "[[40]]\n",
       "[1] 1761\n",
       "\n",
       "[[41]]\n",
       "[1] 1761\n",
       "\n",
       "[[42]]\n",
       "[1] 1761\n",
       "\n",
       "[[43]]\n",
       "[1] 1761\n",
       "\n",
       "[[44]]\n",
       "[1] 1761\n",
       "\n",
       "[[45]]\n",
       "[1] 1761\n",
       "\n",
       "[[46]]\n",
       "[1] 1761\n",
       "\n",
       "[[47]]\n",
       "[1] 1761\n",
       "\n",
       "[[48]]\n",
       "[1] 1761\n",
       "\n",
       "[[49]]\n",
       "[1] 1761\n",
       "\n",
       "[[50]]\n",
       "[1] 1761\n",
       "\n",
       "[[51]]\n",
       "[1] 1761\n",
       "\n",
       "[[52]]\n",
       "[1] 1761\n",
       "\n",
       "[[53]]\n",
       "[1] 1761\n",
       "\n",
       "[[54]]\n",
       "[1] 1761\n",
       "\n",
       "[[55]]\n",
       "[1] 1761\n",
       "\n",
       "[[56]]\n",
       "[1] 1761\n",
       "\n",
       "[[57]]\n",
       "[1] 1761\n",
       "\n",
       "[[58]]\n",
       "[1] 1761\n",
       "\n",
       "[[59]]\n",
       "[1] 1761\n",
       "\n",
       "[[60]]\n",
       "[1] 1761\n",
       "\n",
       "[[61]]\n",
       "[1] 1761\n"
      ]
     },
     "metadata": {},
     "output_type": "display_data"
    }
   ],
   "source": [
    "#check the dates for each stock\n",
    "lapply(lrets, nrow)"
   ]
  },
  {
   "cell_type": "code",
   "execution_count": 30,
   "id": "a8a399d0",
   "metadata": {},
   "outputs": [
    {
     "data": {
      "text/html": [
       "<table>\n",
       "<tbody>\n",
       "\t<tr><th scope=row>mean</th><td> 0.0001</td><td> 0.0014</td><td> 0.0004</td><td> 0.0007</td><td>-0.0009</td><td> 0.0005</td><td> 0.0001</td><td>-0.0002</td><td>-0.0001</td><td> 0.0004</td><td>...    </td><td> 0.0006</td><td> 0.0006</td><td> 0.0005</td><td>-0.0006</td><td>-0.0001</td><td> 0.0000</td><td> 0.0003</td><td> 0.0001</td><td>-0.0003</td><td> 0.0006</td></tr>\n",
       "\t<tr><th scope=row>sd</th><td> 0.0366</td><td> 0.0188</td><td> 0.0230</td><td> 0.0167</td><td> 0.0434</td><td> 0.0237</td><td> 0.0328</td><td> 0.0231</td><td> 0.0218</td><td> 0.0222</td><td>...    </td><td> 0.0164</td><td> 0.0180</td><td> 0.0175</td><td> 0.0323</td><td> 0.0298</td><td> 0.0204</td><td> 0.0168</td><td> 0.0224</td><td> 0.0329</td><td> 0.0161</td></tr>\n",
       "\t<tr><th scope=row>min</th><td>-0.3075</td><td>-0.0825</td><td>-0.2121</td><td>-0.1736</td><td>-0.4525</td><td>-0.1655</td><td>-0.3502</td><td>-0.1977</td><td>-0.1220</td><td>-0.2304</td><td>...    </td><td>-0.1768</td><td>-0.1310</td><td>-0.2281</td><td>-0.2643</td><td>-0.1650</td><td>-0.1384</td><td>-0.1391</td><td>-0.2183</td><td>-0.2802</td><td>-0.2087</td></tr>\n",
       "\t<tr><th scope=row>max</th><td> 0.2235</td><td> 0.1322</td><td> 0.1462</td><td> 0.1114</td><td> 0.4831</td><td> 0.1946</td><td> 0.2831</td><td> 0.1404</td><td> 0.1498</td><td> 0.1661</td><td>...    </td><td> 0.1374</td><td> 0.1859</td><td> 0.1214</td><td> 0.2274</td><td> 0.1939</td><td> 0.1311</td><td> 0.1346</td><td> 0.2591</td><td> 0.2444</td><td> 0.2090</td></tr>\n",
       "</tbody>\n",
       "</table>\n"
      ],
      "text/latex": [
       "\\begin{tabular}{r|lllllllllllllllllllllllllllllllllllllllllllllllllllllllllllll}\n",
       "\tmean &  0.0001 &  0.0014 &  0.0004 &  0.0007 & -0.0009 &  0.0005 &  0.0001 & -0.0002 & -0.0001 &  0.0004 & ...     &  0.0006 &  0.0006 &  0.0005 & -0.0006 & -0.0001 &  0.0000 &  0.0003 &  0.0001 & -0.0003 &  0.0006\\\\\n",
       "\tsd &  0.0366 &  0.0188 &  0.0230 &  0.0167 &  0.0434 &  0.0237 &  0.0328 &  0.0231 &  0.0218 &  0.0222 & ...     &  0.0164 &  0.0180 &  0.0175 &  0.0323 &  0.0298 &  0.0204 &  0.0168 &  0.0224 &  0.0329 &  0.0161\\\\\n",
       "\tmin & -0.3075 & -0.0825 & -0.2121 & -0.1736 & -0.4525 & -0.1655 & -0.3502 & -0.1977 & -0.1220 & -0.2304 & ...     & -0.1768 & -0.1310 & -0.2281 & -0.2643 & -0.1650 & -0.1384 & -0.1391 & -0.2183 & -0.2802 & -0.2087\\\\\n",
       "\tmax &  0.2235 &  0.1322 &  0.1462 &  0.1114 &  0.4831 &  0.1946 &  0.2831 &  0.1404 &  0.1498 &  0.1661 & ...     &  0.1374 &  0.1859 &  0.1214 &  0.2274 &  0.1939 &  0.1311 &  0.1346 &  0.2591 &  0.2444 &  0.2090\\\\\n",
       "\\end{tabular}\n"
      ],
      "text/markdown": [
       "\n",
       "| mean |  0.0001 |  0.0014 |  0.0004 |  0.0007 | -0.0009 |  0.0005 |  0.0001 | -0.0002 | -0.0001 |  0.0004 | ...     |  0.0006 |  0.0006 |  0.0005 | -0.0006 | -0.0001 |  0.0000 |  0.0003 |  0.0001 | -0.0003 |  0.0006 |\n",
       "| sd |  0.0366 |  0.0188 |  0.0230 |  0.0167 |  0.0434 |  0.0237 |  0.0328 |  0.0231 |  0.0218 |  0.0222 | ...     |  0.0164 |  0.0180 |  0.0175 |  0.0323 |  0.0298 |  0.0204 |  0.0168 |  0.0224 |  0.0329 |  0.0161 |\n",
       "| min | -0.3075 | -0.0825 | -0.2121 | -0.1736 | -0.4525 | -0.1655 | -0.3502 | -0.1977 | -0.1220 | -0.2304 | ...     | -0.1768 | -0.1310 | -0.2281 | -0.2643 | -0.1650 | -0.1384 | -0.1391 | -0.2183 | -0.2802 | -0.2087 |\n",
       "| max |  0.2235 |  0.1322 |  0.1462 |  0.1114 |  0.4831 |  0.1946 |  0.2831 |  0.1404 |  0.1498 |  0.1661 | ...     |  0.1374 |  0.1859 |  0.1214 |  0.2274 |  0.1939 |  0.1311 |  0.1346 |  0.2591 |  0.2444 |  0.2090 |\n",
       "\n"
      ],
      "text/plain": [
       "     [,1]    [,2]    [,3]    [,4]    [,5]    [,6]    [,7]    [,8]    [,9]   \n",
       "mean  0.0001  0.0014  0.0004  0.0007 -0.0009  0.0005  0.0001 -0.0002 -0.0001\n",
       "sd    0.0366  0.0188  0.0230  0.0167  0.0434  0.0237  0.0328  0.0231  0.0218\n",
       "min  -0.3075 -0.0825 -0.2121 -0.1736 -0.4525 -0.1655 -0.3502 -0.1977 -0.1220\n",
       "max   0.2235  0.1322  0.1462  0.1114  0.4831  0.1946  0.2831  0.1404  0.1498\n",
       "     [,10]   [,11] [,12]   [,13]   [,14]   [,15]   [,16]   [,17]   [,18]  \n",
       "mean  0.0004 ...    0.0006  0.0006  0.0005 -0.0006 -0.0001  0.0000  0.0003\n",
       "sd    0.0222 ...    0.0164  0.0180  0.0175  0.0323  0.0298  0.0204  0.0168\n",
       "min  -0.2304 ...   -0.1768 -0.1310 -0.2281 -0.2643 -0.1650 -0.1384 -0.1391\n",
       "max   0.1661 ...    0.1374  0.1859  0.1214  0.2274  0.1939  0.1311  0.1346\n",
       "     [,19]   [,20]   [,21]  \n",
       "mean  0.0001 -0.0003  0.0006\n",
       "sd    0.0224  0.0329  0.0161\n",
       "min  -0.2183 -0.2802 -0.2087\n",
       "max   0.2591  0.2444  0.2090"
      ]
     },
     "metadata": {},
     "output_type": "display_data"
    }
   ],
   "source": [
    "# Compute the summary statistics \n",
    "stats <- lapply(lrets, function(y){\n",
    "    c(mean(y), sd(y), min(y), max(y))\n",
    "})\n",
    "# Round the numbers\n",
    "stats <- sapply(stats, function(y){\n",
    "    round(y, 4)\n",
    "    })\n",
    "# Format the output\n",
    "rownames(stats) <- c('mean', 'sd', 'min', 'max')\n",
    "#colnames(stats) <- symbols\n",
    "stats\n"
   ]
  },
  {
   "cell_type": "markdown",
   "id": "3caa0365",
   "metadata": {},
   "source": [
    "3. Try to devise one Figure that plots all time series of returns in your sample."
   ]
  },
  {
   "cell_type": "code",
   "execution_count": 31,
   "id": "019ce86f",
   "metadata": {},
   "outputs": [
    {
     "data": {
      "image/png": "[encoded data removed]",
      "text/plain": [
       "plot without title"
      ]
     },
     "metadata": {},
     "output_type": "display_data"
    },
    {
     "data": {
      "image/png": "[encoded data removed]",
      "text/plain": [
       "plot without title"
      ]
     },
     "metadata": {},
     "output_type": "display_data"
    },
    {
     "data": {
      "image/png": "[encoded data removed]",
      "text/plain": [
       "plot without title"
      ]
     },
     "metadata": {},
     "output_type": "display_data"
    },
    {
     "data": {
      "image/png": "[encoded data removed]",
      "text/plain": [
       "plot without title"
      ]
     },
     "metadata": {},
     "output_type": "display_data"
    },
    {
     "data": {
      "image/png": "[encoded data removed]",
      "text/plain": [
       "plot without title"
      ]
     },
     "metadata": {},
     "output_type": "display_data"
    },
    {
     "data": {
      "image/png": "[encoded data removed]",
      "text/plain": [
       "plot without title"
      ]
     },
     "metadata": {},
     "output_type": "display_data"
    },
    {
     "data": {
      "image/png": "[encoded data removed]",
      "text/plain": [
       "plot without title"
      ]
     },
     "metadata": {},
     "output_type": "display_data"
    },
    {
     "data": {
      "image/png": "[encoded data removed]",
      "text/plain": [
       "plot without title"
      ]
     },
     "metadata": {},
     "output_type": "display_data"
    },
    {
     "data": {
      "image/png": "[encoded data removed]",
      "text/plain": [
       "plot without title"
      ]
     },
     "metadata": {},
     "output_type": "display_data"
    },
    {
     "data": {
      "text/html": [
       "<ol>\n",
       "\t<li>NULL</li>\n",
       "\t<li>NULL</li>\n",
       "\t<li>NULL</li>\n",
       "\t<li>NULL</li>\n",
       "\t<li>NULL</li>\n",
       "\t<li>NULL</li>\n",
       "\t<li>NULL</li>\n",
       "\t<li>NULL</li>\n",
       "\t<li>NULL</li>\n",
       "\t<li>NULL</li>\n",
       "\t<li>NULL</li>\n",
       "\t<li>NULL</li>\n",
       "\t<li>NULL</li>\n",
       "\t<li>NULL</li>\n",
       "\t<li>NULL</li>\n",
       "\t<li>NULL</li>\n",
       "\t<li>NULL</li>\n",
       "\t<li>NULL</li>\n",
       "\t<li>NULL</li>\n",
       "\t<li>NULL</li>\n",
       "\t<li>NULL</li>\n",
       "\t<li>NULL</li>\n",
       "\t<li>NULL</li>\n",
       "\t<li>NULL</li>\n",
       "\t<li>NULL</li>\n",
       "\t<li>NULL</li>\n",
       "\t<li>NULL</li>\n",
       "\t<li>NULL</li>\n",
       "\t<li>NULL</li>\n",
       "\t<li>NULL</li>\n",
       "\t<li>NULL</li>\n",
       "\t<li>NULL</li>\n",
       "\t<li>NULL</li>\n",
       "\t<li>NULL</li>\n",
       "\t<li>NULL</li>\n",
       "\t<li>NULL</li>\n",
       "\t<li>NULL</li>\n",
       "\t<li>NULL</li>\n",
       "\t<li>NULL</li>\n",
       "\t<li>NULL</li>\n",
       "\t<li>NULL</li>\n",
       "\t<li>NULL</li>\n",
       "\t<li>NULL</li>\n",
       "\t<li>NULL</li>\n",
       "\t<li>NULL</li>\n",
       "\t<li>NULL</li>\n",
       "\t<li>NULL</li>\n",
       "\t<li>NULL</li>\n",
       "\t<li>NULL</li>\n",
       "\t<li>NULL</li>\n",
       "\t<li>NULL</li>\n",
       "\t<li>NULL</li>\n",
       "\t<li>NULL</li>\n",
       "\t<li>NULL</li>\n",
       "\t<li>NULL</li>\n",
       "\t<li>NULL</li>\n",
       "\t<li>NULL</li>\n",
       "\t<li>NULL</li>\n",
       "\t<li>NULL</li>\n",
       "\t<li>NULL</li>\n",
       "\t<li>NULL</li>\n",
       "</ol>\n"
      ],
      "text/latex": [
       "\\begin{enumerate}\n",
       "\\item NULL\n",
       "\\item NULL\n",
       "\\item NULL\n",
       "\\item NULL\n",
       "\\item NULL\n",
       "\\item NULL\n",
       "\\item NULL\n",
       "\\item NULL\n",
       "\\item NULL\n",
       "\\item NULL\n",
       "\\item NULL\n",
       "\\item NULL\n",
       "\\item NULL\n",
       "\\item NULL\n",
       "\\item NULL\n",
       "\\item NULL\n",
       "\\item NULL\n",
       "\\item NULL\n",
       "\\item NULL\n",
       "\\item NULL\n",
       "\\item NULL\n",
       "\\item NULL\n",
       "\\item NULL\n",
       "\\item NULL\n",
       "\\item NULL\n",
       "\\item NULL\n",
       "\\item NULL\n",
       "\\item NULL\n",
       "\\item NULL\n",
       "\\item NULL\n",
       "\\item NULL\n",
       "\\item NULL\n",
       "\\item NULL\n",
       "\\item NULL\n",
       "\\item NULL\n",
       "\\item NULL\n",
       "\\item NULL\n",
       "\\item NULL\n",
       "\\item NULL\n",
       "\\item NULL\n",
       "\\item NULL\n",
       "\\item NULL\n",
       "\\item NULL\n",
       "\\item NULL\n",
       "\\item NULL\n",
       "\\item NULL\n",
       "\\item NULL\n",
       "\\item NULL\n",
       "\\item NULL\n",
       "\\item NULL\n",
       "\\item NULL\n",
       "\\item NULL\n",
       "\\item NULL\n",
       "\\item NULL\n",
       "\\item NULL\n",
       "\\item NULL\n",
       "\\item NULL\n",
       "\\item NULL\n",
       "\\item NULL\n",
       "\\item NULL\n",
       "\\item NULL\n",
       "\\end{enumerate}\n"
      ],
      "text/markdown": [
       "1. NULL\n",
       "2. NULL\n",
       "3. NULL\n",
       "4. NULL\n",
       "5. NULL\n",
       "6. NULL\n",
       "7. NULL\n",
       "8. NULL\n",
       "9. NULL\n",
       "10. NULL\n",
       "11. NULL\n",
       "12. NULL\n",
       "13. NULL\n",
       "14. NULL\n",
       "15. NULL\n",
       "16. NULL\n",
       "17. NULL\n",
       "18. NULL\n",
       "19. NULL\n",
       "20. NULL\n",
       "21. NULL\n",
       "22. NULL\n",
       "23. NULL\n",
       "24. NULL\n",
       "25. NULL\n",
       "26. NULL\n",
       "27. NULL\n",
       "28. NULL\n",
       "29. NULL\n",
       "30. NULL\n",
       "31. NULL\n",
       "32. NULL\n",
       "33. NULL\n",
       "34. NULL\n",
       "35. NULL\n",
       "36. NULL\n",
       "37. NULL\n",
       "38. NULL\n",
       "39. NULL\n",
       "40. NULL\n",
       "41. NULL\n",
       "42. NULL\n",
       "43. NULL\n",
       "44. NULL\n",
       "45. NULL\n",
       "46. NULL\n",
       "47. NULL\n",
       "48. NULL\n",
       "49. NULL\n",
       "50. NULL\n",
       "51. NULL\n",
       "52. NULL\n",
       "53. NULL\n",
       "54. NULL\n",
       "55. NULL\n",
       "56. NULL\n",
       "57. NULL\n",
       "58. NULL\n",
       "59. NULL\n",
       "60. NULL\n",
       "61. NULL\n",
       "\n",
       "\n"
      ],
      "text/plain": [
       "[[1]]\n",
       "NULL\n",
       "\n",
       "[[2]]\n",
       "NULL\n",
       "\n",
       "[[3]]\n",
       "NULL\n",
       "\n",
       "[[4]]\n",
       "NULL\n",
       "\n",
       "[[5]]\n",
       "NULL\n",
       "\n",
       "[[6]]\n",
       "NULL\n",
       "\n",
       "[[7]]\n",
       "NULL\n",
       "\n",
       "[[8]]\n",
       "NULL\n",
       "\n",
       "[[9]]\n",
       "NULL\n",
       "\n",
       "[[10]]\n",
       "NULL\n",
       "\n",
       "[[11]]\n",
       "NULL\n",
       "\n",
       "[[12]]\n",
       "NULL\n",
       "\n",
       "[[13]]\n",
       "NULL\n",
       "\n",
       "[[14]]\n",
       "NULL\n",
       "\n",
       "[[15]]\n",
       "NULL\n",
       "\n",
       "[[16]]\n",
       "NULL\n",
       "\n",
       "[[17]]\n",
       "NULL\n",
       "\n",
       "[[18]]\n",
       "NULL\n",
       "\n",
       "[[19]]\n",
       "NULL\n",
       "\n",
       "[[20]]\n",
       "NULL\n",
       "\n",
       "[[21]]\n",
       "NULL\n",
       "\n",
       "[[22]]\n",
       "NULL\n",
       "\n",
       "[[23]]\n",
       "NULL\n",
       "\n",
       "[[24]]\n",
       "NULL\n",
       "\n",
       "[[25]]\n",
       "NULL\n",
       "\n",
       "[[26]]\n",
       "NULL\n",
       "\n",
       "[[27]]\n",
       "NULL\n",
       "\n",
       "[[28]]\n",
       "NULL\n",
       "\n",
       "[[29]]\n",
       "NULL\n",
       "\n",
       "[[30]]\n",
       "NULL\n",
       "\n",
       "[[31]]\n",
       "NULL\n",
       "\n",
       "[[32]]\n",
       "NULL\n",
       "\n",
       "[[33]]\n",
       "NULL\n",
       "\n",
       "[[34]]\n",
       "NULL\n",
       "\n",
       "[[35]]\n",
       "NULL\n",
       "\n",
       "[[36]]\n",
       "NULL\n",
       "\n",
       "[[37]]\n",
       "NULL\n",
       "\n",
       "[[38]]\n",
       "NULL\n",
       "\n",
       "[[39]]\n",
       "NULL\n",
       "\n",
       "[[40]]\n",
       "NULL\n",
       "\n",
       "[[41]]\n",
       "NULL\n",
       "\n",
       "[[42]]\n",
       "NULL\n",
       "\n",
       "[[43]]\n",
       "NULL\n",
       "\n",
       "[[44]]\n",
       "NULL\n",
       "\n",
       "[[45]]\n",
       "NULL\n",
       "\n",
       "[[46]]\n",
       "NULL\n",
       "\n",
       "[[47]]\n",
       "NULL\n",
       "\n",
       "[[48]]\n",
       "NULL\n",
       "\n",
       "[[49]]\n",
       "NULL\n",
       "\n",
       "[[50]]\n",
       "NULL\n",
       "\n",
       "[[51]]\n",
       "NULL\n",
       "\n",
       "[[52]]\n",
       "NULL\n",
       "\n",
       "[[53]]\n",
       "NULL\n",
       "\n",
       "[[54]]\n",
       "NULL\n",
       "\n",
       "[[55]]\n",
       "NULL\n",
       "\n",
       "[[56]]\n",
       "NULL\n",
       "\n",
       "[[57]]\n",
       "NULL\n",
       "\n",
       "[[58]]\n",
       "NULL\n",
       "\n",
       "[[59]]\n",
       "NULL\n",
       "\n",
       "[[60]]\n",
       "NULL\n",
       "\n",
       "[[61]]\n",
       "NULL\n"
      ]
     },
     "metadata": {},
     "output_type": "display_data"
    },
    {
     "data": {
      "image/png": "[encoded data removed]",
      "text/plain": [
       "plot without title"
      ]
     },
     "metadata": {},
     "output_type": "display_data"
    },
    {
     "data": {
      "image/png": "[encoded data removed]",
      "text/plain": [
       "plot without title"
      ]
     },
     "metadata": {},
     "output_type": "display_data"
    }
   ],
   "source": [
    "par(mfrow = c(2, 3))\n",
    "sapply(lrets, function(y){\n",
    "    plot(as.Date(index(y)), y, type = 'l', xlab = 'Year',\n",
    "     ylab = 'returns')\n",
    "})"
   ]
  }
 ],
 "metadata": {
  "kernelspec": {
   "display_name": "R",
   "language": "R",
   "name": "ir"
  },
  "language_info": {
   "codemirror_mode": "r",
   "file_extension": ".r",
   "mimetype": "text/x-r-source",
   "name": "R",
   "pygments_lexer": "r",
   "version": "3.6.1"
  }
 },
 "nbformat": 4,
 "nbformat_minor": 5
}
