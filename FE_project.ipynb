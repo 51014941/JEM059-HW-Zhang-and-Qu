{
 "cells": [
  {
   "cell_type": "markdown",
   "id": "9194b51e",
   "metadata": {},
   "source": [
    "# Financial Econometrics I  \n",
    "# Project: Volatility Forecasting"
   ]
  },
  {
   "cell_type": "markdown",
   "id": "20a232b2",
   "metadata": {},
   "source": [
    "**<span style='background: lightblue'>Group Number: 22.    \n",
    "Assigned Asset: 12.</span>**  \n",
    "  \n",
    "Team Member:  \n",
    "Lin Zhang : 15845542@fsv.cuni.cz  \n",
    "Weiwei Qu : 51014941@fsv.cuni.cz"
   ]
  },
  {
   "cell_type": "markdown",
   "id": "6b0a2575",
   "metadata": {},
   "source": [
    "# Part 1. Data description"
   ]
  },
  {
   "cell_type": "markdown",
   "id": "771c79d1",
   "metadata": {},
   "source": [
    "### Provide short summary of descriptive statistics, ACF plots and plots of data you are going to use."
   ]
  },
  {
   "cell_type": "markdown",
   "id": "ccc66a81",
   "metadata": {},
   "source": [
    "* **Setup environment**"
   ]
  },
  {
   "cell_type": "code",
   "execution_count": 2,
   "id": "3d2d3a08",
   "metadata": {},
   "outputs": [
    {
     "data": {
      "text/html": [
       "'English_United States.1252'"
      ],
      "text/latex": [
       "'English\\_United States.1252'"
      ],
      "text/markdown": [
       "'English_United States.1252'"
      ],
      "text/plain": [
       "[1] \"English_United States.1252\""
      ]
     },
     "metadata": {},
     "output_type": "display_data"
    },
    {
     "data": {
      "text/html": [
       "'R version 4.1.2 (2021-11-01)'"
      ],
      "text/latex": [
       "'R version 4.1.2 (2021-11-01)'"
      ],
      "text/markdown": [
       "'R version 4.1.2 (2021-11-01)'"
      ],
      "text/plain": [
       "[1] \"R version 4.1.2 (2021-11-01)\""
      ]
     },
     "metadata": {},
     "output_type": "display_data"
    }
   ],
   "source": [
    "# Setup environment\n",
    "Sys.setenv(LANG = \"en\")\n",
    "Sys.setlocale(\"LC_TIME\", \"English\")\n",
    "version[['version.string']]\n",
    "options(warn = -1)  # suppressing warnings\n",
    "options(repr.plot.width = 7, repr.plot.height = 6)\n",
    "\n",
    "# Load library\n",
    "if (!require(rugarch)) install.packages('rugarch')\n",
    "if (!require(repr)) install.packages('repr')\n",
    "if (!require(aTSA)) install.packages('aTSA')\n",
    "if (!require(quantmod)) install.packages('quantmod')\n",
    "if (!require(forecast)) install.packages('forecast')\n",
    "if (!require(highfrequency)) install.packages('highfrequency')\n",
    "if (!require(fGarch)) install.packages('fGarch')\n",
    "if (!require(tseries)) install.packages('tseries')\n",
    "if (!require(ggplot2)) install.packages('ggplot2')\n",
    "if (!require(ggthemes)) install.packages('ggthemes')\n",
    "\n",
    "library(rugarch)\n",
    "library(repr)\n",
    "library(aTSA)\n",
    "library(quantmod)\n",
    "library(forecast)\n",
    "library(highfrequency)\n",
    "library(fGarch)\n",
    "library(tseries)\n",
    "library(ggplot2)\n",
    "library(ggthemes) "
   ]
  },
  {
   "cell_type": "code",
   "execution_count": 3,
   "id": "87e2a963",
   "metadata": {},
   "outputs": [],
   "source": [
    "# Load to continue ...\n",
    "  save.image(file = \"FE_project.RData\")\n",
    "# load(\"FE_project.RData\")\n",
    "# ls()"
   ]
  },
  {
   "cell_type": "markdown",
   "id": "1a57b44e",
   "metadata": {},
   "source": [
    "**This homework is coded in environment of R version 4.1.2, please note that running the code on different R version might get slightly different results.   \n",
    "\"Restart & Run ALL\" code would take about <span style='background: lightblue'>40 minutes</span>.** (R_GARCH forecast itself would take 36 minutes)"
   ]
  },
  {
   "cell_type": "markdown",
   "id": "b1f60f84",
   "metadata": {},
   "source": [
    "###  (1). Load Data Set"
   ]
  },
  {
   "cell_type": "markdown",
   "id": "75a004ca",
   "metadata": {},
   "source": [
    "Each \".RData\" file contains an xts file with\n",
    "* returns (ret),\n",
    "* realized volatility (RV),\n",
    "* positive realized semi-volatility (RV p),\n",
    "* negative realized semi-volatility (RV n),\n",
    "* realized skewness (RS),\n",
    "* realized kurtosis (RK)."
   ]
  },
  {
   "cell_type": "code",
   "execution_count": 4,
   "id": "e3163288",
   "metadata": {},
   "outputs": [
    {
     "data": {
      "text/html": [
       "'adp'"
      ],
      "text/latex": [
       "'adp'"
      ],
      "text/markdown": [
       "'adp'"
      ],
      "text/plain": [
       "[1] \"adp\""
      ]
     },
     "metadata": {},
     "output_type": "display_data"
    },
    {
     "data": {
      "text/html": [
       "1500"
      ],
      "text/latex": [
       "1500"
      ],
      "text/markdown": [
       "1500"
      ],
      "text/plain": [
       "[1] 1500"
      ]
     },
     "metadata": {},
     "output_type": "display_data"
    },
    {
     "data": {
      "text/plain": [
       "                   ret          RV        RV_p        RV_n        RS       RK\n",
       "2010-01-05 -0.02065318 0.007350539 0.005405043 0.004981559 0.1417402 4.466892\n",
       "2010-01-06  0.00351129 0.007256418 0.005266342 0.004992118 0.3714606 4.651872"
      ]
     },
     "metadata": {},
     "output_type": "display_data"
    },
    {
     "data": {
      "text/plain": [
       "                   ret         RV        RV_p        RV_n         RS       RK\n",
       "2016-01-21 0.007654638 0.01692255 0.011953961 0.011978127 -0.1390421 3.147117\n",
       "2016-01-22 0.026832732 0.01078354 0.008042433 0.007183591  0.3585356 3.632521"
      ]
     },
     "metadata": {},
     "output_type": "display_data"
    }
   ],
   "source": [
    "# load assigned asset data number 12\n",
    "load(\"12.RData\")\n",
    "ls()\n",
    "nrow(adp)\n",
    "head(adp, 2)\n",
    "tail(adp, 2)\n",
    "rets <- adp$ret\n",
    "RV_day <- adp$RV\n",
    "RV_p <- adp$RV_p\n",
    "RV_n <- adp$RV_n\n",
    "RV_RS <- adp$RS\n",
    "RV_RK <- adp$RK\n"
   ]
  },
  {
   "cell_type": "markdown",
   "id": "ed0bebdc",
   "metadata": {},
   "source": [
    "**By observing, this data set contains 1500 daily samples from 2010-2016, each year has 250 trading days, so this is about 6 years data.**"
   ]
  },
  {
   "cell_type": "markdown",
   "id": "f78197b6",
   "metadata": {},
   "source": [
    "###  (2). Analysis Returns"
   ]
  },
  {
   "cell_type": "markdown",
   "id": "f2f2be47",
   "metadata": {},
   "source": [
    "* **Observe the plot**"
   ]
  },
  {
   "cell_type": "code",
   "execution_count": 4,
   "id": "561244ea",
   "metadata": {},
   "outputs": [
    {
     "data": {
      "image/png": "[encoded data removed]",
      "text/plain": [
       "plot without title"
      ]
     },
     "metadata": {
      "image/png": {
       "height": 360,
       "width": 420
      }
     },
     "output_type": "display_data"
    }
   ],
   "source": [
    "options(repr.plot.width = 7, repr.plot.height = 6)\n",
    "plot(rets,  xlab = 'Year', ylab = NA, main = 'Daily Return', \n",
    "     axes = F, cex.main = 0.8)"
   ]
  },
  {
   "cell_type": "markdown",
   "id": "9cb36a36",
   "metadata": {},
   "source": [
    "**From the plot we could observe that the Mean is probably 0, clearly AutoCorrelation exists, and it seems stationary. From the chart we could not see obvious jump or shift, so should no need subsample-testing.  \n",
    "Also we observe that on 2011 summer, there are several spikes of return bring much higher volatility, also shows volatility clustering after. Also on spring of 2014, there are high volatility and persisit cluster again.**"
   ]
  },
  {
   "cell_type": "markdown",
   "id": "bae83a01",
   "metadata": {},
   "source": [
    "* **Explore ACF and PACF test retults for lags depenency.**"
   ]
  },
  {
   "cell_type": "code",
   "execution_count": 67,
   "id": "853a33d7",
   "metadata": {},
   "outputs": [
    {
     "data": {
      "image/png": "[encoded data removed]",
      "text/plain": [
       "Plot with title \"PACF\""
      ]
     },
     "metadata": {
      "image/png": {
       "height": 360,
       "width": 420
      }
     },
     "output_type": "display_data"
    }
   ],
   "source": [
    "par(bg = \"#f7f7f7\")\n",
    "options(repr.plot.width = 7, repr.plot.height = 6)\n",
    "par(mfrow = c(1, 2))\n",
    "acf(rets, main =  'ACF', lag = 50)\n",
    "pacf(rets, main = 'PACF', lag = 50)"
   ]
  },
  {
   "cell_type": "markdown",
   "id": "07631578",
   "metadata": {},
   "source": [
    "**From ACF and PACF test, there seems a lot of dependence visible especially at lag 1 and 2.    \n",
    "And we could not rule out stationarity based on ACF and PACF, still need to conduct a formal test for autocorrelation and stationarity.**"
   ]
  },
  {
   "cell_type": "markdown",
   "id": "0e4bc1e6",
   "metadata": {},
   "source": [
    "* **Apply DF and KPSS test for Stationarity.**"
   ]
  },
  {
   "cell_type": "code",
   "execution_count": 5,
   "id": "7fc0a978",
   "metadata": {},
   "outputs": [
    {
     "data": {
      "text/plain": [
       "\n",
       "\tAugmented Dickey-Fuller Test\n",
       "\n",
       "data:  rets\n",
       "Dickey-Fuller = -11.293, Lag order = 11, p-value = 0.01\n",
       "alternative hypothesis: stationary\n"
      ]
     },
     "metadata": {},
     "output_type": "display_data"
    },
    {
     "data": {
      "text/plain": [
       "\n",
       "\tKPSS Test for Level Stationarity\n",
       "\n",
       "data:  rets\n",
       "KPSS Level = 0.059634, Truncation lag parameter = 7, p-value = 0.1\n"
      ]
     },
     "metadata": {},
     "output_type": "display_data"
    },
    {
     "data": {
      "text/plain": [
       "\n",
       "\tKPSS Test for Trend Stationarity\n",
       "\n",
       "data:  rets\n",
       "KPSS Trend = 0.043563, Truncation lag parameter = 7, p-value = 0.1\n"
      ]
     },
     "metadata": {},
     "output_type": "display_data"
    }
   ],
   "source": [
    "adf.test(rets)\n",
    "kpss.test(rets, null = 'Level')\n",
    "kpss.test(rets, null = 'Trend')"
   ]
  },
  {
   "cell_type": "markdown",
   "id": "7c98d8b9",
   "metadata": {},
   "source": [
    "**In Augmented Dickey-Fuller(DF) Test, p-value results < 0.01, so we could reject non-stationarity, and conclude that this time series is stationary.  \n",
    "In Kwiatkowski–Phillips–Schmidt–Shin (KPSS) Test, p-value results > 0.1, so we fail to reject the null hypothesis of the time series is trend stationary, and conclude that it is stationary.**"
   ]
  },
  {
   "cell_type": "markdown",
   "id": "dbf834b0",
   "metadata": {},
   "source": [
    "* **Apply Ljun-Box test for AutoCorrelation.**"
   ]
  },
  {
   "cell_type": "code",
   "execution_count": 6,
   "id": "0f910eed",
   "metadata": {},
   "outputs": [
    {
     "data": {
      "text/plain": [
       "\n",
       "\tBox-Ljung test\n",
       "\n",
       "data:  rets\n",
       "X-squared = 29.131, df = 1, p-value = 6.763e-08\n"
      ]
     },
     "metadata": {},
     "output_type": "display_data"
    },
    {
     "data": {
      "text/plain": [
       "\n",
       "\tBox-Ljung test\n",
       "\n",
       "data:  rets\n",
       "X-squared = 29.644, df = 2, p-value = 3.654e-07\n"
      ]
     },
     "metadata": {},
     "output_type": "display_data"
    }
   ],
   "source": [
    "Box.test(rets, type = 'Ljung-Box')\n",
    "Box.test(rets, lag = 2, type = 'Ljung-Box')"
   ]
  },
  {
   "cell_type": "markdown",
   "id": "ad220276",
   "metadata": {},
   "source": [
    "**As we expected, since both Box-Ljung test for 1 lag and 2 lags have p_value < 0.01.   \n",
    "Becasue that the null Hypothes H0 is residuals are independently distributed(no correlation). So as p-value is smaller than 0.01, we can reject the null hypothesis, which means this time series has autocorrelation.**"
   ]
  },
  {
   "cell_type": "markdown",
   "id": "74c91db5",
   "metadata": {},
   "source": [
    "###  (3). Analysis Realized Volatility"
   ]
  },
  {
   "cell_type": "code",
   "execution_count": 93,
   "id": "9c97318e",
   "metadata": {
    "scrolled": true
   },
   "outputs": [
    {
     "data": {
      "image/png": "[encoded data removed]",
      "text/plain": [
       "Plot with title \"Daily Return vs RV\""
      ]
     },
     "metadata": {
      "image/png": {
       "height": 360,
       "width": 420
      }
     },
     "output_type": "display_data"
    }
   ],
   "source": [
    "par(bg = \"#f7f7f7\")\n",
    "options(repr.plot.width = 7, repr.plot.height = 6)\n",
    "\n",
    "y_scale <- range(c(rets, RV_day))\n",
    "\n",
    "plot.zoo(rets, xlab='Year', ylab=NA, ylim = y_scale,\n",
    "         main= \"Daily Return vs RV\" )\n",
    "lines(zoo(RV_day),col=\"red\", lwd=2)\n",
    "legend(\"bottomleft\", legend = c(\"Returns\", \"RV\"), col = c_col2, \n",
    "      lwd = 1, bty=\"n\")\n",
    "# RV matches the vol of returns"
   ]
  },
  {
   "cell_type": "markdown",
   "id": "d55b4859",
   "metadata": {},
   "source": [
    "**By observing, Realized Volatility almost matches the volaitility of Returns. But some spike of return data in 2014 is filtered out(not reflected in RV), probably due to overnight Variance is not included in RV.  \n",
    "Especially some high volatiltiy in 2014 Return samples are missed in RV data, <span style='background: lightblue'>this would cause the forecasting results from GARCH type methoeds different from RV \"True\" value.</span>**"
   ]
  },
  {
   "cell_type": "markdown",
   "id": "3402e04b",
   "metadata": {},
   "source": [
    "**Next step we check those special sample data points of valatility spikes.**"
   ]
  },
  {
   "cell_type": "code",
   "execution_count": 8,
   "id": "3e04e2aa",
   "metadata": {},
   "outputs": [
    {
     "data": {
      "text/html": [
       "<table class=\"dataframe\">\n",
       "<caption>A matrix: 2 × 6 of type dbl</caption>\n",
       "<thead>\n",
       "\t<tr><th scope=col>ret</th><th scope=col>RV</th><th scope=col>RV_p</th><th scope=col>RV_n</th><th scope=col>RS</th><th scope=col>RK</th></tr>\n",
       "</thead>\n",
       "<tbody>\n",
       "\t<tr><td>-0.13123655</td><td>0.003333799</td><td>0.001701334</td><td>0.001677954</td><td>-8.113845</td><td> 2.153265</td></tr>\n",
       "\t<tr><td> 0.06243346</td><td>0.095667302</td><td>0.093195619</td><td>0.059515450</td><td> 6.622022</td><td>69.697628</td></tr>\n",
       "</tbody>\n",
       "</table>\n"
      ],
      "text/latex": [
       "A matrix: 2 × 6 of type dbl\n",
       "\\begin{tabular}{llllll}\n",
       " ret & RV & RV\\_p & RV\\_n & RS & RK\\\\\n",
       "\\hline\n",
       "\t -0.13123655 & 0.003333799 & 0.001701334 & 0.001677954 & -8.113845 &  2.153265\\\\\n",
       "\t  0.06243346 & 0.095667302 & 0.093195619 & 0.059515450 &  6.622022 & 69.697628\\\\\n",
       "\\end{tabular}\n"
      ],
      "text/markdown": [
       "\n",
       "A matrix: 2 × 6 of type dbl\n",
       "\n",
       "| ret | RV | RV_p | RV_n | RS | RK |\n",
       "|---|---|---|---|---|---|\n",
       "| -0.13123655 | 0.003333799 | 0.001701334 | 0.001677954 | -8.113845 |  2.153265 |\n",
       "|  0.06243346 | 0.095667302 | 0.093195619 | 0.059515450 |  6.622022 | 69.697628 |\n",
       "\n"
      ],
      "text/plain": [
       "     ret         RV          RV_p        RV_n        RS        RK       \n",
       "[1,] -0.13123655 0.003333799 0.001701334 0.001677954 -8.113845  2.153265\n",
       "[2,]  0.06243346 0.095667302 0.093195619 0.059515450  6.622022 69.697628"
      ]
     },
     "metadata": {},
     "output_type": "display_data"
    }
   ],
   "source": [
    "apply(adp, 2, range)"
   ]
  },
  {
   "cell_type": "markdown",
   "id": "9bc1cf23",
   "metadata": {},
   "source": [
    "* **Check Maximum Return data**"
   ]
  },
  {
   "cell_type": "code",
   "execution_count": 60,
   "id": "ad361d2e",
   "metadata": {},
   "outputs": [
    {
     "data": {
      "text/html": [
       "0.131236548740962"
      ],
      "text/latex": [
       "0.131236548740962"
      ],
      "text/markdown": [
       "0.131236548740962"
      ],
      "text/plain": [
       "[1] 0.1312365"
      ]
     },
     "metadata": {},
     "output_type": "display_data"
    },
    {
     "name": "stdout",
     "output_type": "stream",
     "text": [
      "[1] \"Max Return index:\"\n"
     ]
    },
    {
     "data": {
      "text/html": [
       "1181"
      ],
      "text/latex": [
       "1181"
      ],
      "text/markdown": [
       "1181"
      ],
      "text/plain": [
       "[1] 1181"
      ]
     },
     "metadata": {},
     "output_type": "display_data"
    },
    {
     "name": "stdout",
     "output_type": "stream",
     "text": [
      "[1] \"Max Return date:\"\n"
     ]
    },
    {
     "data": {
      "text/html": [
       "<time datetime=\"2014-10-01\">2014-10-01</time>"
      ],
      "text/latex": [
       "2014-10-01"
      ],
      "text/markdown": [
       "2014-10-01"
      ],
      "text/plain": [
       "[1] \"2014-10-01\""
      ]
     },
     "metadata": {},
     "output_type": "display_data"
    },
    {
     "name": "stdout",
     "output_type": "stream",
     "text": [
      "[1] \"Highest valatility in Returns sample:\"\n"
     ]
    },
    {
     "data": {
      "text/plain": [
       "                  ret\n",
       "2014-10-01 -0.1312365"
      ]
     },
     "metadata": {},
     "output_type": "display_data"
    },
    {
     "data": {
      "text/plain": [
       "                   ret\n",
       "2014-09-29 -0.00316410\n",
       "2014-09-30  0.01547800\n",
       "2014-10-01 -0.13123655\n",
       "2014-10-02 -0.01906125\n",
       "2014-10-03  0.02547050"
      ]
     },
     "metadata": {},
     "output_type": "display_data"
    },
    {
     "data": {
      "text/plain": [
       "                    RV\n",
       "2014-09-29 0.006583747\n",
       "2014-09-30 0.007968604\n",
       "2014-10-01 0.009093024\n",
       "2014-10-02 0.010512395\n",
       "2014-10-03 0.009403582"
      ]
     },
     "metadata": {},
     "output_type": "display_data"
    }
   ],
   "source": [
    "max(abs(rets))\n",
    "print(\"Max Return index:\")\n",
    "spike_return <- which.max(abs(rets))\n",
    "spike_return\n",
    "print(\"Max Return date:\")\n",
    "index(rets)[spike_return]\n",
    "\n",
    "print(\"Highest valatility in Returns sample:\") \n",
    "rets[which.max(abs(rets))]\n",
    "rets['2014-09-29/2014-10-03']\n",
    "RV_day['2014-09-29/2014-10-03']"
   ]
  },
  {
   "cell_type": "markdown",
   "id": "384d8e27",
   "metadata": {},
   "source": [
    "**On <span style='background: lightblue'>2014-10-01</span> the sample data has highest volatility in Returns as -13%, but in RV data this volatility is not reflected.**"
   ]
  },
  {
   "cell_type": "code",
   "execution_count": 92,
   "id": "4a1b8344",
   "metadata": {},
   "outputs": [
    {
     "data": {
      "image/png": "[encoded data removed]",
      "text/plain": [
       "Plot with title \"Return vs RV - 2014\""
      ]
     },
     "metadata": {
      "image/png": {
       "height": 360,
       "width": 420
      }
     },
     "output_type": "display_data"
    }
   ],
   "source": [
    "par(bg = \"#f7f7f7\")\n",
    "options(repr.plot.width = 7, repr.plot.height = 6)\n",
    "\n",
    "d_range <- '2014-06/2014-12'\n",
    "plot.zoo(rets[d_range], xlab=NA, ylab=NA, \n",
    "         main= \"Return vs RV - 2014\" )\n",
    "lines(zoo(RV_day),col=\"red\", lwd=2)\n",
    "legend(\"bottomleft\", legend = c(\"Returns\", \"RV\"), \n",
    "       col = c_col2, lwd = 1, bty=\"n\")"
   ]
  },
  {
   "cell_type": "markdown",
   "id": "0bfdcea5",
   "metadata": {},
   "source": [
    "**Some extreme values are truncated, for example the spike of return in 2014-10-01 is filtered out, it could be the result of Winsorization or Truncation for extreme values.   \n",
    "Another explaination is the result of comparing open-to-close variance (realized measures of volatility) with close-to-close variance (Returns, which GARCH model uses).**"
   ]
  },
  {
   "cell_type": "markdown",
   "id": "90402fb4",
   "metadata": {},
   "source": [
    "* **Check Maximum RV data**"
   ]
  },
  {
   "cell_type": "code",
   "execution_count": 13,
   "id": "5952ab6f",
   "metadata": {},
   "outputs": [
    {
     "name": "stdout",
     "output_type": "stream",
     "text": [
      "[1] \"Max RV index:\"\n"
     ]
    },
    {
     "data": {
      "text/html": [
       "1404"
      ],
      "text/latex": [
       "1404"
      ],
      "text/markdown": [
       "1404"
      ],
      "text/plain": [
       "[1] 1404"
      ]
     },
     "metadata": {},
     "output_type": "display_data"
    },
    {
     "name": "stdout",
     "output_type": "stream",
     "text": [
      "[1] \"Max RV date:\"\n"
     ]
    },
    {
     "data": {
      "text/html": [
       "<time datetime=\"2015-08-24\">2015-08-24</time>"
      ],
      "text/latex": [
       "2015-08-24"
      ],
      "text/markdown": [
       "2015-08-24"
      ],
      "text/plain": [
       "[1] \"2015-08-24\""
      ]
     },
     "metadata": {},
     "output_type": "display_data"
    },
    {
     "data": {
      "text/plain": [
       "                    ret\n",
       "2015-08-20 -0.008090397\n",
       "2015-08-21 -0.022591471\n",
       "2015-08-24 -0.083950519\n",
       "2015-08-25  0.039348533\n",
       "2015-08-26 -0.034311869"
      ]
     },
     "metadata": {},
     "output_type": "display_data"
    },
    {
     "data": {
      "text/plain": [
       "                   RV\n",
       "2015-08-20 0.01178037\n",
       "2015-08-21 0.01968633\n",
       "2015-08-24 0.09566730\n",
       "2015-08-25 0.02410682\n",
       "2015-08-26 0.02410816"
      ]
     },
     "metadata": {},
     "output_type": "display_data"
    }
   ],
   "source": [
    "print(\"Max RV index:\")\n",
    "spike <- which.max(RV_day)\n",
    "spike\n",
    "print(\"Max RV date:\")\n",
    "index(RV_day)[spike]\n",
    "rets['2015-08-20/2015-08-26']\n",
    "RV_day['2015-08-20/2015-08-26']"
   ]
  },
  {
   "cell_type": "markdown",
   "id": "b94b1320",
   "metadata": {},
   "source": [
    "**On <span style='background: lightblue'>2015-08-24</span> the stock has highest Daily Realized Volatility at 9.6%, while the absolute return value of that day 8.39% is also at least 4 times higher than usual. So in this case, RV data matched the volatility of return at the spike point.  \n",
    "We will use this sample data spike on RV on 2015-08-24 as a checking point in model forecast verification part.**"
   ]
  },
  {
   "cell_type": "code",
   "execution_count": 91,
   "id": "d6835246",
   "metadata": {},
   "outputs": [
    {
     "data": {
      "image/png": "[encoded data removed]",
      "text/plain": [
       "Plot with title \"Return vs RV - 2015\""
      ]
     },
     "metadata": {
      "image/png": {
       "height": 360,
       "width": 420
      }
     },
     "output_type": "display_data"
    }
   ],
   "source": [
    "par(bg = \"#f7f7f7\")\n",
    "options(repr.plot.width = 7, repr.plot.height = 6)\n",
    "y_scale <- range(c(rets[d_range], RV_day))\n",
    "\n",
    "d_range <- '2015-06/2015-12'\n",
    "plot.zoo(rets[d_range], xlab='2015', ylab=NA, \n",
    "         ylim = y_scale,main= \"Return vs RV - 2015\")\n",
    "lines(zoo(RV_day),col=\"red\", lwd=2)\n",
    "legend(\"bottomleft\", legend = c(\"Returns\", \"RV\"), \n",
    "       col = c_col2, lwd = 1, bty=\"n\")\n"
   ]
  },
  {
   "cell_type": "markdown",
   "id": "c623dcd3",
   "metadata": {},
   "source": [
    "###  (4). Analysis Asymmetry of Realized Volatility"
   ]
  },
  {
   "cell_type": "markdown",
   "id": "9778064c",
   "metadata": {},
   "source": [
    "* **Analysis Positive and Negative realized semi-volatility data**"
   ]
  },
  {
   "cell_type": "code",
   "execution_count": 96,
   "id": "fbeae33d",
   "metadata": {},
   "outputs": [
    {
     "data": {
      "text/html": [
       "0.0931956194709431"
      ],
      "text/latex": [
       "0.0931956194709431"
      ],
      "text/markdown": [
       "0.0931956194709431"
      ],
      "text/plain": [
       "[1] 0.09319562"
      ]
     },
     "metadata": {},
     "output_type": "display_data"
    },
    {
     "data": {
      "text/html": [
       "<time datetime=\"2015-08-24\">2015-08-24</time>"
      ],
      "text/latex": [
       "2015-08-24"
      ],
      "text/markdown": [
       "2015-08-24"
      ],
      "text/plain": [
       "[1] \"2015-08-24\""
      ]
     },
     "metadata": {},
     "output_type": "display_data"
    },
    {
     "data": {
      "text/html": [
       "0.059515450045942"
      ],
      "text/latex": [
       "0.059515450045942"
      ],
      "text/markdown": [
       "0.059515450045942"
      ],
      "text/plain": [
       "[1] 0.05951545"
      ]
     },
     "metadata": {},
     "output_type": "display_data"
    },
    {
     "data": {
      "text/html": [
       "<time datetime=\"2010-05-06\">2010-05-06</time>"
      ],
      "text/latex": [
       "2010-05-06"
      ],
      "text/markdown": [
       "2010-05-06"
      ],
      "text/plain": [
       "[1] \"2010-05-06\""
      ]
     },
     "metadata": {},
     "output_type": "display_data"
    },
    {
     "data": {
      "image/png": "[encoded data removed]",
      "text/plain": [
       "Plot with title \"Return vs Positive and Negative RV\""
      ]
     },
     "metadata": {
      "image/png": {
       "height": 360,
       "width": 420
      }
     },
     "output_type": "display_data"
    }
   ],
   "source": [
    "# set up plot parameters\n",
    "c_col2 <- c(\"black\", \"red\")\n",
    "c_col3 <- c(\"black\",\"red\", \"blue\")\n",
    "\n",
    "par(bg = \"#f7f7f7\")\n",
    "options(repr.plot.width = 7, repr.plot.height = 6)\n",
    "\n",
    "y_scale <- range(c(rets, RV_p, -RV_n))\n",
    "plot.zoo(rets, xlab='Year', ylab=NA, ylim = y_scale, \n",
    "    col = c_col3[1], main= \"Return vs Positive and Negative RV\")\n",
    "\n",
    "lines(-zoo(RV_n), col = c_col3[2], lwd=2)\n",
    "lines(zoo(RV_p), col = c_col3[3], lwd=2)\n",
    "legend(\"topleft\", col = c_col3, lwd = 1, bty=\"n\",\n",
    "      legend = c(\"Return\",  \"Negative-RV\", \"Positive-RV\"))\n",
    "\n",
    "# Check the max value dates\n",
    "max(RV_p)\n",
    "index(RV_p)[which.max(RV_p)]\n",
    "max(RV_n)\n",
    "index(RV_n)[which.max(RV_n)]"
   ]
  },
  {
   "cell_type": "markdown",
   "id": "31a37af6",
   "metadata": {},
   "source": [
    "**Most of time Negative RV is higher than Positive RV, proved the asymmetries of volatility.**"
   ]
  },
  {
   "cell_type": "markdown",
   "id": "6515ebd3",
   "metadata": {},
   "source": [
    "* **ACF Analysis of Positive and Negative realized semi-volatility**"
   ]
  },
  {
   "cell_type": "code",
   "execution_count": 86,
   "id": "b753cd88",
   "metadata": {},
   "outputs": [
    {
     "data": {
      "image/png": "[encoded data removed]",
      "text/plain": [
       "Plot with title \"ACF Analysis : RV vs Positive and Negative RV \""
      ]
     },
     "metadata": {
      "image/png": {
       "height": 360,
       "width": 420
      }
     },
     "output_type": "display_data"
    }
   ],
   "source": [
    "par(bg = \"#f7f7f7\")\n",
    "options(repr.plot.width = 7, repr.plot.height = 6)\n",
    "\n",
    "acf_RV <- acf(RV_day, plot = FALSE)$acf[,1,1]\n",
    "acf_up <- acf(RV_p, plot = FALSE)$acf[,1,1]\n",
    "acf_down <- acf(RV_n, plot = FALSE)$acf[,1,1]\n",
    "\n",
    "plot(acf_RV, type = \"h\", ylab = NA, xlab = NA, col = c_col3[1],\n",
    "     main= \"ACF Analysis : RV vs Positive and Negative RV \")\n",
    "points(acf_down,col = c_col3[2])\n",
    "points(acf_up,col = c_col3[3])\n",
    "legend(\"topright\", col = c_col3, lwd = 1, bty=\"n\",\n",
    "      legend = c(\"RV\", \"Negative RV\", \"Positive RV\"))"
   ]
  },
  {
   "cell_type": "markdown",
   "id": "27a9cb47",
   "metadata": {},
   "source": [
    "**In ACF chart, Positive RV and Negative RV provide different information. Since scecond lag the difference between positive and negative realized volatility are obvious to observe, and negative RV has the higher influence on volatility, which drives the total RV results.**"
   ]
  },
  {
   "cell_type": "markdown",
   "id": "d04c6c91",
   "metadata": {},
   "source": [
    "###  (5). Plot Higher order Realized Monments"
   ]
  },
  {
   "cell_type": "markdown",
   "id": "15a14caf",
   "metadata": {},
   "source": [
    "* **Realized Skewness**"
   ]
  },
  {
   "cell_type": "code",
   "execution_count": 84,
   "id": "28c05aa5",
   "metadata": {},
   "outputs": [
    {
     "data": {
      "image/png": "[encoded data removed]",
      "text/plain": [
       "plot without title"
      ]
     },
     "metadata": {
      "image/png": {
       "height": 240,
       "width": 420
      }
     },
     "output_type": "display_data"
    }
   ],
   "source": [
    "options(repr.plot.width = 7, repr.plot.height = 4)\n",
    "plot(RV_RS,  xlab = 'Year', ylab = NA, axes = F, \n",
    "     cex.main = 0.8, main = 'Realized Skewness' )"
   ]
  },
  {
   "cell_type": "markdown",
   "id": "0840bb16",
   "metadata": {},
   "source": [
    "* **Realized Kurtosis**"
   ]
  },
  {
   "cell_type": "code",
   "execution_count": 85,
   "id": "12502ef0",
   "metadata": {},
   "outputs": [
    {
     "data": {
      "image/png": "[encoded data removed]",
      "text/plain": [
       "plot without title"
      ]
     },
     "metadata": {
      "image/png": {
       "height": 240,
       "width": 420
      }
     },
     "output_type": "display_data"
    }
   ],
   "source": [
    "options(repr.plot.width = 7, repr.plot.height = 4)\n",
    "plot(RV_RK,  xlab = 'Year', ylab = NA, axes = F, \n",
    "     cex.main = 0.8, main = 'Realized Kurtosis')"
   ]
  },
  {
   "cell_type": "markdown",
   "id": "59d4762e",
   "metadata": {},
   "source": [
    "# Part 2. In-sample fit"
   ]
  },
  {
   "cell_type": "markdown",
   "id": "1549fee2",
   "metadata": {},
   "source": [
    "### Estimate parameters of the following volatility models with full sample size: AR(1)-RV, HAR, HAR-RS, HAR-Rskew-RKurt, Realized GARCH, ARMA-GARCH. Discuss the fits and compare qualitative differences of the estimates shortly. Note you can simply use the plot comparing in-sample fits of all models."
   ]
  },
  {
   "cell_type": "markdown",
   "id": "c16bdf8a",
   "metadata": {},
   "source": [
    "###  (1). AR(1)-RV"
   ]
  },
  {
   "cell_type": "markdown",
   "id": "e90efe1f",
   "metadata": {},
   "source": [
    "**Estimate AR(1):**   \n",
    "$$RV_{t+1} = \\phi_0 + \\phi_1 RV_{t}$$  \n",
    "**RV as Realized Volatility.**"
   ]
  },
  {
   "cell_type": "markdown",
   "id": "e50bee71",
   "metadata": {},
   "source": [
    "* **Call lm function for estimation**"
   ]
  },
  {
   "cell_type": "code",
   "execution_count": 40,
   "id": "57d91a99",
   "metadata": {},
   "outputs": [
    {
     "data": {
      "text/plain": [
       "\n",
       "Call:\n",
       "lm(formula = RV_day[2:TT] ~ RV_day[1:(TT - 1)])\n",
       "\n",
       "Coefficients:\n",
       "       (Intercept)  RV_day[1:(TT - 1)]  \n",
       "          0.004412            0.503288  \n"
      ]
     },
     "metadata": {},
     "output_type": "display_data"
    }
   ],
   "source": [
    "TT <- length(RV_day)\n",
    "AR1_fit_lm <- lm(RV_day[2:TT] ~ RV_day[1:(TT - 1)] )\n",
    "AR1_fit_lm"
   ]
  },
  {
   "cell_type": "markdown",
   "id": "70fa0652",
   "metadata": {},
   "source": [
    "* **Call arima function for estimation**"
   ]
  },
  {
   "cell_type": "code",
   "execution_count": 47,
   "id": "2ceccd7b",
   "metadata": {},
   "outputs": [
    {
     "data": {
      "text/plain": [
       "Series: RV_day \n",
       "ARIMA(1,0,0) with non-zero mean \n",
       "\n",
       "Coefficients:\n",
       "         ar1    mean\n",
       "      0.5031  0.0089\n",
       "s.e.  0.0223  0.0002\n",
       "\n",
       "sigma^2 = 1.407e-05:  log likelihood = 6250.85\n",
       "AIC=-12495.71   AICc=-12495.69   BIC=-12479.77"
      ]
     },
     "metadata": {},
     "output_type": "display_data"
    }
   ],
   "source": [
    "AR1_fit <- Arima(RV_day,c(1,0,0))\n",
    "AR1_fit"
   ]
  },
  {
   "cell_type": "markdown",
   "id": "16fc78bf",
   "metadata": {},
   "source": [
    "**By using either lm() and arima() we could get AR(1) regression result $ \\phi_1 $ as 0.503.  \n",
    "The difference in intercept result probably due to the different definition of intercept in arima function. In arima intercept means: $ n_t = \"intercept\" +  \\phi_1 *  (n_{t-1}- \"intercept\")  + residuals$.**"
   ]
  },
  {
   "cell_type": "code",
   "execution_count": 6,
   "id": "602d1f88",
   "metadata": {},
   "outputs": [
    {
     "data": {
      "image/png": "[encoded data removed]",
      "text/plain": [
       "Plot with title \"RV vs AR(1)\""
      ]
     },
     "metadata": {
      "image/png": {
       "height": 240,
       "width": 420
      }
     },
     "output_type": "display_data"
    }
   ],
   "source": [
    "AR1 <- xts(AR1_fit$fitted,order.by = index(RV_day))\n",
    "\n",
    "par(bg = \"#f7f7f7\")\n",
    "options(repr.plot.width = 7, repr.plot.height = 4)\n",
    "plot.zoo(RV_day, xlab='Year', ylab=NA, main= \"RV vs AR(1)\")\n",
    "lines(zoo(AR1), col = 'blue')"
   ]
  },
  {
   "cell_type": "markdown",
   "id": "c9eb2fc5",
   "metadata": {},
   "source": [
    "###  (2). HAR"
   ]
  },
  {
   "cell_type": "markdown",
   "id": "047d6b7d",
   "metadata": {},
   "source": [
    "**Heterogeneous Autoregressive Model has the form:**\n",
    "\n",
    "$${RV_t} = \\alpha + \\beta_1 {RV_{t-1}} + \\beta_2 {RV_{t-1}^{(5)}} + \\beta_3 {RV_{t-1}^{(22)}} + u_t,$$\n",
    "\n",
    "**RV as Realized Volatility.**"
   ]
  },
  {
   "cell_type": "code",
   "execution_count": 82,
   "id": "675401ca",
   "metadata": {},
   "outputs": [
    {
     "data": {
      "text/plain": [
       "\n",
       "Model:\n",
       "RV1 = beta0  +  beta1 * RV1 +  beta2 * RV5 +  beta3 * RV22\n",
       "\n",
       "Coefficients:\n",
       "   beta0     beta1     beta2     beta3  \n",
       "0.001624  0.322651  0.193232  0.301570  \n",
       "Newey-West Standard Errors:\n",
       "    beta0      beta1      beta2      beta3  \n",
       "0.0003495  0.0494556  0.0494501  0.0568612  \n",
       "\n",
       "\n",
       "    r.squared  adj.r.squared  \n",
       "       0.3036         0.3022  \n"
      ]
     },
     "metadata": {},
     "output_type": "display_data"
    }
   ],
   "source": [
    "HAR_fit <- HARmodel(data = RV_day , periods = c(1,5,22), \n",
    "    type = \"HAR\", h = 1, transform = NULL, inputType = \"RM\")   \n",
    "HAR_fit"
   ]
  },
  {
   "cell_type": "markdown",
   "id": "91bb63b3",
   "metadata": {},
   "source": [
    "**Both Beta1 and beta2 at 0.05 level, and R square increased at 30%.**"
   ]
  },
  {
   "cell_type": "code",
   "execution_count": 86,
   "id": "96adda15",
   "metadata": {},
   "outputs": [
    {
     "data": {
      "image/png": "[encoded data removed]",
      "text/plain": [
       "Plot with title \"RV vs HAR\""
      ]
     },
     "metadata": {
      "image/png": {
       "height": 240,
       "width": 420
      }
     },
     "output_type": "display_data"
    }
   ],
   "source": [
    "HAR<-xts(HAR_fit$fitted.values,order.by = index(RV_day)[23:TT])\n",
    "\n",
    "par(bg = \"#f7f7f7\")\n",
    "options(repr.plot.width = 7, repr.plot.height = 4)\n",
    "plot.zoo(RV_day, xlab='Year', ylab=NA, main= \"RV vs HAR\")\n",
    "lines(zoo(HAR), col = 'red')\n",
    "             "
   ]
  },
  {
   "cell_type": "markdown",
   "id": "d2abaa0f",
   "metadata": {},
   "source": [
    "###  (3). HAR-RS"
   ]
  },
  {
   "cell_type": "markdown",
   "id": "c4a84282",
   "metadata": {},
   "source": [
    "**Decompose $RV$ to $RS^+$, and $RS^-$, Heterogeneous Autoregressive Model with Realized Semivariance has the form:**\n",
    "\n",
    "\n",
    "$${RV_t} = \\alpha + \\beta_1 {RS_{t-1}^+} + \\beta_2 {RS_{t-1}^-} + \\beta_3 {RV_{t-1}^{(5)}} + \\beta_4 {RV_{t-1}^{(22)}} + u_t.$$\n",
    "\n",
    "**RV as Realized Volatility.**"
   ]
  },
  {
   "cell_type": "code",
   "execution_count": 51,
   "id": "0ed12730",
   "metadata": {},
   "outputs": [
    {
     "data": {
      "text/plain": [
       "\n",
       "Call:\n",
       "lm(formula = RV_day[23:TT] ~ RV_p[22:(TT - 1)] + RV_n[22:(TT - \n",
       "    1)] + RV5[18:(T5 - 1)] + RV22[1:(T22 - 1)])\n",
       "\n",
       "Residuals:\n",
       "      Min        1Q    Median        3Q       Max \n",
       "-0.015602 -0.001528 -0.000351  0.000978  0.082013 \n",
       "\n",
       "Coefficients:\n",
       "                   Estimate Std. Error t value Pr(>|t|)    \n",
       "(Intercept)       0.0015343  0.0003562   4.307 1.76e-05 ***\n",
       "RV_p[22:(TT - 1)] 0.1699647  0.0384369   4.422 1.05e-05 ***\n",
       "RV_n[22:(TT - 1)] 0.3877729  0.0448387   8.648  < 2e-16 ***\n",
       "RV5[18:(T5 - 1)]  0.1505427  0.0530561   2.837  0.00461 ** \n",
       "RV22[1:(T22 - 1)] 0.2876347  0.0576710   4.988 6.84e-07 ***\n",
       "---\n",
       "Signif. codes:  0 '***' 0.001 '**' 0.01 '*' 0.05 '.' 0.1 ' ' 1\n",
       "\n",
       "Residual standard error: 0.003607 on 1473 degrees of freedom\n",
       "Multiple R-squared:  0.3169,\tAdjusted R-squared:  0.3151 \n",
       "F-statistic: 170.9 on 4 and 1473 DF,  p-value: < 2.2e-16\n"
      ]
     },
     "metadata": {},
     "output_type": "display_data"
    }
   ],
   "source": [
    "RV5 <- unlist(lapply(lapply(1:(TT - 4), function (t) {\n",
    "    return(RV_day[t:(t + 4)])}), mean))\n",
    "RV22 <- unlist(lapply(lapply(1:(TT - 21), function (t) {\n",
    "    return(RV_day[t:(t + 21)])}), mean))\n",
    "T5 <- length(RV5)\n",
    "T22 <- length(RV22)\n",
    "\n",
    "# included semivariance into HAR model\n",
    "HAR_RS_fit <- lm(RV_day[23:TT] ~ RV_p[22:(TT - 1)]\n",
    "    + RV_n[22:(TT - 1)] + RV5[18:(T5 - 1)] + RV22[1:(T22 - 1)])\n",
    "\n",
    "summary(HAR_RS_fit)"
   ]
  },
  {
   "cell_type": "markdown",
   "id": "b0d2f5da",
   "metadata": {},
   "source": [
    "**Upside and downside coefficients are not same, impact of downside is bigger as 0.38, upside is only 0.16. So negative semi-volatility has much stronger influcence of values. R squred is a little improved again to 31.5%.**"
   ]
  },
  {
   "cell_type": "code",
   "execution_count": 52,
   "id": "f8a5bae6",
   "metadata": {},
   "outputs": [
    {
     "data": {
      "image/png": "[encoded data removed]",
      "text/plain": [
       "Plot with title \"RV vs HAR_RS\""
      ]
     },
     "metadata": {
      "image/png": {
       "height": 240,
       "width": 420
      }
     },
     "output_type": "display_data"
    }
   ],
   "source": [
    "HAR_RS <- HAR_RS_fit$fitted.values\n",
    "par(bg = \"#f7f7f7\")\n",
    "options(repr.plot.width = 7, repr.plot.height = 4)\n",
    "\n",
    "plot.zoo(RV_day, xlab='Year', ylab=NA, main= \"RV vs HAR_RS\")\n",
    "lines(zoo(HAR_RS), col = 'green')\n"
   ]
  },
  {
   "cell_type": "markdown",
   "id": "d143f79b",
   "metadata": {},
   "source": [
    "###  (4). HAR-Rskew-RKurt"
   ]
  },
  {
   "cell_type": "markdown",
   "id": "a4752adb",
   "metadata": {},
   "source": [
    "**HAR with Rkurt and RSkew has the form:**\n",
    "$$RV_t = \\alpha  + \\beta_1 RV{t-1} + \\beta_2 RV_{t-1}^{(5)} + \\beta_3 RV_{t-1}^{(22)} + \\beta_4 RKurt_{t-1} + \\beta_5 RSkew_{t-1} + u_t.$$\n",
    "**RV is Realized Volatility.**"
   ]
  },
  {
   "cell_type": "code",
   "execution_count": 53,
   "id": "6f14d535",
   "metadata": {},
   "outputs": [
    {
     "data": {
      "text/plain": [
       "\n",
       "Call:\n",
       "lm(formula = RV_day[23:TT] ~ RV_day[22:(TT - 1)] + RV5[18:(T5 - \n",
       "    1)] + RV22[1:(T22 - 1)] + RV_RK[22:(TT - 1)] + RV_RS[22:(TT - \n",
       "    1)])\n",
       "\n",
       "Residuals:\n",
       "      Min        1Q    Median        3Q       Max \n",
       "-0.017732 -0.001562 -0.000363  0.000979  0.083066 \n",
       "\n",
       "Coefficients:\n",
       "                      Estimate Std. Error t value Pr(>|t|)    \n",
       "(Intercept)          2.300e-03  3.791e-04   6.066 1.66e-09 ***\n",
       "RV_day[22:(TT - 1)]  3.911e-01  3.251e-02  12.030  < 2e-16 ***\n",
       "RV5[18:(T5 - 1)]     1.577e-01  5.296e-02   2.979  0.00294 ** \n",
       "RV22[1:(T22 - 1)]    2.686e-01  5.806e-02   4.627 4.04e-06 ***\n",
       "RV_RK[22:(TT - 1)]  -1.104e-04  2.125e-05  -5.194 2.34e-07 ***\n",
       "RV_RS[22:(TT - 1)]  -7.181e-05  8.401e-05  -0.855  0.39278    \n",
       "---\n",
       "Signif. codes:  0 '***' 0.001 '**' 0.01 '*' 0.05 '.' 0.1 ' ' 1\n",
       "\n",
       "Residual standard error: 0.00361 on 1472 degrees of freedom\n",
       "Multiple R-squared:  0.3162,\tAdjusted R-squared:  0.3138 \n",
       "F-statistic: 136.1 on 5 and 1472 DF,  p-value: < 2.2e-16\n"
      ]
     },
     "metadata": {},
     "output_type": "display_data"
    }
   ],
   "source": [
    "HAR_KS_fit<-lm(RV_day[23:TT] ~ RV_day[22:(TT - 1)] + RV5[18:(T5 - 1)] \n",
    "    + RV22[1:(T22 - 1)] + RV_RK[22:(TT - 1)] + RV_RS[22:(TT - 1)])\n",
    "\n",
    "summary(HAR_KS_fit)"
   ]
  },
  {
   "cell_type": "code",
   "execution_count": 81,
   "id": "8dbfdc45",
   "metadata": {},
   "outputs": [
    {
     "data": {
      "image/png": "[encoded data removed]",
      "text/plain": [
       "Plot with title \"RV vs HAR_KS\""
      ]
     },
     "metadata": {
      "image/png": {
       "height": 240,
       "width": 420
      }
     },
     "output_type": "display_data"
    }
   ],
   "source": [
    "HAR_KS <- HAR_KS_fit$fitted.values\n",
    "\n",
    "par(bg = \"#f7f7f7\")\n",
    "options(repr.plot.width = 7, repr.plot.height = 4)\n",
    "\n",
    "plot.zoo(RV_day, xlab='Year', ylab=NA, main= \"RV vs HAR_KS\")\n",
    "lines(zoo(HAR_KS), col = 'forestgreen')"
   ]
  },
  {
   "cell_type": "markdown",
   "id": "db224cee",
   "metadata": {},
   "source": [
    "###  (5). Realized GARCH"
   ]
  },
  {
   "cell_type": "markdown",
   "id": "b1a3ebb9",
   "metadata": {},
   "source": [
    "**Realized GARCH has the form:**  \n",
    "$$\n",
    "\\begin{align}\n",
    "r_t= & \\sqrt{h_t}z_t \\\\\n",
    "ln(h_t)= & \\omega + \\beta ln(h_{t-1})+\\gamma ln(RV_{t-1})\\\\\n",
    "ln(RV_t)= & \\xi+ \\varphi ln(h_t) + u_t\n",
    "\\end{align}\n",
    "$$\n",
    "**RV is Realized Volatility, $ h_t$ is Variance**"
   ]
  },
  {
   "cell_type": "code",
   "execution_count": 81,
   "id": "1af1b805",
   "metadata": {},
   "outputs": [
    {
     "data": {
      "text/plain": [
       "\n",
       "*---------------------------------*\n",
       "*          GARCH Model Fit        *\n",
       "*---------------------------------*\n",
       "\n",
       "Conditional Variance Dynamics \t\n",
       "-----------------------------------\n",
       "GARCH Model\t: realGARCH(1,1)\n",
       "Mean Model\t: ARFIMA(0,0,0)\n",
       "Distribution\t: norm \n",
       "\n",
       "Optimal Parameters\n",
       "------------------------------------\n",
       "        Estimate  Std. Error  t value Pr(>|t|)\n",
       "mu      0.000559    0.000294  1.90233 0.057128\n",
       "omega  -1.095515    0.310397 -3.52941 0.000416\n",
       "alpha1  0.754499    0.082848  9.10699 0.000000\n",
       "beta1   0.469083    0.036341 12.90786 0.000000\n",
       "eta11  -0.050667    0.006729 -7.53003 0.000000\n",
       "eta21   0.000766    0.001542  0.49648 0.619554\n",
       "delta   0.560013    0.050148 11.16716 0.000000\n",
       "lambda  0.244603    0.004483 54.55668 0.000000\n",
       "xi      0.177743    0.444308  0.40005 0.689123\n",
       "\n",
       "Robust Standard Errors:\n",
       "        Estimate  Std. Error  t value Pr(>|t|)\n",
       "mu      0.000559    0.000242  2.31573 0.020573\n",
       "omega  -1.095515    0.613905 -1.78450 0.074342\n",
       "alpha1  0.754499    0.168190  4.48599 0.000007\n",
       "beta1   0.469083    0.059089  7.93863 0.000000\n",
       "eta11  -0.050667    0.007937 -6.38354 0.000000\n",
       "eta21   0.000766    0.003000  0.25526 0.798520\n",
       "delta   0.560013    0.103071  5.43328 0.000000\n",
       "lambda  0.244603    0.008589 28.47801 0.000000\n",
       "xi      0.177743    0.876755  0.20273 0.839347\n",
       "\n",
       "LogLikelihood : 4511.787 \n",
       "\n",
       "Information Criteria\n",
       "------------------------------------\n",
       "                    \n",
       "Akaike       -6.0037\n",
       "Bayes        -5.9718\n",
       "Shibata      -6.0038\n",
       "Hannan-Quinn -5.9918\n",
       "\n",
       "Weighted Ljung-Box Test on Standardized Residuals\n",
       "------------------------------------\n",
       "                        statistic   p-value\n",
       "Lag[1]                      33.34 7.743e-09\n",
       "Lag[2*(p+q)+(p+q)-1][2]     33.41 1.360e-09\n",
       "Lag[4*(p+q)+(p+q)-1][5]     33.60 3.049e-09\n",
       "d.o.f=0\n",
       "H0 : No serial correlation\n",
       "\n",
       "Weighted Ljung-Box Test on Standardized Squared Residuals\n",
       "------------------------------------\n",
       "                        statistic   p-value\n",
       "Lag[1]                      12.85 0.0003377\n",
       "Lag[2*(p+q)+(p+q)-1][5]     16.15 0.0002176\n",
       "Lag[4*(p+q)+(p+q)-1][9]     17.05 0.0011212\n",
       "d.o.f=2\n",
       "\n",
       "Weighted ARCH LM Tests\n",
       "------------------------------------\n",
       "            Statistic Shape Scale P-Value\n",
       "ARCH Lag[3]     2.025 0.500 2.000  0.1547\n",
       "ARCH Lag[5]     2.319 1.440 1.667  0.4049\n",
       "ARCH Lag[7]     2.611 2.315 1.543  0.5899\n",
       "\n",
       "Nyblom stability test\n",
       "------------------------------------\n",
       "Joint Statistic:  3.4832\n",
       "Individual Statistics:              \n",
       "mu     0.15270\n",
       "omega  0.17761\n",
       "alpha1 0.18516\n",
       "beta1  0.18603\n",
       "eta11  0.24024\n",
       "eta21  0.04796\n",
       "delta  0.70786\n",
       "lambda 0.31374\n",
       "xi     0.71475\n",
       "\n",
       "Asymptotic Critical Values (10% 5% 1%)\n",
       "Joint Statistic:     \t 2.1 2.32 2.82\n",
       "Individual Statistic:\t 0.35 0.47 0.75\n",
       "\n",
       "Sign Bias Test\n",
       "------------------------------------\n",
       "                   t-value      prob sig\n",
       "Sign Bias           0.9891 3.228e-01    \n",
       "Negative Sign Bias  2.3197 2.049e-02  **\n",
       "Positive Sign Bias  4.0863 4.616e-05 ***\n",
       "Joint Effect       22.0935 6.237e-05 ***\n",
       "\n",
       "\n",
       "Adjusted Pearson Goodness-of-Fit Test:\n",
       "------------------------------------\n",
       "  group statistic p-value(g-1)\n",
       "1    20     61.47    2.263e-06\n",
       "2    30     69.32    3.754e-05\n",
       "3    40     80.32    1.095e-04\n",
       "4    50     93.40    1.364e-04\n",
       "\n",
       "\n",
       "Elapsed time : 0.8954921 \n"
      ]
     },
     "metadata": {},
     "output_type": "display_data"
    }
   ],
   "source": [
    "real_garchspec<- ugarchspec(variance.model = list(model = 'realGARCH',\n",
    "    garchOrder = c(1, 1)), mean.model = list(armaOrder=c(0, 0), \n",
    "    include.mean=TRUE))\n",
    "\n",
    "# change the solver = 'hybrid', p13 of the paper of Rugarch package\n",
    "RGarch_fit <- ugarchfit(real_garchspec, rets, solver = 'hybrid', \n",
    "    realizedVol = RV_day)                   \n",
    "RGarch_fit"
   ]
  },
  {
   "cell_type": "markdown",
   "id": "b13f307c",
   "metadata": {},
   "source": [
    "**In output fitting result, alpha1 is gamma, telling the influcence of the RV to GARCH, in this case it is 75%, so gamma is very important to GARCH model.** "
   ]
  },
  {
   "cell_type": "code",
   "execution_count": 30,
   "id": "36f7ae49",
   "metadata": {},
   "outputs": [
    {
     "data": {
      "image/png": "[encoded data removed]",
      "text/plain": [
       "Plot with title \"RV vs R_GARCH\""
      ]
     },
     "metadata": {
      "image/png": {
       "height": 240,
       "width": 420
      }
     },
     "output_type": "display_data"
    }
   ],
   "source": [
    "R_GARCH<-xts(RGarch_fit@fit$sigma,order.by = index(RV_day))\n",
    "\n",
    "par(bg = \"#f7f7f7\")\n",
    "options(repr.plot.width = 7, repr.plot.height = 4)\n",
    "\n",
    "plot.zoo(RV_day, xlab='Year', ylab=NA, main= \"RV vs R_GARCH\")\n",
    "lines(zoo(R_GARCH), col = 'deeppink')"
   ]
  },
  {
   "cell_type": "markdown",
   "id": "4bec3009",
   "metadata": {},
   "source": [
    "###  (6). ARMA-GARCH"
   ]
  },
  {
   "cell_type": "code",
   "execution_count": 57,
   "id": "da742132",
   "metadata": {},
   "outputs": [
    {
     "data": {
      "text/plain": [
       "\n",
       "*---------------------------------*\n",
       "*          GARCH Model Fit        *\n",
       "*---------------------------------*\n",
       "\n",
       "Conditional Variance Dynamics \t\n",
       "-----------------------------------\n",
       "GARCH Model\t: sGARCH(1,1)\n",
       "Mean Model\t: ARFIMA(0,0,0)\n",
       "Distribution\t: norm \n",
       "\n",
       "Optimal Parameters\n",
       "------------------------------------\n",
       "        Estimate  Std. Error  t value Pr(>|t|)\n",
       "mu      0.000616    0.000265   2.3206 0.020306\n",
       "omega   0.000043    0.000012   3.7489 0.000178\n",
       "alpha1  0.344244    0.066803   5.1531 0.000000\n",
       "beta1   0.432719    0.110128   3.9292 0.000085\n",
       "\n",
       "Robust Standard Errors:\n",
       "        Estimate  Std. Error  t value Pr(>|t|)\n",
       "mu      0.000616    0.000344  1.79037 0.073395\n",
       "omega   0.000043    0.000048  0.90777 0.363997\n",
       "alpha1  0.344244    0.287421  1.19770 0.231035\n",
       "beta1   0.432719    0.479608  0.90224 0.366931\n",
       "\n",
       "LogLikelihood : 4533.01 \n",
       "\n",
       "Information Criteria\n",
       "------------------------------------\n",
       "                    \n",
       "Akaike       -6.0387\n",
       "Bayes        -6.0245\n",
       "Shibata      -6.0387\n",
       "Hannan-Quinn -6.0334\n",
       "\n",
       "Weighted Ljung-Box Test on Standardized Residuals\n",
       "------------------------------------\n",
       "                        statistic  p-value\n",
       "Lag[1]                      10.27 0.001349\n",
       "Lag[2*(p+q)+(p+q)-1][2]     10.28 0.001616\n",
       "Lag[4*(p+q)+(p+q)-1][5]     11.13 0.004696\n",
       "d.o.f=0\n",
       "H0 : No serial correlation\n",
       "\n",
       "Weighted Ljung-Box Test on Standardized Squared Residuals\n",
       "------------------------------------\n",
       "                        statistic p-value\n",
       "Lag[1]                    0.07961  0.7778\n",
       "Lag[2*(p+q)+(p+q)-1][5]   0.82213  0.8985\n",
       "Lag[4*(p+q)+(p+q)-1][9]   1.01776  0.9855\n",
       "d.o.f=2\n",
       "\n",
       "Weighted ARCH LM Tests\n",
       "------------------------------------\n",
       "            Statistic Shape Scale P-Value\n",
       "ARCH Lag[3]   0.02599 0.500 2.000  0.8719\n",
       "ARCH Lag[5]   0.17942 1.440 1.667  0.9703\n",
       "ARCH Lag[7]   0.21192 2.315 1.543  0.9966\n",
       "\n",
       "Nyblom stability test\n",
       "------------------------------------\n",
       "Joint Statistic:  1.0217\n",
       "Individual Statistics:             \n",
       "mu     0.0611\n",
       "omega  0.5145\n",
       "alpha1 0.2135\n",
       "beta1  0.2841\n",
       "\n",
       "Asymptotic Critical Values (10% 5% 1%)\n",
       "Joint Statistic:     \t 1.07 1.24 1.6\n",
       "Individual Statistic:\t 0.35 0.47 0.75\n",
       "\n",
       "Sign Bias Test\n",
       "------------------------------------\n",
       "                   t-value   prob sig\n",
       "Sign Bias           0.9381 0.3483    \n",
       "Negative Sign Bias  0.4161 0.6774    \n",
       "Positive Sign Bias  0.4032 0.6868    \n",
       "Joint Effect        0.8961 0.8264    \n",
       "\n",
       "\n",
       "Adjusted Pearson Goodness-of-Fit Test:\n",
       "------------------------------------\n",
       "  group statistic p-value(g-1)\n",
       "1    20     56.64    1.299e-05\n",
       "2    30     64.80    1.506e-04\n",
       "3    40     81.71    7.422e-05\n",
       "4    50    106.47    3.879e-06\n",
       "\n",
       "\n",
       "Elapsed time : 0.152591 \n"
      ]
     },
     "metadata": {},
     "output_type": "display_data"
    }
   ],
   "source": [
    "garchspec <- ugarchspec(mean.model = list(armaOrder = c(0, 0)),\n",
    "        variance.model = list(garchOrder = c(1, 1)))\n",
    "garch1 <- ugarchfit(garchspec, rets)\n",
    "garch1"
   ]
  },
  {
   "cell_type": "code",
   "execution_count": 4,
   "id": "c28c169c",
   "metadata": {},
   "outputs": [
    {
     "data": {
      "image/png": "[encoded data removed]",
      "text/plain": [
       "Plot with title \"RV vs ARMA_GARCH\""
      ]
     },
     "metadata": {
      "image/png": {
       "height": 240,
       "width": 420
      }
     },
     "output_type": "display_data"
    }
   ],
   "source": [
    "ARMA_GARCH<-xts(garch1@fit$sigma,order.by = index(RV_day))\n",
    "par(bg = \"#f7f7f7\")\n",
    "options(repr.plot.width = 7, repr.plot.height = 4)\n",
    "\n",
    "plot.zoo(RV_day, xlab='Year', ylab=NA, \n",
    "         main= \"RV vs ARMA_GARCH\")\n",
    "lines(zoo(ARMA_GARCH), col = 'cyan')"
   ]
  },
  {
   "cell_type": "markdown",
   "id": "b6713d93",
   "metadata": {},
   "source": [
    "**By comparation, the difference between RV and ARMA_GARCH is bigger than other models, it is part because ARMA_GARCH In-sample fit uses Returns data instead of RV data, as we analysis at Part 1, some high valatility in Returns are not reflected in RV samples.**"
   ]
  },
  {
   "cell_type": "markdown",
   "id": "08b4bdb6",
   "metadata": {},
   "source": [
    "###  (7). Compare Qualitative Differences of Models"
   ]
  },
  {
   "cell_type": "markdown",
   "id": "4034be9a",
   "metadata": {},
   "source": [
    "* **Compare ALL models**"
   ]
  },
  {
   "cell_type": "code",
   "execution_count": 80,
   "id": "0fa19d08",
   "metadata": {},
   "outputs": [
    {
     "data": {
      "image/png": "[encoded data removed]",
      "text/plain": [
       "Plot with title \"In-sample Fits - All Models\""
      ]
     },
     "metadata": {
      "image/png": {
       "height": 480,
       "width": 720
      }
     },
     "output_type": "display_data"
    }
   ],
   "source": [
    "par(bg = \"#f7f7f7\")\n",
    "options(repr.plot.width = 12, repr.plot.height = 8)\n",
    "\n",
    "model_HAR <- c(\"RV\", \"HAR\", 'HAR_RS', 'HAR_KS')\n",
    "c_col_HAR <- c(\"black\", \"red\", 'green', 'forestgreen')\n",
    "\n",
    "model_GARCH <- c(\"AR1\",  'R_GARCH',  'ARMA_GARCH' )\n",
    "c_col_GARCH <- c(\"blue\", 'deeppink',  'cyan')         \n",
    "\n",
    "\n",
    "plot.zoo(RV_day, xlab='Year', ylab=NA, \n",
    "         main= \"In-sample Fits - All Models\")\n",
    "lines(zoo(AR1), col = c_col_GARCH[1], lty=2)\n",
    "lines(zoo(HAR), col = c_col_HAR[2])\n",
    "lines(zoo(HAR_RS), col = c_col_HAR[3])\n",
    "lines(zoo(HAR_KS), col = c_col_HAR[4])\n",
    "lines(zoo(R_GARCH), col = c_col_GARCH[2], lty=2)\n",
    "lines(zoo(ARMA_GARCH), col = c_col_GARCH[3], lty=2)\n",
    "legend(\"topleft\", legend = model_HAR, col = c_col_HAR, \n",
    "       lwd = 1, bty=\"n\")\n",
    "legend(\"top\", legend = model_GARCH, col = c_col_GARCH, \n",
    "       lwd = 1, lty=2, bty=\"n\")"
   ]
  },
  {
   "cell_type": "markdown",
   "id": "fb047ae6",
   "metadata": {},
   "source": [
    "* **Compare HAR-Type models**"
   ]
  },
  {
   "cell_type": "code",
   "execution_count": 79,
   "id": "35dd16d2",
   "metadata": {},
   "outputs": [
    {
     "data": {
      "image/png": "[encoded data removed]",
      "text/plain": [
       "plot without title"
      ]
     },
     "metadata": {
      "image/png": {
       "height": 480,
       "width": 600
      }
     },
     "output_type": "display_data"
    }
   ],
   "source": [
    "model_HAR <- merge(RV_day, HAR, HAR_RS, HAR_KS, all=TRUE)\n",
    "options(repr.plot.width = 10, repr.plot.height = 8)\n",
    "autoplot(model_HAR, facets = NULL) + geom_line() + \n",
    "    theme_wsj(color = \"gray\") + scale_colour_wsj(\"colors6\",\"HAR Models\") +\n",
    "    ggtitle(\"In-sample Fits - 3 HAR Types\")\n"
   ]
  },
  {
   "cell_type": "markdown",
   "id": "7c050b87",
   "metadata": {},
   "source": [
    "**Zoom in to 2012:  \n",
    "Because the difference among 3 models are quite small, so we need to choose some quiet period for comparation.**"
   ]
  },
  {
   "cell_type": "code",
   "execution_count": 75,
   "id": "8ac61f59",
   "metadata": {},
   "outputs": [
    {
     "data": {
      "image/png": "[encoded data removed]",
      "text/plain": [
       "plot without title"
      ]
     },
     "metadata": {
      "image/png": {
       "height": 480,
       "width": 600
      }
     },
     "output_type": "display_data"
    }
   ],
   "source": [
    "d_range <- '2012-01/2012-02'\n",
    "autoplot(model_HAR[d_range], facets = NULL) + geom_line() + \n",
    "    theme_wsj(color = \"gray\")+     scale_colour_wsj(\"colors6\",\"HAR Models\") + \n",
    "    ggtitle(\"In-sample Fits - 3 HAR Types on 2012\")"
   ]
  },
  {
   "cell_type": "markdown",
   "id": "98ad9c58",
   "metadata": {},
   "source": [
    "* **Compare AR-Type models**"
   ]
  },
  {
   "cell_type": "code",
   "execution_count": 67,
   "id": "48339104",
   "metadata": {},
   "outputs": [
    {
     "data": {
      "image/png": "[encoded data removed]",
      "text/plain": [
       "plot without title"
      ]
     },
     "metadata": {
      "image/png": {
       "height": 480,
       "width": 600
      }
     },
     "output_type": "display_data"
    }
   ],
   "source": [
    "model_GARCH <- merge(RV_day, AR1, R_GARCH, ARMA_GARCH, all=TRUE)\n",
    "options(repr.plot.width = 10, repr.plot.height = 8)\n",
    "autoplot(model_GARCH, facets = NULL) + geom_line() + \n",
    "    theme_wsj(color = \"gray\") + scale_colour_wsj(\"colors6\",\"GARCH Models\") +\n",
    "    ggtitle(\"In-sample Fits - 3 AR Types\")"
   ]
  },
  {
   "cell_type": "markdown",
   "id": "299eb6eb",
   "metadata": {},
   "source": [
    "**Zoom in to 2015:  \n",
    "Because the results of these 3 samples are quite different, so we choose a period with high spike for comparation.**"
   ]
  },
  {
   "cell_type": "code",
   "execution_count": 66,
   "id": "dc549193",
   "metadata": {},
   "outputs": [
    {
     "data": {
      "image/png": "[encoded data removed]",
      "text/plain": [
       "plot without title"
      ]
     },
     "metadata": {
      "image/png": {
       "height": 480,
       "width": 600
      }
     },
     "output_type": "display_data"
    }
   ],
   "source": [
    "d_range <- '2015-08/2015-09'\n",
    "autoplot(model_GARCH[d_range], facets = NULL) + geom_line() + \n",
    "    theme_wsj(color = \"gray\")+  scale_colour_wsj(\"colors6\",\"GARCH Models\") +\n",
    "    ggtitle(\"In-sample Fits - 3 AR Types on 2015\")\n"
   ]
  },
  {
   "cell_type": "markdown",
   "id": "765625c9",
   "metadata": {},
   "source": [
    "* **All model in 2015(high spike period)**"
   ]
  },
  {
   "cell_type": "code",
   "execution_count": 83,
   "id": "6be9eae9",
   "metadata": {},
   "outputs": [
    {
     "data": {
      "image/png": "[encoded data removed]",
      "text/plain": [
       "Plot with title \"In-sample Fits - All Models\""
      ]
     },
     "metadata": {
      "image/png": {
       "height": 480,
       "width": 720
      }
     },
     "output_type": "display_data"
    }
   ],
   "source": [
    "par(bg = \"#f7f7f7\")\n",
    "options(repr.plot.width = 12, repr.plot.height = 8)\n",
    "d_range <- '2015-08/2015-09'\n",
    "\n",
    "\n",
    "plot.zoo(RV_day[d_range], xlab='Year', ylab=NA, \n",
    "         main= \"In-sample Fits - All Models\")\n",
    "lines(zoo(AR1[d_range]), col = c_col_GARCH[1], \n",
    "      lwd = 2, lty=2)\n",
    "lines(zoo(HAR[d_range]), col = c_col_HAR[2], lwd = 3)\n",
    "lines(zoo(HAR_RS[d_range]), col = c_col_HAR[3])\n",
    "lines(zoo(HAR_KS[d_range]), col = c_col_HAR[4])\n",
    "lines(zoo(R_GARCH[d_range]), col = c_col_GARCH[2], lty=2)\n",
    "lines(zoo(ARMA_GARCH[d_range]), col = c_col_GARCH[3], \n",
    "      lty=2,  lwd = 2)\n",
    "legend(\"topleft\", legend = model_HAR, col = c_col_HAR, \n",
    "      lwd = 1, bty=\"n\")\n",
    "legend(\"topright\", legend = model_GARCH, col = c_col_GARCH, \n",
    "        lwd = 1, lty=2, bty=\"n\")\n",
    "\n"
   ]
  },
  {
   "cell_type": "markdown",
   "id": "551f6538",
   "metadata": {},
   "source": [
    "**After the spike happend, ARMA_GARCH model takes the longest time for volatility moving back to mornal level, while R_GARCH model moves the volatility value back faster.   \n",
    "This is because conventianl ARMA_GARCH takes information from returns to adjust value of conditinal variance, so it takes longer time for GARCH to adjust to the new volatility. While R_GARCH includes realized volatility into the volatility equation, which helps GARCH to catch True volatility information, and improves the fit.**"
   ]
  },
  {
   "cell_type": "markdown",
   "id": "3387d1e8",
   "metadata": {},
   "source": [
    "# Part 3. Forecasts"
   ]
  },
  {
   "cell_type": "markdown",
   "id": "e42922f8",
   "metadata": {},
   "source": [
    "**Compare an out-of-sample forecasting performance of the models from previous part using two forecasting schemes:  \n",
    "(i) Expanding window, with starting window length of 750.  \n",
    "(ii) Rolling window, with the window length 750.  \n",
    "Plot and compare forecast errors from all models, compute loss functions (MSE and MAE), compare model forecasts statistically using the Diebold-Mariano test (use the MSE loss). Evaluate all single model forecasts with the Minzer-Zarnowitz regression.**"
   ]
  },
  {
   "cell_type": "markdown",
   "id": "fba7ff60",
   "metadata": {},
   "source": [
    "* **Setup parameters**"
   ]
  },
  {
   "cell_type": "markdown",
   "id": "6776a980",
   "metadata": {},
   "source": [
    "**To make forecast Rooling window length to 750, we need to set the offset parameter w_l as 749.**"
   ]
  },
  {
   "cell_type": "code",
   "execution_count": 81,
   "id": "a0e229d5",
   "metadata": {},
   "outputs": [
    {
     "data": {
      "text/html": [
       "749"
      ],
      "text/latex": [
       "749"
      ],
      "text/markdown": [
       "749"
      ],
      "text/plain": [
       "[1] 749"
      ]
     },
     "metadata": {},
     "output_type": "display_data"
    },
    {
     "data": {
      "text/html": [
       "750"
      ],
      "text/latex": [
       "750"
      ],
      "text/markdown": [
       "750"
      ],
      "text/plain": [
       "[1] 750"
      ]
     },
     "metadata": {},
     "output_type": "display_data"
    }
   ],
   "source": [
    "# rolling window length is 3 years big\n",
    "w_l <- 749 \n",
    "# rolling range for next 3 years\n",
    "n_for <- nrow(adp) - w_l - 1\n",
    "w_l\n",
    "n_for"
   ]
  },
  {
   "cell_type": "markdown",
   "id": "414af0d8",
   "metadata": {},
   "source": [
    "**Use window length of 750 for fit-in sample, by using first 3 years data of 2010-2012. Then do the out-of-sample forecast for rest of time range, then compare with the \"True\" data of the last 3 years of 2013-2015.** "
   ]
  },
  {
   "cell_type": "markdown",
   "id": "930f9995",
   "metadata": {},
   "source": [
    "###  (1). AR(1)-RV Forecast"
   ]
  },
  {
   "cell_type": "markdown",
   "id": "4ce7b29b",
   "metadata": {},
   "source": [
    "In this first forecast model, we also explain sevearl forecast methods we will use in this project, as well as some testing to verify the forecast result is reasonable."
   ]
  },
  {
   "cell_type": "markdown",
   "id": "d67f1f5b",
   "metadata": {},
   "source": [
    "* **AR(1) Rolling Window**"
   ]
  },
  {
   "cell_type": "markdown",
   "id": "92a2bd00",
   "metadata": {},
   "source": [
    "**i. Forecast using the first window by arima function**  \n",
    "First window is from RV_day[1:750]"
   ]
  },
  {
   "cell_type": "code",
   "execution_count": 11,
   "id": "c3ec5d97",
   "metadata": {},
   "outputs": [
    {
     "name": "stdout",
     "output_type": "stream",
     "text": [
      "[1] \"Last fit-in sample index:\"\n"
     ]
    },
    {
     "data": {
      "text/html": [
       "750"
      ],
      "text/latex": [
       "750"
      ],
      "text/markdown": [
       "750"
      ],
      "text/plain": [
       "[1] 750"
      ]
     },
     "metadata": {},
     "output_type": "display_data"
    },
    {
     "name": "stdout",
     "output_type": "stream",
     "text": [
      "[1] \"Window begining date:\"\n"
     ]
    },
    {
     "data": {
      "text/plain": [
       "                    RV\n",
       "2010-01-05 0.007350539"
      ]
     },
     "metadata": {},
     "output_type": "display_data"
    },
    {
     "name": "stdout",
     "output_type": "stream",
     "text": [
      "[1] \"Window ending date:\"\n"
     ]
    },
    {
     "data": {
      "text/plain": [
       "                    RV\n",
       "2013-01-10 0.006580757"
      ]
     },
     "metadata": {},
     "output_type": "display_data"
    },
    {
     "data": {
      "text/plain": [
       "\n",
       "Call:\n",
       "arima(x = RV_day[x:(x + w_l)], order = c(1, 0, 0))\n",
       "\n",
       "Coefficients:\n",
       "         ar1  intercept\n",
       "      0.5558     0.0095\n",
       "s.e.  0.0303     0.0003\n",
       "\n",
       "sigma^2 estimated as 1.275e-05:  log likelihood = 3161.75,  aic = -6317.51"
      ]
     },
     "metadata": {},
     "output_type": "display_data"
    }
   ],
   "source": [
    "# lm forecast test\n",
    "x <- 1\n",
    "AR1_fit <- arima(RV_day[x:(x+w_l)],\n",
    "        order=c(1,0,0))\n",
    "# last sample\n",
    "print(\"Last fit-in sample index:\")\n",
    "w_l+x\n",
    "print(\"Window begining date:\")\n",
    "RV_day[x]\n",
    "print(\"Window ending date:\")\n",
    "RV_day[w_l+x]\n",
    "AR1_fit"
   ]
  },
  {
   "cell_type": "markdown",
   "id": "2c43ab50",
   "metadata": {},
   "source": [
    "**As the last day data for the sample is 0.00658, AR1 has 0.55 as fit-in smaple.**"
   ]
  },
  {
   "cell_type": "code",
   "execution_count": 14,
   "id": "667a0be1",
   "metadata": {},
   "outputs": [
    {
     "data": {
      "text/plain": [
       "    Point Forecast       Lo 80      Hi 80        Lo 95      Hi 95\n",
       "751    0.007861648 0.003284978 0.01243832 0.0008622346 0.01486106"
      ]
     },
     "metadata": {},
     "output_type": "display_data"
    }
   ],
   "source": [
    "AR1_forecast1 <- forecast(AR1_fit, h = 1)\n",
    "AR1_forecast1"
   ]
  },
  {
   "cell_type": "code",
   "execution_count": 16,
   "id": "44d08947",
   "metadata": {},
   "outputs": [
    {
     "name": "stdout",
     "output_type": "stream",
     "text": [
      "[1] \"True value:\"\n"
     ]
    },
    {
     "data": {
      "text/plain": [
       "                    RV\n",
       "2013-01-10 0.006580757\n",
       "2013-01-11 0.005784268"
      ]
     },
     "metadata": {},
     "output_type": "display_data"
    },
    {
     "name": "stdout",
     "output_type": "stream",
     "text": [
      "[1] \"Forecast value for 2013-01-11:\"\n"
     ]
    },
    {
     "data": {
      "text/html": [
       "A Time Series:<br>0.00786164843285803"
      ],
      "text/latex": [
       "A Time Series:\\\\0.00786164843285803"
      ],
      "text/markdown": [
       "A Time Series:  \n",
       "0.00786164843285803"
      ],
      "text/plain": [
       "A Time Series:\n",
       "[1] 0.007861648"
      ]
     },
     "metadata": {},
     "output_type": "display_data"
    }
   ],
   "source": [
    "AR1_forecast <- predict(AR1_fit)\n",
    "\n",
    "# real next day data\n",
    "print(\"True value:\")\n",
    "RV_day[(x+w_l):(x+w_l+1)]\n",
    "print(\"Forecast value for 2013-01-11:\")\n",
    "AR1_forecast$pred\n",
    "               \n"
   ]
  },
  {
   "cell_type": "markdown",
   "id": "591be9ad",
   "metadata": {},
   "source": [
    "**True data on 2014-01-11 is 0.00578, forecast data is 0.00786.**"
   ]
  },
  {
   "cell_type": "markdown",
   "id": "d9ae0bf1",
   "metadata": {},
   "source": [
    "**ii. check the forecast result of high spike day**"
   ]
  },
  {
   "cell_type": "code",
   "execution_count": 17,
   "id": "3d55a779",
   "metadata": {},
   "outputs": [
    {
     "data": {
      "text/plain": [
       "                   RV\n",
       "2015-08-20 0.01178037\n",
       "2015-08-21 0.01968633\n",
       "2015-08-24 0.09566730\n",
       "2015-08-25 0.02410682\n",
       "2015-08-26 0.02410816"
      ]
     },
     "metadata": {},
     "output_type": "display_data"
    },
    {
     "name": "stdout",
     "output_type": "stream",
     "text": [
      "[1] \"Max RV date:\"\n"
     ]
    },
    {
     "data": {
      "text/html": [
       "<time datetime=\"2015-08-24\">2015-08-24</time>"
      ],
      "text/latex": [
       "2015-08-24"
      ],
      "text/markdown": [
       "2015-08-24"
      ],
      "text/plain": [
       "[1] \"2015-08-24\""
      ]
     },
     "metadata": {},
     "output_type": "display_data"
    },
    {
     "name": "stdout",
     "output_type": "stream",
     "text": [
      "[1] \"Max RV index:\"\n"
     ]
    },
    {
     "data": {
      "text/html": [
       "1404"
      ],
      "text/latex": [
       "1404"
      ],
      "text/markdown": [
       "1404"
      ],
      "text/plain": [
       "[1] 1404"
      ]
     },
     "metadata": {},
     "output_type": "display_data"
    },
    {
     "name": "stdout",
     "output_type": "stream",
     "text": [
      "[1] \"Window begining index:\"\n"
     ]
    },
    {
     "data": {
      "text/html": [
       "655"
      ],
      "text/latex": [
       "655"
      ],
      "text/markdown": [
       "655"
      ],
      "text/plain": [
       "[1] 655"
      ]
     },
     "metadata": {},
     "output_type": "display_data"
    }
   ],
   "source": [
    "RV_day['2015-08-20/2015-08-26']\n",
    "print(\"Max RV date:\")\n",
    "index(RV_day)[spike]\n",
    "print(\"Max RV index:\")\n",
    "spike\n",
    "# last sample day as spike\n",
    "x <- spike - w_l\n",
    "print(\"Window begining index:\")\n",
    "x"
   ]
  },
  {
   "cell_type": "code",
   "execution_count": 18,
   "id": "965b3577",
   "metadata": {},
   "outputs": [
    {
     "name": "stdout",
     "output_type": "stream",
     "text": [
      "[1] \"Window begining date:\"\n"
     ]
    },
    {
     "data": {
      "text/plain": [
       "                    RV\n",
       "2012-08-20 0.005092052"
      ]
     },
     "metadata": {},
     "output_type": "display_data"
    },
    {
     "name": "stdout",
     "output_type": "stream",
     "text": [
      "[1] \"Window ending date:\"\n"
     ]
    },
    {
     "data": {
      "text/plain": [
       "                  RV\n",
       "2015-08-24 0.0956673"
      ]
     },
     "metadata": {},
     "output_type": "display_data"
    },
    {
     "data": {
      "text/plain": [
       "\n",
       "Call:\n",
       "arima(x = RV_day[x:(x + w_l)], order = c(1, 0, 0))\n",
       "\n",
       "Coefficients:\n",
       "         ar1  intercept\n",
       "      0.7548     0.0082\n",
       "s.e.  0.0552     0.0005\n",
       "\n",
       "sigma^2 estimated as 1.259e-05:  log likelihood = 3166.26,  aic = -6326.51"
      ]
     },
     "metadata": {},
     "output_type": "display_data"
    }
   ],
   "source": [
    "# test the spike forecasting  for fit-in smaple\n",
    "AR1_fit <- arima(RV_day[x:(x+w_l)],c(1,0,0))\n",
    "# last sample\n",
    "print(\"Window begining date:\")\n",
    "RV_day[x]\n",
    "print(\"Window ending date:\")\n",
    "RV_day[w_l+x]\n",
    "AR1_fit"
   ]
  },
  {
   "cell_type": "markdown",
   "id": "47a81a8e",
   "metadata": {},
   "source": [
    "**As the last day fit-in data from the sample is 0.0956, AR1 has 0.75 as fit-in smaple, higher than the result of first window as 0.55.**"
   ]
  },
  {
   "cell_type": "code",
   "execution_count": 19,
   "id": "dfcba737",
   "metadata": {},
   "outputs": [
    {
     "name": "stdout",
     "output_type": "stream",
     "text": [
      "[1] \"True value:\"\n"
     ]
    },
    {
     "data": {
      "text/plain": [
       "                   RV\n",
       "2015-08-24 0.09566730\n",
       "2015-08-25 0.02410682"
      ]
     },
     "metadata": {},
     "output_type": "display_data"
    },
    {
     "name": "stdout",
     "output_type": "stream",
     "text": [
      "[1] \"Forecast value for 2015-08-25:\"\n"
     ]
    },
    {
     "data": {
      "text/html": [
       "A Time Series:<br>0.0742060362219121"
      ],
      "text/latex": [
       "A Time Series:\\\\0.0742060362219121"
      ],
      "text/markdown": [
       "A Time Series:  \n",
       "0.0742060362219121"
      ],
      "text/plain": [
       "A Time Series:\n",
       "[1] 0.07420604"
      ]
     },
     "metadata": {},
     "output_type": "display_data"
    }
   ],
   "source": [
    "# forecast the next day value as 2015-08-25\n",
    "AR1_forecast <- predict(AR1_fit)\n",
    "# real next day data\n",
    "print(\"True value:\")\n",
    "RV_day[(x+w_l):(x+w_l+1)]   \n",
    "print(\"Forecast value for 2015-08-25:\")\n",
    "AR1_forecast$pred\n",
    "   "
   ]
  },
  {
   "cell_type": "markdown",
   "id": "ccd7ee33",
   "metadata": {},
   "source": [
    "**After the spike value of 0.0956, the Real data on 2015-08-25 is 0.0241, forecast data is 0.0742, both are much higher than the result from the first window.**"
   ]
  },
  {
   "cell_type": "markdown",
   "id": "9ce696c3",
   "metadata": {},
   "source": [
    "**iii. Forecast by lm function**"
   ]
  },
  {
   "cell_type": "code",
   "execution_count": 20,
   "id": "e74ffcc6",
   "metadata": {},
   "outputs": [
    {
     "data": {
      "text/plain": [
       "\n",
       "Call:\n",
       "lm(formula = dep ~ ind)\n",
       "\n",
       "Coefficients:\n",
       "(Intercept)          ind  \n",
       "   0.004199     0.556448  \n"
      ]
     },
     "metadata": {},
     "output_type": "display_data"
    },
    {
     "name": "stdout",
     "output_type": "stream",
     "text": [
      "[1] \"Forecast value:\"\n"
     ]
    },
    {
     "data": {
      "text/html": [
       "<strong>1:</strong> 0.0078610157839227"
      ],
      "text/latex": [
       "\\textbf{1:} 0.0078610157839227"
      ],
      "text/markdown": [
       "**1:** 0.0078610157839227"
      ],
      "text/plain": [
       "          1 \n",
       "0.007861016 "
      ]
     },
     "metadata": {},
     "output_type": "display_data"
    },
    {
     "name": "stdout",
     "output_type": "stream",
     "text": [
      "[1] \"True value:\"\n"
     ]
    },
    {
     "data": {
      "text/plain": [
       "                    RV\n",
       "2013-01-10 0.006580757\n",
       "2013-01-11 0.005784268"
      ]
     },
     "metadata": {},
     "output_type": "display_data"
    }
   ],
   "source": [
    "# Forecast from first window \n",
    "x <- 1\n",
    "dep <- as.numeric(RV_day[(x+1):(x+w_l)])\n",
    "ind <- as.numeric(RV_day[x:(x+w_l-1)])\n",
    "AR1_lm_fit <- lm(dep ~ ind)\n",
    "AR1_lm_fit\n",
    "\n",
    "#a <- c(1,2,3)\n",
    "lastday <- as.numeric(RV_day[x+w_l])\n",
    "new <- data.frame(ind = lastday )\n",
    "print(\"Forecast value:\")\n",
    "predict(AR1_lm_fit, new)\n",
    "print(\"True value:\")\n",
    "RV_day[(x+w_l):(x+w_l+1)] "
   ]
  },
  {
   "cell_type": "code",
   "execution_count": 22,
   "id": "515d79fb",
   "metadata": {},
   "outputs": [
    {
     "data": {
      "text/plain": [
       "\n",
       "Call:\n",
       "lm(formula = dep ~ ind)\n",
       "\n",
       "Coefficients:\n",
       "(Intercept)          ind  \n",
       "   0.001969     0.758753  \n"
      ]
     },
     "metadata": {},
     "output_type": "display_data"
    },
    {
     "name": "stdout",
     "output_type": "stream",
     "text": [
      "[1] \"True value:\"\n"
     ]
    },
    {
     "data": {
      "text/plain": [
       "                   RV\n",
       "2015-08-24 0.09566730\n",
       "2015-08-25 0.02410682"
      ]
     },
     "metadata": {},
     "output_type": "display_data"
    },
    {
     "name": "stdout",
     "output_type": "stream",
     "text": [
      "[1] \"Forecast value:\"\n"
     ]
    },
    {
     "data": {
      "text/html": [
       "<strong>1:</strong> 0.0745572563915411"
      ],
      "text/latex": [
       "\\textbf{1:} 0.0745572563915411"
      ],
      "text/markdown": [
       "**1:** 0.0745572563915411"
      ],
      "text/plain": [
       "         1 \n",
       "0.07455726 "
      ]
     },
     "metadata": {},
     "output_type": "display_data"
    }
   ],
   "source": [
    "# Forecast after the spike day 2015-08-25\n",
    "x <- spike - w_l\n",
    "dep <- as.numeric(RV_day[(x+1):(x+w_l)])\n",
    "ind <- as.numeric(RV_day[x:(x+w_l-1)])\n",
    "AR1_lm_fit <- lm(dep ~ ind)\n",
    "AR1_lm_fit\n",
    "# use the last day sample data for forecasting\n",
    "lastday <- as.numeric(RV_day[(w_l+ x)])\n",
    "new <- data.frame(ind = lastday )\n",
    "print(\"True value:\")\n",
    "RV_day[(x+w_l):(x+w_l+1)]\n",
    "print(\"Forecast value:\")\n",
    "predict(AR1_lm_fit, new)\n"
   ]
  },
  {
   "cell_type": "markdown",
   "id": "b8899fdf",
   "metadata": {},
   "source": [
    "**The reslut of lm predict is similar to the result from arima forecast.**"
   ]
  },
  {
   "cell_type": "markdown",
   "id": "dc5361df",
   "metadata": {},
   "source": [
    "**iv. Verify forecast result by plot**"
   ]
  },
  {
   "cell_type": "code",
   "execution_count": 23,
   "id": "2f0b84f4",
   "metadata": {},
   "outputs": [
    {
     "data": {
      "image/png": "[encoded data removed]",
      "text/plain": [
       "Plot with title \" RV vs rolling AR(1)-RV\""
      ]
     },
     "metadata": {
      "image/png": {
       "height": 240,
       "width": 420
      }
     },
     "output_type": "display_data"
    }
   ],
   "source": [
    "# fit-in window size is fixed at w_l as RV_day[x:(w_l+x),]\n",
    "# then the fixed size window moves 750 times as n_for\n",
    "AR1_roll_fit<-lapply( 1:n_for, \n",
    "    function(x) arima(RV_day[x:(x+w_l)],c(1,0,0)) )        \n",
    "# use arima predict function for forecasting\n",
    "AR1_roll_for <- sapply(1:n_for, \n",
    "    function (x) predict(AR1_roll_fit[[x]])$pred)\n",
    "AR1_roll <- xts(AR1_roll_for,order.by = index(\n",
    "    rets[(w_l+2):(w_l+1+n_for)]))\n",
    "\n",
    "par(bg = \"#f7f7f7\")\n",
    "options(repr.plot.width = 7, repr.plot.height = 4)\n",
    "\n",
    "plot.zoo(RV_day[(w_l+2):(w_l+1+n_for)],xlab=NA,  ylab=NA,\n",
    "    format='%Y-%m', main=\" RV vs rolling AR(1)-RV\")\n",
    "lines(zoo(AR1_roll),col=\"red\", lwd=2)"
   ]
  },
  {
   "cell_type": "markdown",
   "id": "84ec5520",
   "metadata": {},
   "source": [
    "* **AR(1） Expanding Window**"
   ]
  },
  {
   "cell_type": "markdown",
   "id": "75568d72",
   "metadata": {},
   "source": [
    "Set the beginning of the window always as 1"
   ]
  },
  {
   "cell_type": "code",
   "execution_count": 24,
   "id": "e1842755",
   "metadata": {},
   "outputs": [
    {
     "data": {
      "image/png": "[encoded data removed]",
      "text/plain": [
       "Plot with title \" RV vs exping AR(1)-RV\""
      ]
     },
     "metadata": {
      "image/png": {
       "height": 240,
       "width": 420
      }
     },
     "output_type": "display_data"
    }
   ],
   "source": [
    "# fit-in window size is expanding at RV_day[1:(w_l+x),]\n",
    "AR1_exp_fit<-lapply( 1:n_for, function(x) arima(RV_day[1:(x+w_l)],c(1,0,0)) )                   \n",
    "AR1_exp_for <- sapply(1:n_for, function (x) predict(AR1_exp_fit[[x]])$pred)\n",
    "AR1_exp <- xts(AR1_exp_for,order.by = index(rets[(w_l+2):(w_l+1+n_for)]))\n",
    "\n",
    "par(bg = \"#f7f7f7\")\n",
    "options(repr.plot.width = 7, repr.plot.height = 4)\n",
    "\n",
    "plot.zoo(RV_day[(w_l+2):(w_l+1+n_for)],xlab=NA, ylab=NA,\n",
    "    format='%Y-%m', main=\" RV vs exping AR(1)-RV\")\n",
    "lines(zoo(AR1_exp),col=\"blue\", lwd=2)                            "
   ]
  },
  {
   "cell_type": "markdown",
   "id": "1db8ca6c",
   "metadata": {},
   "source": [
    "###  (2). HAR Forecast"
   ]
  },
  {
   "cell_type": "markdown",
   "id": "3742e9c0",
   "metadata": {},
   "source": [
    "* **HAR Rolling Window**"
   ]
  },
  {
   "cell_type": "code",
   "execution_count": 26,
   "id": "6df64d3f",
   "metadata": {},
   "outputs": [
    {
     "data": {
      "image/png": "[encoded data removed]",
      "text/plain": [
       "Plot with title \" RV vs rolling HAR\""
      ]
     },
     "metadata": {
      "image/png": {
       "height": 240,
       "width": 420
      }
     },
     "output_type": "display_data"
    }
   ],
   "source": [
    "# fit-in window size is fixed at RV_day[x:(w_l+x),]\n",
    "\n",
    "HAR_roll_fit <- lapply(1:n_for, function(x) HARmodel(data = RV_day[x:(w_l+x),] , \n",
    "    periods = c(1,5,22), type = \"HAR\", h = 1, transform = NULL, inputType = \"RM\"))\n",
    "HAR_roll_for <- sapply(1:n_for, function (x) predict(HAR_roll_fit[[x]]))                       \n",
    "HAR_roll <- xts(HAR_roll_for,order.by = index(rets[(w_l+2):(w_l+1+n_for)]))\n",
    "    \n",
    "par(bg = \"#f7f7f7\")\n",
    "options(repr.plot.width = 7, repr.plot.height = 4)\n",
    "\n",
    "plot.zoo(RV_day[(w_l+2):(w_l+1+n_for)],xlab=NA, ylab=NA,\n",
    "    format='%Y-%m', main=\" RV vs rolling HAR\")\n",
    "lines(zoo(HAR_roll),col=\"red\", lwd=2, lty=2)\n"
   ]
  },
  {
   "cell_type": "markdown",
   "id": "46f4ac7a",
   "metadata": {},
   "source": [
    "* **HAR Expanding Window**"
   ]
  },
  {
   "cell_type": "code",
   "execution_count": 28,
   "id": "8b290d15",
   "metadata": {},
   "outputs": [
    {
     "data": {
      "image/png": "[encoded data removed]",
      "text/plain": [
       "Plot with title \" RV vs Expanding HAR\""
      ]
     },
     "metadata": {
      "image/png": {
       "height": 240,
       "width": 420
      }
     },
     "output_type": "display_data"
    }
   ],
   "source": [
    "# fit-in window size is expanding at RV_day[1:(w_l+x),]\n",
    "HAR_exp_fit <- lapply(1:n_for, function(x) HARmodel(data = RV_day[1:(w_l+x),] , \n",
    "    periods = c(1,5,22), type = \"HAR\", h = 1, transform = NULL, inputType = \"RM\"))\n",
    "HAR_exp_for<-sapply(1:n_for, function (x) predict(HAR_exp_fit[[x]]))\n",
    "HAR_exp <- xts(HAR_exp_for,order.by = index(rets[(w_l+2):(w_l+1+n_for)]))               \n",
    "                \n",
    "\n",
    "par(bg = \"#f7f7f7\")\n",
    "options(repr.plot.width = 7, repr.plot.height = 4)\n",
    "\n",
    "plot.zoo(RV_day[(w_l+2):(w_l+1+n_for)],xlab=NA,ylab=NA,\n",
    "    format='%Y-%m', main=\" RV vs Expanding HAR\")\n",
    "lines(zoo(HAR_exp),col=\"blue\", lwd=2,lty=2)\n"
   ]
  },
  {
   "cell_type": "markdown",
   "id": "f521883b",
   "metadata": {},
   "source": [
    "###  (3). HAR-RS Forecast"
   ]
  },
  {
   "cell_type": "markdown",
   "id": "cd265d88",
   "metadata": {},
   "source": [
    "* **Create new function: forecast_HAR_RS()**"
   ]
  },
  {
   "cell_type": "code",
   "execution_count": 77,
   "id": "5373005c",
   "metadata": {},
   "outputs": [
    {
     "name": "stdout",
     "output_type": "stream",
     "text": [
      "[1] \"First window rolling\"\n"
     ]
    },
    {
     "data": {
      "text/html": [
       "<strong>1:</strong> 0.00733339823368784"
      ],
      "text/latex": [
       "\\textbf{1:} 0.00733339823368784"
      ],
      "text/markdown": [
       "**1:** 0.00733339823368784"
      ],
      "text/plain": [
       "          1 \n",
       "0.007333398 "
      ]
     },
     "metadata": {},
     "output_type": "display_data"
    },
    {
     "name": "stdout",
     "output_type": "stream",
     "text": [
      "[1] \"First window expanding\"\n"
     ]
    },
    {
     "data": {
      "text/html": [
       "<strong>1:</strong> 0.00733339823368784"
      ],
      "text/latex": [
       "\\textbf{1:} 0.00733339823368784"
      ],
      "text/markdown": [
       "**1:** 0.00733339823368784"
      ],
      "text/plain": [
       "          1 \n",
       "0.007333398 "
      ]
     },
     "metadata": {},
     "output_type": "display_data"
    },
    {
     "data": {
      "text/html": [
       "655"
      ],
      "text/latex": [
       "655"
      ],
      "text/markdown": [
       "655"
      ],
      "text/plain": [
       "[1] 655"
      ]
     },
     "metadata": {},
     "output_type": "display_data"
    },
    {
     "name": "stdout",
     "output_type": "stream",
     "text": [
      "[1] \"Spike forecast rolling\"\n"
     ]
    },
    {
     "data": {
      "text/html": [
       "<strong>1:</strong> 0.0704814638323512"
      ],
      "text/latex": [
       "\\textbf{1:} 0.0704814638323512"
      ],
      "text/markdown": [
       "**1:** 0.0704814638323512"
      ],
      "text/plain": [
       "         1 \n",
       "0.07048146 "
      ]
     },
     "metadata": {},
     "output_type": "display_data"
    },
    {
     "name": "stdout",
     "output_type": "stream",
     "text": [
      "[1] \"Spike forecast expanding\"\n"
     ]
    },
    {
     "data": {
      "text/html": [
       "<strong>1:</strong> 0.0491645766091498"
      ],
      "text/latex": [
       "\\textbf{1:} 0.0491645766091498"
      ],
      "text/markdown": [
       "**1:** 0.0491645766091498"
      ],
      "text/plain": [
       "         1 \n",
       "0.04916458 "
      ]
     },
     "metadata": {},
     "output_type": "display_data"
    }
   ],
   "source": [
    "# Input parameters: x is rolling window postion\n",
    "# exp is the flag of rolling or expanding window, default is expanding\n",
    "# return n.ahead=1 forecast RV\n",
    "forecast_HAR_RS <- function (x, exp = 1 ) {\n",
    "    \n",
    "    dep <- as.numeric(RV_day[(exp+22):(x+w_l)])\n",
    "    ind_p <- as.numeric(RV_p[(exp+22-1):(x+w_l-1)])\n",
    "    ind_n <- as.numeric(RV_n[(exp+22-1):(x+w_l-1)])\n",
    "    ind_5 <- as.numeric(RV5[(exp+22-5):(x+w_l-5)])\n",
    "    ind_22 <- as.numeric(RV22[exp:(x+w_l-22)])\n",
    "    \n",
    "    # use lm() regression for HAR_RS fit\n",
    "\n",
    "    HAR_RS_fit <- lm(dep ~ ind_p + ind_n + ind_5 + ind_22)\n",
    "\n",
    "    # use the last day sample data for out-of-sample forecasting\n",
    "    ind_p <- as.numeric(RV_p[x+w_l])\n",
    "    ind_n <- as.numeric(RV_n[x+w_l])\n",
    "    ind_5 <- as.numeric(RV5[x+w_l-4])\n",
    "    ind_22 <- as.numeric(RV22[x+w_l-21])\n",
    "\n",
    "    new <- data.frame(ind_p,ind_n,ind_5, ind_22)\n",
    "    return(predict(HAR_RS_fit, new)) \n",
    "}\n",
    "\n",
    "# test for first day and spike day forecast\n",
    "x <- 1\n",
    "print(\"First window rolling\")\n",
    "forecast_HAR_RS( x, x) #rolling\n",
    "print(\"First window expanding\")\n",
    "forecast_HAR_RS( x) # expanding\n",
    "\n",
    "x <- spike - w_l # forecast the RV right after spike day\n",
    "x\n",
    "print(\"Spike forecast rolling\")\n",
    "forecast_HAR_RS( x, x) #rolling\n",
    "print(\"Spike forecast expanding\")\n",
    "forecast_HAR_RS( x) # expanding"
   ]
  },
  {
   "cell_type": "markdown",
   "id": "0e66183b",
   "metadata": {},
   "source": [
    "* **HAR_RS Rolling Window**"
   ]
  },
  {
   "cell_type": "code",
   "execution_count": 83,
   "id": "9765a2f2",
   "metadata": {},
   "outputs": [
    {
     "data": {
      "image/png": "[encoded data removed]",
      "text/plain": [
       "Plot with title \" RV vs rolling HAR_RS\""
      ]
     },
     "metadata": {
      "image/png": {
       "height": 240,
       "width": 420
      }
     },
     "output_type": "display_data"
    }
   ],
   "source": [
    "HAR_RS_roll_for <- sapply(1:n_for, \n",
    "    function (x) forecast_HAR_RS( x, x))                      \n",
    "\n",
    "HAR_RS_roll <- xts(HAR_RS_roll_for,order.by = index(\n",
    "    rets[(w_l+2):(w_l+1+n_for)]))\n",
    "\n",
    "par(bg = \"#f7f7f7\")\n",
    "options(repr.plot.width = 7, repr.plot.height = 4)\n",
    "\n",
    "plot.zoo(RV_day[(w_l+2):(w_l+1+n_for)],xlab=NA, ylab=NA,\n",
    "    format='%Y-%m', main=\" RV vs rolling HAR_RS\")\n",
    "lines(zoo(HAR_RS_roll),col=\"red\", lwd=2)"
   ]
  },
  {
   "cell_type": "markdown",
   "id": "9a961116",
   "metadata": {},
   "source": [
    "* **HAR_RS Expanding Window**"
   ]
  },
  {
   "cell_type": "code",
   "execution_count": 84,
   "id": "4f835abb",
   "metadata": {},
   "outputs": [
    {
     "data": {
      "image/png": "[encoded data removed]",
      "text/plain": [
       "Plot with title \" RV vs exping HAR_RS\""
      ]
     },
     "metadata": {
      "image/png": {
       "height": 240,
       "width": 420
      }
     },
     "output_type": "display_data"
    }
   ],
   "source": [
    "HAR_RS_exp_for <- sapply(1:n_for, \n",
    "        function (x) forecast_HAR_RS( x ))                      \n",
    "\n",
    "HAR_RS_exp <- xts(HAR_RS_exp_for,order.by = index(\n",
    "    rets[(w_l+2):(w_l+1+n_for)]))\n",
    "\n",
    "par(bg = \"#f7f7f7\")\n",
    "options(repr.plot.width = 7, repr.plot.height = 4)\n",
    "\n",
    "plot.zoo(RV_day[(w_l+2):(w_l+1+n_for)],xlab=NA, ylab=NA,\n",
    "        format='%Y-%m', main=\" RV vs exping HAR_RS\")\n",
    "lines(zoo(HAR_RS_exp),col=\"blue\", lwd=2)\n",
    "\n"
   ]
  },
  {
   "cell_type": "markdown",
   "id": "39421b41",
   "metadata": {},
   "source": [
    "###  (4). HAR-Rskew-RKurt Forecast"
   ]
  },
  {
   "cell_type": "markdown",
   "id": "5405f108",
   "metadata": {},
   "source": [
    "* **Create new function:  forecast_HAR_KS()**"
   ]
  },
  {
   "cell_type": "code",
   "execution_count": 85,
   "id": "c4fa47ed",
   "metadata": {},
   "outputs": [
    {
     "name": "stdout",
     "output_type": "stream",
     "text": [
      "[1] \"First window rolling\"\n"
     ]
    },
    {
     "data": {
      "text/html": [
       "<strong>1:</strong> 0.0071985801399809"
      ],
      "text/latex": [
       "\\textbf{1:} 0.0071985801399809"
      ],
      "text/markdown": [
       "**1:** 0.0071985801399809"
      ],
      "text/plain": [
       "         1 \n",
       "0.00719858 "
      ]
     },
     "metadata": {},
     "output_type": "display_data"
    },
    {
     "name": "stdout",
     "output_type": "stream",
     "text": [
      "[1] \"First window expanding\"\n"
     ]
    },
    {
     "data": {
      "text/html": [
       "<strong>1:</strong> 0.0071985801399809"
      ],
      "text/latex": [
       "\\textbf{1:} 0.0071985801399809"
      ],
      "text/markdown": [
       "**1:** 0.0071985801399809"
      ],
      "text/plain": [
       "         1 \n",
       "0.00719858 "
      ]
     },
     "metadata": {},
     "output_type": "display_data"
    },
    {
     "data": {
      "text/html": [
       "655"
      ],
      "text/latex": [
       "655"
      ],
      "text/markdown": [
       "655"
      ],
      "text/plain": [
       "[1] 655"
      ]
     },
     "metadata": {},
     "output_type": "display_data"
    },
    {
     "name": "stdout",
     "output_type": "stream",
     "text": [
      "[1] \"Spike forecast rolling\"\n"
     ]
    },
    {
     "data": {
      "text/html": [
       "<strong>1:</strong> 0.0723666095246006"
      ],
      "text/latex": [
       "\\textbf{1:} 0.0723666095246006"
      ],
      "text/markdown": [
       "**1:** 0.0723666095246006"
      ],
      "text/plain": [
       "         1 \n",
       "0.07236661 "
      ]
     },
     "metadata": {},
     "output_type": "display_data"
    },
    {
     "name": "stdout",
     "output_type": "stream",
     "text": [
      "[1] \"Spike forecast expanding\"\n"
     ]
    },
    {
     "data": {
      "text/html": [
       "<strong>1:</strong> 0.0557982701062111"
      ],
      "text/latex": [
       "\\textbf{1:} 0.0557982701062111"
      ],
      "text/markdown": [
       "**1:** 0.0557982701062111"
      ],
      "text/plain": [
       "         1 \n",
       "0.05579827 "
      ]
     },
     "metadata": {},
     "output_type": "display_data"
    }
   ],
   "source": [
    "# Input parameters: x is rolling window postion\n",
    "# exp is the flag of rolling or expanding window, default is expanding\n",
    "# return n.ahead=1 forecast RV\n",
    "forecast_HAR_KS <- function (x, exp = 1 ) {\n",
    "    \n",
    "    dep <- as.numeric(RV_day[(exp+22):(x+w_l)])\n",
    "    ind_1 <- as.numeric(RV_day[(exp+22-1):(x+w_l-1)])\n",
    "    ind_5 <- as.numeric(RV5[(exp+22-5):(x+w_l-5)])\n",
    "    ind_22 <- as.numeric(RV22[exp:(x+w_l-22)])\n",
    "    ind_rk <- as.numeric(RV_RK[(exp+22-1):(x+w_l-1)])\n",
    "    ind_rs <- as.numeric(RV_RS[(exp+22-1):(x+w_l-1)])\n",
    "    \n",
    "    # use lm() regression for HAR_KS fit\n",
    "\n",
    "    HAR_RS_fit <- lm(dep ~ ind_1 + ind_5 + ind_22 + ind_rk + ind_rs)\n",
    "\n",
    "    # use the last day sample data for out-of-sample forecasting\n",
    "    ind_1 <- as.numeric(RV_p[x+w_l])\n",
    "    ind_5 <- as.numeric(RV5[x+w_l-4])\n",
    "    ind_22 <- as.numeric(RV22[x+w_l-21])\n",
    "    ind_rk <- as.numeric(RV_n[x+w_l])\n",
    "    ind_rs <- as.numeric(RV_n[x+w_l])    \n",
    "    new <- data.frame(ind_1, ind_5, ind_22, \n",
    "            ind_rk, ind_rs)\n",
    "    \n",
    "    return(predict(HAR_RS_fit, new)) \n",
    "}\n",
    "\n",
    "# test for first day and spike day forecast\n",
    "x <- 1\n",
    "print(\"First window rolling\")\n",
    "forecast_HAR_KS( x,  x)\n",
    "print(\"First window expanding\")\n",
    "forecast_HAR_KS( x)\n",
    "x <- spike - w_l\n",
    "x\n",
    "print(\"Spike forecast rolling\")\n",
    "forecast_HAR_KS( x,  x)\n",
    "print(\"Spike forecast expanding\")\n",
    "forecast_HAR_KS( x)"
   ]
  },
  {
   "cell_type": "markdown",
   "id": "e6e5c33f",
   "metadata": {},
   "source": [
    "* **HAR_KS Rolling Window**"
   ]
  },
  {
   "cell_type": "code",
   "execution_count": 86,
   "id": "c5a23e66",
   "metadata": {},
   "outputs": [
    {
     "data": {
      "image/png": "[encoded data removed]",
      "text/plain": [
       "Plot with title \" RV vs rolling HAR_KS\""
      ]
     },
     "metadata": {
      "image/png": {
       "height": 240,
       "width": 420
      }
     },
     "output_type": "display_data"
    }
   ],
   "source": [
    "HAR_KS_roll_for <- sapply(1:n_for, \n",
    "        function (x) forecast_HAR_KS(x, x))                      \n",
    "\n",
    "HAR_KS_roll <- xts(HAR_KS_roll_for,order.by = index(\n",
    "    rets[(w_l+2):(w_l+1+n_for)]))\n",
    "\n",
    "par(bg = \"#f7f7f7\")\n",
    "options(repr.plot.width = 7, repr.plot.height = 4)\n",
    "\n",
    "plot.zoo(RV_day[(w_l+2):(w_l+1+n_for)],xlab=NA, ylab=NA,\n",
    "    format='%Y-%m', main=\" RV vs rolling HAR_KS\")\n",
    "lines(zoo(HAR_KS_roll),col=\"red\", lwd=2)"
   ]
  },
  {
   "cell_type": "markdown",
   "id": "11000799",
   "metadata": {},
   "source": [
    "* **HAR_KS Expanding Window**"
   ]
  },
  {
   "cell_type": "code",
   "execution_count": 87,
   "id": "a2ef9137",
   "metadata": {},
   "outputs": [
    {
     "data": {
      "image/png": "[encoded data removed]",
      "text/plain": [
       "Plot with title \" RV vs exping HAR_KS\""
      ]
     },
     "metadata": {
      "image/png": {
       "height": 240,
       "width": 420
      }
     },
     "output_type": "display_data"
    }
   ],
   "source": [
    "HAR_KS_exp_for <- sapply(1:n_for, function (x) forecast_HAR_KS(x))                      \n",
    "\n",
    "HAR_KS_exp <- xts(HAR_KS_exp_for,order.by = index(\n",
    "    rets[(w_l+2):(w_l+1+n_for)]))\n",
    "\n",
    "par(bg = \"#f7f7f7\")\n",
    "options(repr.plot.width = 7, repr.plot.height = 4)\n",
    "\n",
    "plot.zoo(RV_day[(w_l+2):(w_l+1+n_for)],xlab=NA,\n",
    "         ylab=NA,format='%Y-%m', main=\" RV vs exping HAR_KS\")\n",
    "lines(zoo(HAR_KS_exp),col=\"blue\", lwd=2)\n",
    "\n"
   ]
  },
  {
   "cell_type": "markdown",
   "id": "4453851c",
   "metadata": {},
   "source": [
    "###  (5). Realized GARCH Forecast"
   ]
  },
  {
   "cell_type": "markdown",
   "id": "f85129d9",
   "metadata": {},
   "source": [
    "* **Create new function: forecast_RGARCH()**"
   ]
  },
  {
   "cell_type": "markdown",
   "id": "7d593871",
   "metadata": {},
   "source": [
    "Because the result of rolling window forecast is very noisy, we have to apply a filter for Winsorization to get cleaning data."
   ]
  },
  {
   "cell_type": "code",
   "execution_count": 5,
   "id": "e681d6e5",
   "metadata": {},
   "outputs": [
    {
     "name": "stdout",
     "output_type": "stream",
     "text": [
      "[1] \"First window rolling\"\n",
      "     2013-01-11\n",
      "T+1 0.003547609\n",
      "[1] \"First window expanding\"\n",
      "     2013-01-11\n",
      "T+1 0.003549874\n",
      "[1] \"Spike forecast rolling\"\n",
      "    2015-08-24\n",
      "T+1 0.03196687\n",
      "[1] \"Spike forecast expanding\"\n",
      "    2015-08-24\n",
      "T+1 0.04005004\n"
     ]
    }
   ],
   "source": [
    "# set up a global variable for Winsorization\n",
    "flag_last <- 0\n",
    "\n",
    "# Input parameters: x is rolling window postion\n",
    "# exp is the flag of rolling or expanding window, default is expanding\n",
    "# return forecast volatility\n",
    "forecast_RGARCH <- function (x,exp = 1) {\n",
    "    \n",
    "    RGarch_fit <- ugarchfit(real_garchspec, rets[exp:(x+w_l)], \n",
    "        solver = 'hybrid', realizedVol =  RV_day[exp:(x+w_l)])  \n",
    "    \n",
    "    RGARCH_for<- ugarchforecast(RGarch_fit, data = NULL, \n",
    "        n.ahead = 1,  n.roll = 0, out.sample = 0)    \n",
    "    for_res <- RGARCH_for@forecast[[\"sigmaFor\"]]    \n",
    "    \n",
    "    # Winsorization out of range values\n",
    "    if (for_res > 0.05) { \n",
    "#        print(for_res)\n",
    "        for_res <- flag_last \n",
    "    } else { \n",
    "        flag_last <<- for_res\n",
    "    }  \n",
    "    return(for_res)    \n",
    "}\n",
    "\n",
    "# test for first day and spike day forecast\n",
    "x <- 1\n",
    "print(\"First window rolling\")\n",
    "print(forecast_RGARCH( x,  x))\n",
    "print(\"First window expanding\")\n",
    "print(forecast_RGARCH( x))\n",
    "\n",
    "x <- spike - w_l\n",
    "print(\"Spike forecast rolling\")\n",
    "print(forecast_RGARCH( x,  x))\n",
    "print(\"Spike forecast expanding\")\n",
    "print(forecast_RGARCH( x))\n",
    "               "
   ]
  },
  {
   "cell_type": "markdown",
   "id": "ac0c8116",
   "metadata": {},
   "source": [
    "* **R_GARCH Rolling Window**"
   ]
  },
  {
   "cell_type": "markdown",
   "id": "03a87cf6",
   "metadata": {},
   "source": [
    "<span style='background: yellow'>**This step takes 16 minutes, do not run it unless going for coffee.**</span>"
   ]
  },
  {
   "cell_type": "code",
   "execution_count": 8,
   "id": "f1010e34",
   "metadata": {},
   "outputs": [
    {
     "data": {
      "text/plain": [
       "   user  system elapsed \n",
       " 975.84   92.04  634.59 "
      ]
     },
     "metadata": {},
     "output_type": "display_data"
    },
    {
     "data": {
      "image/png": "[encoded data removed]",
      "text/plain": [
       "Plot with title \" RV vs rolling R_GARCH\""
      ]
     },
     "metadata": {
      "image/png": {
       "height": 240,
       "width": 420
      }
     },
     "output_type": "display_data"
    }
   ],
   "source": [
    "system.time(\n",
    "    R_GARCH_roll_for <- sapply(1:n_for, function (x) forecast_RGARCH(x, x))     \n",
    ")\n",
    "R_GARCH_roll <- xts(R_GARCH_roll_for, order.by = index(\n",
    "    rets[(w_l+2):(w_l+1+n_for)]))\n",
    "\n",
    "par(bg = \"#f7f7f7\")\n",
    "options(repr.plot.width = 7, repr.plot.height = 4)\n",
    "\n",
    "plot.zoo(RV_day[(w_l+2):(w_l+1+n_for)],xlab=NA, ylab=NA,\n",
    "    format='%Y-%m', main=\" RV vs rolling R_GARCH\")\n",
    "lines(zoo(R_GARCH_roll),col=\"red\", lwd=2)\n"
   ]
  },
  {
   "cell_type": "markdown",
   "id": "8216c0b9",
   "metadata": {},
   "source": [
    "We can see the forecast result for rolling window is really noisy even after winsorization during the period of 2015, the reason could be the biggest return spike in 2014-10-01 is not included in RV data."
   ]
  },
  {
   "cell_type": "markdown",
   "id": "fb092dc9",
   "metadata": {},
   "source": [
    "* **R_GARCH Expanding Window**"
   ]
  },
  {
   "cell_type": "markdown",
   "id": "9c538bf5",
   "metadata": {},
   "source": [
    "<span style='background: yellow'>**This step takes 20 minutes, do not run it unless going for coffee.**</span>"
   ]
  },
  {
   "cell_type": "code",
   "execution_count": 6,
   "id": "807543db",
   "metadata": {},
   "outputs": [
    {
     "data": {
      "text/plain": [
       "   user  system elapsed \n",
       "1215.34   96.96  864.74 "
      ]
     },
     "metadata": {},
     "output_type": "display_data"
    },
    {
     "data": {
      "image/png": "[encoded data removed]",
      "text/plain": [
       "Plot with title \" RV vs rolling R_GARCH\""
      ]
     },
     "metadata": {
      "image/png": {
       "height": 240,
       "width": 420
      }
     },
     "output_type": "display_data"
    }
   ],
   "source": [
    "system.time(\n",
    "    R_GARCH_exp_for <- sapply(1:n_for, function (x) forecast_RGARCH(x))     \n",
    ")\n",
    "R_GARCH_exp <- xts(R_GARCH_exp_for, order.by = index(\n",
    "    rets[(w_l+2):(w_l+1+n_for)]))\n",
    "\n",
    "par(bg = \"#f7f7f7\")\n",
    "options(repr.plot.width = 7, repr.plot.height = 4)\n",
    "\n",
    "plot.zoo(RV_day[(w_l+2):(w_l+1+n_for)],xlab=NA,\n",
    "         ylab=NA,format='%Y-%m', main=\" RV vs rolling R_GARCH\")\n",
    "lines(zoo(R_GARCH_exp),col=\"blue\", lwd=2)"
   ]
  },
  {
   "cell_type": "markdown",
   "id": "2e02261e",
   "metadata": {},
   "source": [
    "###  (6). ARMA-GARCH Forecast"
   ]
  },
  {
   "cell_type": "markdown",
   "id": "e0e8dd98",
   "metadata": {},
   "source": [
    "* **Create new function: forecast_GARCH()**"
   ]
  },
  {
   "cell_type": "code",
   "execution_count": 17,
   "id": "2e880c13",
   "metadata": {},
   "outputs": [
    {
     "name": "stdout",
     "output_type": "stream",
     "text": [
      "[1] \"First window rolling\"\n",
      "    2013-01-11\n",
      "T+1 0.01043227\n",
      "[1] \"First window expanding\"\n",
      "    2013-01-11\n",
      "T+1 0.01043227\n",
      "[1] \"Spike forecast rolling\"\n",
      "    2015-08-24\n",
      "T+1 0.06428931\n",
      "[1] \"Spike forecast expanding\"\n",
      "    2015-08-24\n",
      "T+1 0.05586805\n"
     ]
    }
   ],
   "source": [
    "# Input parameters: x is rolling window postion\n",
    "# exp is the flag of rolling or expanding window, default is expanding\n",
    "forecast_GARCH <- function (x, exp = 1 ) {    \n",
    "    Garch_fit <- ugarchfit(garchspec, 100*rets[exp:(x+w_l)])      \n",
    "    GARCH_for<- ugarchforecast(Garch_fit, data = NULL, \n",
    "        n.ahead = 1,  n.roll = 0, out.sample = 0)      \n",
    "    return(GARCH_for@forecast[[\"sigmaFor\"]]/100)    \n",
    "}\n",
    "\n",
    "# test for first day and spike day forecast\n",
    "x <- 1\n",
    "print(\"First window rolling\")\n",
    "print(forecast_GARCH( x,  x))\n",
    "print(\"First window expanding\")\n",
    "print(forecast_GARCH( x))\n",
    "\n",
    "x <- spike - w_l\n",
    "print(\"Spike forecast rolling\")\n",
    "print(forecast_GARCH( x,  x))\n",
    "print(\"Spike forecast expanding\")\n",
    "print(forecast_GARCH( x))"
   ]
  },
  {
   "cell_type": "markdown",
   "id": "83469c13",
   "metadata": {},
   "source": [
    "* **ARMA_GARCH Rolling Window**  "
   ]
  },
  {
   "cell_type": "markdown",
   "id": "f547f421",
   "metadata": {},
   "source": [
    "**First use the manual way to forecast  \n",
    "<span style='background: lightyellow'>This step takes 85 seconds**</span>"
   ]
  },
  {
   "cell_type": "code",
   "execution_count": 26,
   "id": "02558d99",
   "metadata": {},
   "outputs": [
    {
     "data": {
      "text/plain": [
       "   user  system elapsed \n",
       "  84.69    0.00   84.72 "
      ]
     },
     "metadata": {},
     "output_type": "display_data"
    },
    {
     "data": {
      "text/plain": [
       "            2013-01-11\n",
       "2013-01-14 0.010432267\n",
       "2013-01-15 0.010364145\n",
       "2013-01-16 0.009926089"
      ]
     },
     "metadata": {},
     "output_type": "display_data"
    }
   ],
   "source": [
    "# Manual way\n",
    "# ret_day[x:(x+w_l)]  beginning day rolls to day x in every loop\n",
    "system.time(\n",
    "    GARCH_roll<-lapply( 1:n_for, function(x) ugarchfit(garchspec,\n",
    "        100 * rets[x:(x+w_l)]))\n",
    ")\n",
    "# forecast result is 2013-2016 three years \n",
    "\n",
    "GARCH_roll_for<-lapply(1:n_for, function(x) ugarchforecast(GARCH_roll[[x]], \n",
    "        data = NULL, n.ahead = 1, n.roll = 0, out.sample = 0))\n",
    "\n",
    "# set to xts format   \n",
    "sigma_GARCH_roll_for<- do.call(rbind,lapply(1:n_for, \n",
    "        function(x) GARCH_roll_for[[x]]@forecast[[\"sigmaFor\"]]))                                           \n",
    "sigma_GARCH_roll_for <- xts(sigma_GARCH_roll_for,\n",
    "        order.by = index(rets[(w_l+2):(w_l+1+n_for)]))/100\n",
    "\n",
    "head(sigma_GARCH_roll_for,3)                                         "
   ]
  },
  {
   "cell_type": "markdown",
   "id": "8a66f681",
   "metadata": {},
   "source": [
    "**Then use ugarchroll function to forecast  \n",
    "<span style='background: lightyellow'>This step takes 92 seconds**</span>"
   ]
  },
  {
   "cell_type": "code",
   "execution_count": 27,
   "id": "b5dbaf46",
   "metadata": {},
   "outputs": [
    {
     "data": {
      "text/plain": [
       "   user  system elapsed \n",
       "  91.69    0.01   91.75 "
      ]
     },
     "metadata": {},
     "output_type": "display_data"
    },
    {
     "data": {
      "text/html": [
       "749"
      ],
      "text/latex": [
       "749"
      ],
      "text/markdown": [
       "749"
      ],
      "text/plain": [
       "[1] 749"
      ]
     },
     "metadata": {},
     "output_type": "display_data"
    },
    {
     "data": {
      "text/plain": [
       "                  [,1]\n",
       "2013-01-14 0.010432267\n",
       "2013-01-15 0.010364145\n",
       "2013-01-16 0.009926089"
      ]
     },
     "metadata": {},
     "output_type": "display_data"
    }
   ],
   "source": [
    "# Use ugarchroll function\n",
    "# set refit.window as \"moving\"\n",
    "system.time(\n",
    "    GARCH_roll<-ugarchroll(garchspec, 100 * rets[1:(w_l+n_for+1),], \n",
    "            n.ahead = 1, forecast.length = n_for, n.start = NULL, \n",
    "            refit.every = 1, refit.window = c(\"moving\"), window.size = w_l, \n",
    "            solver = \"solnp\", fit.control = list(), solver.control = list(), \n",
    "            calculate.VaR = FALSE, cluster = NULL, keep.coef = TRUE)\n",
    ")\n",
    "\n",
    "# set to xts format \n",
    "ARMA_GARCH_roll <- xts(GARCH_roll@forecast$density$Sigma,\n",
    "        order.by = index(rets[(w_l+2):(w_l+1+n_for)]))/100\n",
    "\n",
    "# Check the results of different method\n",
    "sum(sigma_GARCH_roll_for == ARMA_GARCH_roll)\n",
    "\n",
    "head(ARMA_GARCH_roll,3)\n"
   ]
  },
  {
   "cell_type": "markdown",
   "id": "cc072b22",
   "metadata": {},
   "source": [
    "**By comparation, we can see both mannual method and ugarchroll function provide the same results.**"
   ]
  },
  {
   "cell_type": "code",
   "execution_count": 28,
   "id": "c8f6a399",
   "metadata": {},
   "outputs": [
    {
     "data": {
      "image/png": "[encoded data removed]",
      "text/plain": [
       "Plot with title \" RV vs rolling GARCH\""
      ]
     },
     "metadata": {
      "image/png": {
       "height": 240,
       "width": 420
      }
     },
     "output_type": "display_data"
    }
   ],
   "source": [
    "par(bg = \"#f7f7f7\")\n",
    "options(repr.plot.width = 7, repr.plot.height = 4)\n",
    "\n",
    "plot.zoo(RV_day[(w_l+2):(w_l+1+n_for)],xlab=NA, ylab=NA,\n",
    "    format='%Y-%m', main=\" RV vs rolling GARCH\")\n",
    "lines(zoo(ARMA_GARCH_roll),col=\"red\")"
   ]
  },
  {
   "cell_type": "markdown",
   "id": "421d8fe0",
   "metadata": {},
   "source": [
    "* **ARMA_GARCH Expanding Window**"
   ]
  },
  {
   "cell_type": "markdown",
   "id": "407ee9b3",
   "metadata": {},
   "source": [
    "**Manual way   \n",
    "<span style='background: lightyellow'>This step takes 101 seconds**</span>"
   ]
  },
  {
   "cell_type": "code",
   "execution_count": 29,
   "id": "8f675e9d",
   "metadata": {},
   "outputs": [
    {
     "data": {
      "text/plain": [
       "   user  system elapsed \n",
       " 101.27    0.02  101.33 "
      ]
     },
     "metadata": {},
     "output_type": "display_data"
    },
    {
     "data": {
      "text/plain": [
       "            2013-01-11\n",
       "2013-01-14 0.010432267\n",
       "2013-01-15 0.010355701\n",
       "2013-01-16 0.009922551"
      ]
     },
     "metadata": {},
     "output_type": "display_data"
    }
   ],
   "source": [
    "# Manual way \n",
    "# use same garchspec config\n",
    "# ret_day[1:(x+w_l)]  beginning day stays at day 1\n",
    "# so window is expanding\n",
    "\n",
    "system.time(\n",
    "    GARCH_exp <- lapply(1:n_for, function(x) ugarchfit(garchspec,\n",
    "        100 * rets[1:(x+w_l)]))\n",
    ")\n",
    "    \n",
    "GARCH_exp_for<-lapply(1:n_for, function(x) ugarchforecast(GARCH_exp[[x]], \n",
    "    data = NULL, n.ahead = 1, n.roll = 0, out.sample = 0))        \n",
    "sigma_GARCH_exp_for<- do.call(rbind,lapply(1:n_for, \n",
    "        function(x) GARCH_exp_for[[x]]@forecast[[\"sigmaFor\"]]))                                             \n",
    "# need to divide back vol by 100 for comparation                                 \n",
    "sigma_GARCH_exp_for<-xts(sigma_GARCH_exp_for,\n",
    "        order.by=index(rets[(w_l+2):(w_l+1+n_for)]))/100        \n",
    "                                           \n",
    "head(sigma_GARCH_exp_for,3)"
   ]
  },
  {
   "cell_type": "markdown",
   "id": "23059bc5",
   "metadata": {},
   "source": [
    "**Use ugarchroll function  \n",
    "<span style='background: lightyellow'>This step takes 108 seconds**</span>"
   ]
  },
  {
   "cell_type": "code",
   "execution_count": 30,
   "id": "885ab0ba",
   "metadata": {},
   "outputs": [
    {
     "data": {
      "text/plain": [
       "   user  system elapsed \n",
       " 108.00    0.00  108.09 "
      ]
     },
     "metadata": {},
     "output_type": "display_data"
    },
    {
     "data": {
      "text/html": [
       "749"
      ],
      "text/latex": [
       "749"
      ],
      "text/markdown": [
       "749"
      ],
      "text/plain": [
       "[1] 749"
      ]
     },
     "metadata": {},
     "output_type": "display_data"
    },
    {
     "data": {
      "text/plain": [
       "                  [,1]\n",
       "2013-01-14 0.010432267\n",
       "2013-01-15 0.010355701\n",
       "2013-01-16 0.009922551"
      ]
     },
     "metadata": {},
     "output_type": "display_data"
    }
   ],
   "source": [
    "# Use ugarchroll function\n",
    "# set refit.window as \"recursive\"\n",
    "system.time(\n",
    "    GARCH_exp <- ugarchroll(garchspec, 100*rets[1:(w_l+n_for+1),], \n",
    "        n.ahead = 1, forecast.length = n_for, n.start = NULL, refit.every = 1, \n",
    "        refit.window = c(\"recursive\"), window.size = w_l, solver = \"solnp\", \n",
    "        fit.control = list(), solver.control = list(), calculate.VaR = FALSE, \n",
    "        cluster = NULL, keep.coef = TRUE)\n",
    ")\n",
    "ARMA_GARCH_exp <- xts(GARCH_exp@forecast$density$Sigma,\n",
    "        order.by = index(rets[(w_l+2):(w_l+1+n_for)]))/100\n",
    "# testing for diff\n",
    "sum(sigma_GARCH_exp_for == ARMA_GARCH_exp)\n",
    "\n",
    "head(ARMA_GARCH_exp,3)"
   ]
  },
  {
   "cell_type": "markdown",
   "id": "8a4b8e23",
   "metadata": {},
   "source": [
    "**By comparation, we can see both mannual method and ugarchroll function provide the same results.**"
   ]
  },
  {
   "cell_type": "code",
   "execution_count": 31,
   "id": "06346d3b",
   "metadata": {},
   "outputs": [
    {
     "data": {
      "image/png": "[encoded data removed]",
      "text/plain": [
       "Plot with title \" RV vs expanding GARCH\""
      ]
     },
     "metadata": {
      "image/png": {
       "height": 240,
       "width": 420
      }
     },
     "output_type": "display_data"
    }
   ],
   "source": [
    "par(bg = \"#f7f7f7\")\n",
    "options(repr.plot.width = 7, repr.plot.height = 4)\n",
    "\n",
    "plot.zoo(RV_day[(w_l+2):(w_l+1+n_for)],xlab=NA,\n",
    "         ylab=NA,format='%Y-%m', main=\" RV vs expanding GARCH\")\n",
    "lines(zoo(ARMA_GARCH_exp),col=\"blue\")"
   ]
  },
  {
   "cell_type": "markdown",
   "id": "b61a13ce",
   "metadata": {},
   "source": [
    "* **Compare rolling window with expanding window**"
   ]
  },
  {
   "cell_type": "markdown",
   "id": "a1246c71",
   "metadata": {},
   "source": [
    "###  (7). Forecast Comparisons"
   ]
  },
  {
   "cell_type": "markdown",
   "id": "a55f2f00",
   "metadata": {},
   "source": [
    "Because we think that the more data have be fit into the regression model, the better the model predicts returns and volatilities, so in this part we use the Expanding window forecast results for model comparisions."
   ]
  },
  {
   "cell_type": "markdown",
   "id": "0ddc5ae5",
   "metadata": {},
   "source": [
    "* **Plot and compare forecast errors**"
   ]
  },
  {
   "cell_type": "markdown",
   "id": "c1a8355a",
   "metadata": {},
   "source": [
    "**Forecast error is the diffferent between realized (true) value and the forecast value, we use absolute error value for evaluation.**"
   ]
  },
  {
   "cell_type": "code",
   "execution_count": 39,
   "id": "7ea689f6",
   "metadata": {},
   "outputs": [
    {
     "data": {
      "image/png": "[encoded data removed]",
      "text/plain": [
       "Plot with title \"Forecast Error Comparation - Absolute Error\""
      ]
     },
     "metadata": {
      "image/png": {
       "height": 480,
       "width": 720
      }
     },
     "output_type": "display_data"
    }
   ],
   "source": [
    "model_name <- c(\"AR(1)-RV\", \"HAR\", 'HAR_RS',\n",
    "    'HAR_KS','R_GARCH',  'ARMA_GARCH' )\n",
    "for_l <- list(AR1_exp,HAR_exp, HAR_RS_exp, HAR_KS_exp, \n",
    "    R_GARCH_exp, ARMA_GARCH_exp)\n",
    "model_n <- length(for_l)\n",
    "\n",
    "err_l <- list()\n",
    "for (i in 1:model_n) {\n",
    "    # calculate the absolute error\n",
    "    err_l[[i]] <- abs(RV_day - for_l[[i]])\n",
    "}\n",
    "    \n",
    "r_col <- rainbow(6)\n",
    "par(bg = \"#f7f7f7\")\n",
    "options(repr.plot.width = 12, repr.plot.height = 8)\n",
    "\n",
    "plot.zoo(err_l[[1]], xlab='Year', ylab=NA, col = r_col[1],\n",
    "         main= \"Forecast Error Comparation - Absolute Error\")\n",
    "for (i in 2:model_n) {\n",
    "    lines(zoo(for_l[[i]]), col = r_col[i])\n",
    "}\n",
    "legend(\"topleft\", legend = model_name, col = r_col, \n",
    "       lwd = 1, bty=\"n\")"
   ]
  },
  {
   "cell_type": "markdown",
   "id": "4dec8e85",
   "metadata": {},
   "source": [
    "**By observe the plot, we could see AR(1) model has lowest error values. The second best model is  HAR-RS, its error is higher at begining, but is more stable, and the error is lower for longer period.  \n",
    "ARMA_GARCH has the highest Error values, then the second worst is R_GARCH model.**"
   ]
  },
  {
   "cell_type": "markdown",
   "id": "7f4d5df1",
   "metadata": {},
   "source": [
    "* **Loss functions and Diebold-Mariano test**"
   ]
  },
  {
   "cell_type": "markdown",
   "id": "3f3d2c66",
   "metadata": {},
   "source": [
    "**i. Mean Absolute Error(MAE) Evaluation**"
   ]
  },
  {
   "cell_type": "code",
   "execution_count": 38,
   "id": "fb5c8e90",
   "metadata": {},
   "outputs": [
    {
     "data": {
      "text/html": [
       "<table class=\"dataframe\">\n",
       "<caption>A data.frame: 6 × 1</caption>\n",
       "<thead>\n",
       "\t<tr><th></th><th scope=col>MAE</th></tr>\n",
       "\t<tr><th></th><th scope=col>&lt;dbl&gt;</th></tr>\n",
       "</thead>\n",
       "<tbody>\n",
       "\t<tr><th scope=row>AR(1)-RV</th><td>0.1891799</td></tr>\n",
       "\t<tr><th scope=row>HAR</th><td>0.1920589</td></tr>\n",
       "\t<tr><th scope=row>HAR_RS</th><td>0.1774434</td></tr>\n",
       "\t<tr><th scope=row>HAR_KS</th><td>0.1818426</td></tr>\n",
       "\t<tr><th scope=row>R_GARCH</th><td>0.4436563</td></tr>\n",
       "\t<tr><th scope=row>ARMA_GARCH</th><td>0.4591335</td></tr>\n",
       "</tbody>\n",
       "</table>\n"
      ],
      "text/latex": [
       "A data.frame: 6 × 1\n",
       "\\begin{tabular}{r|l}\n",
       "  & MAE\\\\\n",
       "  & <dbl>\\\\\n",
       "\\hline\n",
       "\tAR(1)-RV & 0.1891799\\\\\n",
       "\tHAR & 0.1920589\\\\\n",
       "\tHAR\\_RS & 0.1774434\\\\\n",
       "\tHAR\\_KS & 0.1818426\\\\\n",
       "\tR\\_GARCH & 0.4436563\\\\\n",
       "\tARMA\\_GARCH & 0.4591335\\\\\n",
       "\\end{tabular}\n"
      ],
      "text/markdown": [
       "\n",
       "A data.frame: 6 × 1\n",
       "\n",
       "| <!--/--> | MAE &lt;dbl&gt; |\n",
       "|---|---|\n",
       "| AR(1)-RV | 0.1891799 |\n",
       "| HAR | 0.1920589 |\n",
       "| HAR_RS | 0.1774434 |\n",
       "| HAR_KS | 0.1818426 |\n",
       "| R_GARCH | 0.4436563 |\n",
       "| ARMA_GARCH | 0.4591335 |\n",
       "\n"
      ],
      "text/plain": [
       "           MAE      \n",
       "AR(1)-RV   0.1891799\n",
       "HAR        0.1920589\n",
       "HAR_RS     0.1774434\n",
       "HAR_KS     0.1818426\n",
       "R_GARCH    0.4436563\n",
       "ARMA_GARCH 0.4591335"
      ]
     },
     "metadata": {},
     "output_type": "display_data"
    }
   ],
   "source": [
    "#MAE\n",
    "MAE_loss<-function(proxy,forecast){\n",
    "  return(abs(proxy-forecast))\n",
    "}\n",
    "\n",
    "mae_v <- c()\n",
    "for (i in 1:model_n) {\n",
    "    mae_v[i] <- 100 * mean(MAE_loss(RV_day,for_l[[i]]))\n",
    "}\n",
    "\n",
    "df_mae <- data.frame(mae_v)\n",
    "row_n <- model_name\n",
    "rownames(df_mae) <- row_n\n",
    "colnames(df_mae) <- 'MAE'\n",
    "df_mae"
   ]
  },
  {
   "cell_type": "markdown",
   "id": "5d23f55d",
   "metadata": {},
   "source": [
    "**For MAE evaluation, HAR-RS model has the least error at 0.17, HAR-KS model at second place at 0.18, and ARMA_GARCH is the worse at 0.45.**"
   ]
  },
  {
   "cell_type": "markdown",
   "id": "af3ba059",
   "metadata": {},
   "source": [
    "**ii. Mean Square Error(MSE) Evaluation**"
   ]
  },
  {
   "cell_type": "code",
   "execution_count": 6,
   "id": "52d7b33f",
   "metadata": {},
   "outputs": [
    {
     "data": {
      "text/html": [
       "<table class=\"dataframe\">\n",
       "<caption>A data.frame: 6 × 1</caption>\n",
       "<thead>\n",
       "\t<tr><th></th><th scope=col>MSE</th></tr>\n",
       "\t<tr><th></th><th scope=col>&lt;dbl&gt;</th></tr>\n",
       "</thead>\n",
       "<tbody>\n",
       "\t<tr><th scope=row>AR(1)-RV</th><td>0.1601585</td></tr>\n",
       "\t<tr><th scope=row>HAR</th><td>0.1613811</td></tr>\n",
       "\t<tr><th scope=row>HAR_RS</th><td>0.1471638</td></tr>\n",
       "\t<tr><th scope=row>HAR_KS</th><td>0.1557030</td></tr>\n",
       "\t<tr><th scope=row>R_GARCH</th><td>0.3508253</td></tr>\n",
       "\t<tr><th scope=row>ARMA_GARCH</th><td>0.5132399</td></tr>\n",
       "</tbody>\n",
       "</table>\n"
      ],
      "text/latex": [
       "A data.frame: 6 × 1\n",
       "\\begin{tabular}{r|l}\n",
       "  & MSE\\\\\n",
       "  & <dbl>\\\\\n",
       "\\hline\n",
       "\tAR(1)-RV & 0.1601585\\\\\n",
       "\tHAR & 0.1613811\\\\\n",
       "\tHAR\\_RS & 0.1471638\\\\\n",
       "\tHAR\\_KS & 0.1557030\\\\\n",
       "\tR\\_GARCH & 0.3508253\\\\\n",
       "\tARMA\\_GARCH & 0.5132399\\\\\n",
       "\\end{tabular}\n"
      ],
      "text/markdown": [
       "\n",
       "A data.frame: 6 × 1\n",
       "\n",
       "| <!--/--> | MSE &lt;dbl&gt; |\n",
       "|---|---|\n",
       "| AR(1)-RV | 0.1601585 |\n",
       "| HAR | 0.1613811 |\n",
       "| HAR_RS | 0.1471638 |\n",
       "| HAR_KS | 0.1557030 |\n",
       "| R_GARCH | 0.3508253 |\n",
       "| ARMA_GARCH | 0.5132399 |\n",
       "\n"
      ],
      "text/plain": [
       "           MSE      \n",
       "AR(1)-RV   0.1601585\n",
       "HAR        0.1613811\n",
       "HAR_RS     0.1471638\n",
       "HAR_KS     0.1557030\n",
       "R_GARCH    0.3508253\n",
       "ARMA_GARCH 0.5132399"
      ]
     },
     "metadata": {},
     "output_type": "display_data"
    }
   ],
   "source": [
    "#MSE\n",
    "MSE_loss<-function(proxy,forecast){\n",
    "  return((proxy-forecast)^2)\n",
    "}\n",
    "\n",
    "mse_list <- list()\n",
    "mse_v <- c()\n",
    "for (i in 1:model_n) {\n",
    "    mse_list[[i]] <- MSE_loss(RV_day,for_l[[i]])\n",
    "    mse_v[i] <- 10000 * mean(mse_list[[i]] )\n",
    "}\n",
    "\n",
    "df_mse <- data.frame(mse_v)\n",
    "row_n <- model_name\n",
    "rownames(df_mse) <- row_n\n",
    "colnames(df_mse) <- 'MSE'\n",
    "df_mse\n"
   ]
  },
  {
   "cell_type": "markdown",
   "id": "6fd2958a",
   "metadata": {},
   "source": [
    "**For MSE evaluation, HAR-RS model has the least error at 0.14, HAR-KS model at second place at 0.15, and ARMA_GARCH is the worse at 0.51.**"
   ]
  },
  {
   "cell_type": "markdown",
   "id": "e3d14304",
   "metadata": {},
   "source": [
    "* **Diebold-Mariano test**  \n",
    "(use the MSE loss)"
   ]
  },
  {
   "cell_type": "markdown",
   "id": "0feb9a01",
   "metadata": {},
   "source": [
    "Diebold-Mariano test compares the forecast accuracy of two forecast methods.   \n",
    "The null hypothesis is that the two methods have the same forecast accuracy. For alternative=**\"two.sided\"**, the alternative hypothesis is that method 1 and method 2 have different levels of accuracy.\n"
   ]
  },
  {
   "cell_type": "code",
   "execution_count": 36,
   "id": "fd87243c",
   "metadata": {},
   "outputs": [
    {
     "name": "stdout",
     "output_type": "stream",
     "text": [
      "[1] \"1 AR(1)-RV vs HAR : 0.429\"\n",
      "[1] \"2 AR(1)-RV vs HAR_RS : 0.764\"\n",
      "[1] \"3 AR(1)-RV vs HAR_KS : 0.507\"\n",
      "[1] \"4 AR(1)-RV vs R_GARCH : 0.361\"\n",
      "[1] \"5 AR(1)-RV vs ARMA_GARCH : 0.232\"\n",
      "[1] \"6 HAR vs HAR_RS : 0.333\"\n",
      "[1] \"7 HAR vs HAR_KS : 0.388\"\n",
      "[1] \"8 HAR vs R_GARCH : 0.383\"\n",
      "[1] \"9 HAR vs ARMA_GARCH : 0.447\"\n",
      "[1] \"10 HAR_RS vs HAR_KS : 0.164\"\n",
      "[1] \"11 HAR_RS vs R_GARCH : 0.419\"\n",
      "[1] \"12 HAR_RS vs ARMA_GARCH : 0.257\"\n",
      "[1] \"13 HAR_KS vs R_GARCH : 0.385\"\n",
      "[1] \"14 HAR_KS vs ARMA_GARCH : 0.289\"\n",
      "[1] \"15 R_GARCH vs ARMA_GARCH : 0.13\"\n",
      "[1] \"Minimum p-value: 0.13\"\n"
     ]
    }
   ],
   "source": [
    "min_p <- 1\n",
    "k <- 1\n",
    "for (i in 1:(model_n-1)) {\n",
    "    for (j in (i+1):model_n) {\n",
    "        dm_res <- dm.test(mse_list[[i]],mse_list[[j]],\n",
    "            alternative = c(\"two.sided\"))\n",
    "        p_v <- round(dm_res$p.value, 3)\n",
    "        if (p_v < min_p) { min_p <- p_v }        \n",
    "        print(paste(k, model_name[i], \"vs\", model_name[j],\":\", \n",
    "            p_v ))        \n",
    "        k <- k + 1\n",
    "    }\n",
    "}\n",
    "print(paste(\"Minimum p-value:\", min_p))"
   ]
  },
  {
   "cell_type": "markdown",
   "id": "6d767999",
   "metadata": {},
   "source": [
    "**Because the minimum p-value is 0.13, still greater than 0.05, we can not reject null hypothesis that two methods are same good. So those methods have similar accuracy, they are as good as each other.**"
   ]
  },
  {
   "cell_type": "markdown",
   "id": "2770f4af",
   "metadata": {},
   "source": [
    "For alternative=**\"greater\"**, the alternative hypothesis is that method 2 is more accurate than method 1."
   ]
  },
  {
   "cell_type": "code",
   "execution_count": 37,
   "id": "f8b17607",
   "metadata": {},
   "outputs": [
    {
     "name": "stdout",
     "output_type": "stream",
     "text": [
      "[1] \"1 AR(1)-RV vs HAR : 0.786\"\n",
      "[1] \"2 AR(1)-RV vs HAR_RS : 0.618\"\n",
      "[1] \"3 AR(1)-RV vs HAR_KS : 0.746\"\n",
      "[1] \"4 AR(1)-RV vs R_GARCH : 0.18\"\n",
      "[1] \"5 AR(1)-RV vs ARMA_GARCH : 0.884\"\n",
      "[1] \"6 HAR vs HAR_RS : 0.167\"\n",
      "[1] \"7 HAR vs HAR_KS : 0.194\"\n",
      "[1] \"8 HAR vs R_GARCH : 0.192\"\n",
      "[1] \"9 HAR vs ARMA_GARCH : 0.777\"\n",
      "[1] \"10 HAR_RS vs HAR_KS : 0.918\"\n",
      "[1] \"11 HAR_RS vs R_GARCH : 0.209\"\n",
      "[1] \"12 HAR_RS vs ARMA_GARCH : 0.872\"\n",
      "[1] \"13 HAR_KS vs R_GARCH : 0.193\"\n",
      "[1] \"14 HAR_KS vs ARMA_GARCH : 0.856\"\n",
      "[1] \"15 R_GARCH vs ARMA_GARCH : 0.935\"\n",
      "[1] \"Minimum p-value: 0.167\"\n"
     ]
    }
   ],
   "source": [
    "min_p <- 1\n",
    "k <- 1\n",
    "\n",
    "for (i in 1:(model_n-1)) {\n",
    "    for (j in (i+1):model_n) {\n",
    "        dm_res <- dm.test(mse_list[[i]],mse_list[[j]],\n",
    "            alternative = c(\"greater\"))        \n",
    "        p_v <- round(dm_res$p.value, 3)\n",
    "        if (p_v < min_p) { min_p <- p_v }        \n",
    "        print(paste(k, model_name[i], \"vs\", model_name[j],\":\", \n",
    "            p_v ))        \n",
    "        k <- k + 1      \n",
    "    }\n",
    "}\n",
    "print(paste(\"Minimum p-value:\", min_p))"
   ]
  },
  {
   "cell_type": "markdown",
   "id": "c1485cba",
   "metadata": {},
   "source": [
    "**Still, minimum p-value is 0.167 and it is not significant enough to reject null hypothesis of two methods have same accuracy, so we could not tell which method is better from Diebold-Mariano test.**"
   ]
  },
  {
   "cell_type": "markdown",
   "id": "dab326c9",
   "metadata": {},
   "source": [
    "* **Minzer-Zarnowitz regression**"
   ]
  },
  {
   "cell_type": "markdown",
   "id": "3f92dd7b",
   "metadata": {},
   "source": [
    "For evaluating forecasting accuracy of model, the quality of the forecast can be measured by the correlation between prediction and realizations.   \n",
    "By using Minzer-Zarnowitz(MZ) regression to estimate linear regression by RV and forecast volatility, we could tell the presence of systematic over or under predictions. And the R-square is an indicator of the correlation between the realization and the forecast, we could use R-square as one evaluation criterion of the accuracy of the forecast from a specific model.  \n",
    "**In this project we use RV data as \"True Value\" of realizations, for this evaluation we mainly focus on expanding window results.**"
   ]
  },
  {
   "cell_type": "markdown",
   "id": "f12f5221",
   "metadata": {},
   "source": [
    "**i. AR(1)**"
   ]
  },
  {
   "cell_type": "code",
   "execution_count": 23,
   "id": "23147324",
   "metadata": {},
   "outputs": [
    {
     "name": "stdout",
     "output_type": "stream",
     "text": [
      "[1] \"MZ regression for: AR(1)-RV\"\n"
     ]
    },
    {
     "data": {
      "text/plain": [
       "\n",
       "Call:\n",
       "lm(formula = (RV_day[(w_l + 2):(w_l + 1 + n_for)]) ~ (for_l[[1]]))\n",
       "\n",
       "Residuals:\n",
       "      Min        1Q    Median        3Q       Max \n",
       "-0.022060 -0.001630 -0.000521  0.001007  0.082862 \n",
       "\n",
       "Coefficients:\n",
       "            Estimate Std. Error t value Pr(>|t|)    \n",
       "(Intercept) 0.002335   0.000506   4.614 4.65e-06 ***\n",
       "for_l[[1]]  0.699514   0.056943  12.284  < 2e-16 ***\n",
       "---\n",
       "Signif. codes:  0 '***' 0.001 '**' 0.01 '*' 0.05 '.' 0.1 ' ' 1\n",
       "\n",
       "Residual standard error: 0.003928 on 747 degrees of freedom\n",
       "Multiple R-squared:  0.1681,\tAdjusted R-squared:  0.167 \n",
       "F-statistic: 150.9 on 1 and 747 DF,  p-value: < 2.2e-16\n"
      ]
     },
     "metadata": {},
     "output_type": "display_data"
    },
    {
     "data": {
      "text/html": [
       "-5.27697941836647"
      ],
      "text/latex": [
       "-5.27697941836647"
      ],
      "text/markdown": [
       "-5.27697941836647"
      ],
      "text/plain": [
       "[1] -5.276979"
      ]
     },
     "metadata": {},
     "output_type": "display_data"
    }
   ],
   "source": [
    "# AR(1)\n",
    "print(paste(\"MZ regression for:\", model_name[1] ))\n",
    "MZ_roll<-lm((RV_day[(w_l+2):(w_l+1+n_for)])~ (for_l[[1]]))\n",
    "summary(MZ_roll)                \n",
    "MZ_coef<-summary(MZ_roll)$coefficients                \n",
    "(MZ_coef[2,\"Estimate\"]-1)/MZ_coef[2,\"Std. Error\"]"
   ]
  },
  {
   "cell_type": "markdown",
   "id": "2996eaf6",
   "metadata": {},
   "source": [
    "**For AR(1)-RV model, the intercept is 0.0023, beta for AR1 is 0.70, and R-squared at 16.7%**"
   ]
  },
  {
   "cell_type": "markdown",
   "id": "bfce8c4d",
   "metadata": {},
   "source": [
    "**ii. HAR**"
   ]
  },
  {
   "cell_type": "code",
   "execution_count": 24,
   "id": "297dd2a5",
   "metadata": {},
   "outputs": [
    {
     "name": "stdout",
     "output_type": "stream",
     "text": [
      "[1] \"MZ regression for: HAR\"\n"
     ]
    },
    {
     "data": {
      "text/plain": [
       "\n",
       "Call:\n",
       "lm(formula = (RV_day[(w_l + 2):(w_l + 1 + n_for)]) ~ (for_l[[2]]))\n",
       "\n",
       "Residuals:\n",
       "      Min        1Q    Median        3Q       Max \n",
       "-0.008447 -0.001619 -0.000522  0.000973  0.085939 \n",
       "\n",
       "Coefficients:\n",
       "             Estimate Std. Error t value Pr(>|t|)    \n",
       "(Intercept) 0.0021968  0.0005567   3.946  8.7e-05 ***\n",
       "for_l[[2]]  0.7339389  0.0646817  11.347  < 2e-16 ***\n",
       "---\n",
       "Signif. codes:  0 '***' 0.001 '**' 0.01 '*' 0.05 '.' 0.1 ' ' 1\n",
       "\n",
       "Residual standard error: 0.003978 on 747 degrees of freedom\n",
       "Multiple R-squared:  0.147,\tAdjusted R-squared:  0.1459 \n",
       "F-statistic: 128.8 on 1 and 747 DF,  p-value: < 2.2e-16\n"
      ]
     },
     "metadata": {},
     "output_type": "display_data"
    },
    {
     "data": {
      "text/html": [
       "-4.11339169462526"
      ],
      "text/latex": [
       "-4.11339169462526"
      ],
      "text/markdown": [
       "-4.11339169462526"
      ],
      "text/plain": [
       "[1] -4.113392"
      ]
     },
     "metadata": {},
     "output_type": "display_data"
    }
   ],
   "source": [
    "# HAR\n",
    "print(paste(\"MZ regression for:\", model_name[2] ))\n",
    "MZ_roll<-lm((RV_day[(w_l+2):(w_l+1+n_for)])~ (for_l[[2]]))\n",
    "summary(MZ_roll)                \n",
    "MZ_coef<-summary(MZ_roll)$coefficients                \n",
    "(MZ_coef[2,\"Estimate\"]-1)/MZ_coef[2,\"Std. Error\"]"
   ]
  },
  {
   "cell_type": "markdown",
   "id": "e4da2f25",
   "metadata": {},
   "source": [
    "**For HAR model, the intercept is 0.0021, beta for HAR is 0.73, and R-squared at 14.59%.  \n",
    "We can see beta is improved, but R-square decreased.**"
   ]
  },
  {
   "cell_type": "markdown",
   "id": "c8b303c5",
   "metadata": {},
   "source": [
    "**iii. HAR-RS**"
   ]
  },
  {
   "cell_type": "code",
   "execution_count": 25,
   "id": "20cabb9f",
   "metadata": {},
   "outputs": [
    {
     "name": "stdout",
     "output_type": "stream",
     "text": [
      "[1] \"MZ regression for: HAR_RS\"\n"
     ]
    },
    {
     "data": {
      "text/plain": [
       "\n",
       "Call:\n",
       "lm(formula = (RV_day[(w_l + 2):(w_l + 1 + n_for)]) ~ (for_l[[3]]))\n",
       "\n",
       "Residuals:\n",
       "      Min        1Q    Median        3Q       Max \n",
       "-0.017428 -0.001555 -0.000433  0.000985  0.083049 \n",
       "\n",
       "Coefficients:\n",
       "             Estimate Std. Error t value Pr(>|t|)    \n",
       "(Intercept) 0.0015033  0.0004936   3.045  0.00241 ** \n",
       "for_l[[3]]  0.8142256  0.0567746  14.341  < 2e-16 ***\n",
       "---\n",
       "Signif. codes:  0 '***' 0.001 '**' 0.01 '*' 0.05 '.' 0.1 ' ' 1\n",
       "\n",
       "Residual standard error: 0.003814 on 747 degrees of freedom\n",
       "Multiple R-squared:  0.2159,\tAdjusted R-squared:  0.2148 \n",
       "F-statistic: 205.7 on 1 and 747 DF,  p-value: < 2.2e-16\n"
      ]
     },
     "metadata": {},
     "output_type": "display_data"
    },
    {
     "data": {
      "text/html": [
       "-3.2721366839615"
      ],
      "text/latex": [
       "-3.2721366839615"
      ],
      "text/markdown": [
       "-3.2721366839615"
      ],
      "text/plain": [
       "[1] -3.272137"
      ]
     },
     "metadata": {},
     "output_type": "display_data"
    }
   ],
   "source": [
    "# HAR-RS\n",
    "print(paste(\"MZ regression for:\", model_name[3] ))\n",
    "MZ_roll<-lm((RV_day[(w_l+2):(w_l+1+n_for)])~ (for_l[[3]]))\n",
    "summary(MZ_roll)                \n",
    "MZ_coef<-summary(MZ_roll)$coefficients                \n",
    "(MZ_coef[2,\"Estimate\"]-1)/MZ_coef[2,\"Std. Error\"]"
   ]
  },
  {
   "cell_type": "markdown",
   "id": "3da56cb1",
   "metadata": {},
   "source": [
    "**For HAR-RS model, the intercept is 0.0015, beta for HAR_RS at 0.81, and R-squared at 21.48%.  \n",
    "We can see R-squared gets higher than HAR model.**"
   ]
  },
  {
   "cell_type": "markdown",
   "id": "be51d71f",
   "metadata": {},
   "source": [
    "**iv. HAR-Rskew-RKurt**"
   ]
  },
  {
   "cell_type": "code",
   "execution_count": 26,
   "id": "85dab957",
   "metadata": {},
   "outputs": [
    {
     "name": "stdout",
     "output_type": "stream",
     "text": [
      "[1] \"MZ regression for: HAR_KS\"\n"
     ]
    },
    {
     "data": {
      "text/plain": [
       "\n",
       "Call:\n",
       "lm(formula = (RV_day[(w_l + 2):(w_l + 1 + n_for)]) ~ (for_l[[4]]))\n",
       "\n",
       "Residuals:\n",
       "      Min        1Q    Median        3Q       Max \n",
       "-0.020608 -0.001632 -0.000557  0.000928  0.083490 \n",
       "\n",
       "Coefficients:\n",
       "             Estimate Std. Error t value Pr(>|t|)    \n",
       "(Intercept) 0.0021105  0.0005076   4.158 3.59e-05 ***\n",
       "for_l[[4]]  0.7635459  0.0601450  12.695  < 2e-16 ***\n",
       "---\n",
       "Signif. codes:  0 '***' 0.001 '**' 0.01 '*' 0.05 '.' 0.1 ' ' 1\n",
       "\n",
       "Residual standard error: 0.003906 on 747 degrees of freedom\n",
       "Multiple R-squared:  0.1775,\tAdjusted R-squared:  0.1764 \n",
       "F-statistic: 161.2 on 1 and 747 DF,  p-value: < 2.2e-16\n"
      ]
     },
     "metadata": {},
     "output_type": "display_data"
    },
    {
     "data": {
      "text/html": [
       "-3.93140172596034"
      ],
      "text/latex": [
       "-3.93140172596034"
      ],
      "text/markdown": [
       "-3.93140172596034"
      ],
      "text/plain": [
       "[1] -3.931402"
      ]
     },
     "metadata": {},
     "output_type": "display_data"
    }
   ],
   "source": [
    "# HAR-KS\n",
    "print(paste(\"MZ regression for:\", model_name[4] ))\n",
    "MZ_roll<-lm((RV_day[(w_l+2):(w_l+1+n_for)])~ (for_l[[4]]))\n",
    "summary(MZ_roll)                \n",
    "MZ_coef<-summary(MZ_roll)$coefficients                \n",
    "(MZ_coef[2,\"Estimate\"]-1)/MZ_coef[2,\"Std. Error\"]"
   ]
  },
  {
   "cell_type": "markdown",
   "id": "bcec1e06",
   "metadata": {},
   "source": [
    "**For HAR-Rskew-RKurt model, the intercept is 0.0021, beta for HAR_KS at 0.76, and R-squared at 17.64%.  \n",
    "It is better than HAR model but worse than HAR-RS.**"
   ]
  },
  {
   "cell_type": "markdown",
   "id": "07d11d7d",
   "metadata": {},
   "source": [
    "**v. Realized GARCH**"
   ]
  },
  {
   "cell_type": "code",
   "execution_count": 27,
   "id": "c946fc15",
   "metadata": {},
   "outputs": [
    {
     "name": "stdout",
     "output_type": "stream",
     "text": [
      "[1] \"MZ regression for: R_GARCH\"\n"
     ]
    },
    {
     "data": {
      "text/plain": [
       "\n",
       "Call:\n",
       "lm(formula = (RV_day[(w_l + 2):(w_l + 1 + n_for)]) ~ (for_l[[5]]))\n",
       "\n",
       "Residuals:\n",
       "      Min        1Q    Median        3Q       Max \n",
       "-0.011417 -0.001797 -0.000275  0.001179  0.084393 \n",
       "\n",
       "Coefficients:\n",
       "             Estimate Std. Error t value Pr(>|t|)    \n",
       "(Intercept) 0.0047270  0.0003355   14.09   <2e-16 ***\n",
       "for_l[[5]]  0.3257634  0.0276479   11.78   <2e-16 ***\n",
       "---\n",
       "Signif. codes:  0 '***' 0.001 '**' 0.01 '*' 0.05 '.' 0.1 ' ' 1\n",
       "\n",
       "Residual standard error: 0.003955 on 747 degrees of freedom\n",
       "Multiple R-squared:  0.1567,\tAdjusted R-squared:  0.1556 \n",
       "F-statistic: 138.8 on 1 and 747 DF,  p-value: < 2.2e-16\n"
      ]
     },
     "metadata": {},
     "output_type": "display_data"
    },
    {
     "data": {
      "text/html": [
       "-24.3865187891747"
      ],
      "text/latex": [
       "-24.3865187891747"
      ],
      "text/markdown": [
       "-24.3865187891747"
      ],
      "text/plain": [
       "[1] -24.38652"
      ]
     },
     "metadata": {},
     "output_type": "display_data"
    }
   ],
   "source": [
    "# Realized GARCH\n",
    "print(paste(\"MZ regression for:\", model_name[5] ))\n",
    "MZ_roll<-lm((RV_day[(w_l+2):(w_l+1+n_for)])~ (for_l[[5]]))\n",
    "summary(MZ_roll)                \n",
    "MZ_coef<-summary(MZ_roll)$coefficients                \n",
    "(MZ_coef[2,\"Estimate\"]-1)/MZ_coef[2,\"Std. Error\"]"
   ]
  },
  {
   "cell_type": "markdown",
   "id": "67d69535",
   "metadata": {},
   "source": [
    "**For Realized GARCH model, the intercept is 0.0047, beta for R_GARCH at 0.32, and R-squared at 15.6%.  \n",
    "We can see R-squared is higher than HAR model, consider this model uses return data for forecasting, and the difference of overnight variance information is missing in RV data, it is a not bad result.**"
   ]
  },
  {
   "cell_type": "markdown",
   "id": "ce037a63",
   "metadata": {},
   "source": [
    "**vi. ARMA-GARCH**"
   ]
  },
  {
   "cell_type": "code",
   "execution_count": 28,
   "id": "26f438fa",
   "metadata": {},
   "outputs": [
    {
     "name": "stdout",
     "output_type": "stream",
     "text": [
      "[1] \"MZ regression for: ARMA_GARCH\"\n"
     ]
    },
    {
     "data": {
      "text/plain": [
       "\n",
       "Call:\n",
       "lm(formula = (RV_day[(w_l + 2):(w_l + 1 + n_for)]) ~ (for_l[[6]]))\n",
       "\n",
       "Residuals:\n",
       "      Min        1Q    Median        3Q       Max \n",
       "-0.010281 -0.001959 -0.000630  0.001111  0.086578 \n",
       "\n",
       "Coefficients:\n",
       "             Estimate Std. Error t value Pr(>|t|)    \n",
       "(Intercept) 0.0060914  0.0003875  15.721  < 2e-16 ***\n",
       "for_l[[6]]  0.1807601  0.0291866   6.193 9.73e-10 ***\n",
       "---\n",
       "Signif. codes:  0 '***' 0.001 '**' 0.01 '*' 0.05 '.' 0.1 ' ' 1\n",
       "\n",
       "Residual standard error: 0.0042 on 747 degrees of freedom\n",
       "Multiple R-squared:  0.04884,\tAdjusted R-squared:  0.04757 \n",
       "F-statistic: 38.36 on 1 and 747 DF,  p-value: 9.725e-10\n"
      ]
     },
     "metadata": {},
     "output_type": "display_data"
    },
    {
     "data": {
      "text/html": [
       "-28.0690518189374"
      ],
      "text/latex": [
       "-28.0690518189374"
      ],
      "text/markdown": [
       "-28.0690518189374"
      ],
      "text/plain": [
       "[1] -28.06905"
      ]
     },
     "metadata": {},
     "output_type": "display_data"
    }
   ],
   "source": [
    "# ARMA-GARCH\n",
    "print(paste(\"MZ regression for:\", model_name[6] ))\n",
    "MZ_roll<-lm((RV_day[(w_l+2):(w_l+1+n_for)])~ (for_l[[6]]))\n",
    "summary(MZ_roll)                \n",
    "MZ_coef<-summary(MZ_roll)$coefficients                \n",
    "(MZ_coef[2,\"Estimate\"]-1)/MZ_coef[2,\"Std. Error\"]"
   ]
  },
  {
   "cell_type": "markdown",
   "id": "b53298a1",
   "metadata": {},
   "source": [
    "**For ARMA-GARCH model, the intercept is 0.006, beta for ARMA_GARCH at 0.18, and R-squared at 4.76%.  \n",
    "We can see this is the worst model in forecast result. Consider GARCH model only uses return data to do forecast, and compare with Realize Volatility data, the close-price to close-price volatility is quite different from open-price to close-price volatility, the difference between prediction and realization would get bigger.**"
   ]
  },
  {
   "cell_type": "markdown",
   "id": "eb203c54",
   "metadata": {},
   "source": [
    "# Part 4. Summary"
   ]
  },
  {
   "cell_type": "markdown",
   "id": "28e50de7",
   "metadata": {},
   "source": [
    "###  (1). Data Analysis"
   ]
  },
  {
   "cell_type": "code",
   "execution_count": 57,
   "id": "a794a586",
   "metadata": {},
   "outputs": [
    {
     "data": {
      "image/png": "[encoded data removed]",
      "text/plain": [
       "Plot with title \"Return vs RV - 2015\""
      ]
     },
     "metadata": {
      "image/png": {
       "height": 360,
       "width": 720
      }
     },
     "output_type": "display_data"
    }
   ],
   "source": [
    "par(bg = \"#f7f7f7\")\n",
    "options(repr.plot.width = 12, repr.plot.height = 6)\n",
    "par(mfrow = c(1, 3))\n",
    "\n",
    "y_scale <- range(c(rets, RV_day))\n",
    "plot.zoo(rets, xlab='Year', ylab=NA, main= \"Daily Return vs RV\",  \n",
    "         ylim = y_scale)\n",
    "lines(zoo(RV_day),col=\"red\", lwd=2)\n",
    "legend(\"topleft\", legend = c(\"Returns\", \"RV\"), col = c_col2, \n",
    "      lwd = 1, bty=\"n\")\n",
    "\n",
    "d_range <- '2014'\n",
    "plot.zoo(rets[d_range], xlab='Year', ylab=NA, ylim = y_scale,\n",
    "         main= \"Return vs RV - 2014\")\n",
    "lines(zoo(RV_day),col=\"red\", lwd=2)\n",
    "legend(\"topleft\", legend = c(\"Returns\", \"RV\"), col = c_col2, \n",
    "      lwd = 1, bty=\"n\")\n",
    "\n",
    "d_range <- '2015'\n",
    "plot.zoo(rets[d_range], xlab='Year', ylab=NA, ylim = y_scale,\n",
    "         main= \"Return vs RV - 2015\")\n",
    "lines(zoo(RV_day),col=\"red\", lwd=2)\n",
    "legend(\"topleft\", legend = c(\"Returns\", \"RV\"), col = c_col2, \n",
    "      lwd = 1, bty=\"n\")"
   ]
  },
  {
   "cell_type": "markdown",
   "id": "f7f5bf4a",
   "metadata": {},
   "source": [
    "**Most important conclusion from the comparison between Returns and Realize Volatilitis is they are not exactly matched, because RV is calculated from Open-Price to Close-Price, so it does not include overnight volatility data.**"
   ]
  },
  {
   "cell_type": "markdown",
   "id": "732cb7a5",
   "metadata": {},
   "source": [
    "###  (2). Forecast Method Comparison"
   ]
  },
  {
   "cell_type": "markdown",
   "id": "06306984",
   "metadata": {},
   "source": [
    "* **Compare rolling window with expanding window**  \n",
    "Rolling forecasts allow the model to adjust the forecast to accommodate recent changes or trends, meaning it is able to respond better to time-sensitive data."
   ]
  },
  {
   "cell_type": "markdown",
   "id": "03eb3715",
   "metadata": {},
   "source": [
    "**Here we use R_GARCH and GARCH model forecast results as two examples, to analysis the difference between Rolling window and Expanding window methods.**"
   ]
  },
  {
   "cell_type": "code",
   "execution_count": 56,
   "id": "5e510f83",
   "metadata": {},
   "outputs": [
    {
     "data": {
      "image/png": "[encoded data removed]",
      "text/plain": [
       "Plot with title \" GARCH Forecast - 2015\""
      ]
     },
     "metadata": {
      "image/png": {
       "height": 480,
       "width": 720
      }
     },
     "output_type": "display_data"
    }
   ],
   "source": [
    "par(bg = \"#f7f7f7\")\n",
    "options(repr.plot.width = 12, repr.plot.height = 8)\n",
    "par(mfrow = c(1, 2))\n",
    "\n",
    "d_range <- '2013-06/2013-10'\n",
    "y_scale <- range(c(RV_day[d_range], R_GARCH_roll[d_range]))\n",
    "plot.zoo(RV_day[d_range],xlab=NA,ylim = y_scale, ylab=NA,\n",
    "         format='%Y-%m',  main=\" R_GARCH Forecast - 2013\")\n",
    "lines(zoo(R_GARCH_roll),col=c_col3[2], lwd=2)\n",
    "lines(zoo(R_GARCH_exp),col=c_col3[3], lwd=2)\n",
    "legend(\"topright\", legend = c(\"RV\", \"Rolling\", \"Expanding\"), \n",
    "       col = c_col3,  lwd = 1, bty=\"n\")\n",
    "\n",
    "\n",
    "d_range <- '2015-07/2015-09'\n",
    "plot.zoo(RV_day[d_range],xlab=NA, ylab=NA,format='%Y-%m', \n",
    "         main=\" GARCH Forecast - 2015\")\n",
    "lines(zoo(ARMA_GARCH_roll),col=c_col3[2], lwd=2)\n",
    "lines(zoo(ARMA_GARCH_exp),col=c_col3[3], lwd=2)\n",
    "legend(\"topleft\", legend = c(\"RV\", \"Rolling\", \"Expanding\"), \n",
    "       col = c_col3,   lwd = 1, bty=\"n\")\n"
   ]
  },
  {
   "cell_type": "markdown",
   "id": "f6fcc90b",
   "metadata": {},
   "source": [
    "**The Rolling window method makes use of fixed windows of data to re-estimate the parameters over the out-of-sample period, whereas the Expanding window method makes use of an increasing window to re-estimate the models.  \n",
    "In first example of Realize GARCH forecast result in 2013, at beginning the results from two models are almost same, because at start they both use 750 window size. But later, expanding model has bigger and bigger window size, so the results start to get more and more different at later time period.  \n",
    "For scecond example of GARCH forecast result in 2015, by comparation it clearly shows that after the volatility spike, Rolling window forecast adjust the volatility back to normal level faster than Expanding window forecast.**"
   ]
  },
  {
   "cell_type": "markdown",
   "id": "62b0437c",
   "metadata": {},
   "source": [
    "###  (3). Model Comparison"
   ]
  },
  {
   "cell_type": "markdown",
   "id": "1301c258",
   "metadata": {},
   "source": [
    "**i. AR(1) vs GARCH**"
   ]
  },
  {
   "cell_type": "markdown",
   "id": "5cb9cc45",
   "metadata": {},
   "source": [
    "Linear AutoRegressive models and long memory of modeling volatility"
   ]
  },
  {
   "cell_type": "code",
   "execution_count": 53,
   "id": "ea97d1fc",
   "metadata": {},
   "outputs": [
    {
     "data": {
      "image/png": "[encoded data removed]",
      "text/plain": [
       "Plot with title \" Forecast Comparation - AR vs GARCH\""
      ]
     },
     "metadata": {
      "image/png": {
       "height": 360,
       "width": 420
      }
     },
     "output_type": "display_data"
    }
   ],
   "source": [
    "par(bg = \"#f7f7f7\")\n",
    "options(repr.plot.width = 7, repr.plot.height = 6)\n",
    "\n",
    "d_range <- '2015-07/2015-10'\n",
    "plot.zoo(RV_day[d_range],xlab=NA, ylab=NA,format='%Y-%m', \n",
    "         main=\" Forecast Comparation - AR vs GARCH\")\n",
    "lines(zoo(AR1_exp),col=c_col3[2], lwd=2)\n",
    "lines(zoo(ARMA_GARCH_exp),col=c_col3[3], lwd=2)\n",
    "legend(\"topright\", legend = c(\"RV\", \"AR(1)-RV\", \"ARMA-GARCH\" ), \n",
    "       col = c_col3, lwd = 1, bty=\"n\")"
   ]
  },
  {
   "cell_type": "markdown",
   "id": "7e33b86f",
   "metadata": {},
   "source": [
    "**ii. AR(1) vs HAR**"
   ]
  },
  {
   "cell_type": "markdown",
   "id": "49589828",
   "metadata": {},
   "source": [
    "Realized measure of High-frequency model, and reflects long memory of heterogeneous invesetment horizons of traders."
   ]
  },
  {
   "cell_type": "code",
   "execution_count": 54,
   "id": "ee8e7e9f",
   "metadata": {},
   "outputs": [
    {
     "data": {
      "image/png": "[encoded data removed]",
      "text/plain": [
       "Plot with title \" Forecast Comparation - AR vs HAR\""
      ]
     },
     "metadata": {
      "image/png": {
       "height": 360,
       "width": 420
      }
     },
     "output_type": "display_data"
    }
   ],
   "source": [
    "par(bg = \"#f7f7f7\")\n",
    "options(repr.plot.width = 7, repr.plot.height = 6)\n",
    "\n",
    "d_range <- '2015-07/2015-10'\n",
    "plot.zoo(RV_day[d_range],xlab=NA, ylab=NA,format='%Y-%m', \n",
    "         main=\" Forecast Comparation - AR vs HAR\")\n",
    "lines(zoo(AR1_exp),col=c_col3[2], lwd=2)\n",
    "lines(zoo(HAR_exp),col=c_col3[3], lwd=2)\n",
    "legend(\"topright\", legend = c(\"RV\", \"AR(1)-RV\", \"HAR\" ), \n",
    "       col = c_col3, lwd = 1, bty=\"n\")"
   ]
  },
  {
   "cell_type": "markdown",
   "id": "89df4a0a",
   "metadata": {},
   "source": [
    "**iii. HAR vs HAR-RS**"
   ]
  },
  {
   "cell_type": "markdown",
   "id": "be4bcd09",
   "metadata": {},
   "source": [
    "Asymmetry and Realized Semivariance of high-frequency model"
   ]
  },
  {
   "cell_type": "code",
   "execution_count": 46,
   "id": "fe7c2c4b",
   "metadata": {},
   "outputs": [
    {
     "data": {
      "image/png": "[encoded data removed]",
      "text/plain": [
       "Plot with title \" Forecast Comparation - HAR vs HAR-RS\""
      ]
     },
     "metadata": {
      "image/png": {
       "height": 360,
       "width": 420
      }
     },
     "output_type": "display_data"
    }
   ],
   "source": [
    "par(bg = \"#f7f7f7\")\n",
    "options(repr.plot.width = 7, repr.plot.height = 6)\n",
    "\n",
    "d_range <- '2015-07/2015-10'\n",
    "plot.zoo(RV_day[d_range],xlab=NA, ylab=NA,format='%Y-%m', \n",
    "         main=\" Forecast Comparation - HAR vs HAR-RS\")\n",
    "lines(zoo(HAR_exp),col=c_col3[2], lwd=2)\n",
    "lines(zoo(HAR_RS_exp),col=c_col3[3], lwd=2)\n",
    "legend(\"topright\", legend = c(\"RV\", \"HAR\", \"HAR_HS\" ), \n",
    "       col = c_col3, lwd = 1, bty=\"n\")"
   ]
  },
  {
   "cell_type": "markdown",
   "id": "5c49761f",
   "metadata": {},
   "source": [
    "**iv. HAR vs GARCH**"
   ]
  },
  {
   "cell_type": "markdown",
   "id": "396aeac2",
   "metadata": {},
   "source": [
    "Conventional GARCH only take information from returns to adjust value of conditional variance, no high-frequency data, so volotility is latent in GARCH."
   ]
  },
  {
   "cell_type": "code",
   "execution_count": 49,
   "id": "8069f81b",
   "metadata": {},
   "outputs": [
    {
     "data": {
      "image/png": "[encoded data removed]",
      "text/plain": [
       "Plot with title \" Forecast Comparation - HAR vs GARCH\""
      ]
     },
     "metadata": {
      "image/png": {
       "height": 360,
       "width": 420
      }
     },
     "output_type": "display_data"
    }
   ],
   "source": [
    "par(bg = \"#f7f7f7\")\n",
    "options(repr.plot.width = 7, repr.plot.height = 6)\n",
    "\n",
    "d_range <- '2015-07/2015-10'\n",
    "plot.zoo(RV_day[d_range],xlab=NA, ylab=NA,format='%Y-%m', \n",
    "         main=\" Forecast Comparation - HAR vs GARCH\")\n",
    "lines(zoo(HAR_exp),col=c_col3[2], lwd=2)\n",
    "lines(zoo(ARMA_GARCH_exp),col=c_col3[3], lwd=2)\n",
    "legend(\"topright\", legend = c(\"RV\", \"HAR\", \"ARMA-GARCH\" ), \n",
    "       col = c_col3, lwd = 1, bty=\"n\")"
   ]
  },
  {
   "cell_type": "markdown",
   "id": "c4908246",
   "metadata": {},
   "source": [
    "**Take longer time for GARCH to adjust to new level of volatility.**"
   ]
  },
  {
   "cell_type": "markdown",
   "id": "05fdade6",
   "metadata": {},
   "source": [
    "**v. Realized GARCH vs ARMA-GARCH**"
   ]
  },
  {
   "cell_type": "markdown",
   "id": "bf0d26e2",
   "metadata": {},
   "source": [
    "Realized GARCH includes realized volatility into GARCH."
   ]
  },
  {
   "cell_type": "code",
   "execution_count": 50,
   "id": "2f2eb96a",
   "metadata": {},
   "outputs": [
    {
     "data": {
      "image/png": "[encoded data removed]",
      "text/plain": [
       "Plot with title \" Forecast Comparation - R-GARCH vs GARCH\""
      ]
     },
     "metadata": {
      "image/png": {
       "height": 360,
       "width": 420
      }
     },
     "output_type": "display_data"
    }
   ],
   "source": [
    "par(bg = \"#f7f7f7\")\n",
    "options(repr.plot.width = 7, repr.plot.height = 6)\n",
    "\n",
    "d_range <- '2015-07/2015-10'\n",
    "plot.zoo(RV_day[d_range],xlab=NA, ylab=NA,format='%Y-%m', \n",
    "         main=\" Forecast Comparation - R-GARCH vs GARCH\")\n",
    "lines(zoo(R_GARCH_exp),col=c_col3[2], lwd=2)\n",
    "lines(zoo(ARMA_GARCH_exp),col=c_col3[3], lwd=2)\n",
    "legend(\"topright\", legend = c(\"RV\", \"R-GARCH\", \"ARMA-GARCH\"), \n",
    "       col = c_col3, lwd = 1, bty=\"n\")"
   ]
  },
  {
   "cell_type": "markdown",
   "id": "9edb5332",
   "metadata": {},
   "source": [
    "###  (4). Summary"
   ]
  },
  {
   "cell_type": "code",
   "execution_count": null,
   "id": "293925e8",
   "metadata": {},
   "outputs": [],
   "source": []
  },
  {
   "cell_type": "code",
   "execution_count": null,
   "id": "23cbe14e",
   "metadata": {},
   "outputs": [],
   "source": []
  }
 ],
 "metadata": {
  "kernelspec": {
   "display_name": "R",
   "language": "R",
   "name": "ir"
  },
  "language_info": {
   "codemirror_mode": "r",
   "file_extension": ".r",
   "mimetype": "text/x-r-source",
   "name": "R",
   "pygments_lexer": "r",
   "version": "4.1.2"
  }
 },
 "nbformat": 4,
 "nbformat_minor": 5
}
